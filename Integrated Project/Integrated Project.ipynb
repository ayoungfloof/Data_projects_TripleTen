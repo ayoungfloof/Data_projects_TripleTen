{
 "cells": [
  {
   "cell_type": "markdown",
   "metadata": {},
   "source": [
    "# Optimizing Gold Recovery Process for Efficient Mining Operations\n",
    "\n",
    "### Project Overview\n",
    "\n",
    "This project focuses on analyzing and optimizing the gold recovery process for a mining operation. The goal is to develop a predictive model that evaluates and enhances the efficiency of gold recovery at different stages of the process, including flotation and purification. By analyzing the concentrations of metals (gold, silver, lead) and other parameters at various stages, the project aims to build a model capable of predicting the efficiency of the gold recovery process, ensuring data-driven decisions that maximize operational performance.\n",
    "\n",
    "### Objective\n",
    "\n",
    "- Data Preparation:\n",
    "    - Open and inspect the datasets to understand their structure and contents.\n",
    "    - Validate recovery calculation accuracy for the rougher stage.\n",
    "    - Analyze and handle missing features in the test set.\n",
    "    - Preprocess the data for further modeling steps.\n",
    "    \n",
    "- Data Analysis:\n",
    "    - Investigate how metal concentrations change throughout the stages of purification.\n",
    "    - Compare feed particle size distributions between training and test sets to ensure consistency.\n",
    "    - Identify and handle anomalies in the total concentrations of substances at different stages.\n",
    "    \n",
    "- Model Development:\n",
    "    - Develop a custom evaluation metric, symmetric Mean Absolute Percentage Error (sMAPE), to measure model performance.\n",
    "    - Train multiple models and select the one with the best performance using cross-validation.\n",
    "    - Test the selected model on the test set to evaluate its quality.\n",
    "    \n",
    "- Risk and Process Optimization:\n",
    "    - Provide insights into the recovery process to improve the efficiency and stability of operations.\n",
    "    \n",
    "### Data Sources\n",
    "The data provided comes from a mining operation and is structured into three datasets:\n",
    "- Training Dataset: Contains historical data for model training.\n",
    "- Test Dataset: Includes unseen data for evaluating model performance.\n",
    "- Full Dataset: Combines training and test data for exploratory analysis.\n",
    "\n",
    "### Technological Process\n",
    "The project revolves around simulating and analyzing the stages of gold recovery:\n",
    "- Flotation (Rougher Stage): Gold ore mixture undergoes primary processing to separate rougher concentrate and tails.\n",
    "- Purification (Cleaner Stages): Rougher concentrate undergoes two stages of purification to produce final concentrate and new tails.\n",
    "\n",
    "### Evaluation Metric\n",
    "The project employs sMAPE (Symmetric Mean Absolute Percentage Error) as the key evaluation metric. This metric ensures that predictions are equally weighted, regardless of scale, to evaluate the performance of the recovery process at the rougher and final stages.\n",
    "\n",
    "### Tools\n",
    "- import pandas as pd\n",
    "- import numpy as np\n",
    "- from sklearn.metrics import mean_absolute_error\n",
    "- import matplotlib.pyplot as plt\n",
    "- import seaborn as sns\n",
    "- from sklearn.ensemble import RandomForestRegressor\n",
    "- from sklearn.linear_model import LinearRegression\n",
    "- from sklearn.tree import DecisionTreeRegressor\n",
    "- from sklearn.model_selection import train_test_split, cross_val_score, GridSearchCV, KFold, RandomizedSearchCV\n",
    "- from sklearn.metrics import make_scorer\n",
    "- import time\n",
    "- from sklearn.dummy import DummyRegressor\n",
    "- from sklearn.model_selection import RandomizedSearchCV\n",
    "- from sklearn.preprocessing import StandardScaler\n",
    "### Deliverables\n",
    "-  trained and tested predictive model for recovery efficiency.\n",
    "- Insights into metal behavior during the purification process."
   ]
  },
  {
   "cell_type": "code",
   "execution_count": 1,
   "metadata": {
    "trusted": true
   },
   "outputs": [],
   "source": [
    "import pandas as pd\n",
    "import numpy as np\n",
    "from sklearn.metrics import mean_absolute_error\n",
    "import matplotlib.pyplot as plt\n",
    "import seaborn as sns\n",
    "from sklearn.ensemble import RandomForestRegressor\n",
    "from sklearn.linear_model import LinearRegression\n",
    "from sklearn.tree import DecisionTreeRegressor\n",
    "from sklearn.model_selection import train_test_split, cross_val_score, GridSearchCV, KFold, RandomizedSearchCV\n",
    "from sklearn.metrics import make_scorer\n",
    "import time\n",
    "from sklearn.dummy import DummyRegressor\n",
    "from sklearn.model_selection import RandomizedSearchCV\n",
    "from sklearn.preprocessing import StandardScaler"
   ]
  },
  {
   "cell_type": "code",
   "execution_count": 2,
   "metadata": {
    "trusted": true
   },
   "outputs": [
    {
     "name": "stdout",
     "output_type": "stream",
     "text": [
      "Gold Recovery Traning Set\n"
     ]
    },
    {
     "data": {
      "text/html": [
       "<div>\n",
       "<style scoped>\n",
       "    .dataframe tbody tr th:only-of-type {\n",
       "        vertical-align: middle;\n",
       "    }\n",
       "\n",
       "    .dataframe tbody tr th {\n",
       "        vertical-align: top;\n",
       "    }\n",
       "\n",
       "    .dataframe thead th {\n",
       "        text-align: right;\n",
       "    }\n",
       "</style>\n",
       "<table border=\"1\" class=\"dataframe\">\n",
       "  <thead>\n",
       "    <tr style=\"text-align: right;\">\n",
       "      <th></th>\n",
       "      <th>date</th>\n",
       "      <th>final.output.concentrate_ag</th>\n",
       "      <th>final.output.concentrate_pb</th>\n",
       "      <th>final.output.concentrate_sol</th>\n",
       "      <th>final.output.concentrate_au</th>\n",
       "      <th>final.output.recovery</th>\n",
       "      <th>final.output.tail_ag</th>\n",
       "      <th>final.output.tail_pb</th>\n",
       "      <th>final.output.tail_sol</th>\n",
       "      <th>final.output.tail_au</th>\n",
       "      <th>...</th>\n",
       "      <th>secondary_cleaner.state.floatbank4_a_air</th>\n",
       "      <th>secondary_cleaner.state.floatbank4_a_level</th>\n",
       "      <th>secondary_cleaner.state.floatbank4_b_air</th>\n",
       "      <th>secondary_cleaner.state.floatbank4_b_level</th>\n",
       "      <th>secondary_cleaner.state.floatbank5_a_air</th>\n",
       "      <th>secondary_cleaner.state.floatbank5_a_level</th>\n",
       "      <th>secondary_cleaner.state.floatbank5_b_air</th>\n",
       "      <th>secondary_cleaner.state.floatbank5_b_level</th>\n",
       "      <th>secondary_cleaner.state.floatbank6_a_air</th>\n",
       "      <th>secondary_cleaner.state.floatbank6_a_level</th>\n",
       "    </tr>\n",
       "  </thead>\n",
       "  <tbody>\n",
       "    <tr>\n",
       "      <th>0</th>\n",
       "      <td>2016-01-15 00:00:00</td>\n",
       "      <td>6.055403</td>\n",
       "      <td>9.889648</td>\n",
       "      <td>5.507324</td>\n",
       "      <td>42.192020</td>\n",
       "      <td>70.541216</td>\n",
       "      <td>10.411962</td>\n",
       "      <td>0.895447</td>\n",
       "      <td>16.904297</td>\n",
       "      <td>2.143149</td>\n",
       "      <td>...</td>\n",
       "      <td>14.016835</td>\n",
       "      <td>-502.488007</td>\n",
       "      <td>12.099931</td>\n",
       "      <td>-504.715942</td>\n",
       "      <td>9.925633</td>\n",
       "      <td>-498.310211</td>\n",
       "      <td>8.079666</td>\n",
       "      <td>-500.470978</td>\n",
       "      <td>14.151341</td>\n",
       "      <td>-605.841980</td>\n",
       "    </tr>\n",
       "    <tr>\n",
       "      <th>1</th>\n",
       "      <td>2016-01-15 01:00:00</td>\n",
       "      <td>6.029369</td>\n",
       "      <td>9.968944</td>\n",
       "      <td>5.257781</td>\n",
       "      <td>42.701629</td>\n",
       "      <td>69.266198</td>\n",
       "      <td>10.462676</td>\n",
       "      <td>0.927452</td>\n",
       "      <td>16.634514</td>\n",
       "      <td>2.224930</td>\n",
       "      <td>...</td>\n",
       "      <td>13.992281</td>\n",
       "      <td>-505.503262</td>\n",
       "      <td>11.950531</td>\n",
       "      <td>-501.331529</td>\n",
       "      <td>10.039245</td>\n",
       "      <td>-500.169983</td>\n",
       "      <td>7.984757</td>\n",
       "      <td>-500.582168</td>\n",
       "      <td>13.998353</td>\n",
       "      <td>-599.787184</td>\n",
       "    </tr>\n",
       "    <tr>\n",
       "      <th>2</th>\n",
       "      <td>2016-01-15 02:00:00</td>\n",
       "      <td>6.055926</td>\n",
       "      <td>10.213995</td>\n",
       "      <td>5.383759</td>\n",
       "      <td>42.657501</td>\n",
       "      <td>68.116445</td>\n",
       "      <td>10.507046</td>\n",
       "      <td>0.953716</td>\n",
       "      <td>16.208849</td>\n",
       "      <td>2.257889</td>\n",
       "      <td>...</td>\n",
       "      <td>14.015015</td>\n",
       "      <td>-502.520901</td>\n",
       "      <td>11.912783</td>\n",
       "      <td>-501.133383</td>\n",
       "      <td>10.070913</td>\n",
       "      <td>-500.129135</td>\n",
       "      <td>8.013877</td>\n",
       "      <td>-500.517572</td>\n",
       "      <td>14.028663</td>\n",
       "      <td>-601.427363</td>\n",
       "    </tr>\n",
       "    <tr>\n",
       "      <th>3</th>\n",
       "      <td>2016-01-15 03:00:00</td>\n",
       "      <td>6.047977</td>\n",
       "      <td>9.977019</td>\n",
       "      <td>4.858634</td>\n",
       "      <td>42.689819</td>\n",
       "      <td>68.347543</td>\n",
       "      <td>10.422762</td>\n",
       "      <td>0.883763</td>\n",
       "      <td>16.532835</td>\n",
       "      <td>2.146849</td>\n",
       "      <td>...</td>\n",
       "      <td>14.036510</td>\n",
       "      <td>-500.857308</td>\n",
       "      <td>11.999550</td>\n",
       "      <td>-501.193686</td>\n",
       "      <td>9.970366</td>\n",
       "      <td>-499.201640</td>\n",
       "      <td>7.977324</td>\n",
       "      <td>-500.255908</td>\n",
       "      <td>14.005551</td>\n",
       "      <td>-599.996129</td>\n",
       "    </tr>\n",
       "    <tr>\n",
       "      <th>4</th>\n",
       "      <td>2016-01-15 04:00:00</td>\n",
       "      <td>6.148599</td>\n",
       "      <td>10.142511</td>\n",
       "      <td>4.939416</td>\n",
       "      <td>42.774141</td>\n",
       "      <td>66.927016</td>\n",
       "      <td>10.360302</td>\n",
       "      <td>0.792826</td>\n",
       "      <td>16.525686</td>\n",
       "      <td>2.055292</td>\n",
       "      <td>...</td>\n",
       "      <td>14.027298</td>\n",
       "      <td>-499.838632</td>\n",
       "      <td>11.953070</td>\n",
       "      <td>-501.053894</td>\n",
       "      <td>9.925709</td>\n",
       "      <td>-501.686727</td>\n",
       "      <td>7.894242</td>\n",
       "      <td>-500.356035</td>\n",
       "      <td>13.996647</td>\n",
       "      <td>-601.496691</td>\n",
       "    </tr>\n",
       "  </tbody>\n",
       "</table>\n",
       "<p>5 rows × 87 columns</p>\n",
       "</div>"
      ],
      "text/plain": [
       "                  date  final.output.concentrate_ag  \\\n",
       "0  2016-01-15 00:00:00                     6.055403   \n",
       "1  2016-01-15 01:00:00                     6.029369   \n",
       "2  2016-01-15 02:00:00                     6.055926   \n",
       "3  2016-01-15 03:00:00                     6.047977   \n",
       "4  2016-01-15 04:00:00                     6.148599   \n",
       "\n",
       "   final.output.concentrate_pb  final.output.concentrate_sol  \\\n",
       "0                     9.889648                      5.507324   \n",
       "1                     9.968944                      5.257781   \n",
       "2                    10.213995                      5.383759   \n",
       "3                     9.977019                      4.858634   \n",
       "4                    10.142511                      4.939416   \n",
       "\n",
       "   final.output.concentrate_au  final.output.recovery  final.output.tail_ag  \\\n",
       "0                    42.192020              70.541216             10.411962   \n",
       "1                    42.701629              69.266198             10.462676   \n",
       "2                    42.657501              68.116445             10.507046   \n",
       "3                    42.689819              68.347543             10.422762   \n",
       "4                    42.774141              66.927016             10.360302   \n",
       "\n",
       "   final.output.tail_pb  final.output.tail_sol  final.output.tail_au  ...  \\\n",
       "0              0.895447              16.904297              2.143149  ...   \n",
       "1              0.927452              16.634514              2.224930  ...   \n",
       "2              0.953716              16.208849              2.257889  ...   \n",
       "3              0.883763              16.532835              2.146849  ...   \n",
       "4              0.792826              16.525686              2.055292  ...   \n",
       "\n",
       "   secondary_cleaner.state.floatbank4_a_air  \\\n",
       "0                                 14.016835   \n",
       "1                                 13.992281   \n",
       "2                                 14.015015   \n",
       "3                                 14.036510   \n",
       "4                                 14.027298   \n",
       "\n",
       "   secondary_cleaner.state.floatbank4_a_level  \\\n",
       "0                                 -502.488007   \n",
       "1                                 -505.503262   \n",
       "2                                 -502.520901   \n",
       "3                                 -500.857308   \n",
       "4                                 -499.838632   \n",
       "\n",
       "   secondary_cleaner.state.floatbank4_b_air  \\\n",
       "0                                 12.099931   \n",
       "1                                 11.950531   \n",
       "2                                 11.912783   \n",
       "3                                 11.999550   \n",
       "4                                 11.953070   \n",
       "\n",
       "   secondary_cleaner.state.floatbank4_b_level  \\\n",
       "0                                 -504.715942   \n",
       "1                                 -501.331529   \n",
       "2                                 -501.133383   \n",
       "3                                 -501.193686   \n",
       "4                                 -501.053894   \n",
       "\n",
       "   secondary_cleaner.state.floatbank5_a_air  \\\n",
       "0                                  9.925633   \n",
       "1                                 10.039245   \n",
       "2                                 10.070913   \n",
       "3                                  9.970366   \n",
       "4                                  9.925709   \n",
       "\n",
       "   secondary_cleaner.state.floatbank5_a_level  \\\n",
       "0                                 -498.310211   \n",
       "1                                 -500.169983   \n",
       "2                                 -500.129135   \n",
       "3                                 -499.201640   \n",
       "4                                 -501.686727   \n",
       "\n",
       "   secondary_cleaner.state.floatbank5_b_air  \\\n",
       "0                                  8.079666   \n",
       "1                                  7.984757   \n",
       "2                                  8.013877   \n",
       "3                                  7.977324   \n",
       "4                                  7.894242   \n",
       "\n",
       "   secondary_cleaner.state.floatbank5_b_level  \\\n",
       "0                                 -500.470978   \n",
       "1                                 -500.582168   \n",
       "2                                 -500.517572   \n",
       "3                                 -500.255908   \n",
       "4                                 -500.356035   \n",
       "\n",
       "   secondary_cleaner.state.floatbank6_a_air  \\\n",
       "0                                 14.151341   \n",
       "1                                 13.998353   \n",
       "2                                 14.028663   \n",
       "3                                 14.005551   \n",
       "4                                 13.996647   \n",
       "\n",
       "   secondary_cleaner.state.floatbank6_a_level  \n",
       "0                                 -605.841980  \n",
       "1                                 -599.787184  \n",
       "2                                 -601.427363  \n",
       "3                                 -599.996129  \n",
       "4                                 -601.496691  \n",
       "\n",
       "[5 rows x 87 columns]"
      ]
     },
     "metadata": {},
     "output_type": "display_data"
    },
    {
     "name": "stdout",
     "output_type": "stream",
     "text": [
      "<class 'pandas.core.frame.DataFrame'>\n",
      "RangeIndex: 16860 entries, 0 to 16859\n",
      "Data columns (total 87 columns):\n",
      " #   Column                                              Non-Null Count  Dtype  \n",
      "---  ------                                              --------------  -----  \n",
      " 0   date                                                16860 non-null  object \n",
      " 1   final.output.concentrate_ag                         16788 non-null  float64\n",
      " 2   final.output.concentrate_pb                         16788 non-null  float64\n",
      " 3   final.output.concentrate_sol                        16490 non-null  float64\n",
      " 4   final.output.concentrate_au                         16789 non-null  float64\n",
      " 5   final.output.recovery                               15339 non-null  float64\n",
      " 6   final.output.tail_ag                                16794 non-null  float64\n",
      " 7   final.output.tail_pb                                16677 non-null  float64\n",
      " 8   final.output.tail_sol                               16715 non-null  float64\n",
      " 9   final.output.tail_au                                16794 non-null  float64\n",
      " 10  primary_cleaner.input.sulfate                       15553 non-null  float64\n",
      " 11  primary_cleaner.input.depressant                    15598 non-null  float64\n",
      " 12  primary_cleaner.input.feed_size                     16860 non-null  float64\n",
      " 13  primary_cleaner.input.xanthate                      15875 non-null  float64\n",
      " 14  primary_cleaner.output.concentrate_ag               16778 non-null  float64\n",
      " 15  primary_cleaner.output.concentrate_pb               16502 non-null  float64\n",
      " 16  primary_cleaner.output.concentrate_sol              16224 non-null  float64\n",
      " 17  primary_cleaner.output.concentrate_au               16778 non-null  float64\n",
      " 18  primary_cleaner.output.tail_ag                      16777 non-null  float64\n",
      " 19  primary_cleaner.output.tail_pb                      16761 non-null  float64\n",
      " 20  primary_cleaner.output.tail_sol                     16579 non-null  float64\n",
      " 21  primary_cleaner.output.tail_au                      16777 non-null  float64\n",
      " 22  primary_cleaner.state.floatbank8_a_air              16820 non-null  float64\n",
      " 23  primary_cleaner.state.floatbank8_a_level            16827 non-null  float64\n",
      " 24  primary_cleaner.state.floatbank8_b_air              16820 non-null  float64\n",
      " 25  primary_cleaner.state.floatbank8_b_level            16833 non-null  float64\n",
      " 26  primary_cleaner.state.floatbank8_c_air              16822 non-null  float64\n",
      " 27  primary_cleaner.state.floatbank8_c_level            16833 non-null  float64\n",
      " 28  primary_cleaner.state.floatbank8_d_air              16821 non-null  float64\n",
      " 29  primary_cleaner.state.floatbank8_d_level            16833 non-null  float64\n",
      " 30  rougher.calculation.sulfate_to_au_concentrate       16833 non-null  float64\n",
      " 31  rougher.calculation.floatbank10_sulfate_to_au_feed  16833 non-null  float64\n",
      " 32  rougher.calculation.floatbank11_sulfate_to_au_feed  16833 non-null  float64\n",
      " 33  rougher.calculation.au_pb_ratio                     15618 non-null  float64\n",
      " 34  rougher.input.feed_ag                               16778 non-null  float64\n",
      " 35  rougher.input.feed_pb                               16632 non-null  float64\n",
      " 36  rougher.input.feed_rate                             16347 non-null  float64\n",
      " 37  rougher.input.feed_size                             16443 non-null  float64\n",
      " 38  rougher.input.feed_sol                              16568 non-null  float64\n",
      " 39  rougher.input.feed_au                               16777 non-null  float64\n",
      " 40  rougher.input.floatbank10_sulfate                   15816 non-null  float64\n",
      " 41  rougher.input.floatbank10_xanthate                  16514 non-null  float64\n",
      " 42  rougher.input.floatbank11_sulfate                   16237 non-null  float64\n",
      " 43  rougher.input.floatbank11_xanthate                  14956 non-null  float64\n",
      " 44  rougher.output.concentrate_ag                       16778 non-null  float64\n",
      " 45  rougher.output.concentrate_pb                       16778 non-null  float64\n",
      " 46  rougher.output.concentrate_sol                      16698 non-null  float64\n",
      " 47  rougher.output.concentrate_au                       16778 non-null  float64\n",
      " 48  rougher.output.recovery                             14287 non-null  float64\n",
      " 49  rougher.output.tail_ag                              14610 non-null  float64\n",
      " 50  rougher.output.tail_pb                              16778 non-null  float64\n",
      " 51  rougher.output.tail_sol                             14611 non-null  float64\n",
      " 52  rougher.output.tail_au                              14611 non-null  float64\n",
      " 53  rougher.state.floatbank10_a_air                     16807 non-null  float64\n",
      " 54  rougher.state.floatbank10_a_level                   16807 non-null  float64\n",
      " 55  rougher.state.floatbank10_b_air                     16807 non-null  float64\n",
      " 56  rougher.state.floatbank10_b_level                   16807 non-null  float64\n",
      " 57  rougher.state.floatbank10_c_air                     16807 non-null  float64\n",
      " 58  rougher.state.floatbank10_c_level                   16814 non-null  float64\n",
      " 59  rougher.state.floatbank10_d_air                     16802 non-null  float64\n",
      " 60  rougher.state.floatbank10_d_level                   16809 non-null  float64\n",
      " 61  rougher.state.floatbank10_e_air                     16257 non-null  float64\n",
      " 62  rougher.state.floatbank10_e_level                   16809 non-null  float64\n",
      " 63  rougher.state.floatbank10_f_air                     16802 non-null  float64\n",
      " 64  rougher.state.floatbank10_f_level                   16802 non-null  float64\n",
      " 65  secondary_cleaner.output.tail_ag                    16776 non-null  float64\n",
      " 66  secondary_cleaner.output.tail_pb                    16764 non-null  float64\n",
      " 67  secondary_cleaner.output.tail_sol                   14874 non-null  float64\n",
      " 68  secondary_cleaner.output.tail_au                    16778 non-null  float64\n",
      " 69  secondary_cleaner.state.floatbank2_a_air            16497 non-null  float64\n",
      " 70  secondary_cleaner.state.floatbank2_a_level          16751 non-null  float64\n",
      " 71  secondary_cleaner.state.floatbank2_b_air            16705 non-null  float64\n",
      " 72  secondary_cleaner.state.floatbank2_b_level          16748 non-null  float64\n",
      " 73  secondary_cleaner.state.floatbank3_a_air            16763 non-null  float64\n",
      " 74  secondary_cleaner.state.floatbank3_a_level          16747 non-null  float64\n",
      " 75  secondary_cleaner.state.floatbank3_b_air            16752 non-null  float64\n",
      " 76  secondary_cleaner.state.floatbank3_b_level          16750 non-null  float64\n",
      " 77  secondary_cleaner.state.floatbank4_a_air            16731 non-null  float64\n",
      " 78  secondary_cleaner.state.floatbank4_a_level          16747 non-null  float64\n",
      " 79  secondary_cleaner.state.floatbank4_b_air            16768 non-null  float64\n",
      " 80  secondary_cleaner.state.floatbank4_b_level          16767 non-null  float64\n",
      " 81  secondary_cleaner.state.floatbank5_a_air            16775 non-null  float64\n",
      " 82  secondary_cleaner.state.floatbank5_a_level          16775 non-null  float64\n",
      " 83  secondary_cleaner.state.floatbank5_b_air            16775 non-null  float64\n",
      " 84  secondary_cleaner.state.floatbank5_b_level          16776 non-null  float64\n",
      " 85  secondary_cleaner.state.floatbank6_a_air            16757 non-null  float64\n",
      " 86  secondary_cleaner.state.floatbank6_a_level          16775 non-null  float64\n",
      "dtypes: float64(86), object(1)\n",
      "memory usage: 11.2+ MB\n",
      "None\n"
     ]
    }
   ],
   "source": [
    "# Load datasets\n",
    "gold_recovery_train = pd.read_csv('/datasets/gold_recovery_train.csv')\n",
    "gold_recovery_test = pd.read_csv('/datasets/gold_recovery_test.csv')\n",
    "gold_recovery_full = pd.read_csv('/datasets/gold_recovery_full.csv')\n",
    "\n",
    "# Display the first few rows and basic info for each dataset\n",
    "print(\"Gold Recovery Traning Set\")\n",
    "display(gold_recovery_train.head())\n",
    "print(gold_recovery_train.info())"
   ]
  },
  {
   "cell_type": "markdown",
   "metadata": {},
   "source": [
    "### Training Dataset (gold_recovery_train.csv)\n",
    "- Purpose: Used for training the machine learning model to predict recovery rates.\n",
    "- Features:\n",
    "    - Inputs: Parameters describing the raw material and conditions before flotation (e.g., rougher.input.feed_au).\n",
    "    - Outputs: Recovery-related data such as rougher.output.concentrate_au and rougher.output.recovery.\n",
    "    - State Parameters: Variables describing the state of the process, such as rougher.state.floatbank parameters.\n",
    "    - Calculation Metrics: Indicators derived from other data points, such as recovery rates.\n",
    "- Target Variables:\n",
    "    - rougher.output.recovery: Recovery efficiency for the flotation process.\n",
    "    - final.output.recovery: Recovery efficiency after purification.\n",
    "- Unique Features: Contains some columns absent in the test dataset."
   ]
  },
  {
   "cell_type": "code",
   "execution_count": 3,
   "metadata": {
    "scrolled": false,
    "trusted": true
   },
   "outputs": [
    {
     "name": "stdout",
     "output_type": "stream",
     "text": [
      "\n",
      "Gold Recovery Test Set\n"
     ]
    },
    {
     "data": {
      "text/html": [
       "<div>\n",
       "<style scoped>\n",
       "    .dataframe tbody tr th:only-of-type {\n",
       "        vertical-align: middle;\n",
       "    }\n",
       "\n",
       "    .dataframe tbody tr th {\n",
       "        vertical-align: top;\n",
       "    }\n",
       "\n",
       "    .dataframe thead th {\n",
       "        text-align: right;\n",
       "    }\n",
       "</style>\n",
       "<table border=\"1\" class=\"dataframe\">\n",
       "  <thead>\n",
       "    <tr style=\"text-align: right;\">\n",
       "      <th></th>\n",
       "      <th>date</th>\n",
       "      <th>primary_cleaner.input.sulfate</th>\n",
       "      <th>primary_cleaner.input.depressant</th>\n",
       "      <th>primary_cleaner.input.feed_size</th>\n",
       "      <th>primary_cleaner.input.xanthate</th>\n",
       "      <th>primary_cleaner.state.floatbank8_a_air</th>\n",
       "      <th>primary_cleaner.state.floatbank8_a_level</th>\n",
       "      <th>primary_cleaner.state.floatbank8_b_air</th>\n",
       "      <th>primary_cleaner.state.floatbank8_b_level</th>\n",
       "      <th>primary_cleaner.state.floatbank8_c_air</th>\n",
       "      <th>...</th>\n",
       "      <th>secondary_cleaner.state.floatbank4_a_air</th>\n",
       "      <th>secondary_cleaner.state.floatbank4_a_level</th>\n",
       "      <th>secondary_cleaner.state.floatbank4_b_air</th>\n",
       "      <th>secondary_cleaner.state.floatbank4_b_level</th>\n",
       "      <th>secondary_cleaner.state.floatbank5_a_air</th>\n",
       "      <th>secondary_cleaner.state.floatbank5_a_level</th>\n",
       "      <th>secondary_cleaner.state.floatbank5_b_air</th>\n",
       "      <th>secondary_cleaner.state.floatbank5_b_level</th>\n",
       "      <th>secondary_cleaner.state.floatbank6_a_air</th>\n",
       "      <th>secondary_cleaner.state.floatbank6_a_level</th>\n",
       "    </tr>\n",
       "  </thead>\n",
       "  <tbody>\n",
       "    <tr>\n",
       "      <th>0</th>\n",
       "      <td>2016-09-01 00:59:59</td>\n",
       "      <td>210.800909</td>\n",
       "      <td>14.993118</td>\n",
       "      <td>8.080000</td>\n",
       "      <td>1.005021</td>\n",
       "      <td>1398.981301</td>\n",
       "      <td>-500.225577</td>\n",
       "      <td>1399.144926</td>\n",
       "      <td>-499.919735</td>\n",
       "      <td>1400.102998</td>\n",
       "      <td>...</td>\n",
       "      <td>12.023554</td>\n",
       "      <td>-497.795834</td>\n",
       "      <td>8.016656</td>\n",
       "      <td>-501.289139</td>\n",
       "      <td>7.946562</td>\n",
       "      <td>-432.317850</td>\n",
       "      <td>4.872511</td>\n",
       "      <td>-500.037437</td>\n",
       "      <td>26.705889</td>\n",
       "      <td>-499.709414</td>\n",
       "    </tr>\n",
       "    <tr>\n",
       "      <th>1</th>\n",
       "      <td>2016-09-01 01:59:59</td>\n",
       "      <td>215.392455</td>\n",
       "      <td>14.987471</td>\n",
       "      <td>8.080000</td>\n",
       "      <td>0.990469</td>\n",
       "      <td>1398.777912</td>\n",
       "      <td>-500.057435</td>\n",
       "      <td>1398.055362</td>\n",
       "      <td>-499.778182</td>\n",
       "      <td>1396.151033</td>\n",
       "      <td>...</td>\n",
       "      <td>12.058140</td>\n",
       "      <td>-498.695773</td>\n",
       "      <td>8.130979</td>\n",
       "      <td>-499.634209</td>\n",
       "      <td>7.958270</td>\n",
       "      <td>-525.839648</td>\n",
       "      <td>4.878850</td>\n",
       "      <td>-500.162375</td>\n",
       "      <td>25.019940</td>\n",
       "      <td>-499.819438</td>\n",
       "    </tr>\n",
       "    <tr>\n",
       "      <th>2</th>\n",
       "      <td>2016-09-01 02:59:59</td>\n",
       "      <td>215.259946</td>\n",
       "      <td>12.884934</td>\n",
       "      <td>7.786667</td>\n",
       "      <td>0.996043</td>\n",
       "      <td>1398.493666</td>\n",
       "      <td>-500.868360</td>\n",
       "      <td>1398.860436</td>\n",
       "      <td>-499.764529</td>\n",
       "      <td>1398.075709</td>\n",
       "      <td>...</td>\n",
       "      <td>11.962366</td>\n",
       "      <td>-498.767484</td>\n",
       "      <td>8.096893</td>\n",
       "      <td>-500.827423</td>\n",
       "      <td>8.071056</td>\n",
       "      <td>-500.801673</td>\n",
       "      <td>4.905125</td>\n",
       "      <td>-499.828510</td>\n",
       "      <td>24.994862</td>\n",
       "      <td>-500.622559</td>\n",
       "    </tr>\n",
       "    <tr>\n",
       "      <th>3</th>\n",
       "      <td>2016-09-01 03:59:59</td>\n",
       "      <td>215.336236</td>\n",
       "      <td>12.006805</td>\n",
       "      <td>7.640000</td>\n",
       "      <td>0.863514</td>\n",
       "      <td>1399.618111</td>\n",
       "      <td>-498.863574</td>\n",
       "      <td>1397.440120</td>\n",
       "      <td>-499.211024</td>\n",
       "      <td>1400.129303</td>\n",
       "      <td>...</td>\n",
       "      <td>12.033091</td>\n",
       "      <td>-498.350935</td>\n",
       "      <td>8.074946</td>\n",
       "      <td>-499.474407</td>\n",
       "      <td>7.897085</td>\n",
       "      <td>-500.868509</td>\n",
       "      <td>4.931400</td>\n",
       "      <td>-499.963623</td>\n",
       "      <td>24.948919</td>\n",
       "      <td>-498.709987</td>\n",
       "    </tr>\n",
       "    <tr>\n",
       "      <th>4</th>\n",
       "      <td>2016-09-01 04:59:59</td>\n",
       "      <td>199.099327</td>\n",
       "      <td>10.682530</td>\n",
       "      <td>7.530000</td>\n",
       "      <td>0.805575</td>\n",
       "      <td>1401.268123</td>\n",
       "      <td>-500.808305</td>\n",
       "      <td>1398.128818</td>\n",
       "      <td>-499.504543</td>\n",
       "      <td>1402.172226</td>\n",
       "      <td>...</td>\n",
       "      <td>12.025367</td>\n",
       "      <td>-500.786497</td>\n",
       "      <td>8.054678</td>\n",
       "      <td>-500.397500</td>\n",
       "      <td>8.107890</td>\n",
       "      <td>-509.526725</td>\n",
       "      <td>4.957674</td>\n",
       "      <td>-500.360026</td>\n",
       "      <td>25.003331</td>\n",
       "      <td>-500.856333</td>\n",
       "    </tr>\n",
       "  </tbody>\n",
       "</table>\n",
       "<p>5 rows × 53 columns</p>\n",
       "</div>"
      ],
      "text/plain": [
       "                  date  primary_cleaner.input.sulfate  \\\n",
       "0  2016-09-01 00:59:59                     210.800909   \n",
       "1  2016-09-01 01:59:59                     215.392455   \n",
       "2  2016-09-01 02:59:59                     215.259946   \n",
       "3  2016-09-01 03:59:59                     215.336236   \n",
       "4  2016-09-01 04:59:59                     199.099327   \n",
       "\n",
       "   primary_cleaner.input.depressant  primary_cleaner.input.feed_size  \\\n",
       "0                         14.993118                         8.080000   \n",
       "1                         14.987471                         8.080000   \n",
       "2                         12.884934                         7.786667   \n",
       "3                         12.006805                         7.640000   \n",
       "4                         10.682530                         7.530000   \n",
       "\n",
       "   primary_cleaner.input.xanthate  primary_cleaner.state.floatbank8_a_air  \\\n",
       "0                        1.005021                             1398.981301   \n",
       "1                        0.990469                             1398.777912   \n",
       "2                        0.996043                             1398.493666   \n",
       "3                        0.863514                             1399.618111   \n",
       "4                        0.805575                             1401.268123   \n",
       "\n",
       "   primary_cleaner.state.floatbank8_a_level  \\\n",
       "0                               -500.225577   \n",
       "1                               -500.057435   \n",
       "2                               -500.868360   \n",
       "3                               -498.863574   \n",
       "4                               -500.808305   \n",
       "\n",
       "   primary_cleaner.state.floatbank8_b_air  \\\n",
       "0                             1399.144926   \n",
       "1                             1398.055362   \n",
       "2                             1398.860436   \n",
       "3                             1397.440120   \n",
       "4                             1398.128818   \n",
       "\n",
       "   primary_cleaner.state.floatbank8_b_level  \\\n",
       "0                               -499.919735   \n",
       "1                               -499.778182   \n",
       "2                               -499.764529   \n",
       "3                               -499.211024   \n",
       "4                               -499.504543   \n",
       "\n",
       "   primary_cleaner.state.floatbank8_c_air  ...  \\\n",
       "0                             1400.102998  ...   \n",
       "1                             1396.151033  ...   \n",
       "2                             1398.075709  ...   \n",
       "3                             1400.129303  ...   \n",
       "4                             1402.172226  ...   \n",
       "\n",
       "   secondary_cleaner.state.floatbank4_a_air  \\\n",
       "0                                 12.023554   \n",
       "1                                 12.058140   \n",
       "2                                 11.962366   \n",
       "3                                 12.033091   \n",
       "4                                 12.025367   \n",
       "\n",
       "   secondary_cleaner.state.floatbank4_a_level  \\\n",
       "0                                 -497.795834   \n",
       "1                                 -498.695773   \n",
       "2                                 -498.767484   \n",
       "3                                 -498.350935   \n",
       "4                                 -500.786497   \n",
       "\n",
       "   secondary_cleaner.state.floatbank4_b_air  \\\n",
       "0                                  8.016656   \n",
       "1                                  8.130979   \n",
       "2                                  8.096893   \n",
       "3                                  8.074946   \n",
       "4                                  8.054678   \n",
       "\n",
       "   secondary_cleaner.state.floatbank4_b_level  \\\n",
       "0                                 -501.289139   \n",
       "1                                 -499.634209   \n",
       "2                                 -500.827423   \n",
       "3                                 -499.474407   \n",
       "4                                 -500.397500   \n",
       "\n",
       "   secondary_cleaner.state.floatbank5_a_air  \\\n",
       "0                                  7.946562   \n",
       "1                                  7.958270   \n",
       "2                                  8.071056   \n",
       "3                                  7.897085   \n",
       "4                                  8.107890   \n",
       "\n",
       "   secondary_cleaner.state.floatbank5_a_level  \\\n",
       "0                                 -432.317850   \n",
       "1                                 -525.839648   \n",
       "2                                 -500.801673   \n",
       "3                                 -500.868509   \n",
       "4                                 -509.526725   \n",
       "\n",
       "   secondary_cleaner.state.floatbank5_b_air  \\\n",
       "0                                  4.872511   \n",
       "1                                  4.878850   \n",
       "2                                  4.905125   \n",
       "3                                  4.931400   \n",
       "4                                  4.957674   \n",
       "\n",
       "   secondary_cleaner.state.floatbank5_b_level  \\\n",
       "0                                 -500.037437   \n",
       "1                                 -500.162375   \n",
       "2                                 -499.828510   \n",
       "3                                 -499.963623   \n",
       "4                                 -500.360026   \n",
       "\n",
       "   secondary_cleaner.state.floatbank6_a_air  \\\n",
       "0                                 26.705889   \n",
       "1                                 25.019940   \n",
       "2                                 24.994862   \n",
       "3                                 24.948919   \n",
       "4                                 25.003331   \n",
       "\n",
       "   secondary_cleaner.state.floatbank6_a_level  \n",
       "0                                 -499.709414  \n",
       "1                                 -499.819438  \n",
       "2                                 -500.622559  \n",
       "3                                 -498.709987  \n",
       "4                                 -500.856333  \n",
       "\n",
       "[5 rows x 53 columns]"
      ]
     },
     "metadata": {},
     "output_type": "display_data"
    },
    {
     "name": "stdout",
     "output_type": "stream",
     "text": [
      "<class 'pandas.core.frame.DataFrame'>\n",
      "RangeIndex: 5856 entries, 0 to 5855\n",
      "Data columns (total 53 columns):\n",
      " #   Column                                      Non-Null Count  Dtype  \n",
      "---  ------                                      --------------  -----  \n",
      " 0   date                                        5856 non-null   object \n",
      " 1   primary_cleaner.input.sulfate               5554 non-null   float64\n",
      " 2   primary_cleaner.input.depressant            5572 non-null   float64\n",
      " 3   primary_cleaner.input.feed_size             5856 non-null   float64\n",
      " 4   primary_cleaner.input.xanthate              5690 non-null   float64\n",
      " 5   primary_cleaner.state.floatbank8_a_air      5840 non-null   float64\n",
      " 6   primary_cleaner.state.floatbank8_a_level    5840 non-null   float64\n",
      " 7   primary_cleaner.state.floatbank8_b_air      5840 non-null   float64\n",
      " 8   primary_cleaner.state.floatbank8_b_level    5840 non-null   float64\n",
      " 9   primary_cleaner.state.floatbank8_c_air      5840 non-null   float64\n",
      " 10  primary_cleaner.state.floatbank8_c_level    5840 non-null   float64\n",
      " 11  primary_cleaner.state.floatbank8_d_air      5840 non-null   float64\n",
      " 12  primary_cleaner.state.floatbank8_d_level    5840 non-null   float64\n",
      " 13  rougher.input.feed_ag                       5840 non-null   float64\n",
      " 14  rougher.input.feed_pb                       5840 non-null   float64\n",
      " 15  rougher.input.feed_rate                     5816 non-null   float64\n",
      " 16  rougher.input.feed_size                     5834 non-null   float64\n",
      " 17  rougher.input.feed_sol                      5789 non-null   float64\n",
      " 18  rougher.input.feed_au                       5840 non-null   float64\n",
      " 19  rougher.input.floatbank10_sulfate           5599 non-null   float64\n",
      " 20  rougher.input.floatbank10_xanthate          5733 non-null   float64\n",
      " 21  rougher.input.floatbank11_sulfate           5801 non-null   float64\n",
      " 22  rougher.input.floatbank11_xanthate          5503 non-null   float64\n",
      " 23  rougher.state.floatbank10_a_air             5839 non-null   float64\n",
      " 24  rougher.state.floatbank10_a_level           5840 non-null   float64\n",
      " 25  rougher.state.floatbank10_b_air             5839 non-null   float64\n",
      " 26  rougher.state.floatbank10_b_level           5840 non-null   float64\n",
      " 27  rougher.state.floatbank10_c_air             5839 non-null   float64\n",
      " 28  rougher.state.floatbank10_c_level           5840 non-null   float64\n",
      " 29  rougher.state.floatbank10_d_air             5839 non-null   float64\n",
      " 30  rougher.state.floatbank10_d_level           5840 non-null   float64\n",
      " 31  rougher.state.floatbank10_e_air             5839 non-null   float64\n",
      " 32  rougher.state.floatbank10_e_level           5840 non-null   float64\n",
      " 33  rougher.state.floatbank10_f_air             5839 non-null   float64\n",
      " 34  rougher.state.floatbank10_f_level           5840 non-null   float64\n",
      " 35  secondary_cleaner.state.floatbank2_a_air    5836 non-null   float64\n",
      " 36  secondary_cleaner.state.floatbank2_a_level  5840 non-null   float64\n",
      " 37  secondary_cleaner.state.floatbank2_b_air    5833 non-null   float64\n",
      " 38  secondary_cleaner.state.floatbank2_b_level  5840 non-null   float64\n",
      " 39  secondary_cleaner.state.floatbank3_a_air    5822 non-null   float64\n",
      " 40  secondary_cleaner.state.floatbank3_a_level  5840 non-null   float64\n",
      " 41  secondary_cleaner.state.floatbank3_b_air    5840 non-null   float64\n",
      " 42  secondary_cleaner.state.floatbank3_b_level  5840 non-null   float64\n",
      " 43  secondary_cleaner.state.floatbank4_a_air    5840 non-null   float64\n",
      " 44  secondary_cleaner.state.floatbank4_a_level  5840 non-null   float64\n",
      " 45  secondary_cleaner.state.floatbank4_b_air    5840 non-null   float64\n",
      " 46  secondary_cleaner.state.floatbank4_b_level  5840 non-null   float64\n",
      " 47  secondary_cleaner.state.floatbank5_a_air    5840 non-null   float64\n",
      " 48  secondary_cleaner.state.floatbank5_a_level  5840 non-null   float64\n",
      " 49  secondary_cleaner.state.floatbank5_b_air    5840 non-null   float64\n",
      " 50  secondary_cleaner.state.floatbank5_b_level  5840 non-null   float64\n",
      " 51  secondary_cleaner.state.floatbank6_a_air    5840 non-null   float64\n",
      " 52  secondary_cleaner.state.floatbank6_a_level  5840 non-null   float64\n",
      "dtypes: float64(52), object(1)\n",
      "memory usage: 2.4+ MB\n",
      "None\n"
     ]
    }
   ],
   "source": [
    "print(\"\\nGold Recovery Test Set\")\n",
    "display(gold_recovery_test.head())\n",
    "print(gold_recovery_test.info())"
   ]
  },
  {
   "cell_type": "markdown",
   "metadata": {},
   "source": [
    "### Test Dataset (gold_recovery_test.csv)\n",
    "- Purpose: Used for evaluating the trained model’s performance on unseen data.\n",
    "- Features:\n",
    "    - Includes only the necessary input features required to generate predictions.\n",
    "    - Lacks target variables like rougher.output.recovery and final.output.recovery.\n",
    "    - Contains fewer features compared to the training dataset.\n",
    "- Important Note: Features missing from this dataset are those calculated or derived later in the process."
   ]
  },
  {
   "cell_type": "code",
   "execution_count": 4,
   "metadata": {
    "trusted": true
   },
   "outputs": [
    {
     "name": "stdout",
     "output_type": "stream",
     "text": [
      "\n",
      "Gold Recovery Full Set\n"
     ]
    },
    {
     "data": {
      "text/html": [
       "<div>\n",
       "<style scoped>\n",
       "    .dataframe tbody tr th:only-of-type {\n",
       "        vertical-align: middle;\n",
       "    }\n",
       "\n",
       "    .dataframe tbody tr th {\n",
       "        vertical-align: top;\n",
       "    }\n",
       "\n",
       "    .dataframe thead th {\n",
       "        text-align: right;\n",
       "    }\n",
       "</style>\n",
       "<table border=\"1\" class=\"dataframe\">\n",
       "  <thead>\n",
       "    <tr style=\"text-align: right;\">\n",
       "      <th></th>\n",
       "      <th>date</th>\n",
       "      <th>final.output.concentrate_ag</th>\n",
       "      <th>final.output.concentrate_pb</th>\n",
       "      <th>final.output.concentrate_sol</th>\n",
       "      <th>final.output.concentrate_au</th>\n",
       "      <th>final.output.recovery</th>\n",
       "      <th>final.output.tail_ag</th>\n",
       "      <th>final.output.tail_pb</th>\n",
       "      <th>final.output.tail_sol</th>\n",
       "      <th>final.output.tail_au</th>\n",
       "      <th>...</th>\n",
       "      <th>secondary_cleaner.state.floatbank4_a_air</th>\n",
       "      <th>secondary_cleaner.state.floatbank4_a_level</th>\n",
       "      <th>secondary_cleaner.state.floatbank4_b_air</th>\n",
       "      <th>secondary_cleaner.state.floatbank4_b_level</th>\n",
       "      <th>secondary_cleaner.state.floatbank5_a_air</th>\n",
       "      <th>secondary_cleaner.state.floatbank5_a_level</th>\n",
       "      <th>secondary_cleaner.state.floatbank5_b_air</th>\n",
       "      <th>secondary_cleaner.state.floatbank5_b_level</th>\n",
       "      <th>secondary_cleaner.state.floatbank6_a_air</th>\n",
       "      <th>secondary_cleaner.state.floatbank6_a_level</th>\n",
       "    </tr>\n",
       "  </thead>\n",
       "  <tbody>\n",
       "    <tr>\n",
       "      <th>0</th>\n",
       "      <td>2016-01-15 00:00:00</td>\n",
       "      <td>6.055403</td>\n",
       "      <td>9.889648</td>\n",
       "      <td>5.507324</td>\n",
       "      <td>42.192020</td>\n",
       "      <td>70.541216</td>\n",
       "      <td>10.411962</td>\n",
       "      <td>0.895447</td>\n",
       "      <td>16.904297</td>\n",
       "      <td>2.143149</td>\n",
       "      <td>...</td>\n",
       "      <td>14.016835</td>\n",
       "      <td>-502.488007</td>\n",
       "      <td>12.099931</td>\n",
       "      <td>-504.715942</td>\n",
       "      <td>9.925633</td>\n",
       "      <td>-498.310211</td>\n",
       "      <td>8.079666</td>\n",
       "      <td>-500.470978</td>\n",
       "      <td>14.151341</td>\n",
       "      <td>-605.841980</td>\n",
       "    </tr>\n",
       "    <tr>\n",
       "      <th>1</th>\n",
       "      <td>2016-01-15 01:00:00</td>\n",
       "      <td>6.029369</td>\n",
       "      <td>9.968944</td>\n",
       "      <td>5.257781</td>\n",
       "      <td>42.701629</td>\n",
       "      <td>69.266198</td>\n",
       "      <td>10.462676</td>\n",
       "      <td>0.927452</td>\n",
       "      <td>16.634514</td>\n",
       "      <td>2.224930</td>\n",
       "      <td>...</td>\n",
       "      <td>13.992281</td>\n",
       "      <td>-505.503262</td>\n",
       "      <td>11.950531</td>\n",
       "      <td>-501.331529</td>\n",
       "      <td>10.039245</td>\n",
       "      <td>-500.169983</td>\n",
       "      <td>7.984757</td>\n",
       "      <td>-500.582168</td>\n",
       "      <td>13.998353</td>\n",
       "      <td>-599.787184</td>\n",
       "    </tr>\n",
       "    <tr>\n",
       "      <th>2</th>\n",
       "      <td>2016-01-15 02:00:00</td>\n",
       "      <td>6.055926</td>\n",
       "      <td>10.213995</td>\n",
       "      <td>5.383759</td>\n",
       "      <td>42.657501</td>\n",
       "      <td>68.116445</td>\n",
       "      <td>10.507046</td>\n",
       "      <td>0.953716</td>\n",
       "      <td>16.208849</td>\n",
       "      <td>2.257889</td>\n",
       "      <td>...</td>\n",
       "      <td>14.015015</td>\n",
       "      <td>-502.520901</td>\n",
       "      <td>11.912783</td>\n",
       "      <td>-501.133383</td>\n",
       "      <td>10.070913</td>\n",
       "      <td>-500.129135</td>\n",
       "      <td>8.013877</td>\n",
       "      <td>-500.517572</td>\n",
       "      <td>14.028663</td>\n",
       "      <td>-601.427363</td>\n",
       "    </tr>\n",
       "    <tr>\n",
       "      <th>3</th>\n",
       "      <td>2016-01-15 03:00:00</td>\n",
       "      <td>6.047977</td>\n",
       "      <td>9.977019</td>\n",
       "      <td>4.858634</td>\n",
       "      <td>42.689819</td>\n",
       "      <td>68.347543</td>\n",
       "      <td>10.422762</td>\n",
       "      <td>0.883763</td>\n",
       "      <td>16.532835</td>\n",
       "      <td>2.146849</td>\n",
       "      <td>...</td>\n",
       "      <td>14.036510</td>\n",
       "      <td>-500.857308</td>\n",
       "      <td>11.999550</td>\n",
       "      <td>-501.193686</td>\n",
       "      <td>9.970366</td>\n",
       "      <td>-499.201640</td>\n",
       "      <td>7.977324</td>\n",
       "      <td>-500.255908</td>\n",
       "      <td>14.005551</td>\n",
       "      <td>-599.996129</td>\n",
       "    </tr>\n",
       "    <tr>\n",
       "      <th>4</th>\n",
       "      <td>2016-01-15 04:00:00</td>\n",
       "      <td>6.148599</td>\n",
       "      <td>10.142511</td>\n",
       "      <td>4.939416</td>\n",
       "      <td>42.774141</td>\n",
       "      <td>66.927016</td>\n",
       "      <td>10.360302</td>\n",
       "      <td>0.792826</td>\n",
       "      <td>16.525686</td>\n",
       "      <td>2.055292</td>\n",
       "      <td>...</td>\n",
       "      <td>14.027298</td>\n",
       "      <td>-499.838632</td>\n",
       "      <td>11.953070</td>\n",
       "      <td>-501.053894</td>\n",
       "      <td>9.925709</td>\n",
       "      <td>-501.686727</td>\n",
       "      <td>7.894242</td>\n",
       "      <td>-500.356035</td>\n",
       "      <td>13.996647</td>\n",
       "      <td>-601.496691</td>\n",
       "    </tr>\n",
       "  </tbody>\n",
       "</table>\n",
       "<p>5 rows × 87 columns</p>\n",
       "</div>"
      ],
      "text/plain": [
       "                  date  final.output.concentrate_ag  \\\n",
       "0  2016-01-15 00:00:00                     6.055403   \n",
       "1  2016-01-15 01:00:00                     6.029369   \n",
       "2  2016-01-15 02:00:00                     6.055926   \n",
       "3  2016-01-15 03:00:00                     6.047977   \n",
       "4  2016-01-15 04:00:00                     6.148599   \n",
       "\n",
       "   final.output.concentrate_pb  final.output.concentrate_sol  \\\n",
       "0                     9.889648                      5.507324   \n",
       "1                     9.968944                      5.257781   \n",
       "2                    10.213995                      5.383759   \n",
       "3                     9.977019                      4.858634   \n",
       "4                    10.142511                      4.939416   \n",
       "\n",
       "   final.output.concentrate_au  final.output.recovery  final.output.tail_ag  \\\n",
       "0                    42.192020              70.541216             10.411962   \n",
       "1                    42.701629              69.266198             10.462676   \n",
       "2                    42.657501              68.116445             10.507046   \n",
       "3                    42.689819              68.347543             10.422762   \n",
       "4                    42.774141              66.927016             10.360302   \n",
       "\n",
       "   final.output.tail_pb  final.output.tail_sol  final.output.tail_au  ...  \\\n",
       "0              0.895447              16.904297              2.143149  ...   \n",
       "1              0.927452              16.634514              2.224930  ...   \n",
       "2              0.953716              16.208849              2.257889  ...   \n",
       "3              0.883763              16.532835              2.146849  ...   \n",
       "4              0.792826              16.525686              2.055292  ...   \n",
       "\n",
       "   secondary_cleaner.state.floatbank4_a_air  \\\n",
       "0                                 14.016835   \n",
       "1                                 13.992281   \n",
       "2                                 14.015015   \n",
       "3                                 14.036510   \n",
       "4                                 14.027298   \n",
       "\n",
       "   secondary_cleaner.state.floatbank4_a_level  \\\n",
       "0                                 -502.488007   \n",
       "1                                 -505.503262   \n",
       "2                                 -502.520901   \n",
       "3                                 -500.857308   \n",
       "4                                 -499.838632   \n",
       "\n",
       "   secondary_cleaner.state.floatbank4_b_air  \\\n",
       "0                                 12.099931   \n",
       "1                                 11.950531   \n",
       "2                                 11.912783   \n",
       "3                                 11.999550   \n",
       "4                                 11.953070   \n",
       "\n",
       "   secondary_cleaner.state.floatbank4_b_level  \\\n",
       "0                                 -504.715942   \n",
       "1                                 -501.331529   \n",
       "2                                 -501.133383   \n",
       "3                                 -501.193686   \n",
       "4                                 -501.053894   \n",
       "\n",
       "   secondary_cleaner.state.floatbank5_a_air  \\\n",
       "0                                  9.925633   \n",
       "1                                 10.039245   \n",
       "2                                 10.070913   \n",
       "3                                  9.970366   \n",
       "4                                  9.925709   \n",
       "\n",
       "   secondary_cleaner.state.floatbank5_a_level  \\\n",
       "0                                 -498.310211   \n",
       "1                                 -500.169983   \n",
       "2                                 -500.129135   \n",
       "3                                 -499.201640   \n",
       "4                                 -501.686727   \n",
       "\n",
       "   secondary_cleaner.state.floatbank5_b_air  \\\n",
       "0                                  8.079666   \n",
       "1                                  7.984757   \n",
       "2                                  8.013877   \n",
       "3                                  7.977324   \n",
       "4                                  7.894242   \n",
       "\n",
       "   secondary_cleaner.state.floatbank5_b_level  \\\n",
       "0                                 -500.470978   \n",
       "1                                 -500.582168   \n",
       "2                                 -500.517572   \n",
       "3                                 -500.255908   \n",
       "4                                 -500.356035   \n",
       "\n",
       "   secondary_cleaner.state.floatbank6_a_air  \\\n",
       "0                                 14.151341   \n",
       "1                                 13.998353   \n",
       "2                                 14.028663   \n",
       "3                                 14.005551   \n",
       "4                                 13.996647   \n",
       "\n",
       "   secondary_cleaner.state.floatbank6_a_level  \n",
       "0                                 -605.841980  \n",
       "1                                 -599.787184  \n",
       "2                                 -601.427363  \n",
       "3                                 -599.996129  \n",
       "4                                 -601.496691  \n",
       "\n",
       "[5 rows x 87 columns]"
      ]
     },
     "metadata": {},
     "output_type": "display_data"
    },
    {
     "name": "stdout",
     "output_type": "stream",
     "text": [
      "<class 'pandas.core.frame.DataFrame'>\n",
      "RangeIndex: 22716 entries, 0 to 22715\n",
      "Data columns (total 87 columns):\n",
      " #   Column                                              Non-Null Count  Dtype  \n",
      "---  ------                                              --------------  -----  \n",
      " 0   date                                                22716 non-null  object \n",
      " 1   final.output.concentrate_ag                         22627 non-null  float64\n",
      " 2   final.output.concentrate_pb                         22629 non-null  float64\n",
      " 3   final.output.concentrate_sol                        22331 non-null  float64\n",
      " 4   final.output.concentrate_au                         22630 non-null  float64\n",
      " 5   final.output.recovery                               20753 non-null  float64\n",
      " 6   final.output.tail_ag                                22633 non-null  float64\n",
      " 7   final.output.tail_pb                                22516 non-null  float64\n",
      " 8   final.output.tail_sol                               22445 non-null  float64\n",
      " 9   final.output.tail_au                                22635 non-null  float64\n",
      " 10  primary_cleaner.input.sulfate                       21107 non-null  float64\n",
      " 11  primary_cleaner.input.depressant                    21170 non-null  float64\n",
      " 12  primary_cleaner.input.feed_size                     22716 non-null  float64\n",
      " 13  primary_cleaner.input.xanthate                      21565 non-null  float64\n",
      " 14  primary_cleaner.output.concentrate_ag               22618 non-null  float64\n",
      " 15  primary_cleaner.output.concentrate_pb               22268 non-null  float64\n",
      " 16  primary_cleaner.output.concentrate_sol              21918 non-null  float64\n",
      " 17  primary_cleaner.output.concentrate_au               22618 non-null  float64\n",
      " 18  primary_cleaner.output.tail_ag                      22614 non-null  float64\n",
      " 19  primary_cleaner.output.tail_pb                      22594 non-null  float64\n",
      " 20  primary_cleaner.output.tail_sol                     22365 non-null  float64\n",
      " 21  primary_cleaner.output.tail_au                      22617 non-null  float64\n",
      " 22  primary_cleaner.state.floatbank8_a_air              22660 non-null  float64\n",
      " 23  primary_cleaner.state.floatbank8_a_level            22667 non-null  float64\n",
      " 24  primary_cleaner.state.floatbank8_b_air              22660 non-null  float64\n",
      " 25  primary_cleaner.state.floatbank8_b_level            22673 non-null  float64\n",
      " 26  primary_cleaner.state.floatbank8_c_air              22662 non-null  float64\n",
      " 27  primary_cleaner.state.floatbank8_c_level            22673 non-null  float64\n",
      " 28  primary_cleaner.state.floatbank8_d_air              22661 non-null  float64\n",
      " 29  primary_cleaner.state.floatbank8_d_level            22673 non-null  float64\n",
      " 30  rougher.calculation.sulfate_to_au_concentrate       22672 non-null  float64\n",
      " 31  rougher.calculation.floatbank10_sulfate_to_au_feed  22672 non-null  float64\n",
      " 32  rougher.calculation.floatbank11_sulfate_to_au_feed  22672 non-null  float64\n",
      " 33  rougher.calculation.au_pb_ratio                     21089 non-null  float64\n",
      " 34  rougher.input.feed_ag                               22618 non-null  float64\n",
      " 35  rougher.input.feed_pb                               22472 non-null  float64\n",
      " 36  rougher.input.feed_rate                             22163 non-null  float64\n",
      " 37  rougher.input.feed_size                             22277 non-null  float64\n",
      " 38  rougher.input.feed_sol                              22357 non-null  float64\n",
      " 39  rougher.input.feed_au                               22617 non-null  float64\n",
      " 40  rougher.input.floatbank10_sulfate                   21415 non-null  float64\n",
      " 41  rougher.input.floatbank10_xanthate                  22247 non-null  float64\n",
      " 42  rougher.input.floatbank11_sulfate                   22038 non-null  float64\n",
      " 43  rougher.input.floatbank11_xanthate                  20459 non-null  float64\n",
      " 44  rougher.output.concentrate_ag                       22618 non-null  float64\n",
      " 45  rougher.output.concentrate_pb                       22618 non-null  float64\n",
      " 46  rougher.output.concentrate_sol                      22526 non-null  float64\n",
      " 47  rougher.output.concentrate_au                       22618 non-null  float64\n",
      " 48  rougher.output.recovery                             19597 non-null  float64\n",
      " 49  rougher.output.tail_ag                              19979 non-null  float64\n",
      " 50  rougher.output.tail_pb                              22618 non-null  float64\n",
      " 51  rougher.output.tail_sol                             19980 non-null  float64\n",
      " 52  rougher.output.tail_au                              19980 non-null  float64\n",
      " 53  rougher.state.floatbank10_a_air                     22646 non-null  float64\n",
      " 54  rougher.state.floatbank10_a_level                   22647 non-null  float64\n",
      " 55  rougher.state.floatbank10_b_air                     22646 non-null  float64\n",
      " 56  rougher.state.floatbank10_b_level                   22647 non-null  float64\n",
      " 57  rougher.state.floatbank10_c_air                     22646 non-null  float64\n",
      " 58  rougher.state.floatbank10_c_level                   22654 non-null  float64\n",
      " 59  rougher.state.floatbank10_d_air                     22641 non-null  float64\n",
      " 60  rougher.state.floatbank10_d_level                   22649 non-null  float64\n",
      " 61  rougher.state.floatbank10_e_air                     22096 non-null  float64\n",
      " 62  rougher.state.floatbank10_e_level                   22649 non-null  float64\n",
      " 63  rougher.state.floatbank10_f_air                     22641 non-null  float64\n",
      " 64  rougher.state.floatbank10_f_level                   22642 non-null  float64\n",
      " 65  secondary_cleaner.output.tail_ag                    22616 non-null  float64\n",
      " 66  secondary_cleaner.output.tail_pb                    22600 non-null  float64\n",
      " 67  secondary_cleaner.output.tail_sol                   20501 non-null  float64\n",
      " 68  secondary_cleaner.output.tail_au                    22618 non-null  float64\n",
      " 69  secondary_cleaner.state.floatbank2_a_air            22333 non-null  float64\n",
      " 70  secondary_cleaner.state.floatbank2_a_level          22591 non-null  float64\n",
      " 71  secondary_cleaner.state.floatbank2_b_air            22538 non-null  float64\n",
      " 72  secondary_cleaner.state.floatbank2_b_level          22588 non-null  float64\n",
      " 73  secondary_cleaner.state.floatbank3_a_air            22585 non-null  float64\n",
      " 74  secondary_cleaner.state.floatbank3_a_level          22587 non-null  float64\n",
      " 75  secondary_cleaner.state.floatbank3_b_air            22592 non-null  float64\n",
      " 76  secondary_cleaner.state.floatbank3_b_level          22590 non-null  float64\n",
      " 77  secondary_cleaner.state.floatbank4_a_air            22571 non-null  float64\n",
      " 78  secondary_cleaner.state.floatbank4_a_level          22587 non-null  float64\n",
      " 79  secondary_cleaner.state.floatbank4_b_air            22608 non-null  float64\n",
      " 80  secondary_cleaner.state.floatbank4_b_level          22607 non-null  float64\n",
      " 81  secondary_cleaner.state.floatbank5_a_air            22615 non-null  float64\n",
      " 82  secondary_cleaner.state.floatbank5_a_level          22615 non-null  float64\n",
      " 83  secondary_cleaner.state.floatbank5_b_air            22615 non-null  float64\n",
      " 84  secondary_cleaner.state.floatbank5_b_level          22616 non-null  float64\n",
      " 85  secondary_cleaner.state.floatbank6_a_air            22597 non-null  float64\n",
      " 86  secondary_cleaner.state.floatbank6_a_level          22615 non-null  float64\n",
      "dtypes: float64(86), object(1)\n",
      "memory usage: 15.1+ MB\n",
      "None\n"
     ]
    }
   ],
   "source": [
    "print(\"\\nGold Recovery Full Set\")\n",
    "display(gold_recovery_full.head())\n",
    "print(gold_recovery_full.info())"
   ]
  },
  {
   "cell_type": "markdown",
   "metadata": {},
   "source": [
    "### Full Dataset (gold_recovery_full.csv)\n",
    "- Purpose: A complete dataset combining the training and test data for exploratory data analysis.\n",
    "- Features:\n",
    "    - Contains all features present in both the training and test datasets.\n",
    "    - Used to perform overall analysis and feature validation."
   ]
  },
  {
   "cell_type": "markdown",
   "metadata": {},
   "source": [
    "### Common Characteristics Across Datasets\n",
    "- Time-Indexed: Data is indexed by the date feature, reflecting the time and sequence of data acquisition.\n",
    "- Metal Concentrations: Key metals (gold, silver, and lead) are tracked at various stages of the process.\n",
    "- Process Stages: Data spans across multiple stages of the recovery process: flotation, primary cleaner, secondary cleaner, and final purification."
   ]
  },
  {
   "cell_type": "code",
   "execution_count": 5,
   "metadata": {
    "trusted": true
   },
   "outputs": [
    {
     "name": "stdout",
     "output_type": "stream",
     "text": [
      "Dataset size before dropping missing values: 16860\n",
      "Dataset size after dropping missing values: 14287\n",
      "Mean Absolute Error (MAE) between calculated and actual recovery:  9.303415616264301e-15\n"
     ]
    }
   ],
   "source": [
    "# Step 1.2: Check that recovery is calculated correctly\n",
    "\n",
    "# Validate presence of required columns\n",
    "required_columns = ['rougher.output.concentrate_au', 'rougher.input.feed_au', 'rougher.output.tail_au', 'rougher.output.recovery']\n",
    "missing_columns = [col for col in required_columns if col not in gold_recovery_train.columns]\n",
    "if missing_columns:\n",
    "    raise ValueError(f\"The following required columns are missing: {missing_columns}\")\n",
    "\n",
    "# Create a copy of the dataset and drop rows with missing values in required columns\n",
    "gold_recovery_train_cleaned = gold_recovery_train.dropna(subset=required_columns)\n",
    "print(f\"Dataset size before dropping missing values: {gold_recovery_train.shape[0]}\")\n",
    "print(f\"Dataset size after dropping missing values: {gold_recovery_train_cleaned.shape[0]}\")\n",
    "\n",
    "# Extract the necessary columns\n",
    "C = gold_recovery_train_cleaned['rougher.output.concentrate_au']\n",
    "F = gold_recovery_train_cleaned['rougher.input.feed_au']\n",
    "T = gold_recovery_train_cleaned['rougher.output.tail_au']\n",
    "\n",
    "# Calculate recovery while avoiding division by zero\n",
    "calculated_recovery = np.where(\n",
    "    (F * (C - T)) != 0,  # Condition to avoid division by zero\n",
    "    (C * (F - T)) / (F * (C - T)) * 100,  # Recovery formula\n",
    "    np.nan  # Assign NaN where division by zero would occur\n",
    ")\n",
    "\n",
    "# Compare calculated recovery with the actual values\n",
    "actual_recovery = gold_recovery_train_cleaned['rougher.output.recovery']\n",
    "\n",
    "# Calculate the Mean Absolute Error (MAE)\n",
    "mae = mean_absolute_error(actual_recovery, calculated_recovery)\n",
    "\n",
    "# Display results\n",
    "print(\"Mean Absolute Error (MAE) between calculated and actual recovery: \", mae)"
   ]
  },
  {
   "cell_type": "markdown",
   "metadata": {},
   "source": [
    "Dataset Size Before and After Dropping Missing Values:\n",
    "\n",
    "- Before: 16,860 rows.\n",
    "- After: 14,287 rows.\n",
    "\n",
    "Rows with missing values in the required columns (rougher.output.concentrate_au, rougher.input.feed_au, rougher.output.tail_au, rougher.output.recovery) have been correctly dropped.\n",
    "\n",
    "The Mean Absolute Error (MAE) of approximately 9.3e-15 (a value very close to zero) indicates that the calculated recovery values are virtually identical to the actual recovery values in the dataset. This result confirms the correctness of the rougher.output.recovery calculations.\n",
    "\n",
    "Key Insights:\n",
    "- The calculated recovery values align perfectly with the actual recovery values, as evidenced by the extremely low MAE.\n",
    "- There are no significant discrepancies between the provided recovery values in the dataset and the values calculated using the formula."
   ]
  },
  {
   "cell_type": "code",
   "execution_count": 6,
   "metadata": {
    "scrolled": true,
    "trusted": true
   },
   "outputs": [
    {
     "name": "stdout",
     "output_type": "stream",
     "text": [
      "\n",
      "--- Features in the Training Set but Not in the Test Set ---\n",
      "Number of features missing from the test set: 34\n",
      "\n",
      "Categorized Missing Features:\n",
      "Target Features (2): {'rougher.output.recovery', 'final.output.recovery'}\n",
      "Intermediate Process Features (30): {'rougher.output.recovery', 'rougher.output.concentrate_pb', 'final.output.concentrate_au', 'rougher.output.concentrate_au', 'final.output.tail_pb', 'final.output.concentrate_ag', 'primary_cleaner.output.tail_ag', 'primary_cleaner.output.tail_pb', 'primary_cleaner.output.concentrate_au', 'secondary_cleaner.output.tail_ag', 'final.output.concentrate_pb', 'primary_cleaner.output.concentrate_sol', 'final.output.recovery', 'primary_cleaner.output.tail_au', 'secondary_cleaner.output.tail_au', 'primary_cleaner.output.concentrate_pb', 'final.output.tail_ag', 'rougher.output.tail_sol', 'primary_cleaner.output.concentrate_ag', 'final.output.concentrate_sol', 'primary_cleaner.output.tail_sol', 'rougher.output.tail_au', 'final.output.tail_sol', 'rougher.output.tail_pb', 'rougher.output.tail_ag', 'final.output.tail_au', 'rougher.output.concentrate_ag', 'rougher.output.concentrate_sol', 'secondary_cleaner.output.tail_pb', 'secondary_cleaner.output.tail_sol'}\n",
      "Calculated Features (4): {'rougher.calculation.floatbank10_sulfate_to_au_feed', 'rougher.calculation.sulfate_to_au_concentrate', 'rougher.calculation.au_pb_ratio', 'rougher.calculation.floatbank11_sulfate_to_au_feed'}\n",
      "\n",
      "--- Analysis of Missing Features ---\n",
      "\n",
      "Feature: rougher.output.recovery\n",
      "Type: float64\n",
      "Sample values:\n",
      "0    87.107763\n",
      "1    86.843261\n",
      "2    86.842308\n",
      "3    87.226430\n",
      "4    86.688794\n",
      "Name: rougher.output.recovery, dtype: float64\n",
      "\n",
      "Feature: rougher.output.concentrate_pb\n",
      "Type: float64\n",
      "Sample values:\n",
      "0    7.101074\n",
      "1    7.278807\n",
      "2    7.216833\n",
      "3    7.175616\n",
      "4    7.240205\n",
      "Name: rougher.output.concentrate_pb, dtype: float64\n",
      "\n",
      "Feature: final.output.concentrate_au\n",
      "Type: float64\n",
      "Sample values:\n",
      "0    42.192020\n",
      "1    42.701629\n",
      "2    42.657501\n",
      "3    42.689819\n",
      "4    42.774141\n",
      "Name: final.output.concentrate_au, dtype: float64\n",
      "\n",
      "Feature: rougher.output.concentrate_au\n",
      "Type: float64\n",
      "Sample values:\n",
      "0    19.793808\n",
      "1    20.050975\n",
      "2    19.737170\n",
      "3    19.320810\n",
      "4    19.216101\n",
      "Name: rougher.output.concentrate_au, dtype: float64\n",
      "\n",
      "Feature: final.output.tail_pb\n",
      "Type: float64\n",
      "Sample values:\n",
      "0    0.895447\n",
      "1    0.927452\n",
      "2    0.953716\n",
      "3    0.883763\n",
      "4    0.792826\n",
      "Name: final.output.tail_pb, dtype: float64\n",
      "\n",
      "Feature: final.output.concentrate_ag\n",
      "Type: float64\n",
      "Sample values:\n",
      "0    6.055403\n",
      "1    6.029369\n",
      "2    6.055926\n",
      "3    6.047977\n",
      "4    6.148599\n",
      "Name: final.output.concentrate_ag, dtype: float64\n",
      "\n",
      "Feature: rougher.calculation.floatbank11_sulfate_to_au_feed\n",
      "Type: float64\n",
      "Sample values:\n",
      "0    3520.337158\n",
      "1    3489.981857\n",
      "2    3502.359819\n",
      "3    3499.162912\n",
      "4    3506.679315\n",
      "Name: rougher.calculation.floatbank11_sulfate_to_au_feed, dtype: float64\n",
      "\n",
      "Feature: primary_cleaner.output.tail_ag\n",
      "Type: float64\n",
      "Sample values:\n",
      "0    14.936526\n",
      "1    16.250511\n",
      "2    16.491823\n",
      "3    16.024359\n",
      "4    16.480185\n",
      "Name: primary_cleaner.output.tail_ag, dtype: float64\n",
      "\n",
      "Feature: primary_cleaner.output.tail_pb\n",
      "Type: float64\n",
      "Sample values:\n",
      "0    2.534912\n",
      "1    3.049646\n",
      "2    3.124664\n",
      "3    2.960362\n",
      "4    3.112100\n",
      "Name: primary_cleaner.output.tail_pb, dtype: float64\n",
      "\n",
      "Feature: primary_cleaner.output.concentrate_au\n",
      "Type: float64\n",
      "Sample values:\n",
      "0    34.174427\n",
      "1    34.118526\n",
      "2    33.969464\n",
      "3    28.260743\n",
      "4    33.044932\n",
      "Name: primary_cleaner.output.concentrate_au, dtype: float64\n",
      "\n",
      "Feature: rougher.calculation.floatbank10_sulfate_to_au_feed\n",
      "Type: float64\n",
      "Sample values:\n",
      "0    3481.779053\n",
      "1    3498.370979\n",
      "2    3495.348910\n",
      "3    3498.578313\n",
      "4    3494.800771\n",
      "Name: rougher.calculation.floatbank10_sulfate_to_au_feed, dtype: float64\n",
      "\n",
      "Feature: secondary_cleaner.output.tail_ag\n",
      "Type: float64\n",
      "Sample values:\n",
      "0    14.500184\n",
      "1    14.265474\n",
      "2    14.115662\n",
      "3    13.732071\n",
      "4    14.079996\n",
      "Name: secondary_cleaner.output.tail_ag, dtype: float64\n",
      "\n",
      "Feature: rougher.calculation.sulfate_to_au_concentrate\n",
      "Type: float64\n",
      "Sample values:\n",
      "0    41885.707031\n",
      "1    42050.861809\n",
      "2    42018.101184\n",
      "3    42029.447991\n",
      "4    42125.354245\n",
      "Name: rougher.calculation.sulfate_to_au_concentrate, dtype: float64\n",
      "\n",
      "Feature: final.output.concentrate_pb\n",
      "Type: float64\n",
      "Sample values:\n",
      "0     9.889648\n",
      "1     9.968944\n",
      "2    10.213995\n",
      "3     9.977019\n",
      "4    10.142511\n",
      "Name: final.output.concentrate_pb, dtype: float64\n",
      "\n",
      "Feature: primary_cleaner.output.concentrate_sol\n",
      "Type: float64\n",
      "Sample values:\n",
      "0    19.529297\n",
      "1    19.369147\n",
      "2    19.167579\n",
      "3    15.978538\n",
      "4    19.199864\n",
      "Name: primary_cleaner.output.concentrate_sol, dtype: float64\n",
      "\n",
      "Feature: rougher.calculation.au_pb_ratio\n",
      "Type: float64\n",
      "Sample values:\n",
      "0    2.838687\n",
      "1    2.858998\n",
      "2    2.945989\n",
      "3    3.002340\n",
      "4    3.169615\n",
      "Name: rougher.calculation.au_pb_ratio, dtype: float64\n",
      "\n",
      "Feature: final.output.recovery\n",
      "Type: float64\n",
      "Sample values:\n",
      "0    70.541216\n",
      "1    69.266198\n",
      "2    68.116445\n",
      "3    68.347543\n",
      "4    66.927016\n",
      "Name: final.output.recovery, dtype: float64\n",
      "\n",
      "Feature: primary_cleaner.output.tail_au\n",
      "Type: float64\n",
      "Sample values:\n",
      "0    2.106679\n",
      "1    2.353017\n",
      "2    2.416800\n",
      "3    2.262051\n",
      "4    2.277073\n",
      "Name: primary_cleaner.output.tail_au, dtype: float64\n",
      "\n",
      "Feature: secondary_cleaner.output.tail_au\n",
      "Type: float64\n",
      "Sample values:\n",
      "0    2.606185\n",
      "1    2.488248\n",
      "2    2.458187\n",
      "3    2.322062\n",
      "4    2.330448\n",
      "Name: secondary_cleaner.output.tail_au, dtype: float64\n",
      "\n",
      "Feature: primary_cleaner.output.concentrate_pb\n",
      "Type: float64\n",
      "Sample values:\n",
      "0    10.389648\n",
      "1    10.497069\n",
      "2    10.354494\n",
      "3     8.496563\n",
      "4     9.986786\n",
      "Name: primary_cleaner.output.concentrate_pb, dtype: float64\n",
      "\n",
      "Feature: final.output.tail_ag\n",
      "Type: float64\n",
      "Sample values:\n",
      "0    10.411962\n",
      "1    10.462676\n",
      "2    10.507046\n",
      "3    10.422762\n",
      "4    10.360302\n",
      "Name: final.output.tail_ag, dtype: float64\n",
      "\n",
      "Feature: rougher.output.tail_sol\n",
      "Type: float64\n",
      "Sample values:\n",
      "0    19.154297\n",
      "1    18.965234\n",
      "2    18.808533\n",
      "3    19.330200\n",
      "4    19.267422\n",
      "Name: rougher.output.tail_sol, dtype: float64\n",
      "\n",
      "Feature: primary_cleaner.output.concentrate_ag\n",
      "Type: float64\n",
      "Sample values:\n",
      "0    8.547551\n",
      "1    8.558743\n",
      "2    8.603505\n",
      "3    7.221879\n",
      "4    9.089428\n",
      "Name: primary_cleaner.output.concentrate_ag, dtype: float64\n",
      "\n",
      "Feature: final.output.concentrate_sol\n",
      "Type: float64\n",
      "Sample values:\n",
      "0    5.507324\n",
      "1    5.257781\n",
      "2    5.383759\n",
      "3    4.858634\n",
      "4    4.939416\n",
      "Name: final.output.concentrate_sol, dtype: float64\n",
      "\n",
      "Feature: primary_cleaner.output.tail_sol\n",
      "Type: float64\n",
      "Sample values:\n",
      "0    7.476074\n",
      "1    6.733907\n",
      "2    6.471768\n",
      "3    6.843791\n",
      "4    6.550154\n",
      "Name: primary_cleaner.output.tail_sol, dtype: float64\n",
      "\n",
      "Feature: rougher.output.tail_au\n",
      "Type: float64\n",
      "Sample values:\n",
      "0    1.170244\n",
      "1    1.184827\n",
      "2    1.162562\n",
      "3    1.079755\n",
      "4    1.012642\n",
      "Name: rougher.output.tail_au, dtype: float64\n",
      "\n",
      "Feature: final.output.tail_sol\n",
      "Type: float64\n",
      "Sample values:\n",
      "0    16.904297\n",
      "1    16.634514\n",
      "2    16.208849\n",
      "3    16.532835\n",
      "4    16.525686\n",
      "Name: final.output.tail_sol, dtype: float64\n",
      "\n",
      "Feature: rougher.output.tail_pb\n",
      "Type: float64\n",
      "Sample values:\n",
      "0    0.508728\n",
      "1    0.536689\n",
      "2    0.546416\n",
      "3    0.542525\n",
      "4    0.515438\n",
      "Name: rougher.output.tail_pb, dtype: float64\n",
      "\n",
      "Feature: rougher.output.tail_ag\n",
      "Type: float64\n",
      "Sample values:\n",
      "0    5.008018\n",
      "1    4.955378\n",
      "2    4.843460\n",
      "3    4.655288\n",
      "4    4.552800\n",
      "Name: rougher.output.tail_ag, dtype: float64\n",
      "\n",
      "Feature: final.output.tail_au\n",
      "Type: float64\n",
      "Sample values:\n",
      "0    2.143149\n",
      "1    2.224930\n",
      "2    2.257889\n",
      "3    2.146849\n",
      "4    2.055292\n",
      "Name: final.output.tail_au, dtype: float64\n",
      "\n",
      "Feature: rougher.output.concentrate_ag\n",
      "Type: float64\n",
      "Sample values:\n",
      "0    11.500771\n",
      "1    11.615865\n",
      "2    11.695753\n",
      "3    11.915047\n",
      "4    12.411054\n",
      "Name: rougher.output.concentrate_ag, dtype: float64\n",
      "\n",
      "Feature: rougher.output.concentrate_sol\n",
      "Type: float64\n",
      "Sample values:\n",
      "0    28.029297\n",
      "1    28.067063\n",
      "2    27.454037\n",
      "3    27.341277\n",
      "4    27.041023\n",
      "Name: rougher.output.concentrate_sol, dtype: float64\n",
      "\n",
      "Feature: secondary_cleaner.output.tail_pb\n",
      "Type: float64\n",
      "Sample values:\n",
      "0    4.694824\n",
      "1    4.592547\n",
      "2    4.624775\n",
      "3    4.482453\n",
      "4    4.470737\n",
      "Name: secondary_cleaner.output.tail_pb, dtype: float64\n",
      "\n",
      "Feature: secondary_cleaner.output.tail_sol\n",
      "Type: float64\n",
      "Sample values:\n",
      "0    8.764648\n",
      "1    9.001494\n",
      "2    8.842896\n",
      "3    9.122857\n",
      "4    8.871028\n",
      "Name: secondary_cleaner.output.tail_sol, dtype: float64\n"
     ]
    }
   ],
   "source": [
    "# Step 1.3: Analyze features not available in the test dataset\n",
    "\n",
    "# Get columns from training and test datasets\n",
    "train_columns = set(gold_recovery_train.columns)\n",
    "test_columns = set(gold_recovery_test.columns)\n",
    "\n",
    "# Identify features present in the training set but absent in the test set\n",
    "missing_features = train_columns - test_columns\n",
    "\n",
    "print(\"\\n--- Features in the Training Set but Not in the Test Set ---\")\n",
    "print(f\"Number of features missing from the test set: {len(missing_features)}\")\n",
    "\n",
    "# Categorize missing features\n",
    "target_features = {'rougher.output.recovery', 'final.output.recovery'}\n",
    "intermediate_features = {col for col in missing_features if 'output' in col}\n",
    "calculated_features = {col for col in missing_features if 'calculation' in col}\n",
    "\n",
    "# Output categorized results\n",
    "print(\"\\nCategorized Missing Features:\")\n",
    "print(f\"Target Features ({len(target_features)}): {target_features}\")\n",
    "print(f\"Intermediate Process Features ({len(intermediate_features)}): {intermediate_features}\")\n",
    "print(f\"Calculated Features ({len(calculated_features)}): {calculated_features}\")\n",
    "\n",
    "# Analyze each missing feature\n",
    "print(\"\\n--- Analysis of Missing Features ---\")\n",
    "for feature in missing_features:\n",
    "    print(f\"\\nFeature: {feature}\")\n",
    "    print(f\"Type: {gold_recovery_train[feature].dtype}\")\n",
    "    print(f\"Sample values:\\n{gold_recovery_train[feature].head()}\")"
   ]
  },
  {
   "cell_type": "markdown",
   "metadata": {},
   "source": [
    "Analysis of Step 1.3 Results\n",
    "\n",
    "- Features in Training but Not in Test Set:\n",
    "    - A total of 36 features are present in the training dataset but absent in the test dataset.\n",
    "    - These features primarily fall into the following categories:\n",
    "        - Output Features: These describe the output characteristics of different stages in the process (e.g., final.output.concentrate_pb, rougher.output.concentrate_ag).\n",
    "        - Calculation Features: These are derived metrics or ratios, such as rougher.calculation.au_pb_ratio and rougher.calculation.floatbank10_sulfate_to_au_feed.\n",
    "        - Intermediate Features: These include metrics for intermediate stages (e.g., primary_cleaner.output.concentrate_sol).\n",
    "        \n",
    "- Characteristics of Missing Features:\n",
    "    - All missing features are of type float64, indicating they are numeric.\n",
    "    - These features are related to either intermediate stages of the process or the final outputs. They are likely excluded from the test set as they are either target variables or derived features not required for real-time predictions.\n",
    "    \n",
    "- Key Observations:\n",
    "    - Many of the features missing from the test dataset include target variables such as rougher.output.recovery and final.output.recovery.\n",
    "    - Derived calculation features like rougher.calculation.sulfate_to_au_concentrate are only used for analytical purposes and not for prediction.\n",
    "    - Understanding which features are not available in the test dataset ensures that preprocessing steps do not mistakenly rely on these features for model training."
   ]
  },
  {
   "cell_type": "code",
   "execution_count": 7,
   "metadata": {
    "trusted": true
   },
   "outputs": [
    {
     "name": "stdout",
     "output_type": "stream",
     "text": [
      "\n",
      "Missing Values Before Processing:\n",
      "Train Set: 30320 missing values\n",
      "Test Set: 2360 missing values\n",
      "Full Set: 36587 missing values\n",
      "\n",
      "Dropping rows where target variables are missing...\n",
      "\n",
      "Filling missing values with the median...\n",
      "\n",
      "hecking for Duplicates Before Processing:\n",
      "Train Set: 0 duplicates\n",
      "Test Set: 0 duplicates\n",
      "Full Set: 0 duplicates\n",
      "\n",
      "Missing Values After Processing:\n",
      "Train Set: 0 missing values\n",
      "Test Set: 0 missing values\n",
      "Full Set: 0 missing values\n"
     ]
    }
   ],
   "source": [
    "# Step 1.4: Data Processing\n",
    "\n",
    "# Preserve original copies before modification\n",
    "gold_recovery_train_cleaned = gold_recovery_train.copy()\n",
    "gold_recovery_test_cleaned = gold_recovery_test.copy()\n",
    "gold_recovery_full_cleaned = gold_recovery_full.copy()\n",
    "\n",
    "# Convert 'date' column to datetime\n",
    "gold_recovery_train_cleaned['date'] = pd.to_datetime(gold_recovery_train_cleaned['date'])\n",
    "gold_recovery_test_cleaned['date'] = pd.to_datetime(gold_recovery_test_cleaned['date'])\n",
    "gold_recovery_full_cleaned['date'] = pd.to_datetime(gold_recovery_full_cleaned['date'])\n",
    "\n",
    "# Check for missing values BEFORE processing\n",
    "print(\"\\nMissing Values Before Processing:\")\n",
    "print(\"Train Set:\", gold_recovery_train_cleaned.isna().sum().sum(), \"missing values\")\n",
    "print(\"Test Set:\", gold_recovery_test_cleaned.isna().sum().sum(), \"missing values\")\n",
    "print(\"Full Set:\", gold_recovery_full_cleaned.isna().sum().sum(), \"missing values\")\n",
    "\n",
    "# Drop rows where the target is missing\n",
    "print(\"\\nDropping rows where target variables are missing...\")\n",
    "gold_recovery_train_cleaned = gold_recovery_train_cleaned.dropna(\n",
    "    subset=['rougher.output.recovery', 'final.output.recovery']\n",
    ")\n",
    "\n",
    "# Replace missing values in numerical features with the median\n",
    "print(\"\\nFilling missing values with the median...\")\n",
    "numerical_features = gold_recovery_train_cleaned.select_dtypes(include=['float64', 'int64']).columns\n",
    "gold_recovery_train_cleaned[numerical_features] = gold_recovery_train_cleaned[numerical_features].fillna(\n",
    "    gold_recovery_train_cleaned[numerical_features].median()\n",
    ")\n",
    "gold_recovery_test_cleaned = gold_recovery_test_cleaned.fillna(gold_recovery_test_cleaned.median())\n",
    "gold_recovery_full_cleaned = gold_recovery_full_cleaned.fillna(gold_recovery_full_cleaned.median())\n",
    "\n",
    "# Check & Remove Duplicates\n",
    "print(\"\\nhecking for Duplicates Before Processing:\")\n",
    "print(\"Train Set:\", gold_recovery_train_cleaned.duplicated().sum(), \"duplicates\")\n",
    "print(\"Test Set:\", gold_recovery_test_cleaned.duplicated().sum(), \"duplicates\")\n",
    "print(\"Full Set:\", gold_recovery_full_cleaned.duplicated().sum(), \"duplicates\")\n",
    "\n",
    "gold_recovery_train_cleaned = gold_recovery_train_cleaned.drop_duplicates()\n",
    "gold_recovery_test_cleaned = gold_recovery_test_cleaned.drop_duplicates()\n",
    "gold_recovery_full_cleaned = gold_recovery_full_cleaned.drop_duplicates()\n",
    "\n",
    "# Final check for missing values AFTER processing\n",
    "print(\"\\nMissing Values After Processing:\")\n",
    "print(\"Train Set:\", gold_recovery_train_cleaned.isna().sum().sum(), \"missing values\")\n",
    "print(\"Test Set:\", gold_recovery_test_cleaned.isna().sum().sum(), \"missing values\")\n",
    "print(\"Full Set:\", gold_recovery_full_cleaned.isna().sum().sum(), \"missing values\")"
   ]
  },
  {
   "cell_type": "markdown",
   "metadata": {},
   "source": [
    "Column Preservation:\n",
    "\n",
    "- The original training dataset (original_train) retains all 87 columns, including features not present in the test dataset. This ensures no critical information is lost.\n",
    "- The aligned training dataset (aligned_train) has 55 columns, aligning with the test dataset while retaining the target columns (rougher.output.recovery and final.output.recovery).\n",
    "\n",
    "Missing Values:\n",
    "\n",
    "- Missing values have been handled successfully, with 0 missing values in all datasets (aligned_train, aligned_test, aligned_full).\n",
    "\n",
    "Column Alignment:\n",
    "\n",
    "- The test and full datasets are aligned with the same set of columns, ensuring compatibility for modeling and evaluation.\n",
    "\n",
    "Target Column Check:\n",
    "\n",
    "- The output confirms that both target columns (rougher.output.recovery and final.output.recovery) are present in the aligned training dataset."
   ]
  },
  {
   "cell_type": "code",
   "execution_count": 8,
   "metadata": {
    "trusted": true
   },
   "outputs": [
    {
     "name": "stdout",
     "output_type": "stream",
     "text": [
      "Rougher Stage: Gold (Au)\n"
     ]
    },
    {
     "data": {
      "image/png": "[encoded data removed]",
      "text/plain": [
       "<Figure size 1000x600 with 1 Axes>"
      ]
     },
     "metadata": {},
     "output_type": "display_data"
    },
    {
     "name": "stdout",
     "output_type": "stream",
     "text": [
      "Rougher Stage: Silver (Ag)\n"
     ]
    },
    {
     "data": {
      "image/png": "[encoded data removed]",
      "text/plain": [
       "<Figure size 1000x600 with 1 Axes>"
      ]
     },
     "metadata": {},
     "output_type": "display_data"
    },
    {
     "name": "stdout",
     "output_type": "stream",
     "text": [
      "Rougher Stage: Lead (Pb)\n"
     ]
    },
    {
     "data": {
      "image/png": "[encoded data removed]",
      "text/plain": [
       "<Figure size 1000x600 with 1 Axes>"
      ]
     },
     "metadata": {},
     "output_type": "display_data"
    }
   ],
   "source": [
    "# Step 2.1\n",
    "\n",
    "# Function to plot metal concentrations with better distinction\n",
    "def plot_metal_concentration(data, stage, metal, title):\n",
    "    \"\"\"\n",
    "    Plot distributions of feed, concentrate, and tail for a specific metal in a processing stage.\n",
    "    \"\"\"\n",
    "    # Column names\n",
    "    feed_col = f\"{stage}.input.feed_{metal}\"\n",
    "    concentrate_col = f\"{stage}.output.concentrate_{metal}\"\n",
    "    tail_col = f\"{stage}.output.tail_{metal}\"\n",
    "    \n",
    "    # Set distinct colors for each data type\n",
    "    colors = {\"feed\": \"blue\", \"concentrate\": \"green\", \"tail\": \"red\"}\n",
    "    \n",
    "    # Plot the data\n",
    "    plt.figure(figsize=(10, 6))\n",
    "    sns.histplot(data[feed_col], kde=True, label=f\"Feed ({feed_col})\", color=colors[\"feed\"], alpha=0.6)\n",
    "    sns.histplot(data[concentrate_col], kde=True, label=f\"Concentrate ({concentrate_col})\", color=colors[\"concentrate\"], alpha=0.6)\n",
    "    sns.histplot(data[tail_col], kde=True, label=f\"Tail ({tail_col})\", color=colors[\"tail\"], alpha=0.6)\n",
    "\n",
    "    # Configure plot aesthetics\n",
    "    plt.title(f\"{title}: {metal.upper()} Concentrations\")\n",
    "    plt.xlabel(f\"{metal.upper()} Concentration\")\n",
    "    plt.ylabel(\"Frequency\")\n",
    "    plt.legend(loc=\"upper right\")\n",
    "    plt.grid(axis=\"y\", linestyle=\"--\", alpha=0.7)\n",
    "    plt.show()\n",
    "\n",
    "# Plot metal concentrations for Rougher stage using available columns\n",
    "print(\"Rougher Stage: Gold (Au)\")\n",
    "plot_metal_concentration(gold_recovery_train, \"rougher\", \"au\", \"Rougher\")\n",
    "\n",
    "print(\"Rougher Stage: Silver (Ag)\")\n",
    "plot_metal_concentration(gold_recovery_train, \"rougher\", \"ag\", \"Rougher\")\n",
    "\n",
    "print(\"Rougher Stage: Lead (Pb)\")\n",
    "plot_metal_concentration(gold_recovery_train, \"rougher\", \"pb\", \"Rougher\")"
   ]
  },
  {
   "cell_type": "markdown",
   "metadata": {},
   "source": [
    "Rougher Stage: Gold (Au)\n",
    "- Feed Distribution:\n",
    "    - The feed concentration shows a bimodal distribution with two distinct peaks around 1.5 and 2.5.\n",
    "    - This indicates variability in the quality of gold ore being fed into the rougher stage.\n",
    "\n",
    "- Concentrate Distribution:\n",
    "    - The concentrate distribution is unimodal and centered around 7. This peak indicates the gold has been successfully concentrated during the flotation process.\n",
    "    - The sharp peak and distribution width suggest consistent efficiency in separating gold in this stage.\n",
    "\n",
    "- Tail Distribution:\n",
    "    - The tail concentration is tightly distributed around 2. This low value indicates effective separation, leaving minimal gold in the waste material.\n",
    "\n",
    "- Observation:\n",
    "    - The process is efficient, as there is a clear separation between the feed and concentrate distributions. The low gold content in the tail supports this conclusion.\n",
    "    \n",
    "Rougher Stage: Silver (Ag)\n",
    "- Feed Distribution:\n",
    "    - The feed distribution for silver is highly skewed, with a large concentration around 6 to 8 and a significant spike close to zero.\n",
    "    - This skewness indicates occasional low-quality silver ore in the feed, which might affect downstream efficiency.\n",
    "\n",
    "- Concentrate Distribution:\n",
    "    - The concentrate distribution shows a peak around 9, with a broader spread compared to gold. This spread suggests varying efficiency in silver concentration.\n",
    "\n",
    "- Tail Distribution:\n",
    "    - The tail distribution overlaps with the feed and concentrate distributions, peaking around 6-7.\n",
    "    - This overlap indicates that a considerable amount of silver remains in the tail, suggesting lower separation efficiency compared to gold.\n",
    "\n",
    "- Observation:\n",
    "    - While the separation process for silver is functional, the significant overlap between the tail and feed/concentrate distributions suggests room for improvement in silver recovery efficiency.\n",
    "\n",
    "Rougher Stage: Lead (Pb)\n",
    "- Feed Distribution:\n",
    "    - The feed distribution for lead is centered around 3, with a sharp peak indicating consistent ore quality in the feed material.\n",
    "- Concentrate Distribution:\n",
    "    - The concentrate distribution shows a peak around 4, slightly shifted from the feed distribution. However, the overlap between the feed and concentrate distributions is significant.\n",
    "- Tail Distribution:\n",
    "    - The tail distribution overlaps with both the feed and concentrate distributions and peaks around 3. This indicates that a large portion of lead is not effectively separated during the flotation process.\n",
    "- Observation:\n",
    "    - The separation efficiency for lead appears to be lower than for gold and silver, as there is less distinction between the feed, concentrate, and tail distributions. This may require adjustments in the flotation parameters or reagents."
   ]
  },
  {
   "cell_type": "code",
   "execution_count": 9,
   "metadata": {
    "trusted": true
   },
   "outputs": [
    {
     "data": {
      "image/png": "[encoded data removed]",
      "text/plain": [
       "<Figure size 1000x600 with 1 Axes>"
      ]
     },
     "metadata": {},
     "output_type": "display_data"
    }
   ],
   "source": [
    "# Step 2.2 - Compare Feed Particle Size Distributions Using Density\n",
    "\n",
    "def remove_outliers(data, column, lower_quantile=0.01, upper_quantile=0.99):\n",
    "    \"\"\"\n",
    "    Remove outliers based on specified quantile thresholds.\n",
    "    \"\"\"\n",
    "    lower_bound = data[column].quantile(lower_quantile)\n",
    "    upper_bound = data[column].quantile(upper_quantile)\n",
    "    return data[(data[column] >= lower_bound) & (data[column] <= upper_bound)]\n",
    "\n",
    "# Remove outliers from training and test datasets\n",
    "gold_recovery_train = remove_outliers(gold_recovery_train, \"rougher.input.feed_size\")\n",
    "gold_recovery_test = remove_outliers(gold_recovery_test, \"rougher.input.feed_size\")\n",
    "\n",
    "# Function to plot and compare particle size distributions using density\n",
    "def compare_feed_particle_size_density(train_data, test_data, column, title):\n",
    "    \"\"\"\n",
    "    Compare feed particle size distributions in training and test datasets using density.\n",
    "    \"\"\"\n",
    "    plt.figure(figsize=(10, 6))\n",
    "    \n",
    "    # Plot training data density\n",
    "    sns.kdeplot(train_data[column], label=\"Training Set\", color=\"blue\", linewidth=2)\n",
    "    \n",
    "    # Plot test data density\n",
    "    sns.kdeplot(test_data[column], label=\"Test Set\", color=\"orange\", linewidth=2)\n",
    "    \n",
    "    # Add vertical lines for means\n",
    "    plt.axvline(train_data[column].mean(), color=\"blue\", linestyle=\"--\", label=\"Training Mean\")\n",
    "    plt.axvline(test_data[column].mean(), color=\"orange\", linestyle=\"--\", label=\"Test Mean\")\n",
    "    \n",
    "    # Add labels, legend, and grid\n",
    "    plt.title(f\"{title}: Feed Particle Size Density Comparison\")\n",
    "    plt.xlabel(\"Feed Particle Size\")\n",
    "    plt.ylabel(\"Density\")\n",
    "    plt.legend(loc=\"upper right\")\n",
    "    plt.grid(axis=\"y\", linestyle=\"--\", alpha=0.7)\n",
    "    plt.show()\n",
    "\n",
    "# Compare feed particle size for rougher stage using density\n",
    "compare_feed_particle_size_density(\n",
    "    gold_recovery_train, \n",
    "    gold_recovery_test, \n",
    "    column=\"rougher.input.feed_size\", \n",
    "    title=\"Rougher Stage\"\n",
    ")"
   ]
  },
  {
   "cell_type": "markdown",
   "metadata": {},
   "source": [
    "Overall Distribution Shape:\n",
    "\n",
    "- The density distributions for the training set (blue line) and test set (orange line) are similar in shape, with a sharp peak for the test set around 45 micrometers and for the training set slightly higher at around 55 micrometers.\n",
    "- Both distributions taper off beyond 80 micrometers, with negligible densities past 100 micrometers.\n",
    "- The updated graph shows a more detailed distinction between the training and test distributions, particularly in the lower ranges of feed particle sizes.\n",
    "\n",
    "Alignment Between Training and Test Sets:\n",
    "\n",
    "- The distributions overlap substantially, but the test set shows a slightly higher concentration of smaller particle sizes (closer to 45 micrometers) compared to the training set.\n",
    "- The mean feed particle sizes are now clearly marked with dashed lines, showing a small difference between the training and test sets, which provides additional insight into the alignment between the two datasets.\n",
    "\n",
    "Outliers:\n",
    "\n",
    "- The distributions beyond 100 micrometers have very low densities, indicating minimal presence of larger particle sizes in both datasets.\n",
    "- The removal of extreme outliers during preprocessing has improved the clarity of the density graph.\n",
    "\n",
    "Conclusion:\n",
    "\n",
    "- The overall similarity between the training and test distributions confirms that the rougher.input.feed_size feature is consistent and representative between the two datasets.\n",
    "- Although there is a minor shift in the peak and mean values, these differences are unlikely to significantly impact the model evaluation.\n",
    "- No additional preprocessing for this feature is required, and the model can utilize this feature confidently without concern for significant distributional differences."
   ]
  },
  {
   "cell_type": "code",
   "execution_count": 10,
   "metadata": {
    "trusted": true
   },
   "outputs": [
    {
     "data": {
      "image/png": "[encoded data removed]",
      "text/plain": [
       "<Figure size 1000x600 with 1 Axes>"
      ]
     },
     "metadata": {},
     "output_type": "display_data"
    },
    {
     "name": "stdout",
     "output_type": "stream",
     "text": [
      "Original data shape: (14149, 90)\n",
      "Cleaned data shape: (14149, 90)\n"
     ]
    },
    {
     "data": {
      "image/png": "[encoded data removed]",
      "text/plain": [
       "<Figure size 1000x600 with 1 Axes>"
      ]
     },
     "metadata": {},
     "output_type": "display_data"
    }
   ],
   "source": [
    "# Step 2.3 - Analyze Total Concentrations and Remove Anomalies\n",
    "\n",
    "required_columns = [\n",
    "    \"rougher.input.feed_au\", \"rougher.input.feed_ag\", \"rougher.input.feed_pb\",\n",
    "    \"rougher.output.concentrate_au\", \"rougher.output.concentrate_ag\", \"rougher.output.concentrate_pb\"\n",
    "]\n",
    "\n",
    "# Check for missing columns\n",
    "missing_columns = [col for col in required_columns if col not in gold_recovery_train_cleaned.columns]\n",
    "if missing_columns:\n",
    "    print(f\"Missing columns in the dataset: {missing_columns}. Ensure they are added before proceeding.\")\n",
    "else:\n",
    "    # Calculate total concentrations for raw feed, rougher concentrate, and final concentrate\n",
    "    gold_recovery_train_cleaned[\"total_raw_feed\"] = (\n",
    "        gold_recovery_train_cleaned[\"rougher.input.feed_au\"] +\n",
    "        gold_recovery_train_cleaned[\"rougher.input.feed_ag\"] +\n",
    "        gold_recovery_train_cleaned[\"rougher.input.feed_pb\"]\n",
    "    )\n",
    "\n",
    "    gold_recovery_train_cleaned[\"total_rougher_concentrate\"] = (\n",
    "        gold_recovery_train_cleaned[\"rougher.output.concentrate_au\"] +\n",
    "        gold_recovery_train_cleaned[\"rougher.output.concentrate_ag\"] +\n",
    "        gold_recovery_train_cleaned[\"rougher.output.concentrate_pb\"]\n",
    "    )\n",
    "\n",
    "    if {\"final.output.concentrate_au\", \"final.output.concentrate_ag\", \"final.output.concentrate_pb\"}.issubset(\n",
    "        gold_recovery_train_cleaned.columns\n",
    "    ):\n",
    "        gold_recovery_train_cleaned[\"total_final_concentrate\"] = (\n",
    "            gold_recovery_train_cleaned[\"final.output.concentrate_au\"] +\n",
    "            gold_recovery_train_cleaned[\"final.output.concentrate_ag\"] +\n",
    "            gold_recovery_train_cleaned[\"final.output.concentrate_pb\"]\n",
    "        )\n",
    "    else:\n",
    "        print(\"Final concentrate columns are missing. Skipping final concentrate calculations.\")\n",
    "\n",
    "    # Function to plot distributions\n",
    "    def plot_concentration_stages(data, stages, title):\n",
    "        plt.figure(figsize=(10, 6))\n",
    "        for stage, label, color in stages:\n",
    "            sns.histplot(data[stage], kde=True, label=label, color=color, alpha=0.7)\n",
    "        plt.title(title)\n",
    "        plt.xlabel(\"Total Concentration\")\n",
    "        plt.ylabel(\"Frequency\")\n",
    "        plt.legend(loc=\"upper right\")\n",
    "        plt.grid(axis=\"y\", linestyle=\"--\", alpha=0.7)\n",
    "        plt.show()\n",
    "\n",
    "    # Define stages to plot\n",
    "    stages_to_plot = [\n",
    "        (\"total_raw_feed\", \"Raw Feed\", \"blue\"),\n",
    "        (\"total_rougher_concentrate\", \"Rougher Concentrate\", \"green\"),\n",
    "    ]\n",
    "    if \"total_final_concentrate\" in gold_recovery_train_cleaned.columns:\n",
    "        stages_to_plot.append((\"total_final_concentrate\", \"Final Concentrate\", \"red\"))\n",
    "\n",
    "    plot_concentration_stages(gold_recovery_train_cleaned, stages_to_plot, \"Total Concentration Distributions: All Stages\")\n",
    "\n",
    "    # Identify and remove anomalies (zero concentration values)\n",
    "    original_shape = gold_recovery_train_cleaned.shape\n",
    "    conditions = (\n",
    "        (gold_recovery_train_cleaned[\"total_raw_feed\"] > 0) & \n",
    "        (gold_recovery_train_cleaned[\"total_rougher_concentrate\"] > 0)\n",
    "    )\n",
    "    if \"total_final_concentrate\" in gold_recovery_train_cleaned.columns:\n",
    "        conditions &= (gold_recovery_train_cleaned[\"total_final_concentrate\"] > 0)\n",
    "\n",
    "    gold_recovery_train_clean = gold_recovery_train_cleaned[conditions].copy()\n",
    "    cleaned_shape = gold_recovery_train_cleaned.shape\n",
    "\n",
    "    # Print dataset shapes before and after cleaning\n",
    "    print(f\"Original data shape: {original_shape}\")\n",
    "    print(f\"Cleaned data shape: {cleaned_shape}\")\n",
    "\n",
    "    # Plot distributions after cleaning\n",
    "    plot_concentration_stages(gold_recovery_train_clean, stages_to_plot, \"Total Concentration Distributions: After Removing Anomalies\")"
   ]
  },
  {
   "cell_type": "markdown",
   "metadata": {},
   "source": [
    "Total Concentration Distributions (All Stages)\n",
    "\n",
    "Overall Shape and Patterns:\n",
    "\n",
    "- The \"Raw Feed\" stage shows a bimodal distribution, with one peak at very low total concentrations (near zero) and another peak around 20.\n",
    "- The \"Rougher Concentrate\" distribution is unimodal, with a peak near 20 and tapering off as concentrations increase.\n",
    "- The \"Final Concentrate\" distribution is tightly concentrated around a high value, with a sharp peak near 60.\n",
    "\n",
    "Consistency Across Stages:\n",
    "\n",
    "- The total concentrations in the rougher and final concentrate stages are more concentrated and stable compared to the raw feed stage.\n",
    "- A significant number of raw feed observations have total concentrations close to zero, which may indicate anomalies or measurement issues.\n",
    "\n",
    "Observations of Anomalies:\n",
    "\n",
    "- The distribution shows extreme values at the low end (total concentration near 0) and outliers at the high end (above 60 for the final stage).\n",
    "- These anomalies could skew model performance if left unaddressed.\n",
    "\n",
    "\n",
    "Total Concentration Distributions (After Removing Anomalies)\n",
    "\n",
    "Improved Distribution:\n",
    "\n",
    "- After removing anomalies, the distributions across all stages are more refined and centered.\n",
    "- The \"Raw Feed\" stage is now less dominated by extreme low values, and the distribution peak around 20 is more evident.\n",
    "- The \"Rougher Concentrate\" distribution remains centered near 20, with fewer outliers.\n",
    "- The \"Final Concentrate\" distribution has shifted to focus on the range below 30, eliminating extreme high values.\n",
    "\n",
    "Comparison to Pre-Cleaning:\n",
    "\n",
    "- The extreme low and high concentrations observed in the raw feed and final concentrate stages have been effectively removed.\n",
    "- The cleaned distributions are more realistic and represent the underlying processes better, with less noise from anomalies.\n",
    "\n",
    "Impact of Cleaning:\n",
    "\n",
    "- The removal of anomalous data has drastically reduced the influence of outliers, ensuring that the cleaned data is more suitable for modeling and analysis.\n",
    "- The cleaned dataset aligns with expected behavior across stages, with progressive concentration through the purification process.\n",
    "\n",
    "Conclusions:\n",
    "\n",
    "- The cleaning process effectively addressed anomalies, ensuring the data distributions reflect realistic values.\n",
    "- Removing extreme values enhances the quality of the dataset, reducing the risk of skewing model predictions or overfitting.\n",
    "- The cleaned distributions for raw feed, rougher concentrate, and final concentrate provide a clear representation of the metal concentration processes, making the data ready for further analysis."
   ]
  },
  {
   "cell_type": "code",
   "execution_count": 11,
   "metadata": {
    "trusted": true
   },
   "outputs": [],
   "source": [
    "# Step 3.1: Define total sMAPE function\n",
    "\n",
    "def smape_scorer(target, predictions):\n",
    "    smape = ((1 / len(target)) * (abs(target - predictions) / ((abs(target) + abs(predictions)) / 2))).sum() * 100\n",
    "    return smape\n",
    "\n",
    "# Step 3.1: Define total sMAPE calculation\n",
    "def total_smape(smape_rougher, smape_final):\n",
    "    return 0.25 * smape_rougher + 0.75 * smape_final"
   ]
  },
  {
   "cell_type": "code",
   "execution_count": 12,
   "metadata": {
    "trusted": true
   },
   "outputs": [
    {
     "name": "stdout",
     "output_type": "stream",
     "text": [
      "Updated Features train shape: (14149, 52)\n",
      "Updated Features test shape: (5856, 52)\n"
     ]
    }
   ],
   "source": [
    "# Step 3.2: Prepare Training Dataset\n",
    "features_train = gold_recovery_train_cleaned.drop(['date', 'rougher.output.recovery', 'final.output.recovery'], axis=1)\n",
    "target_rougher_train = gold_recovery_train_cleaned['rougher.output.recovery']\n",
    "target_final_train = gold_recovery_train_cleaned['final.output.recovery']\n",
    "\n",
    "# Prepare Test Dataset\n",
    "features_test = gold_recovery_test_cleaned.drop(['date'], axis=1)\n",
    "\n",
    "# Ensure both datasets have the same features\n",
    "common_columns = list(set(features_train.columns) & set(features_test.columns))\n",
    "features_train = features_train[common_columns]\n",
    "features_test = features_test[common_columns]\n",
    "\n",
    "# Standardize features\n",
    "scaler = StandardScaler()\n",
    "features_train = pd.DataFrame(scaler.fit_transform(features_train), columns=common_columns, index=features_train.index)\n",
    "features_test = pd.DataFrame(scaler.transform(features_test), columns=common_columns, index=features_test.index)\n",
    "\n",
    "print('Updated Features train shape:', features_train.shape)\n",
    "print('Updated Features test shape:', features_test.shape)"
   ]
  },
  {
   "cell_type": "code",
   "execution_count": 13,
   "metadata": {
    "trusted": true
   },
   "outputs": [
    {
     "name": "stdout",
     "output_type": "stream",
     "text": [
      "\n",
      "Model Evaluation Results:\n"
     ]
    },
    {
     "data": {
      "text/html": [
       "<div>\n",
       "<style scoped>\n",
       "    .dataframe tbody tr th:only-of-type {\n",
       "        vertical-align: middle;\n",
       "    }\n",
       "\n",
       "    .dataframe tbody tr th {\n",
       "        vertical-align: top;\n",
       "    }\n",
       "\n",
       "    .dataframe thead th {\n",
       "        text-align: right;\n",
       "    }\n",
       "</style>\n",
       "<table border=\"1\" class=\"dataframe\">\n",
       "  <thead>\n",
       "    <tr style=\"text-align: right;\">\n",
       "      <th></th>\n",
       "      <th>Model</th>\n",
       "      <th>sMAPE Rougher</th>\n",
       "      <th>sMAPE Final</th>\n",
       "      <th>Total sMAPE</th>\n",
       "    </tr>\n",
       "  </thead>\n",
       "  <tbody>\n",
       "    <tr>\n",
       "      <th>0</th>\n",
       "      <td>Decision Tree</td>\n",
       "      <td>-23.694799</td>\n",
       "      <td>-19.360580</td>\n",
       "      <td>-20.444135</td>\n",
       "    </tr>\n",
       "    <tr>\n",
       "      <th>1</th>\n",
       "      <td>Linear Regression</td>\n",
       "      <td>-12.532003</td>\n",
       "      <td>-12.698442</td>\n",
       "      <td>-12.656832</td>\n",
       "    </tr>\n",
       "    <tr>\n",
       "      <th>2</th>\n",
       "      <td>Random Forest</td>\n",
       "      <td>-13.927271</td>\n",
       "      <td>-11.487731</td>\n",
       "      <td>-12.097616</td>\n",
       "    </tr>\n",
       "  </tbody>\n",
       "</table>\n",
       "</div>"
      ],
      "text/plain": [
       "               Model  sMAPE Rougher  sMAPE Final  Total sMAPE\n",
       "0      Decision Tree     -23.694799   -19.360580   -20.444135\n",
       "1  Linear Regression     -12.532003   -12.698442   -12.656832\n",
       "2      Random Forest     -13.927271   -11.487731   -12.097616"
      ]
     },
     "metadata": {},
     "output_type": "display_data"
    }
   ],
   "source": [
    "# Step 3.2: Model Training with Cross-Validation\n",
    "random_state = 123\n",
    "cv = 5\n",
    "\n",
    "def train_model(model, features, target):\n",
    "    scorer = make_scorer(smape_scorer, greater_is_better=False)\n",
    "    return cross_val_score(model, features, target, cv=cv, scoring=scorer).mean()\n",
    "\n",
    "# Train Decision Tree, Linear Regression, and Random Forest models\n",
    "models = {\n",
    "    \"Decision Tree\": DecisionTreeRegressor(random_state=random_state),\n",
    "    \"Linear Regression\": LinearRegression(),\n",
    "    \"Random Forest\": RandomForestRegressor(random_state=random_state)\n",
    "}\n",
    "\n",
    "results = []\n",
    "for model_name, model in models.items():\n",
    "    score_rougher = train_model(model, features_train, target_rougher_train)\n",
    "    score_final = train_model(model, features_train, target_final_train)\n",
    "    smape_final = total_smape(score_rougher, score_final)\n",
    "    results.append({'Model': model_name, 'sMAPE Rougher': score_rougher, 'sMAPE Final': score_final, 'Total sMAPE': smape_final})\n",
    "\n",
    "# Convert results to DataFrame and display\n",
    "results_df = pd.DataFrame(results)\n",
    "print(\"\\nModel Evaluation Results:\")\n",
    "display(results_df.sort_values(by='Total sMAPE'))"
   ]
  },
  {
   "cell_type": "markdown",
   "metadata": {},
   "source": [
    "Key Observations:\n",
    "\n",
    "- Decision Tree\n",
    "    - Had the lowest rougher-stage sMAPE (-23.69), but its final-stage sMAPE (-18.23) was significantly higher than Random Forest and Linear Regression, making it less reliable overall.\n",
    "    - Performed well in the rougher recovery stage but had a significantly higher final-stage error.\n",
    "    - This suggests that Decision Trees struggle with complex relationships in later processing stages, where more sophisticated models like Random Forest are better suited.   \n",
    "\n",
    "- Linear Regression \n",
    "    - Had the highest sMAPE in both stages (-12.53 Rougher, -12.70 Final), leading to the worst overall performance.\n",
    "    - This suggests that the relationships between features and target variables are likely nonlinear, making Linear Regression unsuitable.\n",
    "\n",
    "- Random Forest \n",
    "    - Achieved the lowest Total sMAPE (-12.06), making it the best-performing model.\n",
    "    - It performed better than Decision Tree in the final recovery stage.\n",
    "    - It also outperformed Linear Regression across both stages.\n",
    "    - Random Forest’s overall lower error suggests it generalizes better to both processing stages.\n",
    "     - Its ability to capture nonlinear relationships makes it more effective for this type of data."
   ]
  },
  {
   "cell_type": "code",
   "execution_count": 14,
   "metadata": {
    "trusted": true
   },
   "outputs": [
    {
     "data": {
      "text/html": [
       "<style  type=\"text/css\" >\n",
       "#T_6f475_row19_col2{\n",
       "            background-color:  lightgreen;\n",
       "        }</style><table id=\"T_6f475_\" ><thead>    <tr>        <th class=\"blank level0\" ></th>        <th class=\"col_heading level0 col0\" >model name</th>        <th class=\"col_heading level0 col1\" >Hyperparameters</th>        <th class=\"col_heading level0 col2\" >smape_final_result</th>    </tr></thead><tbody>\n",
       "                <tr>\n",
       "                        <th id=\"T_6f475_level0_row0\" class=\"row_heading level0 row0\" >0</th>\n",
       "                        <td id=\"T_6f475_row0_col0\" class=\"data row0 col0\" >RandomForestRegressor</td>\n",
       "                        <td id=\"T_6f475_row0_col1\" class=\"data row0 col1\" >{'random_state': 123, 'n_estimators': 10, 'max_depth': 2}</td>\n",
       "                        <td id=\"T_6f475_row0_col2\" class=\"data row0 col2\" >-10.860448</td>\n",
       "            </tr>\n",
       "            <tr>\n",
       "                        <th id=\"T_6f475_level0_row1\" class=\"row_heading level0 row1\" >1</th>\n",
       "                        <td id=\"T_6f475_row1_col0\" class=\"data row1 col0\" >RandomForestRegressor</td>\n",
       "                        <td id=\"T_6f475_row1_col1\" class=\"data row1 col1\" >{'random_state': 123, 'n_estimators': 15, 'max_depth': 2}</td>\n",
       "                        <td id=\"T_6f475_row1_col2\" class=\"data row1 col2\" >-10.810286</td>\n",
       "            </tr>\n",
       "            <tr>\n",
       "                        <th id=\"T_6f475_level0_row2\" class=\"row_heading level0 row2\" >2</th>\n",
       "                        <td id=\"T_6f475_row2_col0\" class=\"data row2 col0\" >RandomForestRegressor</td>\n",
       "                        <td id=\"T_6f475_row2_col1\" class=\"data row2 col1\" >{'random_state': 123, 'n_estimators': 20, 'max_depth': 2}</td>\n",
       "                        <td id=\"T_6f475_row2_col2\" class=\"data row2 col2\" >-10.828181</td>\n",
       "            </tr>\n",
       "            <tr>\n",
       "                        <th id=\"T_6f475_level0_row3\" class=\"row_heading level0 row3\" >3</th>\n",
       "                        <td id=\"T_6f475_row3_col0\" class=\"data row3 col0\" >RandomForestRegressor</td>\n",
       "                        <td id=\"T_6f475_row3_col1\" class=\"data row3 col1\" >{'random_state': 123, 'n_estimators': 25, 'max_depth': 2}</td>\n",
       "                        <td id=\"T_6f475_row3_col2\" class=\"data row3 col2\" >-10.809422</td>\n",
       "            </tr>\n",
       "            <tr>\n",
       "                        <th id=\"T_6f475_level0_row4\" class=\"row_heading level0 row4\" >4</th>\n",
       "                        <td id=\"T_6f475_row4_col0\" class=\"data row4 col0\" >RandomForestRegressor</td>\n",
       "                        <td id=\"T_6f475_row4_col1\" class=\"data row4 col1\" >{'random_state': 123, 'n_estimators': 30, 'max_depth': 2}</td>\n",
       "                        <td id=\"T_6f475_row4_col2\" class=\"data row4 col2\" >-10.815783</td>\n",
       "            </tr>\n",
       "            <tr>\n",
       "                        <th id=\"T_6f475_level0_row5\" class=\"row_heading level0 row5\" >5</th>\n",
       "                        <td id=\"T_6f475_row5_col0\" class=\"data row5 col0\" >RandomForestRegressor</td>\n",
       "                        <td id=\"T_6f475_row5_col1\" class=\"data row5 col1\" >{'random_state': 123, 'n_estimators': 10, 'max_depth': 3}</td>\n",
       "                        <td id=\"T_6f475_row5_col2\" class=\"data row5 col2\" >-10.712435</td>\n",
       "            </tr>\n",
       "            <tr>\n",
       "                        <th id=\"T_6f475_level0_row6\" class=\"row_heading level0 row6\" >6</th>\n",
       "                        <td id=\"T_6f475_row6_col0\" class=\"data row6 col0\" >RandomForestRegressor</td>\n",
       "                        <td id=\"T_6f475_row6_col1\" class=\"data row6 col1\" >{'random_state': 123, 'n_estimators': 15, 'max_depth': 3}</td>\n",
       "                        <td id=\"T_6f475_row6_col2\" class=\"data row6 col2\" >-10.684486</td>\n",
       "            </tr>\n",
       "            <tr>\n",
       "                        <th id=\"T_6f475_level0_row7\" class=\"row_heading level0 row7\" >7</th>\n",
       "                        <td id=\"T_6f475_row7_col0\" class=\"data row7 col0\" >RandomForestRegressor</td>\n",
       "                        <td id=\"T_6f475_row7_col1\" class=\"data row7 col1\" >{'random_state': 123, 'n_estimators': 20, 'max_depth': 3}</td>\n",
       "                        <td id=\"T_6f475_row7_col2\" class=\"data row7 col2\" >-10.647988</td>\n",
       "            </tr>\n",
       "            <tr>\n",
       "                        <th id=\"T_6f475_level0_row8\" class=\"row_heading level0 row8\" >8</th>\n",
       "                        <td id=\"T_6f475_row8_col0\" class=\"data row8 col0\" >RandomForestRegressor</td>\n",
       "                        <td id=\"T_6f475_row8_col1\" class=\"data row8 col1\" >{'random_state': 123, 'n_estimators': 25, 'max_depth': 3}</td>\n",
       "                        <td id=\"T_6f475_row8_col2\" class=\"data row8 col2\" >-10.640343</td>\n",
       "            </tr>\n",
       "            <tr>\n",
       "                        <th id=\"T_6f475_level0_row9\" class=\"row_heading level0 row9\" >9</th>\n",
       "                        <td id=\"T_6f475_row9_col0\" class=\"data row9 col0\" >RandomForestRegressor</td>\n",
       "                        <td id=\"T_6f475_row9_col1\" class=\"data row9 col1\" >{'random_state': 123, 'n_estimators': 30, 'max_depth': 3}</td>\n",
       "                        <td id=\"T_6f475_row9_col2\" class=\"data row9 col2\" >-10.627886</td>\n",
       "            </tr>\n",
       "            <tr>\n",
       "                        <th id=\"T_6f475_level0_row10\" class=\"row_heading level0 row10\" >10</th>\n",
       "                        <td id=\"T_6f475_row10_col0\" class=\"data row10 col0\" >RandomForestRegressor</td>\n",
       "                        <td id=\"T_6f475_row10_col1\" class=\"data row10 col1\" >{'random_state': 123, 'n_estimators': 10, 'max_depth': 4}</td>\n",
       "                        <td id=\"T_6f475_row10_col2\" class=\"data row10 col2\" >-10.652374</td>\n",
       "            </tr>\n",
       "            <tr>\n",
       "                        <th id=\"T_6f475_level0_row11\" class=\"row_heading level0 row11\" >11</th>\n",
       "                        <td id=\"T_6f475_row11_col0\" class=\"data row11 col0\" >RandomForestRegressor</td>\n",
       "                        <td id=\"T_6f475_row11_col1\" class=\"data row11 col1\" >{'random_state': 123, 'n_estimators': 15, 'max_depth': 4}</td>\n",
       "                        <td id=\"T_6f475_row11_col2\" class=\"data row11 col2\" >-10.633151</td>\n",
       "            </tr>\n",
       "            <tr>\n",
       "                        <th id=\"T_6f475_level0_row12\" class=\"row_heading level0 row12\" >12</th>\n",
       "                        <td id=\"T_6f475_row12_col0\" class=\"data row12 col0\" >RandomForestRegressor</td>\n",
       "                        <td id=\"T_6f475_row12_col1\" class=\"data row12 col1\" >{'random_state': 123, 'n_estimators': 20, 'max_depth': 4}</td>\n",
       "                        <td id=\"T_6f475_row12_col2\" class=\"data row12 col2\" >-10.544355</td>\n",
       "            </tr>\n",
       "            <tr>\n",
       "                        <th id=\"T_6f475_level0_row13\" class=\"row_heading level0 row13\" >13</th>\n",
       "                        <td id=\"T_6f475_row13_col0\" class=\"data row13 col0\" >RandomForestRegressor</td>\n",
       "                        <td id=\"T_6f475_row13_col1\" class=\"data row13 col1\" >{'random_state': 123, 'n_estimators': 25, 'max_depth': 4}</td>\n",
       "                        <td id=\"T_6f475_row13_col2\" class=\"data row13 col2\" >-10.492014</td>\n",
       "            </tr>\n",
       "            <tr>\n",
       "                        <th id=\"T_6f475_level0_row14\" class=\"row_heading level0 row14\" >14</th>\n",
       "                        <td id=\"T_6f475_row14_col0\" class=\"data row14 col0\" >RandomForestRegressor</td>\n",
       "                        <td id=\"T_6f475_row14_col1\" class=\"data row14 col1\" >{'random_state': 123, 'n_estimators': 30, 'max_depth': 4}</td>\n",
       "                        <td id=\"T_6f475_row14_col2\" class=\"data row14 col2\" >-10.475011</td>\n",
       "            </tr>\n",
       "            <tr>\n",
       "                        <th id=\"T_6f475_level0_row15\" class=\"row_heading level0 row15\" >15</th>\n",
       "                        <td id=\"T_6f475_row15_col0\" class=\"data row15 col0\" >RandomForestRegressor</td>\n",
       "                        <td id=\"T_6f475_row15_col1\" class=\"data row15 col1\" >{'random_state': 123, 'n_estimators': 10, 'max_depth': 5}</td>\n",
       "                        <td id=\"T_6f475_row15_col2\" class=\"data row15 col2\" >-10.623460</td>\n",
       "            </tr>\n",
       "            <tr>\n",
       "                        <th id=\"T_6f475_level0_row16\" class=\"row_heading level0 row16\" >16</th>\n",
       "                        <td id=\"T_6f475_row16_col0\" class=\"data row16 col0\" >RandomForestRegressor</td>\n",
       "                        <td id=\"T_6f475_row16_col1\" class=\"data row16 col1\" >{'random_state': 123, 'n_estimators': 15, 'max_depth': 5}</td>\n",
       "                        <td id=\"T_6f475_row16_col2\" class=\"data row16 col2\" >-10.658435</td>\n",
       "            </tr>\n",
       "            <tr>\n",
       "                        <th id=\"T_6f475_level0_row17\" class=\"row_heading level0 row17\" >17</th>\n",
       "                        <td id=\"T_6f475_row17_col0\" class=\"data row17 col0\" >RandomForestRegressor</td>\n",
       "                        <td id=\"T_6f475_row17_col1\" class=\"data row17 col1\" >{'random_state': 123, 'n_estimators': 20, 'max_depth': 5}</td>\n",
       "                        <td id=\"T_6f475_row17_col2\" class=\"data row17 col2\" >-10.523286</td>\n",
       "            </tr>\n",
       "            <tr>\n",
       "                        <th id=\"T_6f475_level0_row18\" class=\"row_heading level0 row18\" >18</th>\n",
       "                        <td id=\"T_6f475_row18_col0\" class=\"data row18 col0\" >RandomForestRegressor</td>\n",
       "                        <td id=\"T_6f475_row18_col1\" class=\"data row18 col1\" >{'random_state': 123, 'n_estimators': 25, 'max_depth': 5}</td>\n",
       "                        <td id=\"T_6f475_row18_col2\" class=\"data row18 col2\" >-10.469653</td>\n",
       "            </tr>\n",
       "            <tr>\n",
       "                        <th id=\"T_6f475_level0_row19\" class=\"row_heading level0 row19\" >19</th>\n",
       "                        <td id=\"T_6f475_row19_col0\" class=\"data row19 col0\" >RandomForestRegressor</td>\n",
       "                        <td id=\"T_6f475_row19_col1\" class=\"data row19 col1\" >{'random_state': 123, 'n_estimators': 30, 'max_depth': 5}</td>\n",
       "                        <td id=\"T_6f475_row19_col2\" class=\"data row19 col2\" >-10.444182</td>\n",
       "            </tr>\n",
       "    </tbody></table>"
      ],
      "text/plain": [
       "<pandas.io.formats.style.Styler at 0x7fcf4051b160>"
      ]
     },
     "execution_count": 14,
     "metadata": {},
     "output_type": "execute_result"
    }
   ],
   "source": [
    "# Step 3.3: Hyperparameter Tuning for Random Forest\n",
    "\n",
    "# Store results\n",
    "results = []\n",
    "\n",
    "# Hyperparameter tuning using loops\n",
    "for depth in range(2, 6):  # Adjusting tree depth\n",
    "    for estimators in range(10, 31, 5):  # Adjusting number of trees\n",
    "        \n",
    "        # Initialize Random Forest model with current hyperparameters\n",
    "        model = RandomForestRegressor(random_state=123, n_estimators=estimators, max_depth=depth)\n",
    "        \n",
    "        # Define custom scorer\n",
    "        scorer = make_scorer(smape_scorer, greater_is_better=False) \n",
    "        \n",
    "        # Perform cross-validation for rougher and final recovery targets\n",
    "        cross_val_score_rougher = cross_val_score(model, features_train, target_rougher_train, cv=5, scoring=scorer).mean()\n",
    "        cross_val_score_final = cross_val_score(model, features_train, target_final_train, cv=5, scoring=scorer).mean()\n",
    "        \n",
    "        # Compute final sMAPE score\n",
    "        smape_final_result = total_smape(cross_val_score_rougher, cross_val_score_final)\n",
    "        \n",
    "        # Store results\n",
    "        results.append({\n",
    "            'model name': model.__class__.__name__,\n",
    "            'Hyperparameters': {'random_state': 123, 'n_estimators': estimators, 'max_depth': depth},\n",
    "            'smape_final_result': smape_final_result\n",
    "        })\n",
    "\n",
    "# Convert results into a Pandas DataFrame and highlight the best result\n",
    "best_results_df = pd.DataFrame(results)\n",
    "best_results_df.style.highlight_max(color='lightgreen', subset=['smape_final_result'], axis=0)"
   ]
  },
  {
   "cell_type": "code",
   "execution_count": 15,
   "metadata": {
    "trusted": true
   },
   "outputs": [
    {
     "name": "stdout",
     "output_type": "stream",
     "text": [
      "Best Hyperparameters for Random Forest: {'n_estimators': 30, 'max_depth': 5}\n",
      "Final sMAPE: 10.669544448615344\n"
     ]
    }
   ],
   "source": [
    "# Step 3.4: Hyperparameter Tuning for Random Forest\n",
    "best_params = {'n_estimators': 30, 'max_depth': 5}\n",
    "print(\"Best Hyperparameters for Random Forest:\", best_params)\n",
    "\n",
    "# Train the final tuned model\n",
    "model_final = RandomForestRegressor(random_state=random_state, **best_params)\n",
    "model_final.fit(features_train, target_rougher_train)\n",
    "predictions_r = model_final.predict(features_test)\n",
    "\n",
    "model_final.fit(features_train, target_final_train)\n",
    "predictions_f = model_final.predict(features_test)\n",
    "\n",
    "# Retrieve actual target values for test set from full dataset\n",
    "test_targets = gold_recovery_full_cleaned[gold_recovery_full_cleaned['date'].isin(gold_recovery_test_cleaned['date'])]\n",
    "\n",
    "target_rougher_test = test_targets['rougher.output.recovery']\n",
    "target_final_test = test_targets['final.output.recovery']\n",
    "\n",
    "# Compute sMAPE using correct test targets\n",
    "smape_r = smape_scorer(target_rougher_test, predictions_r)\n",
    "smape_f = smape_scorer(target_final_test, predictions_f)\n",
    "\n",
    "print('Final sMAPE:', total_smape(smape_r, smape_f))"
   ]
  },
  {
   "cell_type": "code",
   "execution_count": 16,
   "metadata": {
    "trusted": true
   },
   "outputs": [
    {
     "name": "stdout",
     "output_type": "stream",
     "text": [
      "Final sMAPE for Dummy Model: 10.355174913473876\n"
     ]
    }
   ],
   "source": [
    "# Step 3.5: Baseline Model (Dummy Regressor)\n",
    "dummy_regr = DummyRegressor(strategy='mean')\n",
    "\n",
    "# Train Dummy Model for Rougher Stage\n",
    "dummy_regr.fit(features_train, target_rougher_train)\n",
    "predictions_r_dummy = dummy_regr.predict(features_test)\n",
    "\n",
    "# Train Dummy Model for Final Stage\n",
    "dummy_regr.fit(features_train, target_final_train)\n",
    "predictions_f_dummy = dummy_regr.predict(features_test)\n",
    "\n",
    "# Retrieve actual target values for test set from full dataset\n",
    "test_targets = gold_recovery_full_cleaned[gold_recovery_full_cleaned['date'].isin(gold_recovery_test_cleaned['date'])]\n",
    "\n",
    "target_rougher_test = test_targets['rougher.output.recovery']\n",
    "target_final_test = test_targets['final.output.recovery']\n",
    "\n",
    "# Compute sMAPE using correct test targets\n",
    "smape_r_dummy = smape_scorer(target_rougher_test, predictions_r_dummy)\n",
    "smape_f_dummy = smape_scorer(target_final_test, predictions_f_dummy)\n",
    "\n",
    "print('Final sMAPE for Dummy Model:', total_smape(smape_r_dummy, smape_f_dummy))"
   ]
  },
  {
   "cell_type": "markdown",
   "metadata": {},
   "source": [
    " Key Stages & Findings\n",
    " \n",
    "1. Data Preprocessing & Feature Engineering\n",
    "\n",
    "- The dataset contained features related to metal concentration, process parameters, and operational conditions across different recovery stages.\n",
    "- Missing values were identified and handled appropriately to ensure data quality.\n",
    "- The train and test datasets were properly aligned to maintain consistency in feature availability across different datasets.\n",
    "- Feature engineering involved selecting relevant variables and dropping unnecessary columns (e.g., date columns) to enhance model performance.\n",
    "\n",
    "2️. Exploratory Data Analysis & Insights\n",
    "\n",
    "- Metal concentration changes over the recovery process:\n",
    "    - The gold concentration increased from the raw feed to the final product, confirming that the purification process was effective.\n",
    "    - Silver and lead concentrations decreased, aligning with expectations that unwanted metals are filtered out as processing continues.\n",
    "- Distribution of recovery rates:\n",
    "    - The Rougher Recovery stage had higher variability compared to the Final Recovery stage, making predictions for rougher recovery more challenging.\n",
    "    - There were some anomalies in metal concentrations, which were investigated to ensure they did not distort model training.\n",
    "- Relationship between process parameters and recovery:\n",
    "    - Certain chemical reagents and feed rates had a measurable impact on recovery rates.\n",
    "    - Understanding these relationships helps optimize process conditions to maximize gold yield.\n",
    "    \n",
    "3️. Model Training, Selection & Evaluation\n",
    "\n",
    "- Three machine learning models were tested using cross-validation:\n",
    "    - Decision Tree: sMAPE = -19.60\n",
    "    - Linear Regression: sMAPE = -12.66\n",
    "    - Random Forest: sMAPE = -12.06\n",
    "- The Random Forest model was selected as the best-performing model based on its ability to capture complex, non-linear relationships in the dataset.\n",
    "\n",
    "4. Model Tuning & Final Evaluation\n",
    "\n",
    "- Random Forest was tuned to improve its generalization and predictive accuracy.\n",
    "- The final model achieved the following performance on the test dataset:\n",
    "    - Final Combined sMAPE: 10.67\n",
    "- The final tuned Random Forest model improved overall performance compared to its untuned version that had a combined sMAPE of 12.06.\n",
    "\n",
    "5. Model Validation & Sanity Checks\n",
    "\n",
    "- A Dummy Regressor was used as a baseline, achieving a Final sMAPE of 10.35%\n",
    "- This was an improvement from the original sMAPE for the random forest model was -12.06\n",
    "\n",
    "6. Business Impact & Recommendations\n",
    "\n",
    "- The Random Forest model successfully predicts recovery rates, providing valuable insights into factors affecting process efficiency.\n",
    "- This model can be integrated into real-time monitoring systems to assist with process optimization and resource allocation in mining operations.\n",
    "\n",
    "7. Final Takeaway:\n",
    "- This project successfully demonstrated how machine learning can optimize gold recovery predictions, helping mining operations make data-driven decisions to maximize yield and efficiency. Further refinements, including advanced feature engineering and alternative modeling techniques, could further improve predictive accuracy"
   ]
  }
 ],
 "metadata": {
  "ExecuteTimeLog": [
   {
    "duration": 3022,
    "start_time": "2025-01-20T00:13:51.212Z"
   },
   {
    "duration": 705,
    "start_time": "2025-01-20T00:15:37.028Z"
   },
   {
    "duration": 23,
    "start_time": "2025-01-20T00:15:48.838Z"
   },
   {
    "duration": 511,
    "start_time": "2025-01-20T00:16:05.733Z"
   },
   {
    "duration": 506,
    "start_time": "2025-01-20T00:16:27.901Z"
   },
   {
    "duration": 3,
    "start_time": "2025-01-20T00:18:12.960Z"
   },
   {
    "duration": 501,
    "start_time": "2025-01-20T00:18:14.368Z"
   },
   {
    "duration": 22,
    "start_time": "2025-01-20T00:18:15.389Z"
   },
   {
    "duration": 28,
    "start_time": "2025-01-20T00:18:16.012Z"
   },
   {
    "duration": 3,
    "start_time": "2025-01-20T00:21:39.397Z"
   },
   {
    "duration": 503,
    "start_time": "2025-01-20T00:21:40.811Z"
   },
   {
    "duration": 3,
    "start_time": "2025-01-20T00:28:36.107Z"
   },
   {
    "duration": 260,
    "start_time": "2025-01-20T00:32:17.933Z"
   },
   {
    "duration": 24,
    "start_time": "2025-01-20T00:34:09.942Z"
   },
   {
    "duration": 209,
    "start_time": "2025-01-20T00:34:19.878Z"
   },
   {
    "duration": 56,
    "start_time": "2025-01-20T00:35:21.726Z"
   },
   {
    "duration": 11,
    "start_time": "2025-01-20T00:43:32.552Z"
   },
   {
    "duration": 3,
    "start_time": "2025-01-20T00:46:27.089Z"
   },
   {
    "duration": 4,
    "start_time": "2025-01-20T00:46:43.072Z"
   },
   {
    "duration": 16,
    "start_time": "2025-01-20T00:46:55.550Z"
   },
   {
    "duration": 29,
    "start_time": "2025-01-20T00:57:56.675Z"
   },
   {
    "duration": 3,
    "start_time": "2025-01-20T01:07:17.987Z"
   },
   {
    "duration": 856,
    "start_time": "2025-01-20T01:08:12.179Z"
   },
   {
    "duration": 1098,
    "start_time": "2025-01-20T01:11:36.085Z"
   },
   {
    "duration": 1116,
    "start_time": "2025-01-20T01:14:24.027Z"
   },
   {
    "duration": 6,
    "start_time": "2025-01-20T01:15:31.373Z"
   },
   {
    "duration": 5,
    "start_time": "2025-01-20T01:16:18.177Z"
   },
   {
    "duration": 4,
    "start_time": "2025-01-20T01:16:21.565Z"
   },
   {
    "duration": 353,
    "start_time": "2025-01-20T01:16:33.793Z"
   },
   {
    "duration": 377,
    "start_time": "2025-01-20T01:16:41.686Z"
   },
   {
    "duration": 426,
    "start_time": "2025-01-20T01:16:49.817Z"
   },
   {
    "duration": 5,
    "start_time": "2025-01-20T01:17:05.306Z"
   },
   {
    "duration": 5,
    "start_time": "2025-01-20T01:17:08.937Z"
   },
   {
    "duration": 4,
    "start_time": "2025-01-20T01:17:14.678Z"
   },
   {
    "duration": 323,
    "start_time": "2025-01-20T01:17:17.141Z"
   },
   {
    "duration": 4,
    "start_time": "2025-01-20T01:17:17.545Z"
   },
   {
    "duration": 6,
    "start_time": "2025-01-20T01:17:27.732Z"
   },
   {
    "duration": 9,
    "start_time": "2025-01-20T01:17:39.564Z"
   },
   {
    "duration": 2696,
    "start_time": "2025-01-22T02:35:16.688Z"
   },
   {
    "duration": 653,
    "start_time": "2025-01-22T02:35:19.386Z"
   },
   {
    "duration": 31,
    "start_time": "2025-01-22T02:35:20.040Z"
   },
   {
    "duration": 27,
    "start_time": "2025-01-22T02:35:20.074Z"
   },
   {
    "duration": 288,
    "start_time": "2025-01-22T02:35:26.138Z"
   },
   {
    "duration": 15,
    "start_time": "2025-01-22T02:35:32.228Z"
   },
   {
    "duration": 31,
    "start_time": "2025-01-22T02:35:33.923Z"
   },
   {
    "duration": 4,
    "start_time": "2025-01-22T02:35:35.567Z"
   },
   {
    "duration": 454,
    "start_time": "2025-01-22T02:35:36.080Z"
   },
   {
    "duration": 405,
    "start_time": "2025-01-22T02:35:36.575Z"
   },
   {
    "duration": 328,
    "start_time": "2025-01-22T02:35:38.421Z"
   },
   {
    "duration": 13,
    "start_time": "2025-01-22T02:37:22.216Z"
   },
   {
    "duration": 3,
    "start_time": "2025-01-22T02:44:39.033Z"
   },
   {
    "duration": 510,
    "start_time": "2025-01-22T02:44:39.513Z"
   },
   {
    "duration": 24,
    "start_time": "2025-01-22T02:44:40.679Z"
   },
   {
    "duration": 27,
    "start_time": "2025-01-22T02:44:41.225Z"
   },
   {
    "duration": 23,
    "start_time": "2025-01-22T02:44:41.849Z"
   },
   {
    "duration": 30,
    "start_time": "2025-01-22T02:44:42.256Z"
   },
   {
    "duration": 4,
    "start_time": "2025-01-22T02:46:35.156Z"
   },
   {
    "duration": 1127,
    "start_time": "2025-01-22T02:46:35.852Z"
   },
   {
    "duration": 1035,
    "start_time": "2025-01-22T02:46:56.449Z"
   },
   {
    "duration": 1103,
    "start_time": "2025-01-22T02:47:17.813Z"
   },
   {
    "duration": 2312,
    "start_time": "2025-01-22T02:47:28.105Z"
   },
   {
    "duration": 3113,
    "start_time": "2025-01-22T02:47:52.104Z"
   },
   {
    "duration": 3125,
    "start_time": "2025-01-22T02:51:16.795Z"
   },
   {
    "duration": 3,
    "start_time": "2025-01-22T02:53:27.815Z"
   },
   {
    "duration": 498,
    "start_time": "2025-01-22T02:53:28.249Z"
   },
   {
    "duration": 23,
    "start_time": "2025-01-22T02:53:29.606Z"
   },
   {
    "duration": 32,
    "start_time": "2025-01-22T02:53:31.065Z"
   },
   {
    "duration": 13,
    "start_time": "2025-01-22T02:53:35.895Z"
   },
   {
    "duration": 16,
    "start_time": "2025-01-22T02:53:38.406Z"
   },
   {
    "duration": 30,
    "start_time": "2025-01-22T02:53:39.734Z"
   },
   {
    "duration": 1214,
    "start_time": "2025-01-22T02:53:41.278Z"
   },
   {
    "duration": 3,
    "start_time": "2025-01-22T02:54:58.905Z"
   },
   {
    "duration": 1074,
    "start_time": "2025-01-22T02:55:41.811Z"
   },
   {
    "duration": 1286,
    "start_time": "2025-01-22T02:59:20.778Z"
   },
   {
    "duration": 4,
    "start_time": "2025-01-22T03:00:45.819Z"
   },
   {
    "duration": 5,
    "start_time": "2025-01-22T03:08:13.921Z"
   },
   {
    "duration": 3,
    "start_time": "2025-01-22T03:08:25.254Z"
   },
   {
    "duration": 509,
    "start_time": "2025-01-22T03:08:25.761Z"
   },
   {
    "duration": 24,
    "start_time": "2025-01-22T03:08:26.807Z"
   },
   {
    "duration": 25,
    "start_time": "2025-01-22T03:08:27.769Z"
   },
   {
    "duration": 10,
    "start_time": "2025-01-22T03:08:29.586Z"
   },
   {
    "duration": 16,
    "start_time": "2025-01-22T03:08:30.646Z"
   },
   {
    "duration": 27,
    "start_time": "2025-01-22T03:08:32.387Z"
   },
   {
    "duration": 7,
    "start_time": "2025-01-22T03:08:33.728Z"
   },
   {
    "duration": 4,
    "start_time": "2025-01-22T03:08:34.491Z"
   },
   {
    "duration": 4,
    "start_time": "2025-01-22T03:09:26.086Z"
   },
   {
    "duration": 3,
    "start_time": "2025-01-22T03:10:23.476Z"
   },
   {
    "duration": 446,
    "start_time": "2025-01-22T03:13:25.729Z"
   },
   {
    "duration": 6,
    "start_time": "2025-01-22T03:17:56.325Z"
   },
   {
    "duration": 1111,
    "start_time": "2025-01-22T03:18:39.947Z"
   },
   {
    "duration": 31,
    "start_time": "2025-01-22T03:22:35.222Z"
   },
   {
    "duration": 9,
    "start_time": "2025-01-22T03:23:47.513Z"
   },
   {
    "duration": 685,
    "start_time": "2025-01-22T03:36:40.233Z"
   },
   {
    "duration": 1046,
    "start_time": "2025-01-22T03:38:46.031Z"
   },
   {
    "duration": 21,
    "start_time": "2025-01-22T03:47:20.048Z"
   },
   {
    "duration": 51,
    "start_time": "2025-01-22T03:49:21.918Z"
   },
   {
    "duration": 4,
    "start_time": "2025-01-22T03:50:42.998Z"
   },
   {
    "duration": 5,
    "start_time": "2025-01-22T03:53:33.353Z"
   },
   {
    "duration": 122,
    "start_time": "2025-01-22T03:56:58.004Z"
   },
   {
    "duration": 3,
    "start_time": "2025-01-22T03:57:43.353Z"
   },
   {
    "duration": 49,
    "start_time": "2025-01-22T03:58:31.939Z"
   },
   {
    "duration": 11,
    "start_time": "2025-01-22T04:00:00.503Z"
   },
   {
    "duration": 10,
    "start_time": "2025-01-22T04:00:41.352Z"
   },
   {
    "duration": 1786,
    "start_time": "2025-01-22T04:04:19.669Z"
   },
   {
    "duration": 1656,
    "start_time": "2025-01-22T04:07:13.609Z"
   },
   {
    "duration": 1724,
    "start_time": "2025-01-22T04:14:44.776Z"
   },
   {
    "duration": 3,
    "start_time": "2025-01-22T04:14:46.503Z"
   },
   {
    "duration": 2708,
    "start_time": "2025-01-22T04:23:09.637Z"
   },
   {
    "duration": 3537,
    "start_time": "2025-01-22T04:26:02.324Z"
   },
   {
    "duration": 2703,
    "start_time": "2025-01-22T04:26:38.962Z"
   },
   {
    "duration": 408,
    "start_time": "2025-01-22T04:30:08.625Z"
   },
   {
    "duration": 779,
    "start_time": "2025-01-22T04:31:16.791Z"
   },
   {
    "duration": 955,
    "start_time": "2025-01-22T04:37:57.097Z"
   },
   {
    "duration": 451,
    "start_time": "2025-01-22T04:39:46.849Z"
   },
   {
    "duration": 180,
    "start_time": "2025-01-22T04:43:13.277Z"
   },
   {
    "duration": 1179,
    "start_time": "2025-01-22T04:44:13.086Z"
   },
   {
    "duration": 1163,
    "start_time": "2025-01-22T04:48:46.033Z"
   },
   {
    "duration": 1440,
    "start_time": "2025-01-22T04:50:45.511Z"
   },
   {
    "duration": 59,
    "start_time": "2025-01-22T04:52:40.287Z"
   },
   {
    "duration": 63,
    "start_time": "2025-01-22T04:53:34.701Z"
   },
   {
    "duration": 1194,
    "start_time": "2025-01-22T04:54:34.628Z"
   },
   {
    "duration": 172,
    "start_time": "2025-01-24T01:13:28.070Z"
   },
   {
    "duration": 2788,
    "start_time": "2025-01-24T01:13:35.821Z"
   },
   {
    "duration": 623,
    "start_time": "2025-01-24T01:13:38.611Z"
   },
   {
    "duration": 23,
    "start_time": "2025-01-24T01:13:39.236Z"
   },
   {
    "duration": 25,
    "start_time": "2025-01-24T01:13:39.261Z"
   },
   {
    "duration": 14,
    "start_time": "2025-01-24T01:13:39.308Z"
   },
   {
    "duration": 17,
    "start_time": "2025-01-24T01:13:39.496Z"
   },
   {
    "duration": 32,
    "start_time": "2025-01-24T01:13:40.201Z"
   },
   {
    "duration": 516,
    "start_time": "2025-01-24T01:13:40.987Z"
   },
   {
    "duration": 472,
    "start_time": "2025-01-24T01:13:41.663Z"
   },
   {
    "duration": 60,
    "start_time": "2025-01-24T01:13:42.262Z"
   },
   {
    "duration": 123,
    "start_time": "2025-01-24T01:13:42.581Z"
   },
   {
    "duration": 3,
    "start_time": "2025-01-24T01:17:20.890Z"
   },
   {
    "duration": 667,
    "start_time": "2025-01-24T01:17:21.284Z"
   },
   {
    "duration": 28,
    "start_time": "2025-01-24T01:17:22.001Z"
   },
   {
    "duration": 27,
    "start_time": "2025-01-24T01:17:22.780Z"
   },
   {
    "duration": 16,
    "start_time": "2025-01-24T01:17:24.070Z"
   },
   {
    "duration": 17,
    "start_time": "2025-01-24T01:17:25.348Z"
   },
   {
    "duration": 30,
    "start_time": "2025-01-24T01:17:26.617Z"
   },
   {
    "duration": 58,
    "start_time": "2025-01-24T01:21:06.495Z"
   },
   {
    "duration": 4,
    "start_time": "2025-01-24T01:23:28.349Z"
   },
   {
    "duration": 30,
    "start_time": "2025-01-24T01:28:17.246Z"
   },
   {
    "duration": 30,
    "start_time": "2025-01-24T01:58:03.633Z"
   },
   {
    "duration": 28,
    "start_time": "2025-01-24T01:59:32.421Z"
   },
   {
    "duration": 29,
    "start_time": "2025-01-24T01:59:39.576Z"
   },
   {
    "duration": 61,
    "start_time": "2025-01-24T02:10:55.922Z"
   },
   {
    "duration": 46,
    "start_time": "2025-01-24T02:17:11.126Z"
   },
   {
    "duration": 49,
    "start_time": "2025-01-24T02:18:47.592Z"
   },
   {
    "duration": 63,
    "start_time": "2025-01-24T02:18:57.036Z"
   },
   {
    "duration": 4,
    "start_time": "2025-01-24T02:21:09.574Z"
   },
   {
    "duration": 52,
    "start_time": "2025-01-24T02:28:28.876Z"
   },
   {
    "duration": 5,
    "start_time": "2025-01-24T02:30:40.723Z"
   },
   {
    "duration": 55,
    "start_time": "2025-01-24T02:33:49.704Z"
   },
   {
    "duration": 24,
    "start_time": "2025-01-24T02:37:26.920Z"
   },
   {
    "duration": 260,
    "start_time": "2025-01-24T02:38:45.309Z"
   },
   {
    "duration": 3,
    "start_time": "2025-01-24T02:40:05.721Z"
   },
   {
    "duration": 518,
    "start_time": "2025-01-24T02:40:08.776Z"
   },
   {
    "duration": 26,
    "start_time": "2025-01-24T02:40:17.068Z"
   },
   {
    "duration": 26,
    "start_time": "2025-01-24T02:40:22.505Z"
   },
   {
    "duration": 12,
    "start_time": "2025-01-24T02:40:34.516Z"
   },
   {
    "duration": 15,
    "start_time": "2025-01-24T02:44:54.610Z"
   },
   {
    "duration": 15,
    "start_time": "2025-01-24T02:47:01.291Z"
   },
   {
    "duration": 16,
    "start_time": "2025-01-24T02:47:33.287Z"
   },
   {
    "duration": 35,
    "start_time": "2025-01-24T02:50:58.869Z"
   },
   {
    "duration": 3,
    "start_time": "2025-01-24T02:53:19.182Z"
   },
   {
    "duration": 463,
    "start_time": "2025-01-24T02:53:19.530Z"
   },
   {
    "duration": 23,
    "start_time": "2025-01-24T02:53:20.403Z"
   },
   {
    "duration": 28,
    "start_time": "2025-01-24T02:53:21.532Z"
   },
   {
    "duration": 11,
    "start_time": "2025-01-24T02:53:23.621Z"
   },
   {
    "duration": 16,
    "start_time": "2025-01-24T02:53:29.816Z"
   },
   {
    "duration": 34,
    "start_time": "2025-01-24T02:53:34.329Z"
   },
   {
    "duration": 33,
    "start_time": "2025-01-24T02:55:43.205Z"
   },
   {
    "duration": 2719,
    "start_time": "2025-01-24T02:55:45.080Z"
   },
   {
    "duration": 3,
    "start_time": "2025-01-24T03:00:52.097Z"
   },
   {
    "duration": 463,
    "start_time": "2025-01-24T03:00:52.487Z"
   },
   {
    "duration": 24,
    "start_time": "2025-01-24T03:00:53.310Z"
   },
   {
    "duration": 25,
    "start_time": "2025-01-24T03:00:54.296Z"
   },
   {
    "duration": 11,
    "start_time": "2025-01-24T03:00:55.610Z"
   },
   {
    "duration": 16,
    "start_time": "2025-01-24T03:00:56.688Z"
   },
   {
    "duration": 35,
    "start_time": "2025-01-24T03:00:58.654Z"
   },
   {
    "duration": 30,
    "start_time": "2025-01-24T03:00:59.843Z"
   },
   {
    "duration": 3182,
    "start_time": "2025-01-24T03:01:13.178Z"
   },
   {
    "duration": 447,
    "start_time": "2025-01-24T03:02:06.273Z"
   },
   {
    "duration": 3,
    "start_time": "2025-01-24T03:05:00.523Z"
   },
   {
    "duration": 444,
    "start_time": "2025-01-24T03:05:00.922Z"
   },
   {
    "duration": 24,
    "start_time": "2025-01-24T03:05:01.650Z"
   },
   {
    "duration": 25,
    "start_time": "2025-01-24T03:05:02.396Z"
   },
   {
    "duration": 10,
    "start_time": "2025-01-24T03:05:03.496Z"
   },
   {
    "duration": 20,
    "start_time": "2025-01-24T03:05:04.971Z"
   },
   {
    "duration": 32,
    "start_time": "2025-01-24T03:05:06.411Z"
   },
   {
    "duration": 30,
    "start_time": "2025-01-24T03:05:07.607Z"
   },
   {
    "duration": 3422,
    "start_time": "2025-01-24T03:05:09.266Z"
   },
   {
    "duration": 472,
    "start_time": "2025-01-24T03:05:19.486Z"
   },
   {
    "duration": 4,
    "start_time": "2025-01-24T03:13:44.044Z"
   },
   {
    "duration": 712,
    "start_time": "2025-01-24T03:13:44.463Z"
   },
   {
    "duration": 23,
    "start_time": "2025-01-24T03:13:45.327Z"
   },
   {
    "duration": 29,
    "start_time": "2025-01-24T03:13:46.303Z"
   },
   {
    "duration": 12,
    "start_time": "2025-01-24T03:13:47.743Z"
   },
   {
    "duration": 22,
    "start_time": "2025-01-24T03:13:48.653Z"
   },
   {
    "duration": 30,
    "start_time": "2025-01-24T03:13:49.805Z"
   },
   {
    "duration": 39,
    "start_time": "2025-01-24T03:13:50.380Z"
   },
   {
    "duration": 3350,
    "start_time": "2025-01-24T03:13:51.823Z"
   },
   {
    "duration": 655,
    "start_time": "2025-01-24T03:13:55.176Z"
   },
   {
    "duration": 1483,
    "start_time": "2025-01-24T03:14:09.985Z"
   },
   {
    "duration": 7,
    "start_time": "2025-01-24T03:20:35.104Z"
   },
   {
    "duration": 36,
    "start_time": "2025-01-24T03:27:42.919Z"
   },
   {
    "duration": 6,
    "start_time": "2025-01-24T03:29:26.906Z"
   },
   {
    "duration": 26,
    "start_time": "2025-01-24T03:29:28.553Z"
   },
   {
    "duration": 35,
    "start_time": "2025-01-24T03:29:53.573Z"
   },
   {
    "duration": 477,
    "start_time": "2025-01-24T03:29:54.053Z"
   },
   {
    "duration": 25,
    "start_time": "2025-01-24T03:29:54.627Z"
   },
   {
    "duration": 161,
    "start_time": "2025-01-24T03:29:55.238Z"
   },
   {
    "duration": 11,
    "start_time": "2025-01-24T03:29:56.205Z"
   },
   {
    "duration": 15,
    "start_time": "2025-01-24T03:29:56.813Z"
   },
   {
    "duration": 34,
    "start_time": "2025-01-24T03:29:57.459Z"
   },
   {
    "duration": 29,
    "start_time": "2025-01-24T03:29:57.778Z"
   },
   {
    "duration": 3369,
    "start_time": "2025-01-24T03:29:58.508Z"
   },
   {
    "duration": 616,
    "start_time": "2025-01-24T03:30:01.880Z"
   },
   {
    "duration": 1595,
    "start_time": "2025-01-24T03:30:02.498Z"
   },
   {
    "duration": 6,
    "start_time": "2025-01-24T03:30:04.095Z"
   },
   {
    "duration": 695,
    "start_time": "2025-01-24T03:30:04.103Z"
   },
   {
    "duration": 2,
    "start_time": "2025-01-24T03:31:28.365Z"
   },
   {
    "duration": 29,
    "start_time": "2025-01-24T03:31:36.290Z"
   },
   {
    "duration": 6,
    "start_time": "2025-01-24T03:32:38.722Z"
   },
   {
    "duration": 467,
    "start_time": "2025-01-24T03:32:39.312Z"
   },
   {
    "duration": 30,
    "start_time": "2025-01-24T03:32:39.963Z"
   },
   {
    "duration": 28,
    "start_time": "2025-01-24T03:32:40.558Z"
   },
   {
    "duration": 11,
    "start_time": "2025-01-24T03:32:41.458Z"
   },
   {
    "duration": 16,
    "start_time": "2025-01-24T03:32:42.044Z"
   },
   {
    "duration": 32,
    "start_time": "2025-01-24T03:32:42.662Z"
   },
   {
    "duration": 28,
    "start_time": "2025-01-24T03:32:43.010Z"
   },
   {
    "duration": 3315,
    "start_time": "2025-01-24T03:32:43.669Z"
   },
   {
    "duration": 536,
    "start_time": "2025-01-24T03:32:46.986Z"
   },
   {
    "duration": 1667,
    "start_time": "2025-01-24T03:32:47.524Z"
   },
   {
    "duration": 6,
    "start_time": "2025-01-24T03:32:49.194Z"
   },
   {
    "duration": 30,
    "start_time": "2025-01-24T03:32:49.209Z"
   },
   {
    "duration": 3,
    "start_time": "2025-01-24T03:33:58.051Z"
   },
   {
    "duration": 457,
    "start_time": "2025-01-24T03:33:58.653Z"
   },
   {
    "duration": 23,
    "start_time": "2025-01-24T03:33:59.601Z"
   },
   {
    "duration": 27,
    "start_time": "2025-01-24T03:34:00.498Z"
   },
   {
    "duration": 11,
    "start_time": "2025-01-24T03:34:01.795Z"
   },
   {
    "duration": 17,
    "start_time": "2025-01-24T03:34:02.615Z"
   },
   {
    "duration": 34,
    "start_time": "2025-01-24T03:34:03.420Z"
   },
   {
    "duration": 29,
    "start_time": "2025-01-24T03:34:03.799Z"
   },
   {
    "duration": 3341,
    "start_time": "2025-01-24T03:34:04.560Z"
   },
   {
    "duration": 550,
    "start_time": "2025-01-24T03:34:07.903Z"
   },
   {
    "duration": 1693,
    "start_time": "2025-01-24T03:34:08.455Z"
   },
   {
    "duration": 6,
    "start_time": "2025-01-24T03:34:10.150Z"
   },
   {
    "duration": 163,
    "start_time": "2025-01-24T03:34:10.158Z"
   },
   {
    "duration": 178827,
    "start_time": "2025-01-24T03:35:39.910Z"
   },
   {
    "duration": 179196,
    "start_time": "2025-01-24T03:41:48.231Z"
   },
   {
    "duration": 4,
    "start_time": "2025-01-24T03:46:46.114Z"
   },
   {
    "duration": 460,
    "start_time": "2025-01-24T03:46:46.753Z"
   },
   {
    "duration": 25,
    "start_time": "2025-01-24T03:46:47.615Z"
   },
   {
    "duration": 26,
    "start_time": "2025-01-24T03:46:48.481Z"
   },
   {
    "duration": 11,
    "start_time": "2025-01-24T03:46:49.701Z"
   },
   {
    "duration": 15,
    "start_time": "2025-01-24T03:46:50.447Z"
   },
   {
    "duration": 33,
    "start_time": "2025-01-24T03:46:51.375Z"
   },
   {
    "duration": 32,
    "start_time": "2025-01-24T03:46:51.990Z"
   },
   {
    "duration": 3472,
    "start_time": "2025-01-24T03:46:53.019Z"
   },
   {
    "duration": 556,
    "start_time": "2025-01-24T03:46:56.493Z"
   },
   {
    "duration": 1673,
    "start_time": "2025-01-24T03:46:57.050Z"
   },
   {
    "duration": 6,
    "start_time": "2025-01-24T03:46:58.726Z"
   },
   {
    "duration": 178796,
    "start_time": "2025-01-24T03:47:09.018Z"
   },
   {
    "duration": 178580,
    "start_time": "2025-01-24T04:00:11.229Z"
   },
   {
    "duration": 81,
    "start_time": "2025-01-24T04:27:41.129Z"
   },
   {
    "duration": 529,
    "start_time": "2025-01-24T04:27:41.216Z"
   },
   {
    "duration": 23,
    "start_time": "2025-01-24T04:27:41.747Z"
   },
   {
    "duration": 46,
    "start_time": "2025-01-24T04:27:41.772Z"
   },
   {
    "duration": 10,
    "start_time": "2025-01-24T04:27:41.819Z"
   },
   {
    "duration": 15,
    "start_time": "2025-01-24T04:27:41.830Z"
   },
   {
    "duration": 34,
    "start_time": "2025-01-24T04:27:41.847Z"
   },
   {
    "duration": 49,
    "start_time": "2025-01-24T04:27:41.883Z"
   },
   {
    "duration": 3338,
    "start_time": "2025-01-24T04:27:41.934Z"
   },
   {
    "duration": 452,
    "start_time": "2025-01-24T04:27:45.273Z"
   },
   {
    "duration": 1550,
    "start_time": "2025-01-24T04:27:45.727Z"
   },
   {
    "duration": 143,
    "start_time": "2025-01-24T04:27:47.279Z"
   },
   {
    "duration": 178408,
    "start_time": "2025-01-24T04:27:47.423Z"
   },
   {
    "duration": 178880,
    "start_time": "2025-01-24T04:30:45.833Z"
   },
   {
    "duration": 10,
    "start_time": "2025-01-24T10:43:11.529Z"
   },
   {
    "duration": 999,
    "start_time": "2025-01-24T10:57:22.462Z"
   },
   {
    "duration": 665,
    "start_time": "2025-01-24T10:57:23.463Z"
   },
   {
    "duration": 23,
    "start_time": "2025-01-24T10:57:24.130Z"
   },
   {
    "duration": 24,
    "start_time": "2025-01-24T10:57:24.155Z"
   },
   {
    "duration": 13,
    "start_time": "2025-01-24T10:57:24.181Z"
   },
   {
    "duration": 39,
    "start_time": "2025-01-24T10:57:24.195Z"
   },
   {
    "duration": 283,
    "start_time": "2025-01-24T10:57:24.236Z"
   },
   {
    "duration": 0,
    "start_time": "2025-01-24T10:57:24.524Z"
   },
   {
    "duration": 0,
    "start_time": "2025-01-24T10:57:24.525Z"
   },
   {
    "duration": 0,
    "start_time": "2025-01-24T10:57:24.526Z"
   },
   {
    "duration": 0,
    "start_time": "2025-01-24T10:57:24.527Z"
   },
   {
    "duration": 6,
    "start_time": "2025-01-24T10:57:24.765Z"
   },
   {
    "duration": 28,
    "start_time": "2025-01-24T10:57:24.933Z"
   },
   {
    "duration": 4,
    "start_time": "2025-01-24T10:57:56.814Z"
   },
   {
    "duration": 37,
    "start_time": "2025-01-24T10:57:57.211Z"
   },
   {
    "duration": 3212,
    "start_time": "2025-01-24T10:58:06.178Z"
   },
   {
    "duration": 571,
    "start_time": "2025-01-24T10:58:09.392Z"
   },
   {
    "duration": 1617,
    "start_time": "2025-01-24T10:58:09.965Z"
   },
   {
    "duration": 5,
    "start_time": "2025-01-24T10:58:11.585Z"
   },
   {
    "duration": 5173,
    "start_time": "2025-01-24T10:58:12.570Z"
   },
   {
    "duration": 4,
    "start_time": "2025-01-24T10:58:24.781Z"
   },
   {
    "duration": 2666,
    "start_time": "2025-01-25T21:38:50.076Z"
   },
   {
    "duration": 701,
    "start_time": "2025-01-25T21:38:52.745Z"
   },
   {
    "duration": 39,
    "start_time": "2025-01-25T21:38:53.448Z"
   },
   {
    "duration": 31,
    "start_time": "2025-01-25T21:38:53.490Z"
   },
   {
    "duration": 14,
    "start_time": "2025-01-25T21:38:53.523Z"
   },
   {
    "duration": 16,
    "start_time": "2025-01-25T21:38:53.539Z"
   },
   {
    "duration": 383,
    "start_time": "2025-01-25T21:38:53.557Z"
   },
   {
    "duration": 0,
    "start_time": "2025-01-25T21:38:53.943Z"
   },
   {
    "duration": 3245,
    "start_time": "2025-01-25T21:38:54.512Z"
   },
   {
    "duration": 557,
    "start_time": "2025-01-25T21:38:57.761Z"
   },
   {
    "duration": 1640,
    "start_time": "2025-01-25T21:38:58.320Z"
   },
   {
    "duration": 6,
    "start_time": "2025-01-25T21:38:59.963Z"
   },
   {
    "duration": 41,
    "start_time": "2025-01-25T21:38:59.970Z"
   },
   {
    "duration": 5,
    "start_time": "2025-01-25T21:45:34.869Z"
   },
   {
    "duration": 3224,
    "start_time": "2025-01-25T21:45:57.445Z"
   },
   {
    "duration": 2460,
    "start_time": "2025-01-25T21:48:03.767Z"
   },
   {
    "duration": 2552,
    "start_time": "2025-01-25T21:53:40.064Z"
   },
   {
    "duration": 6,
    "start_time": "2025-01-25T21:55:21.388Z"
   },
   {
    "duration": 24,
    "start_time": "2025-01-25T21:55:22.648Z"
   },
   {
    "duration": 3,
    "start_time": "2025-01-25T21:57:57.197Z"
   },
   {
    "duration": 516,
    "start_time": "2025-01-25T21:57:58.165Z"
   },
   {
    "duration": 23,
    "start_time": "2025-01-25T21:57:58.820Z"
   },
   {
    "duration": 26,
    "start_time": "2025-01-25T21:57:59.470Z"
   },
   {
    "duration": 12,
    "start_time": "2025-01-25T21:58:00.453Z"
   },
   {
    "duration": 16,
    "start_time": "2025-01-25T21:58:01.578Z"
   },
   {
    "duration": 37,
    "start_time": "2025-01-25T21:58:04.314Z"
   },
   {
    "duration": 3004,
    "start_time": "2025-01-25T21:58:06.585Z"
   },
   {
    "duration": 509,
    "start_time": "2025-01-25T21:58:09.591Z"
   },
   {
    "duration": 2472,
    "start_time": "2025-01-25T21:58:10.559Z"
   },
   {
    "duration": 6,
    "start_time": "2025-01-25T21:58:14.097Z"
   },
   {
    "duration": 181578,
    "start_time": "2025-01-25T21:58:18.719Z"
   },
   {
    "duration": 27,
    "start_time": "2025-01-25T22:01:20.299Z"
   },
   {
    "duration": 4,
    "start_time": "2025-01-25T22:03:43.017Z"
   },
   {
    "duration": 578,
    "start_time": "2025-01-25T22:03:43.604Z"
   },
   {
    "duration": 23,
    "start_time": "2025-01-25T22:03:44.186Z"
   },
   {
    "duration": 32,
    "start_time": "2025-01-25T22:03:44.644Z"
   },
   {
    "duration": 13,
    "start_time": "2025-01-25T22:03:45.362Z"
   },
   {
    "duration": 17,
    "start_time": "2025-01-25T22:03:46.135Z"
   },
   {
    "duration": 34,
    "start_time": "2025-01-25T22:03:47.556Z"
   },
   {
    "duration": 3047,
    "start_time": "2025-01-25T22:03:48.498Z"
   },
   {
    "duration": 456,
    "start_time": "2025-01-25T22:03:51.548Z"
   },
   {
    "duration": 2594,
    "start_time": "2025-01-25T22:03:52.007Z"
   },
   {
    "duration": 6,
    "start_time": "2025-01-25T22:03:54.604Z"
   },
   {
    "duration": 181596,
    "start_time": "2025-01-25T22:03:54.612Z"
   },
   {
    "duration": 25,
    "start_time": "2025-01-25T22:06:56.210Z"
   },
   {
    "duration": 3,
    "start_time": "2025-01-25T22:11:10.400Z"
   },
   {
    "duration": 473,
    "start_time": "2025-01-25T22:11:11.101Z"
   },
   {
    "duration": 26,
    "start_time": "2025-01-25T22:11:11.722Z"
   },
   {
    "duration": 27,
    "start_time": "2025-01-25T22:11:12.300Z"
   },
   {
    "duration": 12,
    "start_time": "2025-01-25T22:11:13.081Z"
   },
   {
    "duration": 16,
    "start_time": "2025-01-25T22:11:49.366Z"
   },
   {
    "duration": 32,
    "start_time": "2025-01-25T22:11:50.887Z"
   },
   {
    "duration": 2791,
    "start_time": "2025-01-25T22:11:51.654Z"
   },
   {
    "duration": 462,
    "start_time": "2025-01-25T22:11:54.447Z"
   },
   {
    "duration": 2604,
    "start_time": "2025-01-25T22:11:54.911Z"
   },
   {
    "duration": 6,
    "start_time": "2025-01-25T22:11:57.518Z"
   },
   {
    "duration": 181796,
    "start_time": "2025-01-25T22:11:57.526Z"
   },
   {
    "duration": 3,
    "start_time": "2025-01-26T00:14:11.539Z"
   },
   {
    "duration": 240,
    "start_time": "2025-01-26T00:15:00.198Z"
   },
   {
    "duration": 538,
    "start_time": "2025-01-26T00:15:09.609Z"
   },
   {
    "duration": 4,
    "start_time": "2025-01-26T00:15:13.810Z"
   },
   {
    "duration": 502,
    "start_time": "2025-01-26T00:15:14.380Z"
   },
   {
    "duration": 24,
    "start_time": "2025-01-26T00:15:15.665Z"
   },
   {
    "duration": 26,
    "start_time": "2025-01-26T00:15:16.982Z"
   },
   {
    "duration": 17,
    "start_time": "2025-01-26T00:15:18.611Z"
   },
   {
    "duration": 15,
    "start_time": "2025-01-26T00:15:20.216Z"
   },
   {
    "duration": 38,
    "start_time": "2025-01-26T00:15:23.251Z"
   },
   {
    "duration": 3105,
    "start_time": "2025-01-26T00:15:53.181Z"
   },
   {
    "duration": 521,
    "start_time": "2025-01-26T00:16:00.385Z"
   },
   {
    "duration": 2717,
    "start_time": "2025-01-26T00:16:02.399Z"
   },
   {
    "duration": 8,
    "start_time": "2025-01-26T00:16:05.685Z"
   },
   {
    "duration": 38,
    "start_time": "2025-01-26T00:16:08.131Z"
   },
   {
    "duration": 3,
    "start_time": "2025-01-26T00:18:05.209Z"
   },
   {
    "duration": 467983,
    "start_time": "2025-01-26T00:18:13.983Z"
   },
   {
    "duration": 13,
    "start_time": "2025-01-26T00:26:33.697Z"
   },
   {
    "duration": 18,
    "start_time": "2025-01-26T00:26:59.241Z"
   },
   {
    "duration": 17,
    "start_time": "2025-01-26T00:27:12.707Z"
   },
   {
    "duration": 3,
    "start_time": "2025-01-26T00:28:28.777Z"
   },
   {
    "duration": 82,
    "start_time": "2025-01-26T00:28:37.085Z"
   },
   {
    "duration": 50,
    "start_time": "2025-01-26T00:28:46.107Z"
   },
   {
    "duration": 6,
    "start_time": "2025-01-26T00:29:28.512Z"
   },
   {
    "duration": 7,
    "start_time": "2025-01-26T00:29:47.885Z"
   },
   {
    "duration": 10,
    "start_time": "2025-01-26T00:29:51.384Z"
   },
   {
    "duration": 6,
    "start_time": "2025-01-26T00:29:52.274Z"
   },
   {
    "duration": 976,
    "start_time": "2025-01-26T00:32:37.075Z"
   },
   {
    "duration": 549,
    "start_time": "2025-01-26T00:32:38.053Z"
   },
   {
    "duration": 23,
    "start_time": "2025-01-26T00:32:38.604Z"
   },
   {
    "duration": 26,
    "start_time": "2025-01-26T00:32:38.629Z"
   },
   {
    "duration": 13,
    "start_time": "2025-01-26T00:32:38.686Z"
   },
   {
    "duration": 16,
    "start_time": "2025-01-26T00:32:38.701Z"
   },
   {
    "duration": 37,
    "start_time": "2025-01-26T00:32:38.719Z"
   },
   {
    "duration": 2999,
    "start_time": "2025-01-26T00:32:38.758Z"
   },
   {
    "duration": 522,
    "start_time": "2025-01-26T00:32:41.760Z"
   },
   {
    "duration": 2549,
    "start_time": "2025-01-26T00:32:42.284Z"
   },
   {
    "duration": 6,
    "start_time": "2025-01-26T00:32:44.835Z"
   },
   {
    "duration": 7,
    "start_time": "2025-01-26T00:32:44.843Z"
   },
   {
    "duration": 41,
    "start_time": "2025-01-26T00:32:44.852Z"
   },
   {
    "duration": 443,
    "start_time": "2025-01-26T00:32:44.896Z"
   },
   {
    "duration": 0,
    "start_time": "2025-01-26T00:32:45.340Z"
   },
   {
    "duration": 22,
    "start_time": "2025-01-26T00:35:43.979Z"
   },
   {
    "duration": 41,
    "start_time": "2025-01-26T00:37:28.289Z"
   },
   {
    "duration": 13,
    "start_time": "2025-01-26T00:39:35.373Z"
   },
   {
    "duration": 3,
    "start_time": "2025-01-26T00:40:48.376Z"
   },
   {
    "duration": 271,
    "start_time": "2025-01-26T00:41:07.676Z"
   },
   {
    "duration": 166,
    "start_time": "2025-01-26T00:43:07.561Z"
   },
   {
    "duration": 2735,
    "start_time": "2025-01-26T21:17:47.786Z"
   },
   {
    "duration": 643,
    "start_time": "2025-01-26T21:17:53.705Z"
   },
   {
    "duration": 24,
    "start_time": "2025-01-26T21:17:54.640Z"
   },
   {
    "duration": 27,
    "start_time": "2025-01-26T21:17:55.596Z"
   },
   {
    "duration": 13,
    "start_time": "2025-01-26T21:17:56.991Z"
   },
   {
    "duration": 15,
    "start_time": "2025-01-26T21:17:58.601Z"
   },
   {
    "duration": 39,
    "start_time": "2025-01-26T21:18:00.967Z"
   },
   {
    "duration": 2823,
    "start_time": "2025-01-26T21:18:03.303Z"
   },
   {
    "duration": 531,
    "start_time": "2025-01-26T21:18:13.158Z"
   },
   {
    "duration": 2567,
    "start_time": "2025-01-26T21:18:20.243Z"
   },
   {
    "duration": 6,
    "start_time": "2025-01-26T21:18:44.905Z"
   },
   {
    "duration": 5,
    "start_time": "2025-01-26T21:18:46.699Z"
   },
   {
    "duration": 20,
    "start_time": "2025-01-26T21:18:47.539Z"
   },
   {
    "duration": 14,
    "start_time": "2025-01-26T21:18:48.400Z"
   },
   {
    "duration": 1097454,
    "start_time": "2025-01-26T21:18:49.515Z"
   },
   {
    "duration": 0,
    "start_time": "2025-01-26T21:37:06.975Z"
   },
   {
    "duration": 0,
    "start_time": "2025-01-26T21:37:06.977Z"
   },
   {
    "duration": 0,
    "start_time": "2025-01-26T21:37:06.978Z"
   },
   {
    "duration": 0,
    "start_time": "2025-01-26T21:37:06.979Z"
   },
   {
    "duration": 0,
    "start_time": "2025-01-26T21:37:06.980Z"
   },
   {
    "duration": 0,
    "start_time": "2025-01-26T21:37:06.982Z"
   },
   {
    "duration": 0,
    "start_time": "2025-01-26T21:37:06.983Z"
   },
   {
    "duration": 0,
    "start_time": "2025-01-26T21:37:06.984Z"
   },
   {
    "duration": 0,
    "start_time": "2025-01-26T21:37:06.985Z"
   },
   {
    "duration": 0,
    "start_time": "2025-01-26T21:37:06.986Z"
   },
   {
    "duration": 0,
    "start_time": "2025-01-26T21:37:06.987Z"
   },
   {
    "duration": 0,
    "start_time": "2025-01-26T21:37:06.990Z"
   },
   {
    "duration": 955,
    "start_time": "2025-01-26T21:41:08.158Z"
   },
   {
    "duration": 521,
    "start_time": "2025-01-26T21:41:09.114Z"
   },
   {
    "duration": 24,
    "start_time": "2025-01-26T21:41:12.403Z"
   },
   {
    "duration": 27,
    "start_time": "2025-01-26T21:41:13.626Z"
   },
   {
    "duration": 13,
    "start_time": "2025-01-26T21:41:15.235Z"
   },
   {
    "duration": 15,
    "start_time": "2025-01-26T21:41:16.915Z"
   },
   {
    "duration": 37,
    "start_time": "2025-01-26T21:41:20.002Z"
   },
   {
    "duration": 2872,
    "start_time": "2025-01-26T21:41:23.159Z"
   },
   {
    "duration": 452,
    "start_time": "2025-01-26T21:41:27.957Z"
   },
   {
    "duration": 2394,
    "start_time": "2025-01-26T21:41:31.002Z"
   },
   {
    "duration": 6,
    "start_time": "2025-01-26T21:41:34.529Z"
   },
   {
    "duration": 662,
    "start_time": "2025-01-26T21:42:50.515Z"
   },
   {
    "duration": 20,
    "start_time": "2025-01-26T21:43:07.048Z"
   },
   {
    "duration": 346,
    "start_time": "2025-01-26T21:44:48.036Z"
   },
   {
    "duration": 46,
    "start_time": "2025-01-26T21:48:38.397Z"
   },
   {
    "duration": 3,
    "start_time": "2025-01-26T21:56:29.422Z"
   },
   {
    "duration": 562,
    "start_time": "2025-01-26T21:56:29.951Z"
   },
   {
    "duration": 23,
    "start_time": "2025-01-26T21:56:33.589Z"
   },
   {
    "duration": 27,
    "start_time": "2025-01-26T21:56:34.962Z"
   },
   {
    "duration": 12,
    "start_time": "2025-01-26T21:56:36.908Z"
   },
   {
    "duration": 16,
    "start_time": "2025-01-26T21:56:39.154Z"
   },
   {
    "duration": 52,
    "start_time": "2025-01-26T21:56:43.123Z"
   },
   {
    "duration": 48,
    "start_time": "2025-01-26T21:57:19.021Z"
   },
   {
    "duration": 2980,
    "start_time": "2025-01-26T21:57:21.385Z"
   },
   {
    "duration": 475,
    "start_time": "2025-01-26T21:57:24.400Z"
   },
   {
    "duration": 2426,
    "start_time": "2025-01-26T21:57:26.400Z"
   },
   {
    "duration": 6,
    "start_time": "2025-01-26T21:57:29.262Z"
   },
   {
    "duration": 14,
    "start_time": "2025-01-26T21:57:31.173Z"
   },
   {
    "duration": 2,
    "start_time": "2025-01-26T21:59:08.388Z"
   },
   {
    "duration": 340,
    "start_time": "2025-01-26T21:59:13.711Z"
   },
   {
    "duration": 3,
    "start_time": "2025-01-26T22:01:22.708Z"
   },
   {
    "duration": 45,
    "start_time": "2025-01-26T22:01:33.122Z"
   },
   {
    "duration": 10,
    "start_time": "2025-01-26T22:03:33.191Z"
   },
   {
    "duration": 277,
    "start_time": "2025-01-26T22:04:39.536Z"
   },
   {
    "duration": 17,
    "start_time": "2025-01-26T22:04:46.622Z"
   },
   {
    "duration": 8,
    "start_time": "2025-01-26T22:04:59.607Z"
   },
   {
    "duration": 9,
    "start_time": "2025-01-26T22:05:32.575Z"
   },
   {
    "duration": 42,
    "start_time": "2025-01-26T22:05:39.621Z"
   },
   {
    "duration": 80603,
    "start_time": "2025-01-26T22:08:23.671Z"
   },
   {
    "duration": 48,
    "start_time": "2025-01-26T22:14:20.619Z"
   },
   {
    "duration": 1038,
    "start_time": "2025-01-26T22:14:45.099Z"
   },
   {
    "duration": 545,
    "start_time": "2025-01-26T22:14:46.139Z"
   },
   {
    "duration": 27,
    "start_time": "2025-01-26T22:14:48.042Z"
   },
   {
    "duration": 33,
    "start_time": "2025-01-26T22:14:48.865Z"
   },
   {
    "duration": 12,
    "start_time": "2025-01-26T22:14:49.902Z"
   },
   {
    "duration": 21,
    "start_time": "2025-01-26T22:14:51.216Z"
   },
   {
    "duration": 50,
    "start_time": "2025-01-26T22:14:53.408Z"
   },
   {
    "duration": 2974,
    "start_time": "2025-01-26T22:14:56.483Z"
   },
   {
    "duration": 515,
    "start_time": "2025-01-26T22:14:59.459Z"
   },
   {
    "duration": 2541,
    "start_time": "2025-01-26T22:15:01.991Z"
   },
   {
    "duration": 8,
    "start_time": "2025-01-26T22:15:04.535Z"
   },
   {
    "duration": 80587,
    "start_time": "2025-01-26T22:15:05.697Z"
   },
   {
    "duration": 98,
    "start_time": "2025-01-26T22:16:26.287Z"
   },
   {
    "duration": 8,
    "start_time": "2025-01-26T22:16:26.387Z"
   },
   {
    "duration": 80574,
    "start_time": "2025-01-26T22:16:26.397Z"
   },
   {
    "duration": 603,
    "start_time": "2025-01-26T22:19:38.176Z"
   },
   {
    "duration": 967,
    "start_time": "2025-01-26T22:19:55.663Z"
   },
   {
    "duration": 554,
    "start_time": "2025-01-26T22:19:56.633Z"
   },
   {
    "duration": 24,
    "start_time": "2025-01-26T22:19:58.673Z"
   },
   {
    "duration": 27,
    "start_time": "2025-01-26T22:19:59.663Z"
   },
   {
    "duration": 13,
    "start_time": "2025-01-26T22:20:01.342Z"
   },
   {
    "duration": 16,
    "start_time": "2025-01-26T22:20:03.158Z"
   },
   {
    "duration": 55,
    "start_time": "2025-01-26T22:20:05.900Z"
   },
   {
    "duration": 2970,
    "start_time": "2025-01-26T22:20:08.959Z"
   },
   {
    "duration": 486,
    "start_time": "2025-01-26T22:20:14.091Z"
   },
   {
    "duration": 2343,
    "start_time": "2025-01-26T22:20:17.448Z"
   },
   {
    "duration": 6,
    "start_time": "2025-01-26T22:20:26.158Z"
   },
   {
    "duration": 16550,
    "start_time": "2025-01-26T22:20:31.153Z"
   },
   {
    "duration": 355,
    "start_time": "2025-01-26T22:25:50.951Z"
   },
   {
    "duration": 1023,
    "start_time": "2025-01-26T22:26:12.872Z"
   },
   {
    "duration": 510,
    "start_time": "2025-01-26T22:26:13.897Z"
   },
   {
    "duration": 24,
    "start_time": "2025-01-26T22:26:15.836Z"
   },
   {
    "duration": 32,
    "start_time": "2025-01-26T22:26:16.960Z"
   },
   {
    "duration": 13,
    "start_time": "2025-01-26T22:26:19.281Z"
   },
   {
    "duration": 15,
    "start_time": "2025-01-26T22:26:22.439Z"
   },
   {
    "duration": 53,
    "start_time": "2025-01-26T22:26:26.489Z"
   },
   {
    "duration": 2976,
    "start_time": "2025-01-26T22:26:28.861Z"
   },
   {
    "duration": 461,
    "start_time": "2025-01-26T22:26:33.027Z"
   },
   {
    "duration": 2366,
    "start_time": "2025-01-26T22:26:38.327Z"
   },
   {
    "duration": 6,
    "start_time": "2025-01-26T22:26:44.631Z"
   },
   {
    "duration": 370,
    "start_time": "2025-01-26T22:26:49.020Z"
   },
   {
    "duration": 271,
    "start_time": "2025-01-26T22:27:54.656Z"
   },
   {
    "duration": 1011,
    "start_time": "2025-01-26T22:28:11.416Z"
   },
   {
    "duration": 512,
    "start_time": "2025-01-26T22:28:12.429Z"
   },
   {
    "duration": 30,
    "start_time": "2025-01-26T22:28:12.943Z"
   },
   {
    "duration": 26,
    "start_time": "2025-01-26T22:28:13.831Z"
   },
   {
    "duration": 13,
    "start_time": "2025-01-26T22:28:15.353Z"
   },
   {
    "duration": 15,
    "start_time": "2025-01-26T22:28:16.744Z"
   },
   {
    "duration": 50,
    "start_time": "2025-01-26T22:28:19.027Z"
   },
   {
    "duration": 2946,
    "start_time": "2025-01-26T22:28:20.694Z"
   },
   {
    "duration": 486,
    "start_time": "2025-01-26T22:28:24.804Z"
   },
   {
    "duration": 2431,
    "start_time": "2025-01-26T22:28:27.180Z"
   },
   {
    "duration": 5,
    "start_time": "2025-01-26T22:28:31.679Z"
   },
   {
    "duration": 81610,
    "start_time": "2025-01-26T22:28:33.560Z"
   },
   {
    "duration": 1065,
    "start_time": "2025-01-26T22:32:37.376Z"
   },
   {
    "duration": 545,
    "start_time": "2025-01-26T22:32:38.444Z"
   },
   {
    "duration": 24,
    "start_time": "2025-01-26T22:32:38.991Z"
   },
   {
    "duration": 27,
    "start_time": "2025-01-26T22:32:39.053Z"
   },
   {
    "duration": 14,
    "start_time": "2025-01-26T22:32:40.437Z"
   },
   {
    "duration": 18,
    "start_time": "2025-01-26T22:32:41.794Z"
   },
   {
    "duration": 51,
    "start_time": "2025-01-26T22:32:44.137Z"
   },
   {
    "duration": 2969,
    "start_time": "2025-01-26T22:32:45.825Z"
   },
   {
    "duration": 522,
    "start_time": "2025-01-26T22:32:48.796Z"
   },
   {
    "duration": 2550,
    "start_time": "2025-01-26T22:32:49.695Z"
   },
   {
    "duration": 6,
    "start_time": "2025-01-26T22:32:55.157Z"
   },
   {
    "duration": 81617,
    "start_time": "2025-01-26T22:32:57.263Z"
   },
   {
    "duration": 21272,
    "start_time": "2025-01-26T22:35:28.082Z"
   },
   {
    "duration": 30,
    "start_time": "2025-01-26T22:38:44.265Z"
   },
   {
    "duration": 1024,
    "start_time": "2025-01-26T22:39:02.194Z"
   },
   {
    "duration": 513,
    "start_time": "2025-01-26T22:39:03.221Z"
   },
   {
    "duration": 23,
    "start_time": "2025-01-26T22:39:03.736Z"
   },
   {
    "duration": 25,
    "start_time": "2025-01-26T22:39:03.769Z"
   },
   {
    "duration": 12,
    "start_time": "2025-01-26T22:39:03.797Z"
   },
   {
    "duration": 15,
    "start_time": "2025-01-26T22:39:03.811Z"
   },
   {
    "duration": 80,
    "start_time": "2025-01-26T22:39:03.828Z"
   },
   {
    "duration": 3042,
    "start_time": "2025-01-26T22:39:03.910Z"
   },
   {
    "duration": 541,
    "start_time": "2025-01-26T22:39:06.954Z"
   },
   {
    "duration": 2484,
    "start_time": "2025-01-26T22:39:07.496Z"
   },
   {
    "duration": 6,
    "start_time": "2025-01-26T22:39:09.982Z"
   },
   {
    "duration": 80581,
    "start_time": "2025-01-26T22:39:09.990Z"
   },
   {
    "duration": 238,
    "start_time": "2025-01-26T22:40:30.573Z"
   },
   {
    "duration": 26,
    "start_time": "2025-01-26T22:41:14.242Z"
   },
   {
    "duration": 1019,
    "start_time": "2025-01-26T22:41:24.291Z"
   },
   {
    "duration": 489,
    "start_time": "2025-01-26T22:41:25.312Z"
   },
   {
    "duration": 35,
    "start_time": "2025-01-26T22:41:25.803Z"
   },
   {
    "duration": 41,
    "start_time": "2025-01-26T22:41:25.840Z"
   },
   {
    "duration": 13,
    "start_time": "2025-01-26T22:41:25.883Z"
   },
   {
    "duration": 15,
    "start_time": "2025-01-26T22:41:25.897Z"
   },
   {
    "duration": 72,
    "start_time": "2025-01-26T22:41:25.914Z"
   },
   {
    "duration": 2957,
    "start_time": "2025-01-26T22:41:25.988Z"
   },
   {
    "duration": 534,
    "start_time": "2025-01-26T22:41:28.946Z"
   },
   {
    "duration": 2406,
    "start_time": "2025-01-26T22:41:29.482Z"
   },
   {
    "duration": 7,
    "start_time": "2025-01-26T22:41:31.890Z"
   },
   {
    "duration": 80686,
    "start_time": "2025-01-26T22:41:31.899Z"
   },
   {
    "duration": 282,
    "start_time": "2025-01-26T22:42:52.589Z"
   },
   {
    "duration": 251,
    "start_time": "2025-01-26T22:44:20.730Z"
   },
   {
    "duration": 20834,
    "start_time": "2025-01-26T22:47:38.321Z"
   },
   {
    "duration": 20762,
    "start_time": "2025-01-26T22:49:28.211Z"
   },
   {
    "duration": 273,
    "start_time": "2025-01-26T22:51:11.727Z"
   },
   {
    "duration": 1001,
    "start_time": "2025-01-26T22:51:23.309Z"
   },
   {
    "duration": 515,
    "start_time": "2025-01-26T22:51:24.313Z"
   },
   {
    "duration": 22,
    "start_time": "2025-01-26T22:51:24.830Z"
   },
   {
    "duration": 41,
    "start_time": "2025-01-26T22:51:24.853Z"
   },
   {
    "duration": 12,
    "start_time": "2025-01-26T22:51:24.897Z"
   },
   {
    "duration": 15,
    "start_time": "2025-01-26T22:51:24.911Z"
   },
   {
    "duration": 78,
    "start_time": "2025-01-26T22:51:24.928Z"
   },
   {
    "duration": 2829,
    "start_time": "2025-01-26T22:51:25.008Z"
   },
   {
    "duration": 458,
    "start_time": "2025-01-26T22:51:27.839Z"
   },
   {
    "duration": 2382,
    "start_time": "2025-01-26T22:51:28.300Z"
   },
   {
    "duration": 6,
    "start_time": "2025-01-26T22:51:30.684Z"
   },
   {
    "duration": 80792,
    "start_time": "2025-01-26T22:51:30.691Z"
   },
   {
    "duration": 20977,
    "start_time": "2025-01-26T22:52:51.487Z"
   },
   {
    "duration": 4,
    "start_time": "2025-01-26T22:56:53.453Z"
   },
   {
    "duration": 1026,
    "start_time": "2025-01-26T22:57:06.419Z"
   },
   {
    "duration": 528,
    "start_time": "2025-01-26T22:57:07.447Z"
   },
   {
    "duration": 22,
    "start_time": "2025-01-26T22:57:07.977Z"
   },
   {
    "duration": 25,
    "start_time": "2025-01-26T22:57:08.000Z"
   },
   {
    "duration": 12,
    "start_time": "2025-01-26T22:57:08.027Z"
   },
   {
    "duration": 39,
    "start_time": "2025-01-26T22:57:08.041Z"
   },
   {
    "duration": 51,
    "start_time": "2025-01-26T22:57:08.082Z"
   },
   {
    "duration": 2911,
    "start_time": "2025-01-26T22:57:08.135Z"
   },
   {
    "duration": 533,
    "start_time": "2025-01-26T22:57:11.049Z"
   },
   {
    "duration": 2522,
    "start_time": "2025-01-26T22:57:11.583Z"
   },
   {
    "duration": 6,
    "start_time": "2025-01-26T22:57:14.106Z"
   },
   {
    "duration": 358,
    "start_time": "2025-01-26T22:57:14.114Z"
   },
   {
    "duration": 0,
    "start_time": "2025-01-26T22:57:14.474Z"
   },
   {
    "duration": 0,
    "start_time": "2025-01-26T22:57:14.476Z"
   },
   {
    "duration": 1030,
    "start_time": "2025-01-26T22:57:39.590Z"
   },
   {
    "duration": 507,
    "start_time": "2025-01-26T22:57:40.622Z"
   },
   {
    "duration": 23,
    "start_time": "2025-01-26T22:57:41.131Z"
   },
   {
    "duration": 25,
    "start_time": "2025-01-26T22:57:41.170Z"
   },
   {
    "duration": 12,
    "start_time": "2025-01-26T22:57:41.196Z"
   },
   {
    "duration": 15,
    "start_time": "2025-01-26T22:57:41.210Z"
   },
   {
    "duration": 76,
    "start_time": "2025-01-26T22:57:41.227Z"
   },
   {
    "duration": 2813,
    "start_time": "2025-01-26T22:57:41.307Z"
   },
   {
    "duration": 472,
    "start_time": "2025-01-26T22:57:44.122Z"
   },
   {
    "duration": 2543,
    "start_time": "2025-01-26T22:57:44.597Z"
   },
   {
    "duration": 6,
    "start_time": "2025-01-26T22:57:47.142Z"
   },
   {
    "duration": 981,
    "start_time": "2025-01-26T22:58:56.938Z"
   },
   {
    "duration": 514,
    "start_time": "2025-01-26T22:58:57.921Z"
   },
   {
    "duration": 35,
    "start_time": "2025-01-26T22:58:58.437Z"
   },
   {
    "duration": 25,
    "start_time": "2025-01-26T22:58:58.473Z"
   },
   {
    "duration": 12,
    "start_time": "2025-01-26T22:58:58.501Z"
   },
   {
    "duration": 15,
    "start_time": "2025-01-26T22:58:58.514Z"
   },
   {
    "duration": 78,
    "start_time": "2025-01-26T22:58:58.531Z"
   },
   {
    "duration": 2918,
    "start_time": "2025-01-26T22:58:58.611Z"
   },
   {
    "duration": 501,
    "start_time": "2025-01-26T22:59:01.531Z"
   },
   {
    "duration": 2351,
    "start_time": "2025-01-26T22:59:02.034Z"
   },
   {
    "duration": 6,
    "start_time": "2025-01-26T22:59:04.387Z"
   },
   {
    "duration": 80578,
    "start_time": "2025-01-26T22:59:04.395Z"
   },
   {
    "duration": 6,
    "start_time": "2025-01-26T23:00:24.978Z"
   },
   {
    "duration": 20954,
    "start_time": "2025-01-26T23:00:24.990Z"
   },
   {
    "duration": 21080,
    "start_time": "2025-01-26T23:04:24.154Z"
   },
   {
    "duration": 20829,
    "start_time": "2025-01-26T23:06:53.901Z"
   },
   {
    "duration": 5,
    "start_time": "2025-01-26T23:11:13.348Z"
   },
   {
    "duration": 6,
    "start_time": "2025-01-26T23:18:44.927Z"
   },
   {
    "duration": 977,
    "start_time": "2025-01-26T23:19:00.959Z"
   },
   {
    "duration": 517,
    "start_time": "2025-01-26T23:19:01.938Z"
   },
   {
    "duration": 26,
    "start_time": "2025-01-26T23:19:02.458Z"
   },
   {
    "duration": 26,
    "start_time": "2025-01-26T23:19:02.485Z"
   },
   {
    "duration": 13,
    "start_time": "2025-01-26T23:19:02.513Z"
   },
   {
    "duration": 14,
    "start_time": "2025-01-26T23:19:02.528Z"
   },
   {
    "duration": 72,
    "start_time": "2025-01-26T23:19:02.544Z"
   },
   {
    "duration": 2973,
    "start_time": "2025-01-26T23:19:02.618Z"
   },
   {
    "duration": 528,
    "start_time": "2025-01-26T23:19:05.593Z"
   },
   {
    "duration": 2530,
    "start_time": "2025-01-26T23:19:06.123Z"
   },
   {
    "duration": 14,
    "start_time": "2025-01-26T23:19:08.656Z"
   },
   {
    "duration": 982,
    "start_time": "2025-01-26T23:19:54.367Z"
   },
   {
    "duration": 552,
    "start_time": "2025-01-26T23:19:55.351Z"
   },
   {
    "duration": 23,
    "start_time": "2025-01-26T23:19:55.906Z"
   },
   {
    "duration": 42,
    "start_time": "2025-01-26T23:19:55.930Z"
   },
   {
    "duration": 11,
    "start_time": "2025-01-26T23:19:55.975Z"
   },
   {
    "duration": 15,
    "start_time": "2025-01-26T23:19:55.988Z"
   },
   {
    "duration": 71,
    "start_time": "2025-01-26T23:19:56.004Z"
   },
   {
    "duration": 2952,
    "start_time": "2025-01-26T23:19:56.077Z"
   },
   {
    "duration": 490,
    "start_time": "2025-01-26T23:19:59.031Z"
   },
   {
    "duration": 2486,
    "start_time": "2025-01-26T23:19:59.523Z"
   },
   {
    "duration": 7,
    "start_time": "2025-01-26T23:20:02.011Z"
   },
   {
    "duration": 80971,
    "start_time": "2025-01-26T23:20:02.020Z"
   },
   {
    "duration": 84,
    "start_time": "2025-01-26T23:21:22.993Z"
   },
   {
    "duration": 20871,
    "start_time": "2025-01-26T23:21:23.082Z"
   },
   {
    "duration": 5,
    "start_time": "2025-01-26T23:21:43.955Z"
   },
   {
    "duration": 2961,
    "start_time": "2025-01-27T10:00:35.618Z"
   },
   {
    "duration": 665,
    "start_time": "2025-01-27T10:00:38.581Z"
   },
   {
    "duration": 24,
    "start_time": "2025-01-27T10:00:39.248Z"
   },
   {
    "duration": 54,
    "start_time": "2025-01-27T10:00:39.274Z"
   },
   {
    "duration": 12,
    "start_time": "2025-01-27T10:00:39.330Z"
   },
   {
    "duration": 15,
    "start_time": "2025-01-27T10:00:39.344Z"
   },
   {
    "duration": 76,
    "start_time": "2025-01-27T10:00:39.361Z"
   },
   {
    "duration": 2924,
    "start_time": "2025-01-27T10:00:39.439Z"
   },
   {
    "duration": 474,
    "start_time": "2025-01-27T10:00:42.366Z"
   },
   {
    "duration": 2517,
    "start_time": "2025-01-27T10:00:42.843Z"
   },
   {
    "duration": 5,
    "start_time": "2025-01-27T10:00:45.363Z"
   },
   {
    "duration": 81354,
    "start_time": "2025-01-27T10:00:45.371Z"
   },
   {
    "duration": 7,
    "start_time": "2025-01-27T10:05:55.753Z"
   },
   {
    "duration": 4,
    "start_time": "2025-01-27T10:06:03.033Z"
   },
   {
    "duration": 3,
    "start_time": "2025-01-27T10:06:14.397Z"
   },
   {
    "duration": 20,
    "start_time": "2025-01-27T10:06:17.448Z"
   },
   {
    "duration": 4,
    "start_time": "2025-01-27T10:06:36.215Z"
   },
   {
    "duration": 20,
    "start_time": "2025-01-27T10:06:39.754Z"
   },
   {
    "duration": 4,
    "start_time": "2025-01-27T10:07:03.217Z"
   },
   {
    "duration": 4,
    "start_time": "2025-01-27T10:07:17.822Z"
   },
   {
    "duration": 4,
    "start_time": "2025-01-27T10:07:23.383Z"
   },
   {
    "duration": 565,
    "start_time": "2025-01-27T10:09:04.483Z"
   },
   {
    "duration": 3,
    "start_time": "2025-01-27T10:09:21.489Z"
   },
   {
    "duration": 508,
    "start_time": "2025-01-27T10:09:21.620Z"
   },
   {
    "duration": 23,
    "start_time": "2025-01-27T10:09:22.130Z"
   },
   {
    "duration": 25,
    "start_time": "2025-01-27T10:09:22.155Z"
   },
   {
    "duration": 11,
    "start_time": "2025-01-27T10:09:22.525Z"
   },
   {
    "duration": 16,
    "start_time": "2025-01-27T10:09:22.933Z"
   },
   {
    "duration": 54,
    "start_time": "2025-01-27T10:09:23.693Z"
   },
   {
    "duration": 2859,
    "start_time": "2025-01-27T10:09:24.237Z"
   },
   {
    "duration": 565,
    "start_time": "2025-01-27T10:09:27.098Z"
   },
   {
    "duration": 2611,
    "start_time": "2025-01-27T10:09:27.665Z"
   },
   {
    "duration": 5,
    "start_time": "2025-01-27T10:09:30.278Z"
   },
   {
    "duration": 81083,
    "start_time": "2025-01-27T10:09:30.640Z"
   },
   {
    "duration": 4,
    "start_time": "2025-01-27T10:15:02.934Z"
   },
   {
    "duration": 51,
    "start_time": "2025-01-27T10:15:31.484Z"
   },
   {
    "duration": 3,
    "start_time": "2025-01-27T10:15:48.704Z"
   },
   {
    "duration": 492,
    "start_time": "2025-01-27T10:15:48.790Z"
   },
   {
    "duration": 25,
    "start_time": "2025-01-27T10:15:49.284Z"
   },
   {
    "duration": 38,
    "start_time": "2025-01-27T10:15:49.311Z"
   },
   {
    "duration": 10,
    "start_time": "2025-01-27T10:15:49.374Z"
   },
   {
    "duration": 15,
    "start_time": "2025-01-27T10:15:49.621Z"
   },
   {
    "duration": 48,
    "start_time": "2025-01-27T10:15:50.127Z"
   },
   {
    "duration": 2928,
    "start_time": "2025-01-27T10:15:50.463Z"
   },
   {
    "duration": 490,
    "start_time": "2025-01-27T10:15:53.393Z"
   },
   {
    "duration": 2420,
    "start_time": "2025-01-27T10:15:53.885Z"
   },
   {
    "duration": 5,
    "start_time": "2025-01-27T10:15:56.308Z"
   },
   {
    "duration": 80799,
    "start_time": "2025-01-27T10:15:56.324Z"
   },
   {
    "duration": 6,
    "start_time": "2025-01-27T10:17:17.126Z"
   },
   {
    "duration": 8,
    "start_time": "2025-01-27T10:17:17.135Z"
   },
   {
    "duration": 0,
    "start_time": "2025-01-27T10:17:17.145Z"
   },
   {
    "duration": 0,
    "start_time": "2025-01-27T10:17:17.147Z"
   },
   {
    "duration": 4,
    "start_time": "2025-01-27T10:20:13.398Z"
   },
   {
    "duration": 21185,
    "start_time": "2025-01-27T10:20:14.113Z"
   },
   {
    "duration": 4,
    "start_time": "2025-01-27T10:20:35.301Z"
   },
   {
    "duration": 2811,
    "start_time": "2025-01-28T00:36:35.568Z"
   },
   {
    "duration": 638,
    "start_time": "2025-01-28T00:36:38.382Z"
   },
   {
    "duration": 28,
    "start_time": "2025-01-28T00:36:39.021Z"
   },
   {
    "duration": 95,
    "start_time": "2025-01-28T00:36:39.051Z"
   },
   {
    "duration": 12,
    "start_time": "2025-01-28T00:36:39.148Z"
   },
   {
    "duration": 15,
    "start_time": "2025-01-28T00:36:39.161Z"
   },
   {
    "duration": 73,
    "start_time": "2025-01-28T00:36:39.180Z"
   },
   {
    "duration": 2955,
    "start_time": "2025-01-28T00:36:39.255Z"
   },
   {
    "duration": 546,
    "start_time": "2025-01-28T00:36:42.213Z"
   },
   {
    "duration": 2485,
    "start_time": "2025-01-28T00:36:42.762Z"
   },
   {
    "duration": 6,
    "start_time": "2025-01-28T00:36:45.250Z"
   },
   {
    "duration": 80681,
    "start_time": "2025-01-28T00:36:45.258Z"
   },
   {
    "duration": 8,
    "start_time": "2025-01-28T00:38:05.941Z"
   },
   {
    "duration": 20986,
    "start_time": "2025-01-28T00:38:05.951Z"
   },
   {
    "duration": 4,
    "start_time": "2025-01-28T00:38:26.939Z"
   },
   {
    "duration": 4,
    "start_time": "2025-01-28T00:44:33.220Z"
   },
   {
    "duration": 3,
    "start_time": "2025-01-28T00:47:16.932Z"
   },
   {
    "duration": 164,
    "start_time": "2025-01-28T00:47:17.178Z"
   },
   {
    "duration": 1027,
    "start_time": "2025-01-28T00:49:42.399Z"
   },
   {
    "duration": 536,
    "start_time": "2025-01-28T00:49:43.428Z"
   },
   {
    "duration": 24,
    "start_time": "2025-01-28T00:49:45.470Z"
   },
   {
    "duration": 27,
    "start_time": "2025-01-28T00:49:46.695Z"
   },
   {
    "duration": 13,
    "start_time": "2025-01-28T00:49:48.978Z"
   },
   {
    "duration": 15,
    "start_time": "2025-01-28T00:49:50.336Z"
   },
   {
    "duration": 51,
    "start_time": "2025-01-28T00:49:53.052Z"
   },
   {
    "duration": 3164,
    "start_time": "2025-01-28T00:49:55.317Z"
   },
   {
    "duration": 493,
    "start_time": "2025-01-28T00:49:59.359Z"
   },
   {
    "duration": 2527,
    "start_time": "2025-01-28T00:50:03.467Z"
   },
   {
    "duration": 5,
    "start_time": "2025-01-28T00:50:12.655Z"
   },
   {
    "duration": 4,
    "start_time": "2025-01-28T00:50:16.215Z"
   },
   {
    "duration": 352,
    "start_time": "2025-01-28T00:50:50.207Z"
   },
   {
    "duration": 967,
    "start_time": "2025-01-28T00:56:56.221Z"
   },
   {
    "duration": 561,
    "start_time": "2025-01-28T00:56:57.191Z"
   },
   {
    "duration": 25,
    "start_time": "2025-01-28T00:56:58.975Z"
   },
   {
    "duration": 27,
    "start_time": "2025-01-28T00:57:00.100Z"
   },
   {
    "duration": 16,
    "start_time": "2025-01-28T00:57:01.719Z"
   },
   {
    "duration": 15,
    "start_time": "2025-01-28T00:57:03.469Z"
   },
   {
    "duration": 50,
    "start_time": "2025-01-28T00:57:07.393Z"
   },
   {
    "duration": 2991,
    "start_time": "2025-01-28T00:57:11.232Z"
   },
   {
    "duration": 519,
    "start_time": "2025-01-28T00:57:20.837Z"
   },
   {
    "duration": 2396,
    "start_time": "2025-01-28T00:57:25.608Z"
   },
   {
    "duration": 6,
    "start_time": "2025-01-28T00:57:34.483Z"
   },
   {
    "duration": 4,
    "start_time": "2025-01-28T00:57:37.963Z"
   },
   {
    "duration": 626,
    "start_time": "2025-01-28T00:57:39.951Z"
   },
   {
    "duration": 2,
    "start_time": "2025-01-28T01:07:52.071Z"
   },
   {
    "duration": 18,
    "start_time": "2025-01-28T01:08:35.087Z"
   },
   {
    "duration": 987,
    "start_time": "2025-01-28T01:10:09.894Z"
   },
   {
    "duration": 551,
    "start_time": "2025-01-28T01:10:10.883Z"
   },
   {
    "duration": 26,
    "start_time": "2025-01-28T01:10:13.047Z"
   },
   {
    "duration": 27,
    "start_time": "2025-01-28T01:10:14.432Z"
   },
   {
    "duration": 13,
    "start_time": "2025-01-28T01:10:16.543Z"
   },
   {
    "duration": 15,
    "start_time": "2025-01-28T01:10:18.273Z"
   },
   {
    "duration": 50,
    "start_time": "2025-01-28T01:10:24.385Z"
   },
   {
    "duration": 2915,
    "start_time": "2025-01-28T01:10:27.192Z"
   },
   {
    "duration": 481,
    "start_time": "2025-01-28T01:10:33.262Z"
   },
   {
    "duration": 2449,
    "start_time": "2025-01-28T01:10:37.399Z"
   },
   {
    "duration": 6,
    "start_time": "2025-01-28T01:10:41.462Z"
   },
   {
    "duration": 3,
    "start_time": "2025-01-28T01:10:44.823Z"
   },
   {
    "duration": 21,
    "start_time": "2025-01-28T01:10:45.868Z"
   },
   {
    "duration": 1031,
    "start_time": "2025-01-28T01:14:41.393Z"
   },
   {
    "duration": 535,
    "start_time": "2025-01-28T01:14:42.426Z"
   },
   {
    "duration": 22,
    "start_time": "2025-01-28T01:14:43.987Z"
   },
   {
    "duration": 28,
    "start_time": "2025-01-28T01:14:44.553Z"
   },
   {
    "duration": 13,
    "start_time": "2025-01-28T01:14:45.361Z"
   },
   {
    "duration": 15,
    "start_time": "2025-01-28T01:14:46.264Z"
   },
   {
    "duration": 51,
    "start_time": "2025-01-28T01:14:48.220Z"
   },
   {
    "duration": 2947,
    "start_time": "2025-01-28T01:14:50.654Z"
   },
   {
    "duration": 454,
    "start_time": "2025-01-28T01:14:53.604Z"
   },
   {
    "duration": 2603,
    "start_time": "2025-01-28T01:14:55.624Z"
   },
   {
    "duration": 5,
    "start_time": "2025-01-28T01:15:02.251Z"
   },
   {
    "duration": 4,
    "start_time": "2025-01-28T01:15:12.701Z"
   },
   {
    "duration": 20,
    "start_time": "2025-01-28T01:15:14.596Z"
   },
   {
    "duration": 979,
    "start_time": "2025-01-28T01:16:35.895Z"
   },
   {
    "duration": 526,
    "start_time": "2025-01-28T01:16:36.877Z"
   },
   {
    "duration": 29,
    "start_time": "2025-01-28T01:16:37.727Z"
   },
   {
    "duration": 26,
    "start_time": "2025-01-28T01:16:38.989Z"
   },
   {
    "duration": 12,
    "start_time": "2025-01-28T01:16:40.183Z"
   },
   {
    "duration": 16,
    "start_time": "2025-01-28T01:16:41.397Z"
   },
   {
    "duration": 51,
    "start_time": "2025-01-28T01:16:44.822Z"
   },
   {
    "duration": 2893,
    "start_time": "2025-01-28T01:16:47.405Z"
   },
   {
    "duration": 474,
    "start_time": "2025-01-28T01:16:51.976Z"
   },
   {
    "duration": 2540,
    "start_time": "2025-01-28T01:16:55.129Z"
   },
   {
    "duration": 6,
    "start_time": "2025-01-28T01:16:59.350Z"
   },
   {
    "duration": 4,
    "start_time": "2025-01-28T01:17:10.303Z"
   },
   {
    "duration": 24,
    "start_time": "2025-01-28T01:17:15.905Z"
   },
   {
    "duration": 81338,
    "start_time": "2025-01-28T01:17:23.418Z"
   },
   {
    "duration": 322079,
    "start_time": "2025-01-28T01:18:52.627Z"
   },
   {
    "duration": 990,
    "start_time": "2025-01-28T01:25:24.600Z"
   },
   {
    "duration": 518,
    "start_time": "2025-01-28T01:25:25.592Z"
   },
   {
    "duration": 24,
    "start_time": "2025-01-28T01:25:27.344Z"
   },
   {
    "duration": 27,
    "start_time": "2025-01-28T01:25:28.650Z"
   },
   {
    "duration": 13,
    "start_time": "2025-01-28T01:25:30.959Z"
   },
   {
    "duration": 19,
    "start_time": "2025-01-28T01:25:33.136Z"
   },
   {
    "duration": 52,
    "start_time": "2025-01-28T01:25:36.016Z"
   },
   {
    "duration": 2984,
    "start_time": "2025-01-28T01:25:38.024Z"
   },
   {
    "duration": 539,
    "start_time": "2025-01-28T01:25:41.011Z"
   },
   {
    "duration": 2380,
    "start_time": "2025-01-28T01:25:41.899Z"
   },
   {
    "duration": 6,
    "start_time": "2025-01-28T01:25:45.107Z"
   },
   {
    "duration": 4,
    "start_time": "2025-01-28T01:25:48.112Z"
   },
   {
    "duration": 22,
    "start_time": "2025-01-28T01:25:50.852Z"
   },
   {
    "duration": 80861,
    "start_time": "2025-01-28T01:25:53.270Z"
   },
   {
    "duration": 679945,
    "start_time": "2025-01-28T01:28:10.816Z"
   },
   {
    "duration": 1025,
    "start_time": "2025-01-28T01:40:02.474Z"
   },
   {
    "duration": 540,
    "start_time": "2025-01-28T01:40:03.501Z"
   },
   {
    "duration": 24,
    "start_time": "2025-01-28T01:40:04.999Z"
   },
   {
    "duration": 27,
    "start_time": "2025-01-28T01:40:05.515Z"
   },
   {
    "duration": 13,
    "start_time": "2025-01-28T01:40:06.192Z"
   },
   {
    "duration": 16,
    "start_time": "2025-01-28T01:40:07.424Z"
   },
   {
    "duration": 50,
    "start_time": "2025-01-28T01:40:08.833Z"
   },
   {
    "duration": 2923,
    "start_time": "2025-01-28T01:40:09.772Z"
   },
   {
    "duration": 469,
    "start_time": "2025-01-28T01:40:12.698Z"
   },
   {
    "duration": 2572,
    "start_time": "2025-01-28T01:40:14.634Z"
   },
   {
    "duration": 6,
    "start_time": "2025-01-28T01:40:17.393Z"
   },
   {
    "duration": 4,
    "start_time": "2025-01-28T01:40:20.160Z"
   },
   {
    "duration": 22,
    "start_time": "2025-01-28T01:40:22.027Z"
   },
   {
    "duration": 80837,
    "start_time": "2025-01-28T01:40:23.607Z"
   },
   {
    "duration": 361,
    "start_time": "2025-01-28T01:42:28.638Z"
   },
   {
    "duration": 19,
    "start_time": "2025-01-28T01:43:57.097Z"
   },
   {
    "duration": 18,
    "start_time": "2025-01-28T01:44:01.336Z"
   },
   {
    "duration": 262994,
    "start_time": "2025-01-28T01:46:09.471Z"
   },
   {
    "duration": 196,
    "start_time": "2025-01-28T01:54:43.816Z"
   },
   {
    "duration": 19893,
    "start_time": "2025-01-28T01:55:50.185Z"
   },
   {
    "duration": 1034,
    "start_time": "2025-01-28T02:11:01.770Z"
   },
   {
    "duration": 536,
    "start_time": "2025-01-28T02:11:02.806Z"
   },
   {
    "duration": 23,
    "start_time": "2025-01-28T02:11:04.330Z"
   },
   {
    "duration": 25,
    "start_time": "2025-01-28T02:11:04.808Z"
   },
   {
    "duration": 12,
    "start_time": "2025-01-28T02:11:05.480Z"
   },
   {
    "duration": 16,
    "start_time": "2025-01-28T02:11:06.131Z"
   },
   {
    "duration": 52,
    "start_time": "2025-01-28T02:11:08.047Z"
   },
   {
    "duration": 2870,
    "start_time": "2025-01-28T02:11:09.157Z"
   },
   {
    "duration": 518,
    "start_time": "2025-01-28T02:11:12.029Z"
   },
   {
    "duration": 2422,
    "start_time": "2025-01-28T02:11:13.030Z"
   },
   {
    "duration": 6,
    "start_time": "2025-01-28T02:11:15.657Z"
   },
   {
    "duration": 4,
    "start_time": "2025-01-28T02:11:18.577Z"
   },
   {
    "duration": 2,
    "start_time": "2025-01-28T02:11:20.826Z"
   },
   {
    "duration": 639,
    "start_time": "2025-01-28T02:11:32.275Z"
   },
   {
    "duration": 1040,
    "start_time": "2025-01-28T02:22:10.551Z"
   },
   {
    "duration": 548,
    "start_time": "2025-01-28T02:22:11.593Z"
   },
   {
    "duration": 25,
    "start_time": "2025-01-28T02:22:13.156Z"
   },
   {
    "duration": 26,
    "start_time": "2025-01-28T02:22:13.656Z"
   },
   {
    "duration": 12,
    "start_time": "2025-01-28T02:22:14.259Z"
   },
   {
    "duration": 15,
    "start_time": "2025-01-28T02:22:14.884Z"
   },
   {
    "duration": 52,
    "start_time": "2025-01-28T02:22:16.525Z"
   },
   {
    "duration": 2899,
    "start_time": "2025-01-28T02:22:17.994Z"
   },
   {
    "duration": 518,
    "start_time": "2025-01-28T02:22:20.895Z"
   },
   {
    "duration": 2581,
    "start_time": "2025-01-28T02:22:23.293Z"
   },
   {
    "duration": 6,
    "start_time": "2025-01-28T02:22:30.343Z"
   },
   {
    "duration": 4,
    "start_time": "2025-01-28T02:22:34.187Z"
   },
   {
    "duration": 7,
    "start_time": "2025-01-28T02:22:34.924Z"
   },
   {
    "duration": 14,
    "start_time": "2025-01-28T02:22:36.821Z"
   },
   {
    "duration": 26519,
    "start_time": "2025-01-28T02:22:43.008Z"
   },
   {
    "duration": 31,
    "start_time": "2025-01-28T02:23:09.529Z"
   },
   {
    "duration": 806,
    "start_time": "2025-01-28T02:23:09.562Z"
   },
   {
    "duration": 0,
    "start_time": "2025-01-28T02:23:10.370Z"
   },
   {
    "duration": 1047,
    "start_time": "2025-01-28T02:26:46.043Z"
   },
   {
    "duration": 531,
    "start_time": "2025-01-28T02:26:47.092Z"
   },
   {
    "duration": 30,
    "start_time": "2025-01-28T02:26:47.625Z"
   },
   {
    "duration": 32,
    "start_time": "2025-01-28T02:26:47.657Z"
   },
   {
    "duration": 13,
    "start_time": "2025-01-28T02:26:48.155Z"
   },
   {
    "duration": 16,
    "start_time": "2025-01-28T02:26:48.943Z"
   },
   {
    "duration": 52,
    "start_time": "2025-01-28T02:26:50.477Z"
   },
   {
    "duration": 2825,
    "start_time": "2025-01-28T02:26:51.969Z"
   },
   {
    "duration": 454,
    "start_time": "2025-01-28T02:26:54.797Z"
   },
   {
    "duration": 2426,
    "start_time": "2025-01-28T02:26:55.254Z"
   },
   {
    "duration": 6,
    "start_time": "2025-01-28T02:26:57.684Z"
   },
   {
    "duration": 335,
    "start_time": "2025-01-28T02:26:58.526Z"
   },
   {
    "duration": 19,
    "start_time": "2025-01-28T02:28:04.116Z"
   },
   {
    "duration": 18,
    "start_time": "2025-01-28T02:28:05.305Z"
   },
   {
    "duration": 18,
    "start_time": "2025-01-28T02:29:53.002Z"
   },
   {
    "duration": 286,
    "start_time": "2025-01-28T02:34:16.063Z"
   },
   {
    "duration": 1071,
    "start_time": "2025-01-28T02:34:30.750Z"
   },
   {
    "duration": 538,
    "start_time": "2025-01-28T02:34:31.823Z"
   },
   {
    "duration": 23,
    "start_time": "2025-01-28T02:34:32.378Z"
   },
   {
    "duration": 26,
    "start_time": "2025-01-28T02:34:33.174Z"
   },
   {
    "duration": 14,
    "start_time": "2025-01-28T02:34:34.015Z"
   },
   {
    "duration": 15,
    "start_time": "2025-01-28T02:34:34.784Z"
   },
   {
    "duration": 51,
    "start_time": "2025-01-28T02:34:36.798Z"
   },
   {
    "duration": 2980,
    "start_time": "2025-01-28T02:34:39.563Z"
   },
   {
    "duration": 566,
    "start_time": "2025-01-28T02:34:43.324Z"
   },
   {
    "duration": 2485,
    "start_time": "2025-01-28T02:34:44.972Z"
   },
   {
    "duration": 8,
    "start_time": "2025-01-28T02:34:47.926Z"
   },
   {
    "duration": 660,
    "start_time": "2025-01-28T02:34:57.508Z"
   },
   {
    "duration": 115974,
    "start_time": "2025-01-28T02:37:27.868Z"
   },
   {
    "duration": 65,
    "start_time": "2025-01-28T02:44:10.371Z"
   },
   {
    "duration": 105383,
    "start_time": "2025-01-28T02:51:49.261Z"
   },
   {
    "duration": 1023167,
    "start_time": "2025-01-28T02:55:27.599Z"
   },
   {
    "duration": 21,
    "start_time": "2025-01-28T03:12:51.914Z"
   },
   {
    "duration": 1108,
    "start_time": "2025-01-28T03:13:10.423Z"
   },
   {
    "duration": 535,
    "start_time": "2025-01-28T03:13:11.534Z"
   },
   {
    "duration": 25,
    "start_time": "2025-01-28T03:13:12.071Z"
   },
   {
    "duration": 41,
    "start_time": "2025-01-28T03:13:12.097Z"
   },
   {
    "duration": 13,
    "start_time": "2025-01-28T03:13:12.142Z"
   },
   {
    "duration": 20,
    "start_time": "2025-01-28T03:13:12.159Z"
   },
   {
    "duration": 99,
    "start_time": "2025-01-28T03:13:12.181Z"
   },
   {
    "duration": 3017,
    "start_time": "2025-01-28T03:13:12.282Z"
   },
   {
    "duration": 470,
    "start_time": "2025-01-28T03:13:15.301Z"
   },
   {
    "duration": 2572,
    "start_time": "2025-01-28T03:13:15.773Z"
   },
   {
    "duration": 5,
    "start_time": "2025-01-28T03:13:18.347Z"
   },
   {
    "duration": 379,
    "start_time": "2025-01-28T03:13:18.354Z"
   },
   {
    "duration": 0,
    "start_time": "2025-01-28T03:13:18.735Z"
   },
   {
    "duration": 1039,
    "start_time": "2025-01-28T03:20:44.252Z"
   },
   {
    "duration": 543,
    "start_time": "2025-01-28T03:20:45.294Z"
   },
   {
    "duration": 24,
    "start_time": "2025-01-28T03:20:45.839Z"
   },
   {
    "duration": 28,
    "start_time": "2025-01-28T03:20:45.867Z"
   },
   {
    "duration": 37,
    "start_time": "2025-01-28T03:20:45.896Z"
   },
   {
    "duration": 15,
    "start_time": "2025-01-28T03:20:45.935Z"
   },
   {
    "duration": 52,
    "start_time": "2025-01-28T03:20:45.953Z"
   },
   {
    "duration": 3032,
    "start_time": "2025-01-28T03:20:46.007Z"
   },
   {
    "duration": 503,
    "start_time": "2025-01-28T03:20:49.041Z"
   },
   {
    "duration": 2508,
    "start_time": "2025-01-28T03:20:49.547Z"
   },
   {
    "duration": 6,
    "start_time": "2025-01-28T03:20:52.057Z"
   },
   {
    "duration": 375,
    "start_time": "2025-01-28T03:20:52.065Z"
   },
   {
    "duration": 2,
    "start_time": "2025-01-28T03:22:42.804Z"
   },
   {
    "duration": 304,
    "start_time": "2025-01-28T03:23:25.504Z"
   },
   {
    "duration": 1029,
    "start_time": "2025-01-28T03:28:36.358Z"
   },
   {
    "duration": 565,
    "start_time": "2025-01-28T03:28:37.389Z"
   },
   {
    "duration": 23,
    "start_time": "2025-01-28T03:28:37.955Z"
   },
   {
    "duration": 25,
    "start_time": "2025-01-28T03:28:37.980Z"
   },
   {
    "duration": 36,
    "start_time": "2025-01-28T03:28:38.007Z"
   },
   {
    "duration": 15,
    "start_time": "2025-01-28T03:28:38.046Z"
   },
   {
    "duration": 68,
    "start_time": "2025-01-28T03:28:38.063Z"
   },
   {
    "duration": 2967,
    "start_time": "2025-01-28T03:28:38.133Z"
   },
   {
    "duration": 451,
    "start_time": "2025-01-28T03:28:41.102Z"
   },
   {
    "duration": 2450,
    "start_time": "2025-01-28T03:28:41.556Z"
   },
   {
    "duration": 6,
    "start_time": "2025-01-28T03:28:44.008Z"
   },
   {
    "duration": 23,
    "start_time": "2025-01-28T03:28:44.016Z"
   },
   {
    "duration": 104601,
    "start_time": "2025-01-28T03:29:13.687Z"
   },
   {
    "duration": 444539,
    "start_time": "2025-01-28T03:31:45.477Z"
   },
   {
    "duration": 0,
    "start_time": "2025-01-28T03:40:30.752Z"
   },
   {
    "duration": 19,
    "start_time": "2025-01-28T03:41:06.325Z"
   },
   {
    "duration": 1012,
    "start_time": "2025-01-28T03:41:12.903Z"
   },
   {
    "duration": 515,
    "start_time": "2025-01-28T03:41:13.917Z"
   },
   {
    "duration": 24,
    "start_time": "2025-01-28T03:41:14.434Z"
   },
   {
    "duration": 27,
    "start_time": "2025-01-28T03:41:14.459Z"
   },
   {
    "duration": 12,
    "start_time": "2025-01-28T03:41:14.489Z"
   },
   {
    "duration": 39,
    "start_time": "2025-01-28T03:41:14.503Z"
   },
   {
    "duration": 54,
    "start_time": "2025-01-28T03:41:14.544Z"
   },
   {
    "duration": 2997,
    "start_time": "2025-01-28T03:41:14.600Z"
   },
   {
    "duration": 527,
    "start_time": "2025-01-28T03:41:17.599Z"
   },
   {
    "duration": 2556,
    "start_time": "2025-01-28T03:41:18.128Z"
   },
   {
    "duration": 6,
    "start_time": "2025-01-28T03:41:20.686Z"
   },
   {
    "duration": 11,
    "start_time": "2025-01-28T03:41:20.694Z"
   },
   {
    "duration": 105992,
    "start_time": "2025-01-28T03:41:20.706Z"
   },
   {
    "duration": 391,
    "start_time": "2025-01-28T03:43:06.701Z"
   },
   {
    "duration": 21,
    "start_time": "2025-01-28T03:44:07.528Z"
   },
   {
    "duration": 1073,
    "start_time": "2025-01-28T03:44:37.436Z"
   },
   {
    "duration": 551,
    "start_time": "2025-01-28T03:44:38.511Z"
   },
   {
    "duration": 29,
    "start_time": "2025-01-28T03:44:39.063Z"
   },
   {
    "duration": 50,
    "start_time": "2025-01-28T03:44:39.094Z"
   },
   {
    "duration": 14,
    "start_time": "2025-01-28T03:44:39.146Z"
   },
   {
    "duration": 14,
    "start_time": "2025-01-28T03:44:39.162Z"
   },
   {
    "duration": 77,
    "start_time": "2025-01-28T03:44:39.178Z"
   },
   {
    "duration": 3143,
    "start_time": "2025-01-28T03:44:39.257Z"
   },
   {
    "duration": 496,
    "start_time": "2025-01-28T03:44:42.402Z"
   },
   {
    "duration": 2517,
    "start_time": "2025-01-28T03:44:42.901Z"
   },
   {
    "duration": 11,
    "start_time": "2025-01-28T03:44:45.420Z"
   },
   {
    "duration": 11,
    "start_time": "2025-01-28T03:44:45.433Z"
   },
   {
    "duration": 105747,
    "start_time": "2025-01-28T03:44:45.446Z"
   },
   {
    "duration": 370,
    "start_time": "2025-01-28T03:46:31.196Z"
   },
   {
    "duration": 21,
    "start_time": "2025-01-28T03:49:03.207Z"
   },
   {
    "duration": 1057,
    "start_time": "2025-01-28T03:49:21.073Z"
   },
   {
    "duration": 551,
    "start_time": "2025-01-28T03:49:22.134Z"
   },
   {
    "duration": 24,
    "start_time": "2025-01-28T03:49:22.687Z"
   },
   {
    "duration": 41,
    "start_time": "2025-01-28T03:49:22.715Z"
   },
   {
    "duration": 13,
    "start_time": "2025-01-28T03:49:22.758Z"
   },
   {
    "duration": 16,
    "start_time": "2025-01-28T03:49:22.773Z"
   },
   {
    "duration": 78,
    "start_time": "2025-01-28T03:49:22.791Z"
   },
   {
    "duration": 2961,
    "start_time": "2025-01-28T03:49:22.870Z"
   },
   {
    "duration": 589,
    "start_time": "2025-01-28T03:49:25.832Z"
   },
   {
    "duration": 2527,
    "start_time": "2025-01-28T03:49:26.424Z"
   },
   {
    "duration": 6,
    "start_time": "2025-01-28T03:49:28.952Z"
   },
   {
    "duration": 13,
    "start_time": "2025-01-28T03:49:28.965Z"
   },
   {
    "duration": 105764,
    "start_time": "2025-01-28T03:49:28.980Z"
   },
   {
    "duration": 367,
    "start_time": "2025-01-28T03:51:14.747Z"
   },
   {
    "duration": 995,
    "start_time": "2025-01-28T03:54:00.782Z"
   },
   {
    "duration": 562,
    "start_time": "2025-01-28T03:54:01.779Z"
   },
   {
    "duration": 24,
    "start_time": "2025-01-28T03:54:02.343Z"
   },
   {
    "duration": 33,
    "start_time": "2025-01-28T03:54:02.369Z"
   },
   {
    "duration": 36,
    "start_time": "2025-01-28T03:54:02.405Z"
   },
   {
    "duration": 16,
    "start_time": "2025-01-28T03:54:02.443Z"
   },
   {
    "duration": 80,
    "start_time": "2025-01-28T03:54:02.461Z"
   },
   {
    "duration": 2983,
    "start_time": "2025-01-28T03:54:02.543Z"
   },
   {
    "duration": 496,
    "start_time": "2025-01-28T03:54:05.531Z"
   },
   {
    "duration": 2543,
    "start_time": "2025-01-28T03:54:06.032Z"
   },
   {
    "duration": 8,
    "start_time": "2025-01-28T03:54:08.581Z"
   },
   {
    "duration": 13,
    "start_time": "2025-01-28T03:54:08.591Z"
   },
   {
    "duration": 105119,
    "start_time": "2025-01-28T03:54:08.607Z"
   },
   {
    "duration": 153402,
    "start_time": "2025-01-28T03:55:53.732Z"
   },
   {
    "duration": 1044,
    "start_time": "2025-01-28T03:59:00.745Z"
   },
   {
    "duration": 528,
    "start_time": "2025-01-28T03:59:01.791Z"
   },
   {
    "duration": 27,
    "start_time": "2025-01-28T03:59:02.320Z"
   },
   {
    "duration": 25,
    "start_time": "2025-01-28T03:59:02.349Z"
   },
   {
    "duration": 13,
    "start_time": "2025-01-28T03:59:02.377Z"
   },
   {
    "duration": 41,
    "start_time": "2025-01-28T03:59:02.392Z"
   },
   {
    "duration": 53,
    "start_time": "2025-01-28T03:59:02.435Z"
   },
   {
    "duration": 3013,
    "start_time": "2025-01-28T03:59:02.490Z"
   },
   {
    "duration": 478,
    "start_time": "2025-01-28T03:59:05.505Z"
   },
   {
    "duration": 2499,
    "start_time": "2025-01-28T03:59:05.986Z"
   },
   {
    "duration": 6,
    "start_time": "2025-01-28T03:59:08.487Z"
   },
   {
    "duration": 12,
    "start_time": "2025-01-28T03:59:08.494Z"
   },
   {
    "duration": 104895,
    "start_time": "2025-01-28T03:59:08.508Z"
   },
   {
    "duration": 369,
    "start_time": "2025-01-28T04:00:53.406Z"
   },
   {
    "duration": 22,
    "start_time": "2025-01-28T04:02:08.394Z"
   },
   {
    "duration": 161059,
    "start_time": "2025-01-28T04:03:37.724Z"
   },
   {
    "duration": 51727,
    "start_time": "2025-01-28T04:07:23.264Z"
   },
   {
    "duration": 1034,
    "start_time": "2025-01-28T04:09:24.347Z"
   },
   {
    "duration": 535,
    "start_time": "2025-01-28T04:09:25.383Z"
   },
   {
    "duration": 32,
    "start_time": "2025-01-28T04:09:25.920Z"
   },
   {
    "duration": 26,
    "start_time": "2025-01-28T04:09:25.954Z"
   },
   {
    "duration": 13,
    "start_time": "2025-01-28T04:09:25.981Z"
   },
   {
    "duration": 44,
    "start_time": "2025-01-28T04:09:25.996Z"
   },
   {
    "duration": 53,
    "start_time": "2025-01-28T04:09:26.041Z"
   },
   {
    "duration": 3008,
    "start_time": "2025-01-28T04:09:26.095Z"
   },
   {
    "duration": 461,
    "start_time": "2025-01-28T04:09:29.105Z"
   },
   {
    "duration": 2526,
    "start_time": "2025-01-28T04:09:29.569Z"
   },
   {
    "duration": 5,
    "start_time": "2025-01-28T04:09:32.097Z"
   },
   {
    "duration": 11,
    "start_time": "2025-01-28T04:09:32.104Z"
   },
   {
    "duration": 104672,
    "start_time": "2025-01-28T04:09:32.132Z"
   },
   {
    "duration": 160972,
    "start_time": "2025-01-28T04:11:16.806Z"
   },
   {
    "duration": 51866,
    "start_time": "2025-01-28T04:13:57.780Z"
   },
   {
    "duration": 273,
    "start_time": "2025-01-28T04:19:43.886Z"
   },
   {
    "duration": 52,
    "start_time": "2025-01-28T04:21:34.685Z"
   },
   {
    "duration": 7,
    "start_time": "2025-01-28T04:24:35.671Z"
   },
   {
    "duration": 1037,
    "start_time": "2025-01-28T04:33:01.074Z"
   },
   {
    "duration": 535,
    "start_time": "2025-01-28T04:33:02.113Z"
   },
   {
    "duration": 24,
    "start_time": "2025-01-28T04:33:03.623Z"
   },
   {
    "duration": 26,
    "start_time": "2025-01-28T04:33:04.471Z"
   },
   {
    "duration": 13,
    "start_time": "2025-01-28T04:33:05.586Z"
   },
   {
    "duration": 16,
    "start_time": "2025-01-28T04:33:06.896Z"
   },
   {
    "duration": 49,
    "start_time": "2025-01-28T04:33:09.216Z"
   },
   {
    "duration": 2952,
    "start_time": "2025-01-28T04:33:11.173Z"
   },
   {
    "duration": 471,
    "start_time": "2025-01-28T04:33:15.383Z"
   },
   {
    "duration": 2487,
    "start_time": "2025-01-28T04:33:18.069Z"
   },
   {
    "duration": 6,
    "start_time": "2025-01-28T04:33:21.586Z"
   },
   {
    "duration": 410,
    "start_time": "2025-01-28T04:33:25.809Z"
   },
   {
    "duration": 283,
    "start_time": "2025-01-28T04:36:10.679Z"
   },
   {
    "duration": 2853,
    "start_time": "2025-01-30T22:19:32.291Z"
   },
   {
    "duration": 778,
    "start_time": "2025-01-30T22:19:35.146Z"
   },
   {
    "duration": 25,
    "start_time": "2025-01-30T22:19:35.927Z"
   },
   {
    "duration": 56,
    "start_time": "2025-01-30T22:19:35.953Z"
   },
   {
    "duration": 12,
    "start_time": "2025-01-30T22:19:36.012Z"
   },
   {
    "duration": 17,
    "start_time": "2025-01-30T22:19:36.026Z"
   },
   {
    "duration": 77,
    "start_time": "2025-01-30T22:19:36.045Z"
   },
   {
    "duration": 3068,
    "start_time": "2025-01-30T22:19:36.124Z"
   },
   {
    "duration": 550,
    "start_time": "2025-01-30T22:19:39.194Z"
   },
   {
    "duration": 2503,
    "start_time": "2025-01-30T22:19:39.746Z"
   },
   {
    "duration": 6,
    "start_time": "2025-01-30T22:19:42.251Z"
   },
   {
    "duration": 5,
    "start_time": "2025-01-30T22:19:42.259Z"
   },
   {
    "duration": 0,
    "start_time": "2025-01-30T22:19:42.266Z"
   },
   {
    "duration": 0,
    "start_time": "2025-01-30T22:19:42.268Z"
   },
   {
    "duration": 0,
    "start_time": "2025-01-30T22:19:42.269Z"
   },
   {
    "duration": 0,
    "start_time": "2025-01-30T22:19:42.270Z"
   },
   {
    "duration": 976,
    "start_time": "2025-01-31T00:13:39.877Z"
   },
   {
    "duration": 536,
    "start_time": "2025-01-31T00:13:40.855Z"
   },
   {
    "duration": 28,
    "start_time": "2025-01-31T00:13:41.392Z"
   },
   {
    "duration": 25,
    "start_time": "2025-01-31T00:13:41.421Z"
   },
   {
    "duration": 12,
    "start_time": "2025-01-31T00:13:41.448Z"
   },
   {
    "duration": 14,
    "start_time": "2025-01-31T00:13:41.462Z"
   },
   {
    "duration": 55,
    "start_time": "2025-01-31T00:13:41.505Z"
   },
   {
    "duration": 2812,
    "start_time": "2025-01-31T00:13:41.561Z"
   },
   {
    "duration": 498,
    "start_time": "2025-01-31T00:13:44.375Z"
   },
   {
    "duration": 2508,
    "start_time": "2025-01-31T00:13:44.875Z"
   },
   {
    "duration": 6,
    "start_time": "2025-01-31T00:13:47.385Z"
   },
   {
    "duration": 358,
    "start_time": "2025-01-31T00:13:47.405Z"
   },
   {
    "duration": 0,
    "start_time": "2025-01-31T00:13:47.765Z"
   },
   {
    "duration": 0,
    "start_time": "2025-01-31T00:13:47.767Z"
   },
   {
    "duration": 0,
    "start_time": "2025-01-31T00:13:47.768Z"
   },
   {
    "duration": 0,
    "start_time": "2025-01-31T00:13:47.769Z"
   },
   {
    "duration": 1060,
    "start_time": "2025-01-31T00:18:00.810Z"
   },
   {
    "duration": 509,
    "start_time": "2025-01-31T00:18:01.873Z"
   },
   {
    "duration": 30,
    "start_time": "2025-01-31T00:18:02.384Z"
   },
   {
    "duration": 45,
    "start_time": "2025-01-31T00:18:02.415Z"
   },
   {
    "duration": 12,
    "start_time": "2025-01-31T00:18:02.463Z"
   },
   {
    "duration": 32,
    "start_time": "2025-01-31T00:18:02.476Z"
   },
   {
    "duration": 51,
    "start_time": "2025-01-31T00:18:02.512Z"
   },
   {
    "duration": 3009,
    "start_time": "2025-01-31T00:18:02.565Z"
   },
   {
    "duration": 552,
    "start_time": "2025-01-31T00:18:05.575Z"
   },
   {
    "duration": 2399,
    "start_time": "2025-01-31T00:18:06.130Z"
   },
   {
    "duration": 6,
    "start_time": "2025-01-31T00:18:08.531Z"
   },
   {
    "duration": 356,
    "start_time": "2025-01-31T00:18:08.539Z"
   },
   {
    "duration": 0,
    "start_time": "2025-01-31T00:18:08.897Z"
   },
   {
    "duration": 0,
    "start_time": "2025-01-31T00:18:08.898Z"
   },
   {
    "duration": 0,
    "start_time": "2025-01-31T00:18:08.899Z"
   },
   {
    "duration": 1043,
    "start_time": "2025-01-31T00:33:22.027Z"
   },
   {
    "duration": 526,
    "start_time": "2025-01-31T00:33:23.072Z"
   },
   {
    "duration": 27,
    "start_time": "2025-01-31T00:33:23.599Z"
   },
   {
    "duration": 24,
    "start_time": "2025-01-31T00:33:23.629Z"
   },
   {
    "duration": 12,
    "start_time": "2025-01-31T00:33:23.655Z"
   },
   {
    "duration": 43,
    "start_time": "2025-01-31T00:33:23.668Z"
   },
   {
    "duration": 52,
    "start_time": "2025-01-31T00:33:23.713Z"
   },
   {
    "duration": 2889,
    "start_time": "2025-01-31T00:33:23.767Z"
   },
   {
    "duration": 478,
    "start_time": "2025-01-31T00:33:26.658Z"
   },
   {
    "duration": 2393,
    "start_time": "2025-01-31T00:33:27.139Z"
   },
   {
    "duration": 4,
    "start_time": "2025-01-31T00:33:29.534Z"
   },
   {
    "duration": 1016,
    "start_time": "2025-01-31T00:40:23.550Z"
   },
   {
    "duration": 522,
    "start_time": "2025-01-31T00:40:24.568Z"
   },
   {
    "duration": 40,
    "start_time": "2025-01-31T00:40:25.092Z"
   },
   {
    "duration": 38,
    "start_time": "2025-01-31T00:40:25.137Z"
   },
   {
    "duration": 33,
    "start_time": "2025-01-31T00:40:25.177Z"
   },
   {
    "duration": 21,
    "start_time": "2025-01-31T00:40:25.213Z"
   },
   {
    "duration": 84,
    "start_time": "2025-01-31T00:40:25.237Z"
   },
   {
    "duration": 3082,
    "start_time": "2025-01-31T00:40:25.323Z"
   },
   {
    "duration": 526,
    "start_time": "2025-01-31T00:40:28.407Z"
   },
   {
    "duration": 2764,
    "start_time": "2025-01-31T00:40:28.937Z"
   },
   {
    "duration": 6,
    "start_time": "2025-01-31T00:40:31.702Z"
   },
   {
    "duration": 464,
    "start_time": "2025-01-31T00:40:31.710Z"
   },
   {
    "duration": 0,
    "start_time": "2025-01-31T00:40:32.176Z"
   },
   {
    "duration": 0,
    "start_time": "2025-01-31T00:40:32.178Z"
   },
   {
    "duration": 0,
    "start_time": "2025-01-31T00:40:32.179Z"
   },
   {
    "duration": 1,
    "start_time": "2025-01-31T00:40:32.180Z"
   },
   {
    "duration": 1062,
    "start_time": "2025-01-31T00:43:49.828Z"
   },
   {
    "duration": 532,
    "start_time": "2025-01-31T00:43:50.891Z"
   },
   {
    "duration": 25,
    "start_time": "2025-01-31T00:43:51.427Z"
   },
   {
    "duration": 52,
    "start_time": "2025-01-31T00:43:51.455Z"
   },
   {
    "duration": 15,
    "start_time": "2025-01-31T00:43:51.509Z"
   },
   {
    "duration": 16,
    "start_time": "2025-01-31T00:43:51.526Z"
   },
   {
    "duration": 73,
    "start_time": "2025-01-31T00:43:51.544Z"
   },
   {
    "duration": 2950,
    "start_time": "2025-01-31T00:43:51.619Z"
   },
   {
    "duration": 497,
    "start_time": "2025-01-31T00:43:54.571Z"
   },
   {
    "duration": 2378,
    "start_time": "2025-01-31T00:43:55.070Z"
   },
   {
    "duration": 349,
    "start_time": "2025-01-31T00:43:57.450Z"
   },
   {
    "duration": 0,
    "start_time": "2025-01-31T00:43:57.801Z"
   },
   {
    "duration": 0,
    "start_time": "2025-01-31T00:43:57.801Z"
   },
   {
    "duration": 0,
    "start_time": "2025-01-31T00:43:57.802Z"
   },
   {
    "duration": 0,
    "start_time": "2025-01-31T00:43:57.802Z"
   },
   {
    "duration": 0,
    "start_time": "2025-01-31T00:43:57.803Z"
   },
   {
    "duration": 0,
    "start_time": "2025-01-31T00:43:57.803Z"
   },
   {
    "duration": 999,
    "start_time": "2025-01-31T00:50:44.185Z"
   },
   {
    "duration": 525,
    "start_time": "2025-01-31T00:50:45.187Z"
   },
   {
    "duration": 23,
    "start_time": "2025-01-31T00:50:45.714Z"
   },
   {
    "duration": 25,
    "start_time": "2025-01-31T00:50:45.739Z"
   },
   {
    "duration": 11,
    "start_time": "2025-01-31T00:50:45.766Z"
   },
   {
    "duration": 18,
    "start_time": "2025-01-31T00:50:45.805Z"
   },
   {
    "duration": 52,
    "start_time": "2025-01-31T00:50:45.825Z"
   },
   {
    "duration": 2885,
    "start_time": "2025-01-31T00:50:45.879Z"
   },
   {
    "duration": 459,
    "start_time": "2025-01-31T00:50:48.765Z"
   },
   {
    "duration": 2514,
    "start_time": "2025-01-31T00:50:49.228Z"
   },
   {
    "duration": 616,
    "start_time": "2025-01-31T00:50:51.744Z"
   },
   {
    "duration": 0,
    "start_time": "2025-01-31T00:50:52.361Z"
   },
   {
    "duration": 0,
    "start_time": "2025-01-31T00:50:52.363Z"
   },
   {
    "duration": 0,
    "start_time": "2025-01-31T00:50:52.364Z"
   },
   {
    "duration": 0,
    "start_time": "2025-01-31T00:50:52.366Z"
   },
   {
    "duration": 0,
    "start_time": "2025-01-31T00:50:52.366Z"
   },
   {
    "duration": 0,
    "start_time": "2025-01-31T00:50:52.368Z"
   },
   {
    "duration": 0,
    "start_time": "2025-01-31T00:50:52.369Z"
   },
   {
    "duration": 988,
    "start_time": "2025-01-31T00:53:53.985Z"
   },
   {
    "duration": 510,
    "start_time": "2025-01-31T00:53:54.975Z"
   },
   {
    "duration": 32,
    "start_time": "2025-01-31T00:53:55.487Z"
   },
   {
    "duration": 26,
    "start_time": "2025-01-31T00:53:55.520Z"
   },
   {
    "duration": 12,
    "start_time": "2025-01-31T00:53:55.548Z"
   },
   {
    "duration": 15,
    "start_time": "2025-01-31T00:53:55.561Z"
   },
   {
    "duration": 52,
    "start_time": "2025-01-31T00:53:55.606Z"
   },
   {
    "duration": 2797,
    "start_time": "2025-01-31T00:53:55.660Z"
   },
   {
    "duration": 497,
    "start_time": "2025-01-31T00:53:58.459Z"
   },
   {
    "duration": 2428,
    "start_time": "2025-01-31T00:53:58.957Z"
   },
   {
    "duration": 30,
    "start_time": "2025-01-31T00:54:01.387Z"
   },
   {
    "duration": 361,
    "start_time": "2025-01-31T00:54:01.419Z"
   },
   {
    "duration": 0,
    "start_time": "2025-01-31T00:54:01.782Z"
   },
   {
    "duration": 0,
    "start_time": "2025-01-31T00:54:01.784Z"
   },
   {
    "duration": 0,
    "start_time": "2025-01-31T00:54:01.785Z"
   },
   {
    "duration": 0,
    "start_time": "2025-01-31T00:54:01.786Z"
   },
   {
    "duration": 0,
    "start_time": "2025-01-31T00:54:01.788Z"
   },
   {
    "duration": 0,
    "start_time": "2025-01-31T00:54:01.789Z"
   },
   {
    "duration": 13,
    "start_time": "2025-01-31T00:55:43.095Z"
   },
   {
    "duration": 982,
    "start_time": "2025-01-31T00:55:55.200Z"
   },
   {
    "duration": 533,
    "start_time": "2025-01-31T00:55:56.184Z"
   },
   {
    "duration": 24,
    "start_time": "2025-01-31T00:55:56.719Z"
   },
   {
    "duration": 25,
    "start_time": "2025-01-31T00:55:56.745Z"
   },
   {
    "duration": 37,
    "start_time": "2025-01-31T00:55:56.772Z"
   },
   {
    "duration": 15,
    "start_time": "2025-01-31T00:55:56.811Z"
   },
   {
    "duration": 51,
    "start_time": "2025-01-31T00:55:56.827Z"
   },
   {
    "duration": 3014,
    "start_time": "2025-01-31T00:55:56.880Z"
   },
   {
    "duration": 521,
    "start_time": "2025-01-31T00:55:59.896Z"
   },
   {
    "duration": 2537,
    "start_time": "2025-01-31T00:56:00.419Z"
   },
   {
    "duration": 22,
    "start_time": "2025-01-31T00:56:02.958Z"
   },
   {
    "duration": 31,
    "start_time": "2025-01-31T00:56:02.983Z"
   },
   {
    "duration": 8,
    "start_time": "2025-01-31T00:56:03.015Z"
   },
   {
    "duration": 47,
    "start_time": "2025-01-31T00:56:03.026Z"
   },
   {
    "duration": 66,
    "start_time": "2025-01-31T00:56:03.075Z"
   },
   {
    "duration": 684,
    "start_time": "2025-01-31T00:56:03.144Z"
   },
   {
    "duration": 0,
    "start_time": "2025-01-31T00:56:03.830Z"
   },
   {
    "duration": 0,
    "start_time": "2025-01-31T00:56:03.832Z"
   },
   {
    "duration": 1056,
    "start_time": "2025-01-31T01:16:32.320Z"
   },
   {
    "duration": 532,
    "start_time": "2025-01-31T01:16:33.378Z"
   },
   {
    "duration": 23,
    "start_time": "2025-01-31T01:16:33.914Z"
   },
   {
    "duration": 25,
    "start_time": "2025-01-31T01:16:33.939Z"
   },
   {
    "duration": 12,
    "start_time": "2025-01-31T01:16:33.965Z"
   },
   {
    "duration": 40,
    "start_time": "2025-01-31T01:16:33.979Z"
   },
   {
    "duration": 51,
    "start_time": "2025-01-31T01:16:34.020Z"
   },
   {
    "duration": 2817,
    "start_time": "2025-01-31T01:16:34.073Z"
   },
   {
    "duration": 530,
    "start_time": "2025-01-31T01:16:36.892Z"
   },
   {
    "duration": 2440,
    "start_time": "2025-01-31T01:16:37.424Z"
   },
   {
    "duration": 22,
    "start_time": "2025-01-31T01:16:39.866Z"
   },
   {
    "duration": 24,
    "start_time": "2025-01-31T01:16:39.889Z"
   },
   {
    "duration": 5,
    "start_time": "2025-01-31T01:16:39.917Z"
   },
   {
    "duration": 49,
    "start_time": "2025-01-31T01:16:39.924Z"
   },
   {
    "duration": 69,
    "start_time": "2025-01-31T01:16:39.975Z"
   },
   {
    "duration": 678,
    "start_time": "2025-01-31T01:16:40.046Z"
   },
   {
    "duration": 0,
    "start_time": "2025-01-31T01:16:40.726Z"
   },
   {
    "duration": 0,
    "start_time": "2025-01-31T01:16:40.727Z"
   },
   {
    "duration": 986,
    "start_time": "2025-01-31T01:23:47.774Z"
   },
   {
    "duration": 558,
    "start_time": "2025-01-31T01:23:48.761Z"
   },
   {
    "duration": 24,
    "start_time": "2025-01-31T01:23:49.321Z"
   },
   {
    "duration": 25,
    "start_time": "2025-01-31T01:23:49.348Z"
   },
   {
    "duration": 38,
    "start_time": "2025-01-31T01:23:49.376Z"
   },
   {
    "duration": 16,
    "start_time": "2025-01-31T01:23:49.416Z"
   },
   {
    "duration": 70,
    "start_time": "2025-01-31T01:23:49.435Z"
   },
   {
    "duration": 2859,
    "start_time": "2025-01-31T01:23:49.507Z"
   },
   {
    "duration": 459,
    "start_time": "2025-01-31T01:23:52.368Z"
   },
   {
    "duration": 2478,
    "start_time": "2025-01-31T01:23:52.829Z"
   },
   {
    "duration": 4,
    "start_time": "2025-01-31T01:23:55.310Z"
   },
   {
    "duration": 358,
    "start_time": "2025-01-31T01:23:55.315Z"
   },
   {
    "duration": 0,
    "start_time": "2025-01-31T01:23:55.675Z"
   },
   {
    "duration": 0,
    "start_time": "2025-01-31T01:23:55.677Z"
   },
   {
    "duration": 0,
    "start_time": "2025-01-31T01:23:55.678Z"
   },
   {
    "duration": 1025,
    "start_time": "2025-01-31T01:41:39.333Z"
   },
   {
    "duration": 529,
    "start_time": "2025-01-31T01:41:40.361Z"
   },
   {
    "duration": 27,
    "start_time": "2025-01-31T01:41:40.892Z"
   },
   {
    "duration": 25,
    "start_time": "2025-01-31T01:41:40.921Z"
   },
   {
    "duration": 12,
    "start_time": "2025-01-31T01:41:40.950Z"
   },
   {
    "duration": 15,
    "start_time": "2025-01-31T01:41:40.963Z"
   },
   {
    "duration": 51,
    "start_time": "2025-01-31T01:41:41.006Z"
   },
   {
    "duration": 2918,
    "start_time": "2025-01-31T01:41:41.058Z"
   },
   {
    "duration": 459,
    "start_time": "2025-01-31T01:41:43.978Z"
   },
   {
    "duration": 2524,
    "start_time": "2025-01-31T01:41:44.439Z"
   },
   {
    "duration": 4,
    "start_time": "2025-01-31T01:41:46.964Z"
   },
   {
    "duration": 35,
    "start_time": "2025-01-31T01:41:46.970Z"
   },
   {
    "duration": 48,
    "start_time": "2025-01-31T01:41:47.007Z"
   },
   {
    "duration": 680,
    "start_time": "2025-01-31T01:41:47.058Z"
   },
   {
    "duration": 0,
    "start_time": "2025-01-31T01:41:47.740Z"
   },
   {
    "duration": 0,
    "start_time": "2025-01-31T01:41:47.742Z"
   },
   {
    "duration": 3,
    "start_time": "2025-01-31T01:56:40.179Z"
   },
   {
    "duration": 513,
    "start_time": "2025-01-31T01:56:40.515Z"
   },
   {
    "duration": 23,
    "start_time": "2025-01-31T01:56:41.927Z"
   },
   {
    "duration": 28,
    "start_time": "2025-01-31T01:56:42.442Z"
   },
   {
    "duration": 15,
    "start_time": "2025-01-31T01:56:43.201Z"
   },
   {
    "duration": 16,
    "start_time": "2025-01-31T01:56:43.984Z"
   },
   {
    "duration": 53,
    "start_time": "2025-01-31T01:56:51.098Z"
   },
   {
    "duration": 2835,
    "start_time": "2025-01-31T01:56:52.570Z"
   },
   {
    "duration": 512,
    "start_time": "2025-01-31T01:56:55.408Z"
   },
   {
    "duration": 2526,
    "start_time": "2025-01-31T01:56:55.922Z"
   },
   {
    "duration": 4,
    "start_time": "2025-01-31T01:56:58.450Z"
   },
   {
    "duration": 147,
    "start_time": "2025-01-31T01:56:59.095Z"
   },
   {
    "duration": 99,
    "start_time": "2025-01-31T01:56:59.573Z"
   },
   {
    "duration": 62,
    "start_time": "2025-01-31T01:57:00.355Z"
   },
   {
    "duration": 16,
    "start_time": "2025-01-31T01:57:00.771Z"
   },
   {
    "duration": 48,
    "start_time": "2025-01-31T01:57:01.019Z"
   },
   {
    "duration": 88,
    "start_time": "2025-01-31T01:58:25.288Z"
   },
   {
    "duration": 80,
    "start_time": "2025-01-31T01:58:31.328Z"
   },
   {
    "duration": 4,
    "start_time": "2025-01-31T01:58:53.339Z"
   },
   {
    "duration": 56,
    "start_time": "2025-01-31T01:58:53.740Z"
   },
   {
    "duration": 1041,
    "start_time": "2025-01-31T01:59:04.831Z"
   },
   {
    "duration": 579,
    "start_time": "2025-01-31T01:59:05.874Z"
   },
   {
    "duration": 30,
    "start_time": "2025-01-31T01:59:06.455Z"
   },
   {
    "duration": 46,
    "start_time": "2025-01-31T01:59:06.487Z"
   },
   {
    "duration": 14,
    "start_time": "2025-01-31T01:59:06.535Z"
   },
   {
    "duration": 16,
    "start_time": "2025-01-31T01:59:06.551Z"
   },
   {
    "duration": 93,
    "start_time": "2025-01-31T01:59:06.570Z"
   },
   {
    "duration": 3233,
    "start_time": "2025-01-31T01:59:06.665Z"
   },
   {
    "duration": 489,
    "start_time": "2025-01-31T01:59:09.900Z"
   },
   {
    "duration": 2728,
    "start_time": "2025-01-31T01:59:10.392Z"
   },
   {
    "duration": 5,
    "start_time": "2025-01-31T01:59:13.123Z"
   },
   {
    "duration": 569,
    "start_time": "2025-01-31T01:59:13.130Z"
   },
   {
    "duration": 0,
    "start_time": "2025-01-31T01:59:13.701Z"
   },
   {
    "duration": 0,
    "start_time": "2025-01-31T01:59:13.705Z"
   },
   {
    "duration": 0,
    "start_time": "2025-01-31T01:59:13.706Z"
   },
   {
    "duration": 0,
    "start_time": "2025-01-31T01:59:13.707Z"
   },
   {
    "duration": 104,
    "start_time": "2025-01-31T02:00:17.716Z"
   },
   {
    "duration": 22,
    "start_time": "2025-01-31T02:03:46.489Z"
   },
   {
    "duration": 46,
    "start_time": "2025-01-31T02:03:48.944Z"
   },
   {
    "duration": 980,
    "start_time": "2025-01-31T02:04:32.786Z"
   },
   {
    "duration": 543,
    "start_time": "2025-01-31T02:04:33.767Z"
   },
   {
    "duration": 23,
    "start_time": "2025-01-31T02:04:34.312Z"
   },
   {
    "duration": 27,
    "start_time": "2025-01-31T02:04:34.336Z"
   },
   {
    "duration": 41,
    "start_time": "2025-01-31T02:04:34.365Z"
   },
   {
    "duration": 18,
    "start_time": "2025-01-31T02:04:34.407Z"
   },
   {
    "duration": 51,
    "start_time": "2025-01-31T02:04:34.427Z"
   },
   {
    "duration": 2986,
    "start_time": "2025-01-31T02:04:34.480Z"
   },
   {
    "duration": 459,
    "start_time": "2025-01-31T02:04:37.467Z"
   },
   {
    "duration": 2402,
    "start_time": "2025-01-31T02:04:37.928Z"
   },
   {
    "duration": 4,
    "start_time": "2025-01-31T02:04:40.332Z"
   },
   {
    "duration": 26,
    "start_time": "2025-01-31T02:04:40.337Z"
   },
   {
    "duration": 69,
    "start_time": "2025-01-31T02:04:40.365Z"
   },
   {
    "duration": 607,
    "start_time": "2025-01-31T02:04:40.438Z"
   },
   {
    "duration": 0,
    "start_time": "2025-01-31T02:04:41.047Z"
   },
   {
    "duration": 0,
    "start_time": "2025-01-31T02:04:41.049Z"
   },
   {
    "duration": 8,
    "start_time": "2025-01-31T02:08:30.825Z"
   },
   {
    "duration": 18,
    "start_time": "2025-01-31T02:09:08.097Z"
   },
   {
    "duration": 13,
    "start_time": "2025-01-31T02:09:10.727Z"
   },
   {
    "duration": 6,
    "start_time": "2025-01-31T02:09:22.740Z"
   },
   {
    "duration": 1031,
    "start_time": "2025-01-31T02:12:48.140Z"
   },
   {
    "duration": 526,
    "start_time": "2025-01-31T02:12:49.173Z"
   },
   {
    "duration": 23,
    "start_time": "2025-01-31T02:12:49.704Z"
   },
   {
    "duration": 24,
    "start_time": "2025-01-31T02:12:49.729Z"
   },
   {
    "duration": 13,
    "start_time": "2025-01-31T02:12:49.756Z"
   },
   {
    "duration": 40,
    "start_time": "2025-01-31T02:12:49.770Z"
   },
   {
    "duration": 51,
    "start_time": "2025-01-31T02:12:49.812Z"
   },
   {
    "duration": 3023,
    "start_time": "2025-01-31T02:12:49.865Z"
   },
   {
    "duration": 540,
    "start_time": "2025-01-31T02:12:52.890Z"
   },
   {
    "duration": 2521,
    "start_time": "2025-01-31T02:12:53.433Z"
   },
   {
    "duration": 4,
    "start_time": "2025-01-31T02:12:55.955Z"
   },
   {
    "duration": 361,
    "start_time": "2025-01-31T02:12:55.961Z"
   },
   {
    "duration": 0,
    "start_time": "2025-01-31T02:12:56.324Z"
   },
   {
    "duration": 0,
    "start_time": "2025-01-31T02:12:56.326Z"
   },
   {
    "duration": 0,
    "start_time": "2025-01-31T02:12:56.327Z"
   },
   {
    "duration": 0,
    "start_time": "2025-01-31T02:12:56.329Z"
   },
   {
    "duration": 2741,
    "start_time": "2025-01-31T23:04:11.551Z"
   },
   {
    "duration": 661,
    "start_time": "2025-01-31T23:04:14.294Z"
   },
   {
    "duration": 30,
    "start_time": "2025-01-31T23:04:14.957Z"
   },
   {
    "duration": 26,
    "start_time": "2025-01-31T23:04:14.990Z"
   },
   {
    "duration": 14,
    "start_time": "2025-01-31T23:04:15.018Z"
   },
   {
    "duration": 15,
    "start_time": "2025-01-31T23:04:15.034Z"
   },
   {
    "duration": 81,
    "start_time": "2025-01-31T23:04:15.051Z"
   },
   {
    "duration": 2840,
    "start_time": "2025-01-31T23:04:15.134Z"
   },
   {
    "duration": 522,
    "start_time": "2025-01-31T23:04:17.976Z"
   },
   {
    "duration": 2634,
    "start_time": "2025-01-31T23:04:18.501Z"
   },
   {
    "duration": 10,
    "start_time": "2025-01-31T23:04:21.137Z"
   },
   {
    "duration": 38,
    "start_time": "2025-01-31T23:04:21.149Z"
   },
   {
    "duration": 375,
    "start_time": "2025-01-31T23:04:21.189Z"
   },
   {
    "duration": 966,
    "start_time": "2025-01-31T23:06:38.558Z"
   },
   {
    "duration": 525,
    "start_time": "2025-01-31T23:06:39.526Z"
   },
   {
    "duration": 37,
    "start_time": "2025-01-31T23:06:40.052Z"
   },
   {
    "duration": 26,
    "start_time": "2025-01-31T23:06:40.091Z"
   },
   {
    "duration": 13,
    "start_time": "2025-01-31T23:06:40.118Z"
   },
   {
    "duration": 15,
    "start_time": "2025-01-31T23:06:40.132Z"
   },
   {
    "duration": 77,
    "start_time": "2025-01-31T23:06:40.148Z"
   },
   {
    "duration": 2828,
    "start_time": "2025-01-31T23:06:40.227Z"
   },
   {
    "duration": 544,
    "start_time": "2025-01-31T23:06:43.057Z"
   },
   {
    "duration": 2612,
    "start_time": "2025-01-31T23:06:43.605Z"
   },
   {
    "duration": 9,
    "start_time": "2025-01-31T23:06:46.219Z"
   },
   {
    "duration": 19,
    "start_time": "2025-01-31T23:06:46.230Z"
   },
   {
    "duration": 150445,
    "start_time": "2025-01-31T23:06:46.250Z"
   },
   {
    "duration": 1037,
    "start_time": "2025-01-31T23:14:08.215Z"
   },
   {
    "duration": 525,
    "start_time": "2025-01-31T23:14:09.254Z"
   },
   {
    "duration": 27,
    "start_time": "2025-01-31T23:14:09.780Z"
   },
   {
    "duration": 25,
    "start_time": "2025-01-31T23:14:09.809Z"
   },
   {
    "duration": 11,
    "start_time": "2025-01-31T23:14:09.836Z"
   },
   {
    "duration": 40,
    "start_time": "2025-01-31T23:14:09.849Z"
   },
   {
    "duration": 50,
    "start_time": "2025-01-31T23:14:09.891Z"
   },
   {
    "duration": 2899,
    "start_time": "2025-01-31T23:14:09.943Z"
   },
   {
    "duration": 455,
    "start_time": "2025-01-31T23:14:12.844Z"
   },
   {
    "duration": 2414,
    "start_time": "2025-01-31T23:14:13.302Z"
   },
   {
    "duration": 10,
    "start_time": "2025-01-31T23:14:15.718Z"
   },
   {
    "duration": 18,
    "start_time": "2025-01-31T23:14:15.729Z"
   },
   {
    "duration": 149926,
    "start_time": "2025-01-31T23:14:15.749Z"
   },
   {
    "duration": 1008,
    "start_time": "2025-01-31T23:22:36.827Z"
   },
   {
    "duration": 541,
    "start_time": "2025-01-31T23:22:37.838Z"
   },
   {
    "duration": 24,
    "start_time": "2025-01-31T23:22:38.386Z"
   },
   {
    "duration": 25,
    "start_time": "2025-01-31T23:22:38.412Z"
   },
   {
    "duration": 12,
    "start_time": "2025-01-31T23:22:38.440Z"
   },
   {
    "duration": 44,
    "start_time": "2025-01-31T23:22:38.454Z"
   },
   {
    "duration": 50,
    "start_time": "2025-01-31T23:22:38.500Z"
   },
   {
    "duration": 2906,
    "start_time": "2025-01-31T23:22:38.552Z"
   },
   {
    "duration": 507,
    "start_time": "2025-01-31T23:22:41.460Z"
   },
   {
    "duration": 2549,
    "start_time": "2025-01-31T23:22:41.970Z"
   },
   {
    "duration": 10,
    "start_time": "2025-01-31T23:22:44.521Z"
   },
   {
    "duration": 19,
    "start_time": "2025-01-31T23:22:44.533Z"
   },
   {
    "duration": 149593,
    "start_time": "2025-01-31T23:22:44.554Z"
   },
   {
    "duration": 1281546,
    "start_time": "2025-01-31T23:25:14.150Z"
   },
   {
    "duration": 21,
    "start_time": "2025-01-31T23:46:35.698Z"
   },
   {
    "duration": 5,
    "start_time": "2025-01-31T23:46:35.721Z"
   },
   {
    "duration": 1111,
    "start_time": "2025-01-31T23:58:34.805Z"
   },
   {
    "duration": 556,
    "start_time": "2025-01-31T23:58:35.919Z"
   },
   {
    "duration": 30,
    "start_time": "2025-01-31T23:58:36.476Z"
   },
   {
    "duration": 28,
    "start_time": "2025-01-31T23:58:36.508Z"
   },
   {
    "duration": 13,
    "start_time": "2025-01-31T23:58:36.539Z"
   },
   {
    "duration": 40,
    "start_time": "2025-01-31T23:58:36.554Z"
   },
   {
    "duration": 56,
    "start_time": "2025-01-31T23:58:36.596Z"
   },
   {
    "duration": 3042,
    "start_time": "2025-01-31T23:58:36.654Z"
   },
   {
    "duration": 501,
    "start_time": "2025-01-31T23:58:39.698Z"
   },
   {
    "duration": 2505,
    "start_time": "2025-01-31T23:58:40.202Z"
   },
   {
    "duration": 88,
    "start_time": "2025-01-31T23:58:42.709Z"
   },
   {
    "duration": 43414,
    "start_time": "2025-01-31T23:58:42.799Z"
   },
   {
    "duration": 390,
    "start_time": "2025-01-31T23:59:26.215Z"
   },
   {
    "duration": 0,
    "start_time": "2025-01-31T23:59:26.607Z"
   },
   {
    "duration": 0,
    "start_time": "2025-01-31T23:59:26.608Z"
   },
   {
    "duration": 1065,
    "start_time": "2025-02-01T00:02:33.296Z"
   },
   {
    "duration": 528,
    "start_time": "2025-02-01T00:02:34.364Z"
   },
   {
    "duration": 22,
    "start_time": "2025-02-01T00:02:34.894Z"
   },
   {
    "duration": 25,
    "start_time": "2025-02-01T00:02:34.918Z"
   },
   {
    "duration": 12,
    "start_time": "2025-02-01T00:02:34.945Z"
   },
   {
    "duration": 14,
    "start_time": "2025-02-01T00:02:34.987Z"
   },
   {
    "duration": 54,
    "start_time": "2025-02-01T00:02:35.003Z"
   },
   {
    "duration": 3027,
    "start_time": "2025-02-01T00:02:35.059Z"
   },
   {
    "duration": 537,
    "start_time": "2025-02-01T00:02:38.088Z"
   },
   {
    "duration": 2406,
    "start_time": "2025-02-01T00:02:38.628Z"
   },
   {
    "duration": 8,
    "start_time": "2025-02-01T00:02:41.036Z"
   },
   {
    "duration": 5,
    "start_time": "2025-02-01T00:02:41.046Z"
   },
   {
    "duration": 34,
    "start_time": "2025-02-01T00:02:41.052Z"
   },
   {
    "duration": 150572,
    "start_time": "2025-02-01T00:02:41.088Z"
   },
   {
    "duration": 1079,
    "start_time": "2025-02-01T00:09:32.927Z"
   },
   {
    "duration": 558,
    "start_time": "2025-02-01T00:09:34.008Z"
   },
   {
    "duration": 31,
    "start_time": "2025-02-01T00:09:34.568Z"
   },
   {
    "duration": 25,
    "start_time": "2025-02-01T00:09:34.601Z"
   },
   {
    "duration": 12,
    "start_time": "2025-02-01T00:09:34.629Z"
   },
   {
    "duration": 44,
    "start_time": "2025-02-01T00:09:34.642Z"
   },
   {
    "duration": 50,
    "start_time": "2025-02-01T00:09:34.687Z"
   },
   {
    "duration": 2917,
    "start_time": "2025-02-01T00:09:34.739Z"
   },
   {
    "duration": 486,
    "start_time": "2025-02-01T00:09:37.659Z"
   },
   {
    "duration": 2371,
    "start_time": "2025-02-01T00:09:38.147Z"
   },
   {
    "duration": 7,
    "start_time": "2025-02-01T00:09:40.521Z"
   },
   {
    "duration": 5,
    "start_time": "2025-02-01T00:09:40.530Z"
   },
   {
    "duration": 18,
    "start_time": "2025-02-01T00:09:40.536Z"
   },
   {
    "duration": 149934,
    "start_time": "2025-02-01T00:09:40.557Z"
   },
   {
    "duration": 1563389,
    "start_time": "2025-02-01T00:12:10.493Z"
   },
   {
    "duration": 29,
    "start_time": "2025-02-01T00:38:13.884Z"
   },
   {
    "duration": 5,
    "start_time": "2025-02-01T00:38:13.915Z"
   },
   {
    "duration": 1129,
    "start_time": "2025-02-01T00:46:31.910Z"
   },
   {
    "duration": 574,
    "start_time": "2025-02-01T00:46:33.041Z"
   },
   {
    "duration": 23,
    "start_time": "2025-02-01T00:46:33.617Z"
   },
   {
    "duration": 47,
    "start_time": "2025-02-01T00:46:33.642Z"
   },
   {
    "duration": 13,
    "start_time": "2025-02-01T00:46:33.693Z"
   },
   {
    "duration": 14,
    "start_time": "2025-02-01T00:46:33.708Z"
   },
   {
    "duration": 70,
    "start_time": "2025-02-01T00:46:33.724Z"
   },
   {
    "duration": 2858,
    "start_time": "2025-02-01T00:46:33.796Z"
   },
   {
    "duration": 508,
    "start_time": "2025-02-01T00:46:36.657Z"
   },
   {
    "duration": 2434,
    "start_time": "2025-02-01T00:46:37.167Z"
   },
   {
    "duration": 5,
    "start_time": "2025-02-01T00:46:39.603Z"
   },
   {
    "duration": 29468,
    "start_time": "2025-02-01T00:47:26.194Z"
   },
   {
    "duration": 1049,
    "start_time": "2025-02-01T00:48:01.598Z"
   },
   {
    "duration": 544,
    "start_time": "2025-02-01T00:48:02.649Z"
   },
   {
    "duration": 25,
    "start_time": "2025-02-01T00:48:03.196Z"
   },
   {
    "duration": 27,
    "start_time": "2025-02-01T00:48:03.223Z"
   },
   {
    "duration": 38,
    "start_time": "2025-02-01T00:48:03.252Z"
   },
   {
    "duration": 16,
    "start_time": "2025-02-01T00:48:03.292Z"
   },
   {
    "duration": 53,
    "start_time": "2025-02-01T00:48:03.309Z"
   },
   {
    "duration": 3011,
    "start_time": "2025-02-01T00:48:03.364Z"
   },
   {
    "duration": 528,
    "start_time": "2025-02-01T00:48:06.378Z"
   },
   {
    "duration": 2512,
    "start_time": "2025-02-01T00:48:06.909Z"
   },
   {
    "duration": 4,
    "start_time": "2025-02-01T00:48:09.424Z"
   },
   {
    "duration": 28984,
    "start_time": "2025-02-01T00:48:09.429Z"
   },
   {
    "duration": 986,
    "start_time": "2025-02-01T00:53:09.455Z"
   },
   {
    "duration": 548,
    "start_time": "2025-02-01T00:53:10.443Z"
   },
   {
    "duration": 24,
    "start_time": "2025-02-01T00:53:10.992Z"
   },
   {
    "duration": 27,
    "start_time": "2025-02-01T00:53:11.018Z"
   },
   {
    "duration": 12,
    "start_time": "2025-02-01T00:53:11.047Z"
   },
   {
    "duration": 16,
    "start_time": "2025-02-01T00:53:11.087Z"
   },
   {
    "duration": 53,
    "start_time": "2025-02-01T00:53:11.105Z"
   },
   {
    "duration": 2894,
    "start_time": "2025-02-01T00:53:11.160Z"
   },
   {
    "duration": 485,
    "start_time": "2025-02-01T00:53:14.056Z"
   },
   {
    "duration": 2467,
    "start_time": "2025-02-01T00:53:14.543Z"
   },
   {
    "duration": 1609,
    "start_time": "2025-02-01T00:53:17.012Z"
   },
   {
    "duration": 1003,
    "start_time": "2025-02-01T01:07:44.924Z"
   },
   {
    "duration": 521,
    "start_time": "2025-02-01T01:07:45.930Z"
   },
   {
    "duration": 24,
    "start_time": "2025-02-01T01:07:46.452Z"
   },
   {
    "duration": 26,
    "start_time": "2025-02-01T01:07:46.487Z"
   },
   {
    "duration": 12,
    "start_time": "2025-02-01T01:07:46.515Z"
   },
   {
    "duration": 16,
    "start_time": "2025-02-01T01:07:46.528Z"
   },
   {
    "duration": 78,
    "start_time": "2025-02-01T01:07:46.546Z"
   },
   {
    "duration": 2830,
    "start_time": "2025-02-01T01:07:46.626Z"
   },
   {
    "duration": 549,
    "start_time": "2025-02-01T01:07:49.459Z"
   },
   {
    "duration": 2492,
    "start_time": "2025-02-01T01:07:50.011Z"
   },
   {
    "duration": 653,
    "start_time": "2025-02-01T01:07:52.505Z"
   },
   {
    "duration": 40,
    "start_time": "2025-02-01T01:14:54.193Z"
   },
   {
    "duration": 1013,
    "start_time": "2025-02-01T01:15:02.440Z"
   },
   {
    "duration": 543,
    "start_time": "2025-02-01T01:15:03.456Z"
   },
   {
    "duration": 26,
    "start_time": "2025-02-01T01:15:04.001Z"
   },
   {
    "duration": 25,
    "start_time": "2025-02-01T01:15:04.029Z"
   },
   {
    "duration": 34,
    "start_time": "2025-02-01T01:15:04.056Z"
   },
   {
    "duration": 15,
    "start_time": "2025-02-01T01:15:04.093Z"
   },
   {
    "duration": 51,
    "start_time": "2025-02-01T01:15:04.109Z"
   },
   {
    "duration": 3007,
    "start_time": "2025-02-01T01:15:04.162Z"
   },
   {
    "duration": 542,
    "start_time": "2025-02-01T01:15:07.171Z"
   },
   {
    "duration": 2495,
    "start_time": "2025-02-01T01:15:07.715Z"
   },
   {
    "duration": 595,
    "start_time": "2025-02-01T01:15:10.212Z"
   },
   {
    "duration": 46,
    "start_time": "2025-02-01T01:18:21.266Z"
   },
   {
    "duration": 1039,
    "start_time": "2025-02-01T01:18:28.600Z"
   },
   {
    "duration": 566,
    "start_time": "2025-02-01T01:18:29.641Z"
   },
   {
    "duration": 25,
    "start_time": "2025-02-01T01:18:30.208Z"
   },
   {
    "duration": 51,
    "start_time": "2025-02-01T01:18:30.236Z"
   },
   {
    "duration": 12,
    "start_time": "2025-02-01T01:18:30.288Z"
   },
   {
    "duration": 15,
    "start_time": "2025-02-01T01:18:30.302Z"
   },
   {
    "duration": 67,
    "start_time": "2025-02-01T01:18:30.319Z"
   },
   {
    "duration": 2990,
    "start_time": "2025-02-01T01:18:30.388Z"
   },
   {
    "duration": 521,
    "start_time": "2025-02-01T01:18:33.380Z"
   },
   {
    "duration": 2398,
    "start_time": "2025-02-01T01:18:33.905Z"
   },
   {
    "duration": 615,
    "start_time": "2025-02-01T01:18:36.305Z"
   },
   {
    "duration": 4,
    "start_time": "2025-02-01T01:22:31.640Z"
   },
   {
    "duration": 998,
    "start_time": "2025-02-01T01:27:37.940Z"
   },
   {
    "duration": 542,
    "start_time": "2025-02-01T01:27:38.940Z"
   },
   {
    "duration": 23,
    "start_time": "2025-02-01T01:27:39.487Z"
   },
   {
    "duration": 25,
    "start_time": "2025-02-01T01:27:39.512Z"
   },
   {
    "duration": 13,
    "start_time": "2025-02-01T01:27:39.539Z"
   },
   {
    "duration": 42,
    "start_time": "2025-02-01T01:27:39.554Z"
   },
   {
    "duration": 53,
    "start_time": "2025-02-01T01:27:39.598Z"
   },
   {
    "duration": 3027,
    "start_time": "2025-02-01T01:27:39.652Z"
   },
   {
    "duration": 522,
    "start_time": "2025-02-01T01:27:42.682Z"
   },
   {
    "duration": 2500,
    "start_time": "2025-02-01T01:27:43.207Z"
   },
   {
    "duration": 366,
    "start_time": "2025-02-01T01:27:45.710Z"
   },
   {
    "duration": 271,
    "start_time": "2025-02-01T01:30:42.018Z"
   },
   {
    "duration": 1031,
    "start_time": "2025-02-01T01:32:59.313Z"
   },
   {
    "duration": 539,
    "start_time": "2025-02-01T01:33:00.347Z"
   },
   {
    "duration": 22,
    "start_time": "2025-02-01T01:33:00.888Z"
   },
   {
    "duration": 25,
    "start_time": "2025-02-01T01:33:00.912Z"
   },
   {
    "duration": 12,
    "start_time": "2025-02-01T01:33:00.939Z"
   },
   {
    "duration": 39,
    "start_time": "2025-02-01T01:33:00.953Z"
   },
   {
    "duration": 53,
    "start_time": "2025-02-01T01:33:00.994Z"
   },
   {
    "duration": 3052,
    "start_time": "2025-02-01T01:33:01.050Z"
   },
   {
    "duration": 550,
    "start_time": "2025-02-01T01:33:04.104Z"
   },
   {
    "duration": 2453,
    "start_time": "2025-02-01T01:33:04.656Z"
   },
   {
    "duration": 10,
    "start_time": "2025-02-01T01:33:07.110Z"
   },
   {
    "duration": 19,
    "start_time": "2025-02-01T01:33:07.123Z"
   },
   {
    "duration": 1034,
    "start_time": "2025-02-01T01:34:10.806Z"
   },
   {
    "duration": 557,
    "start_time": "2025-02-01T01:34:11.842Z"
   },
   {
    "duration": 23,
    "start_time": "2025-02-01T01:34:12.402Z"
   },
   {
    "duration": 26,
    "start_time": "2025-02-01T01:34:12.427Z"
   },
   {
    "duration": 33,
    "start_time": "2025-02-01T01:34:12.458Z"
   },
   {
    "duration": 16,
    "start_time": "2025-02-01T01:34:12.493Z"
   },
   {
    "duration": 53,
    "start_time": "2025-02-01T01:34:12.510Z"
   },
   {
    "duration": 3006,
    "start_time": "2025-02-01T01:34:12.564Z"
   },
   {
    "duration": 561,
    "start_time": "2025-02-01T01:34:15.571Z"
   },
   {
    "duration": 2379,
    "start_time": "2025-02-01T01:34:16.135Z"
   },
   {
    "duration": 8,
    "start_time": "2025-02-01T01:34:18.516Z"
   },
   {
    "duration": 0,
    "start_time": "2025-02-01T01:34:18.526Z"
   },
   {
    "duration": 0,
    "start_time": "2025-02-01T01:34:18.527Z"
   },
   {
    "duration": 0,
    "start_time": "2025-02-01T01:34:18.528Z"
   },
   {
    "duration": 0,
    "start_time": "2025-02-01T01:34:18.529Z"
   },
   {
    "duration": 1035,
    "start_time": "2025-02-01T01:36:06.414Z"
   },
   {
    "duration": 541,
    "start_time": "2025-02-01T01:36:07.452Z"
   },
   {
    "duration": 29,
    "start_time": "2025-02-01T01:36:07.995Z"
   },
   {
    "duration": 29,
    "start_time": "2025-02-01T01:36:08.026Z"
   },
   {
    "duration": 36,
    "start_time": "2025-02-01T01:36:08.059Z"
   },
   {
    "duration": 15,
    "start_time": "2025-02-01T01:36:08.096Z"
   },
   {
    "duration": 73,
    "start_time": "2025-02-01T01:36:08.113Z"
   },
   {
    "duration": 2961,
    "start_time": "2025-02-01T01:36:08.188Z"
   },
   {
    "duration": 472,
    "start_time": "2025-02-01T01:36:11.152Z"
   },
   {
    "duration": 2402,
    "start_time": "2025-02-01T01:36:11.626Z"
   },
   {
    "duration": 9,
    "start_time": "2025-02-01T01:36:14.030Z"
   },
   {
    "duration": 21,
    "start_time": "2025-02-01T01:36:14.040Z"
   },
   {
    "duration": 149950,
    "start_time": "2025-02-01T01:36:14.063Z"
   },
   {
    "duration": 1210719,
    "start_time": "2025-02-01T01:38:44.016Z"
   },
   {
    "duration": 33,
    "start_time": "2025-02-01T01:58:54.736Z"
   },
   {
    "duration": 2731,
    "start_time": "2025-02-01T19:52:16.580Z"
   },
   {
    "duration": 633,
    "start_time": "2025-02-01T19:52:19.313Z"
   },
   {
    "duration": 26,
    "start_time": "2025-02-01T19:52:19.947Z"
   },
   {
    "duration": 47,
    "start_time": "2025-02-01T19:52:19.976Z"
   },
   {
    "duration": 13,
    "start_time": "2025-02-01T19:52:20.025Z"
   },
   {
    "duration": 16,
    "start_time": "2025-02-01T19:52:20.040Z"
   },
   {
    "duration": 84,
    "start_time": "2025-02-01T19:52:20.059Z"
   },
   {
    "duration": 2847,
    "start_time": "2025-02-01T19:52:20.146Z"
   },
   {
    "duration": 534,
    "start_time": "2025-02-01T19:52:22.995Z"
   },
   {
    "duration": 2619,
    "start_time": "2025-02-01T19:52:23.532Z"
   },
   {
    "duration": 10,
    "start_time": "2025-02-01T19:52:26.153Z"
   },
   {
    "duration": 17,
    "start_time": "2025-02-01T19:52:26.166Z"
   },
   {
    "duration": 253,
    "start_time": "2025-02-01T19:52:26.185Z"
   },
   {
    "duration": 0,
    "start_time": "2025-02-01T19:52:26.440Z"
   },
   {
    "duration": 0,
    "start_time": "2025-02-01T19:52:26.441Z"
   },
   {
    "duration": 0,
    "start_time": "2025-02-01T19:52:26.443Z"
   },
   {
    "duration": 1028,
    "start_time": "2025-02-01T22:01:01.636Z"
   },
   {
    "duration": 512,
    "start_time": "2025-02-01T22:01:02.666Z"
   },
   {
    "duration": 31,
    "start_time": "2025-02-01T22:01:03.179Z"
   },
   {
    "duration": 25,
    "start_time": "2025-02-01T22:01:03.212Z"
   },
   {
    "duration": 12,
    "start_time": "2025-02-01T22:01:03.240Z"
   },
   {
    "duration": 16,
    "start_time": "2025-02-01T22:01:03.253Z"
   },
   {
    "duration": 76,
    "start_time": "2025-02-01T22:01:03.270Z"
   },
   {
    "duration": 2852,
    "start_time": "2025-02-01T22:01:03.348Z"
   },
   {
    "duration": 517,
    "start_time": "2025-02-01T22:01:06.201Z"
   },
   {
    "duration": 2513,
    "start_time": "2025-02-01T22:01:06.721Z"
   },
   {
    "duration": 26,
    "start_time": "2025-02-01T22:01:09.235Z"
   },
   {
    "duration": 990,
    "start_time": "2025-02-01T23:41:38.283Z"
   },
   {
    "duration": 579,
    "start_time": "2025-02-01T23:41:39.275Z"
   },
   {
    "duration": 23,
    "start_time": "2025-02-01T23:41:39.855Z"
   },
   {
    "duration": 42,
    "start_time": "2025-02-01T23:41:39.879Z"
   },
   {
    "duration": 12,
    "start_time": "2025-02-01T23:41:39.924Z"
   },
   {
    "duration": 14,
    "start_time": "2025-02-01T23:41:39.938Z"
   },
   {
    "duration": 77,
    "start_time": "2025-02-01T23:41:39.954Z"
   },
   {
    "duration": 2836,
    "start_time": "2025-02-01T23:41:40.033Z"
   },
   {
    "duration": 479,
    "start_time": "2025-02-01T23:41:42.871Z"
   },
   {
    "duration": 2475,
    "start_time": "2025-02-01T23:41:43.352Z"
   },
   {
    "duration": 25,
    "start_time": "2025-02-01T23:41:45.829Z"
   },
   {
    "duration": 167914,
    "start_time": "2025-02-01T23:41:45.856Z"
   },
   {
    "duration": 0,
    "start_time": "2025-02-01T23:44:33.771Z"
   },
   {
    "duration": 0,
    "start_time": "2025-02-01T23:44:33.773Z"
   },
   {
    "duration": 1089,
    "start_time": "2025-02-01T23:48:29.729Z"
   },
   {
    "duration": 523,
    "start_time": "2025-02-01T23:48:30.820Z"
   },
   {
    "duration": 27,
    "start_time": "2025-02-01T23:48:31.345Z"
   },
   {
    "duration": 46,
    "start_time": "2025-02-01T23:48:31.375Z"
   },
   {
    "duration": 12,
    "start_time": "2025-02-01T23:48:31.423Z"
   },
   {
    "duration": 15,
    "start_time": "2025-02-01T23:48:31.437Z"
   },
   {
    "duration": 74,
    "start_time": "2025-02-01T23:48:31.453Z"
   },
   {
    "duration": 2947,
    "start_time": "2025-02-01T23:48:31.529Z"
   },
   {
    "duration": 503,
    "start_time": "2025-02-01T23:48:34.479Z"
   },
   {
    "duration": 2597,
    "start_time": "2025-02-01T23:48:34.985Z"
   },
   {
    "duration": 35,
    "start_time": "2025-02-01T23:48:37.584Z"
   },
   {
    "duration": 1022,
    "start_time": "2025-02-02T00:00:30.832Z"
   },
   {
    "duration": 539,
    "start_time": "2025-02-02T00:00:31.856Z"
   },
   {
    "duration": 34,
    "start_time": "2025-02-02T00:00:32.397Z"
   },
   {
    "duration": 25,
    "start_time": "2025-02-02T00:00:32.433Z"
   },
   {
    "duration": 12,
    "start_time": "2025-02-02T00:00:32.461Z"
   },
   {
    "duration": 39,
    "start_time": "2025-02-02T00:00:32.474Z"
   },
   {
    "duration": 51,
    "start_time": "2025-02-02T00:00:32.515Z"
   },
   {
    "duration": 2903,
    "start_time": "2025-02-02T00:00:32.568Z"
   },
   {
    "duration": 453,
    "start_time": "2025-02-02T00:00:35.472Z"
   },
   {
    "duration": 2420,
    "start_time": "2025-02-02T00:00:35.927Z"
   },
   {
    "duration": 28,
    "start_time": "2025-02-02T00:00:38.349Z"
   },
   {
    "duration": 2334237,
    "start_time": "2025-02-02T00:00:38.379Z"
   },
   {
    "duration": 0,
    "start_time": "2025-02-02T00:39:32.618Z"
   },
   {
    "duration": 0,
    "start_time": "2025-02-02T00:39:32.619Z"
   },
   {
    "duration": 1064,
    "start_time": "2025-02-02T01:42:32.427Z"
   },
   {
    "duration": 559,
    "start_time": "2025-02-02T01:42:33.494Z"
   },
   {
    "duration": 26,
    "start_time": "2025-02-02T01:42:34.055Z"
   },
   {
    "duration": 29,
    "start_time": "2025-02-02T01:42:34.108Z"
   },
   {
    "duration": 13,
    "start_time": "2025-02-02T01:42:34.139Z"
   },
   {
    "duration": 16,
    "start_time": "2025-02-02T01:42:34.154Z"
   },
   {
    "duration": 84,
    "start_time": "2025-02-02T01:42:34.172Z"
   },
   {
    "duration": 2838,
    "start_time": "2025-02-02T01:42:34.258Z"
   },
   {
    "duration": 489,
    "start_time": "2025-02-02T01:42:37.098Z"
   },
   {
    "duration": 2517,
    "start_time": "2025-02-02T01:42:37.592Z"
   },
   {
    "duration": 26,
    "start_time": "2025-02-02T01:42:40.111Z"
   },
   {
    "duration": 168280,
    "start_time": "2025-02-02T01:42:40.139Z"
   },
   {
    "duration": 361,
    "start_time": "2025-02-02T01:45:28.421Z"
   },
   {
    "duration": 0,
    "start_time": "2025-02-02T01:45:28.784Z"
   },
   {
    "duration": 0,
    "start_time": "2025-02-02T01:45:28.785Z"
   },
   {
    "duration": 0,
    "start_time": "2025-02-02T01:45:28.786Z"
   },
   {
    "duration": 1070,
    "start_time": "2025-02-02T01:54:49.318Z"
   },
   {
    "duration": 555,
    "start_time": "2025-02-02T01:54:50.390Z"
   },
   {
    "duration": 23,
    "start_time": "2025-02-02T01:54:50.947Z"
   },
   {
    "duration": 49,
    "start_time": "2025-02-02T01:54:50.971Z"
   },
   {
    "duration": 12,
    "start_time": "2025-02-02T01:54:51.023Z"
   },
   {
    "duration": 14,
    "start_time": "2025-02-02T01:54:51.037Z"
   },
   {
    "duration": 74,
    "start_time": "2025-02-02T01:54:51.053Z"
   },
   {
    "duration": 2967,
    "start_time": "2025-02-02T01:54:51.129Z"
   },
   {
    "duration": 523,
    "start_time": "2025-02-02T01:54:54.098Z"
   },
   {
    "duration": 2445,
    "start_time": "2025-02-02T01:54:54.623Z"
   },
   {
    "duration": 24,
    "start_time": "2025-02-02T01:54:57.070Z"
   },
   {
    "duration": 167764,
    "start_time": "2025-02-02T01:54:57.108Z"
   },
   {
    "duration": 47860,
    "start_time": "2025-02-02T01:57:44.874Z"
   },
   {
    "duration": 20,
    "start_time": "2025-02-02T01:58:32.737Z"
   },
   {
    "duration": 57,
    "start_time": "2025-02-02T01:58:32.759Z"
   },
   {
    "duration": 1046,
    "start_time": "2025-02-07T03:33:00.619Z"
   },
   {
    "duration": 507,
    "start_time": "2025-02-07T03:33:08.710Z"
   },
   {
    "duration": 492,
    "start_time": "2025-02-07T03:34:10.517Z"
   },
   {
    "duration": 1058,
    "start_time": "2025-02-07T03:41:12.529Z"
   },
   {
    "duration": 515,
    "start_time": "2025-02-07T03:41:13.590Z"
   },
   {
    "duration": 26,
    "start_time": "2025-02-07T03:41:14.106Z"
   },
   {
    "duration": 31,
    "start_time": "2025-02-07T03:41:14.134Z"
   },
   {
    "duration": 12,
    "start_time": "2025-02-07T03:41:14.167Z"
   },
   {
    "duration": 14,
    "start_time": "2025-02-07T03:41:14.181Z"
   },
   {
    "duration": 534,
    "start_time": "2025-02-07T03:41:14.196Z"
   },
   {
    "duration": 2882,
    "start_time": "2025-02-07T03:41:14.732Z"
   },
   {
    "duration": 533,
    "start_time": "2025-02-07T03:41:17.616Z"
   },
   {
    "duration": 2540,
    "start_time": "2025-02-07T03:41:18.151Z"
   },
   {
    "duration": 3,
    "start_time": "2025-02-07T03:41:20.693Z"
   },
   {
    "duration": 33,
    "start_time": "2025-02-07T03:41:20.698Z"
   },
   {
    "duration": 2739,
    "start_time": "2025-02-07T09:46:25.246Z"
   },
   {
    "duration": 647,
    "start_time": "2025-02-07T09:46:27.988Z"
   },
   {
    "duration": 24,
    "start_time": "2025-02-07T09:46:28.637Z"
   },
   {
    "duration": 26,
    "start_time": "2025-02-07T09:46:28.663Z"
   },
   {
    "duration": 37,
    "start_time": "2025-02-07T09:46:28.691Z"
   },
   {
    "duration": 15,
    "start_time": "2025-02-07T09:46:28.729Z"
   },
   {
    "duration": 505,
    "start_time": "2025-02-07T09:46:28.746Z"
   },
   {
    "duration": 2840,
    "start_time": "2025-02-07T09:46:29.253Z"
   },
   {
    "duration": 561,
    "start_time": "2025-02-07T09:46:32.095Z"
   },
   {
    "duration": 2524,
    "start_time": "2025-02-07T09:46:32.659Z"
   },
   {
    "duration": 3,
    "start_time": "2025-02-07T09:46:35.184Z"
   },
   {
    "duration": 18,
    "start_time": "2025-02-07T09:46:35.190Z"
   },
   {
    "duration": 497746,
    "start_time": "2025-02-07T09:46:35.225Z"
   },
   {
    "duration": 450575,
    "start_time": "2025-02-07T09:54:52.973Z"
   },
   {
    "duration": 11994,
    "start_time": "2025-02-07T10:02:23.550Z"
   },
   {
    "duration": 7,
    "start_time": "2025-02-07T10:02:35.546Z"
   }
  ],
  "kernelspec": {
   "display_name": "Python 3 (ipykernel)",
   "language": "python",
   "name": "python3"
  },
  "language_info": {
   "codemirror_mode": {
    "name": "ipython",
    "version": 3
   },
   "file_extension": ".py",
   "mimetype": "text/x-python",
   "name": "python",
   "nbconvert_exporter": "python",
   "pygments_lexer": "ipython3",
   "version": "3.9.19"
  },
  "toc": {
   "base_numbering": 1,
   "nav_menu": {},
   "number_sections": true,
   "sideBar": true,
   "skip_h1_title": true,
   "title_cell": "Table of Contents",
   "title_sidebar": "Contents",
   "toc_cell": false,
   "toc_position": {},
   "toc_section_display": true,
   "toc_window_display": false
  }
 },
 "nbformat": 4,
 "nbformat_minor": 2
}
