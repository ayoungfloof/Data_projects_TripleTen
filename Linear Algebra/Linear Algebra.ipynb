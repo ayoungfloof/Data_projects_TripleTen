{
 "cells": [
  {
   "cell_type": "markdown",
   "metadata": {},
   "source": [
    "# Evaluating Machine Learning for Insurance Benefits Prediction\n",
    "\n",
    "## Description\n",
    "This project explores the potential of Machine Learning to improve customer analysis for the Sure Tomorrow Insurance Company. The company seeks to enhance its marketing strategies, predict insurance benefits, and protect client data while maintaining model performance. Using classification models, linear regression, and data obfuscation techniques, this project will evaluate how Machine Learning can assist in customer profiling and risk assessment.\n",
    "\n",
    "## Objective\n",
    "The goal of this project is to develop and test various Machine Learning models for the following tasks:\n",
    "\n",
    "- Customer Similarity Analysis: Use k-Nearest Neighbors (kNN) to identify customers with similar characteristics, aiding targeted marketing efforts.\n",
    "- Insurance Benefit Prediction: Build a classification model to determine whether a customer is likely to receive an insurance benefit and compare it to a dummy model.\n",
    "- Predicting Insurance Benefit Count: Train a Linear Regression model to estimate the number of benefits a customer may receive.\n",
    "- Data Obfuscation: Implement a secure data transformation that prevents unauthorized access to personal information without affecting model performance.\n",
    "\n",
    "## Approach\n",
    "- Data Preparation:\n",
    "    - Load and inspect the dataset for missing values, outliers, and inconsistencies.\n",
    "    - Perform scaling and transformation where necessary to ensure proper model performance.\n",
    "- Model Development:\n",
    "    - Train and evaluate a kNN classifier for customer similarity analysis.\n",
    "    - Build a classification model to predict insurance benefits eligibility.\n",
    "    - Develop a Linear Regression model to estimate the number of benefits received.\n",
    "- Model Evaluation:\n",
    "    - Use F1-score and confusion matrices to assess the classification model.\n",
    "    - Use RMSE and R² scores to evaluate the Linear Regression model.\n",
    "    - Compare model performance between scaled and unscaled datasets.\n",
    "- Data Obfuscation & Security:\n",
    "    - Transform the dataset using an invertible matrix to protect sensitive customer information.\n",
    "    - Validate that obfuscation does not affect model performance by comparing RMSE and R² scores before and after transformation.\n",
    "    \n",
    "## Deliverables\n",
    "- A trained classification model to predict insurance benefits eligibility.\n",
    "- A Linear Regression model for estimating the number of benefits received.\n",
    "- A data obfuscation algorithm that secures customer data without impacting model performance.\n",
    "- A comparative analysis of model performance with original and obfuscated data.\n",
    "- This project will help Sure Tomorrow Insurance assess the feasibility of Machine Learning for customer analysis while ensuring data security. The results will provide insights into how different models perform and whether data transformation techniques can be effectively used without compromising predictive accuracy."
   ]
  },
  {
   "cell_type": "markdown",
   "metadata": {},
   "source": [
    "# Statement"
   ]
  },
  {
   "cell_type": "markdown",
   "metadata": {},
   "source": [
    "The Sure Tomorrow insurance company wants to solve several tasks with the help of Machine Learning and you are asked to evaluate that possibility.\n",
    "\n",
    "- Task 1: Find customers who are similar to a given customer. This will help the company's agents with marketing.\n",
    "- Task 2: Predict whether a new customer is likely to receive an insurance benefit. Can a prediction model do better than a dummy model?\n",
    "- Task 3: Predict the number of insurance benefits a new customer is likely to receive using a linear regression model.\n",
    "- Task 4: Protect clients' personal data without breaking the model from the previous task. It's necessary to develop a data transformation algorithm that would make it hard to recover personal information if the data fell into the wrong hands. This is called data masking, or data obfuscation. But the data should be protected in such a way that the quality of machine learning models doesn't suffer. You don't need to pick the best model, just prove that the algorithm works correctly."
   ]
  },
  {
   "cell_type": "markdown",
   "metadata": {},
   "source": [
    "# Data Preprocessing & Exploration\n",
    "\n",
    "## Initialization"
   ]
  },
  {
   "cell_type": "code",
   "execution_count": 1,
   "metadata": {
    "trusted": true
   },
   "outputs": [],
   "source": [
    "import numpy as np\n",
    "import pandas as pd\n",
    "\n",
    "import seaborn as sns\n",
    "\n",
    "import sklearn.linear_model\n",
    "import sklearn.metrics\n",
    "import sklearn.neighbors\n",
    "import sklearn.preprocessing\n",
    "\n",
    "from sklearn.model_selection import train_test_split\n",
    "\n",
    "from IPython.display import display\n",
    "\n",
    "import matplotlib.pyplot as plt\n",
    "from sklearn.neighbors import NearestNeighbors\n",
    "from sklearn.neighbors import KNeighborsClassifier\n",
    "import math"
   ]
  },
  {
   "cell_type": "markdown",
   "metadata": {},
   "source": [
    "## Load Data"
   ]
  },
  {
   "cell_type": "markdown",
   "metadata": {},
   "source": [
    "Load data and conduct a basic check that it's free from obvious issues."
   ]
  },
  {
   "cell_type": "code",
   "execution_count": 2,
   "metadata": {
    "trusted": true
   },
   "outputs": [],
   "source": [
    "df = pd.read_csv('/datasets/insurance_us.csv')"
   ]
  },
  {
   "cell_type": "markdown",
   "metadata": {},
   "source": [
    "We rename the colums to make the code look more consistent with its style."
   ]
  },
  {
   "cell_type": "code",
   "execution_count": 3,
   "metadata": {
    "trusted": true
   },
   "outputs": [],
   "source": [
    "df = df.rename(columns={'Gender': 'gender', 'Age': 'age', 'Salary': 'income', 'Family members': 'family_members', 'Insurance benefits': 'insurance_benefits'})"
   ]
  },
  {
   "cell_type": "code",
   "execution_count": 4,
   "metadata": {
    "trusted": true
   },
   "outputs": [
    {
     "data": {
      "text/html": [
       "<div>\n",
       "<style scoped>\n",
       "    .dataframe tbody tr th:only-of-type {\n",
       "        vertical-align: middle;\n",
       "    }\n",
       "\n",
       "    .dataframe tbody tr th {\n",
       "        vertical-align: top;\n",
       "    }\n",
       "\n",
       "    .dataframe thead th {\n",
       "        text-align: right;\n",
       "    }\n",
       "</style>\n",
       "<table border=\"1\" class=\"dataframe\">\n",
       "  <thead>\n",
       "    <tr style=\"text-align: right;\">\n",
       "      <th></th>\n",
       "      <th>gender</th>\n",
       "      <th>age</th>\n",
       "      <th>income</th>\n",
       "      <th>family_members</th>\n",
       "      <th>insurance_benefits</th>\n",
       "    </tr>\n",
       "  </thead>\n",
       "  <tbody>\n",
       "    <tr>\n",
       "      <th>2808</th>\n",
       "      <td>0</td>\n",
       "      <td>20.0</td>\n",
       "      <td>38200.0</td>\n",
       "      <td>1</td>\n",
       "      <td>0</td>\n",
       "    </tr>\n",
       "    <tr>\n",
       "      <th>1289</th>\n",
       "      <td>0</td>\n",
       "      <td>21.0</td>\n",
       "      <td>54800.0</td>\n",
       "      <td>1</td>\n",
       "      <td>0</td>\n",
       "    </tr>\n",
       "    <tr>\n",
       "      <th>3652</th>\n",
       "      <td>0</td>\n",
       "      <td>34.0</td>\n",
       "      <td>41000.0</td>\n",
       "      <td>0</td>\n",
       "      <td>0</td>\n",
       "    </tr>\n",
       "    <tr>\n",
       "      <th>3736</th>\n",
       "      <td>1</td>\n",
       "      <td>28.0</td>\n",
       "      <td>43800.0</td>\n",
       "      <td>2</td>\n",
       "      <td>0</td>\n",
       "    </tr>\n",
       "    <tr>\n",
       "      <th>4178</th>\n",
       "      <td>1</td>\n",
       "      <td>37.0</td>\n",
       "      <td>54200.0</td>\n",
       "      <td>2</td>\n",
       "      <td>0</td>\n",
       "    </tr>\n",
       "    <tr>\n",
       "      <th>510</th>\n",
       "      <td>0</td>\n",
       "      <td>42.0</td>\n",
       "      <td>34500.0</td>\n",
       "      <td>4</td>\n",
       "      <td>0</td>\n",
       "    </tr>\n",
       "    <tr>\n",
       "      <th>383</th>\n",
       "      <td>0</td>\n",
       "      <td>31.0</td>\n",
       "      <td>42700.0</td>\n",
       "      <td>0</td>\n",
       "      <td>0</td>\n",
       "    </tr>\n",
       "    <tr>\n",
       "      <th>4233</th>\n",
       "      <td>1</td>\n",
       "      <td>29.0</td>\n",
       "      <td>56500.0</td>\n",
       "      <td>1</td>\n",
       "      <td>0</td>\n",
       "    </tr>\n",
       "    <tr>\n",
       "      <th>3513</th>\n",
       "      <td>1</td>\n",
       "      <td>36.0</td>\n",
       "      <td>41300.0</td>\n",
       "      <td>0</td>\n",
       "      <td>0</td>\n",
       "    </tr>\n",
       "    <tr>\n",
       "      <th>753</th>\n",
       "      <td>1</td>\n",
       "      <td>27.0</td>\n",
       "      <td>21600.0</td>\n",
       "      <td>1</td>\n",
       "      <td>0</td>\n",
       "    </tr>\n",
       "  </tbody>\n",
       "</table>\n",
       "</div>"
      ],
      "text/plain": [
       "      gender   age   income  family_members  insurance_benefits\n",
       "2808       0  20.0  38200.0               1                   0\n",
       "1289       0  21.0  54800.0               1                   0\n",
       "3652       0  34.0  41000.0               0                   0\n",
       "3736       1  28.0  43800.0               2                   0\n",
       "4178       1  37.0  54200.0               2                   0\n",
       "510        0  42.0  34500.0               4                   0\n",
       "383        0  31.0  42700.0               0                   0\n",
       "4233       1  29.0  56500.0               1                   0\n",
       "3513       1  36.0  41300.0               0                   0\n",
       "753        1  27.0  21600.0               1                   0"
      ]
     },
     "execution_count": 4,
     "metadata": {},
     "output_type": "execute_result"
    }
   ],
   "source": [
    "df.sample(10)"
   ]
  },
  {
   "cell_type": "code",
   "execution_count": 5,
   "metadata": {
    "trusted": true
   },
   "outputs": [
    {
     "name": "stdout",
     "output_type": "stream",
     "text": [
      "<class 'pandas.core.frame.DataFrame'>\n",
      "RangeIndex: 5000 entries, 0 to 4999\n",
      "Data columns (total 5 columns):\n",
      " #   Column              Non-Null Count  Dtype  \n",
      "---  ------              --------------  -----  \n",
      " 0   gender              5000 non-null   int64  \n",
      " 1   age                 5000 non-null   float64\n",
      " 2   income              5000 non-null   float64\n",
      " 3   family_members      5000 non-null   int64  \n",
      " 4   insurance_benefits  5000 non-null   int64  \n",
      "dtypes: float64(2), int64(3)\n",
      "memory usage: 195.4 KB\n"
     ]
    }
   ],
   "source": [
    "df.info()"
   ]
  },
  {
   "cell_type": "code",
   "execution_count": 6,
   "metadata": {
    "trusted": true
   },
   "outputs": [],
   "source": [
    "\n",
    "# we may want to fix the age type (from float to int) though this is not critical\n",
    "\n",
    "# write your conversion here if you choose:\n",
    "df['age'] = df['age'].astype(int)"
   ]
  },
  {
   "cell_type": "code",
   "execution_count": 7,
   "metadata": {
    "trusted": true
   },
   "outputs": [
    {
     "data": {
      "text/plain": [
       "gender                  int64\n",
       "age                     int64\n",
       "income                float64\n",
       "family_members          int64\n",
       "insurance_benefits      int64\n",
       "dtype: object"
      ]
     },
     "execution_count": 7,
     "metadata": {},
     "output_type": "execute_result"
    }
   ],
   "source": [
    "\n",
    "# check to see that the conversion was successful\n",
    "df.dtypes"
   ]
  },
  {
   "cell_type": "code",
   "execution_count": 8,
   "metadata": {
    "trusted": true
   },
   "outputs": [
    {
     "data": {
      "text/html": [
       "<div>\n",
       "<style scoped>\n",
       "    .dataframe tbody tr th:only-of-type {\n",
       "        vertical-align: middle;\n",
       "    }\n",
       "\n",
       "    .dataframe tbody tr th {\n",
       "        vertical-align: top;\n",
       "    }\n",
       "\n",
       "    .dataframe thead th {\n",
       "        text-align: right;\n",
       "    }\n",
       "</style>\n",
       "<table border=\"1\" class=\"dataframe\">\n",
       "  <thead>\n",
       "    <tr style=\"text-align: right;\">\n",
       "      <th></th>\n",
       "      <th>gender</th>\n",
       "      <th>age</th>\n",
       "      <th>income</th>\n",
       "      <th>family_members</th>\n",
       "      <th>insurance_benefits</th>\n",
       "    </tr>\n",
       "  </thead>\n",
       "  <tbody>\n",
       "    <tr>\n",
       "      <th>count</th>\n",
       "      <td>5000.000000</td>\n",
       "      <td>5000.000000</td>\n",
       "      <td>5000.000000</td>\n",
       "      <td>5000.000000</td>\n",
       "      <td>5000.000000</td>\n",
       "    </tr>\n",
       "    <tr>\n",
       "      <th>mean</th>\n",
       "      <td>0.499000</td>\n",
       "      <td>30.952800</td>\n",
       "      <td>39916.360000</td>\n",
       "      <td>1.194200</td>\n",
       "      <td>0.148000</td>\n",
       "    </tr>\n",
       "    <tr>\n",
       "      <th>std</th>\n",
       "      <td>0.500049</td>\n",
       "      <td>8.440807</td>\n",
       "      <td>9900.083569</td>\n",
       "      <td>1.091387</td>\n",
       "      <td>0.463183</td>\n",
       "    </tr>\n",
       "    <tr>\n",
       "      <th>min</th>\n",
       "      <td>0.000000</td>\n",
       "      <td>18.000000</td>\n",
       "      <td>5300.000000</td>\n",
       "      <td>0.000000</td>\n",
       "      <td>0.000000</td>\n",
       "    </tr>\n",
       "    <tr>\n",
       "      <th>25%</th>\n",
       "      <td>0.000000</td>\n",
       "      <td>24.000000</td>\n",
       "      <td>33300.000000</td>\n",
       "      <td>0.000000</td>\n",
       "      <td>0.000000</td>\n",
       "    </tr>\n",
       "    <tr>\n",
       "      <th>50%</th>\n",
       "      <td>0.000000</td>\n",
       "      <td>30.000000</td>\n",
       "      <td>40200.000000</td>\n",
       "      <td>1.000000</td>\n",
       "      <td>0.000000</td>\n",
       "    </tr>\n",
       "    <tr>\n",
       "      <th>75%</th>\n",
       "      <td>1.000000</td>\n",
       "      <td>37.000000</td>\n",
       "      <td>46600.000000</td>\n",
       "      <td>2.000000</td>\n",
       "      <td>0.000000</td>\n",
       "    </tr>\n",
       "    <tr>\n",
       "      <th>max</th>\n",
       "      <td>1.000000</td>\n",
       "      <td>65.000000</td>\n",
       "      <td>79000.000000</td>\n",
       "      <td>6.000000</td>\n",
       "      <td>5.000000</td>\n",
       "    </tr>\n",
       "  </tbody>\n",
       "</table>\n",
       "</div>"
      ],
      "text/plain": [
       "            gender          age        income  family_members  \\\n",
       "count  5000.000000  5000.000000   5000.000000     5000.000000   \n",
       "mean      0.499000    30.952800  39916.360000        1.194200   \n",
       "std       0.500049     8.440807   9900.083569        1.091387   \n",
       "min       0.000000    18.000000   5300.000000        0.000000   \n",
       "25%       0.000000    24.000000  33300.000000        0.000000   \n",
       "50%       0.000000    30.000000  40200.000000        1.000000   \n",
       "75%       1.000000    37.000000  46600.000000        2.000000   \n",
       "max       1.000000    65.000000  79000.000000        6.000000   \n",
       "\n",
       "       insurance_benefits  \n",
       "count         5000.000000  \n",
       "mean             0.148000  \n",
       "std              0.463183  \n",
       "min              0.000000  \n",
       "25%              0.000000  \n",
       "50%              0.000000  \n",
       "75%              0.000000  \n",
       "max              5.000000  "
      ]
     },
     "metadata": {},
     "output_type": "display_data"
    }
   ],
   "source": [
    "\n",
    "# now have a look at the data's descriptive statistics. \n",
    "# Does everything look okay?\n",
    "display(df.describe())"
   ]
  },
  {
   "cell_type": "code",
   "execution_count": 9,
   "metadata": {
    "trusted": true
   },
   "outputs": [
    {
     "data": {
      "image/png": "[encoded data removed]",
      "text/plain": [
       "<Figure size 640x480 with 1 Axes>"
      ]
     },
     "metadata": {},
     "output_type": "display_data"
    }
   ],
   "source": [
    "\n",
    "sns.histplot(df['age'], kde=True) \n",
    "plt.show()"
   ]
  },
  {
   "cell_type": "code",
   "execution_count": 10,
   "metadata": {
    "trusted": true
   },
   "outputs": [
    {
     "data": {
      "image/png": "[encoded data removed]",
      "text/plain": [
       "<Figure size 640x480 with 1 Axes>"
      ]
     },
     "metadata": {},
     "output_type": "display_data"
    }
   ],
   "source": [
    "\n",
    "sns.histplot(df['income'], kde=True) \n",
    "plt.show()"
   ]
  },
  {
   "cell_type": "markdown",
   "metadata": {},
   "source": [
    "## Age and Income Graph Observation\n",
    "\n",
    "### Age\n",
    "- Disbribution Shape: The historgram is right-skewed/positively skewed, meaning most individuals are younger, with a gradual decline in frequency as age increases.\n",
    "- Peak Age Range: The highest frequency occurs between ages 18 and 30, indicating that most individuals in the dataset fall within this range.\n",
    "- Gradual Decline: As age increases beyond 30, the number of observations steadily decreases, with very few individuals above 50.\n",
    "\n",
    "### Income\n",
    "- Distribution Shape: The histogram follows a normal bell-shaped distribution, indicating that most individuals have incomes concentrated around a central value.\n",
    "- Peak Income Range: The highest frequency appears to be around 40,000, suggesting that most individuals in the dataset earn within this range.\n",
    "- Symmetry: The distribution is fairly symmetrical, meaning that incomes are evenly distributed around the mean with a slight right skew."
   ]
  },
  {
   "cell_type": "markdown",
   "metadata": {},
   "source": [
    "## EDA"
   ]
  },
  {
   "cell_type": "markdown",
   "metadata": {},
   "source": [
    "Let's quickly check whether there are certain groups of customers by looking at the pair plot."
   ]
  },
  {
   "cell_type": "code",
   "execution_count": 11,
   "metadata": {
    "trusted": true
   },
   "outputs": [
    {
     "data": {
      "image/png": "[encoded data removed]",
      "text/plain": [
       "<Figure size 1200x1200 with 30 Axes>"
      ]
     },
     "metadata": {},
     "output_type": "display_data"
    }
   ],
   "source": [
    "g = sns.pairplot(df, kind='hist')\n",
    "g.fig.set_size_inches(12, 12)"
   ]
  },
  {
   "cell_type": "markdown",
   "metadata": {},
   "source": [
    "Ok, it is a bit difficult to spot obvious groups (clusters) as it is difficult to combine several variables simultaneously (to analyze multivariate distributions). That's where LA and ML can be quite handy."
   ]
  },
  {
   "cell_type": "markdown",
   "metadata": {},
   "source": [
    "# Task 1. Similar Customers"
   ]
  },
  {
   "cell_type": "markdown",
   "metadata": {},
   "source": [
    "In the language of ML, it is necessary to develop a procedure that returns k nearest neighbors (objects) for a given object based on the distance between the objects.\n",
    "\n",
    "You may want to review the following lessons (chapter -> lesson)\n",
    "- Distance Between Vectors -> Euclidean Distance\n",
    "- Distance Between Vectors -> Manhattan Distance\n",
    "\n",
    "To solve the task, we can try different distance metrics."
   ]
  },
  {
   "cell_type": "markdown",
   "metadata": {},
   "source": [
    "Write a function that returns k nearest neighbors for an $n^{th}$ object based on a specified distance metric. The number of received insurance benefits should not be taken into account for this task. \n",
    "\n",
    "You can use a ready implementation of the kNN algorithm from scikit-learn (check [the link](https://scikit-learn.org/stable/modules/generated/sklearn.neighbors.NearestNeighbors.html#sklearn.neighbors.NearestNeighbors)) or use your own.\n",
    "\n",
    "Test it for four combination of two cases\n",
    "- Scaling\n",
    "  - the data is not scaled\n",
    "  - the data is scaled with the [MaxAbsScaler](https://scikit-learn.org/stable/modules/generated/sklearn.preprocessing.MaxAbsScaler.html) scaler\n",
    "- Distance Metrics\n",
    "  - Euclidean\n",
    "  - Manhattan\n",
    "\n",
    "Answer these questions:\n",
    "- Does the data being not scaled affect the kNN algorithm? If so, how does that appear?\n",
    "- How similar are the results using the Manhattan distance metric (regardless of the scaling)?"
   ]
  },
  {
   "cell_type": "code",
   "execution_count": 12,
   "metadata": {
    "trusted": true
   },
   "outputs": [],
   "source": [
    "feature_names = ['gender', 'age', 'income', 'family_members']"
   ]
  },
  {
   "cell_type": "code",
   "execution_count": 13,
   "metadata": {
    "trusted": true
   },
   "outputs": [],
   "source": [
    "def get_knn(df, n, k, metric):\n",
    "    \n",
    "    \"\"\"\n",
    "    Returns k nearest neighbors\n",
    "\n",
    "    :param df: pandas DataFrame used to find similar objects within\n",
    "    :param n: object no for which the nearest neighbours are looked for\n",
    "    :param k: the number of the nearest neighbours to return\n",
    "    :param metric: name of distance metric\n",
    "    \"\"\"\n",
    "\n",
    "    nbrs = NearestNeighbors(n_neighbors= k, metric = metric )# <your code here> \n",
    "    nbrs.fit(df[feature_names].values)# <your code here> \n",
    "    nbrs_distances, nbrs_indices = nbrs.kneighbors([df.iloc[n][feature_names]], k, return_distance=True)\n",
    "    \n",
    "    df_res = pd.concat([\n",
    "        df.iloc[nbrs_indices[0]], \n",
    "        pd.DataFrame(nbrs_distances.T, index=nbrs_indices[0], columns=['distance'])\n",
    "        ], axis=1)\n",
    "    \n",
    "    return df_res"
   ]
  },
  {
   "cell_type": "markdown",
   "metadata": {},
   "source": [
    "Scaling the data."
   ]
  },
  {
   "cell_type": "code",
   "execution_count": 14,
   "metadata": {
    "trusted": true
   },
   "outputs": [],
   "source": [
    "feature_names = ['gender', 'age', 'income', 'family_members']\n",
    "\n",
    "transformer_mas = sklearn.preprocessing.MaxAbsScaler().fit(df[feature_names].to_numpy())\n",
    "\n",
    "df_scaled = df.copy()\n",
    "df_scaled.loc[:, feature_names] = transformer_mas.transform(df[feature_names].to_numpy())"
   ]
  },
  {
   "cell_type": "code",
   "execution_count": 15,
   "metadata": {
    "trusted": true
   },
   "outputs": [
    {
     "data": {
      "text/html": [
       "<div>\n",
       "<style scoped>\n",
       "    .dataframe tbody tr th:only-of-type {\n",
       "        vertical-align: middle;\n",
       "    }\n",
       "\n",
       "    .dataframe tbody tr th {\n",
       "        vertical-align: top;\n",
       "    }\n",
       "\n",
       "    .dataframe thead th {\n",
       "        text-align: right;\n",
       "    }\n",
       "</style>\n",
       "<table border=\"1\" class=\"dataframe\">\n",
       "  <thead>\n",
       "    <tr style=\"text-align: right;\">\n",
       "      <th></th>\n",
       "      <th>gender</th>\n",
       "      <th>age</th>\n",
       "      <th>income</th>\n",
       "      <th>family_members</th>\n",
       "      <th>insurance_benefits</th>\n",
       "    </tr>\n",
       "  </thead>\n",
       "  <tbody>\n",
       "    <tr>\n",
       "      <th>1843</th>\n",
       "      <td>1.0</td>\n",
       "      <td>0.353846</td>\n",
       "      <td>0.360759</td>\n",
       "      <td>0.333333</td>\n",
       "      <td>0</td>\n",
       "    </tr>\n",
       "    <tr>\n",
       "      <th>642</th>\n",
       "      <td>0.0</td>\n",
       "      <td>0.707692</td>\n",
       "      <td>0.708861</td>\n",
       "      <td>0.166667</td>\n",
       "      <td>1</td>\n",
       "    </tr>\n",
       "    <tr>\n",
       "      <th>2335</th>\n",
       "      <td>1.0</td>\n",
       "      <td>0.569231</td>\n",
       "      <td>0.429114</td>\n",
       "      <td>0.166667</td>\n",
       "      <td>0</td>\n",
       "    </tr>\n",
       "    <tr>\n",
       "      <th>516</th>\n",
       "      <td>1.0</td>\n",
       "      <td>0.384615</td>\n",
       "      <td>0.415190</td>\n",
       "      <td>0.500000</td>\n",
       "      <td>0</td>\n",
       "    </tr>\n",
       "    <tr>\n",
       "      <th>1410</th>\n",
       "      <td>1.0</td>\n",
       "      <td>0.307692</td>\n",
       "      <td>0.373418</td>\n",
       "      <td>0.333333</td>\n",
       "      <td>0</td>\n",
       "    </tr>\n",
       "  </tbody>\n",
       "</table>\n",
       "</div>"
      ],
      "text/plain": [
       "      gender       age    income  family_members  insurance_benefits\n",
       "1843     1.0  0.353846  0.360759        0.333333                   0\n",
       "642      0.0  0.707692  0.708861        0.166667                   1\n",
       "2335     1.0  0.569231  0.429114        0.166667                   0\n",
       "516      1.0  0.384615  0.415190        0.500000                   0\n",
       "1410     1.0  0.307692  0.373418        0.333333                   0"
      ]
     },
     "execution_count": 15,
     "metadata": {},
     "output_type": "execute_result"
    }
   ],
   "source": [
    "df_scaled.sample(5)"
   ]
  },
  {
   "cell_type": "markdown",
   "metadata": {},
   "source": [
    "Now, let's get similar records for a given one for every combination"
   ]
  },
  {
   "cell_type": "code",
   "execution_count": 16,
   "metadata": {
    "trusted": true
   },
   "outputs": [
    {
     "data": {
      "text/html": [
       "<div>\n",
       "<style scoped>\n",
       "    .dataframe tbody tr th:only-of-type {\n",
       "        vertical-align: middle;\n",
       "    }\n",
       "\n",
       "    .dataframe tbody tr th {\n",
       "        vertical-align: top;\n",
       "    }\n",
       "\n",
       "    .dataframe thead th {\n",
       "        text-align: right;\n",
       "    }\n",
       "</style>\n",
       "<table border=\"1\" class=\"dataframe\">\n",
       "  <thead>\n",
       "    <tr style=\"text-align: right;\">\n",
       "      <th></th>\n",
       "      <th>gender</th>\n",
       "      <th>age</th>\n",
       "      <th>income</th>\n",
       "      <th>family_members</th>\n",
       "      <th>insurance_benefits</th>\n",
       "      <th>distance</th>\n",
       "    </tr>\n",
       "  </thead>\n",
       "  <tbody>\n",
       "    <tr>\n",
       "      <th>6</th>\n",
       "      <td>1.0</td>\n",
       "      <td>0.600000</td>\n",
       "      <td>0.502532</td>\n",
       "      <td>0.333333</td>\n",
       "      <td>0</td>\n",
       "      <td>0.000000</td>\n",
       "    </tr>\n",
       "    <tr>\n",
       "      <th>1415</th>\n",
       "      <td>1.0</td>\n",
       "      <td>0.600000</td>\n",
       "      <td>0.505063</td>\n",
       "      <td>0.333333</td>\n",
       "      <td>0</td>\n",
       "      <td>0.002532</td>\n",
       "    </tr>\n",
       "    <tr>\n",
       "      <th>108</th>\n",
       "      <td>1.0</td>\n",
       "      <td>0.600000</td>\n",
       "      <td>0.507595</td>\n",
       "      <td>0.333333</td>\n",
       "      <td>0</td>\n",
       "      <td>0.005063</td>\n",
       "    </tr>\n",
       "    <tr>\n",
       "      <th>3713</th>\n",
       "      <td>1.0</td>\n",
       "      <td>0.600000</td>\n",
       "      <td>0.517722</td>\n",
       "      <td>0.333333</td>\n",
       "      <td>0</td>\n",
       "      <td>0.015190</td>\n",
       "    </tr>\n",
       "    <tr>\n",
       "      <th>2997</th>\n",
       "      <td>1.0</td>\n",
       "      <td>0.584615</td>\n",
       "      <td>0.503797</td>\n",
       "      <td>0.333333</td>\n",
       "      <td>0</td>\n",
       "      <td>0.016650</td>\n",
       "    </tr>\n",
       "    <tr>\n",
       "      <th>4434</th>\n",
       "      <td>1.0</td>\n",
       "      <td>0.600000</td>\n",
       "      <td>0.478481</td>\n",
       "      <td>0.333333</td>\n",
       "      <td>0</td>\n",
       "      <td>0.024051</td>\n",
       "    </tr>\n",
       "    <tr>\n",
       "      <th>951</th>\n",
       "      <td>1.0</td>\n",
       "      <td>0.600000</td>\n",
       "      <td>0.474684</td>\n",
       "      <td>0.333333</td>\n",
       "      <td>0</td>\n",
       "      <td>0.027848</td>\n",
       "    </tr>\n",
       "    <tr>\n",
       "      <th>4680</th>\n",
       "      <td>1.0</td>\n",
       "      <td>0.615385</td>\n",
       "      <td>0.478481</td>\n",
       "      <td>0.333333</td>\n",
       "      <td>0</td>\n",
       "      <td>0.039435</td>\n",
       "    </tr>\n",
       "  </tbody>\n",
       "</table>\n",
       "</div>"
      ],
      "text/plain": [
       "      gender       age    income  family_members  insurance_benefits  distance\n",
       "6        1.0  0.600000  0.502532        0.333333                   0  0.000000\n",
       "1415     1.0  0.600000  0.505063        0.333333                   0  0.002532\n",
       "108      1.0  0.600000  0.507595        0.333333                   0  0.005063\n",
       "3713     1.0  0.600000  0.517722        0.333333                   0  0.015190\n",
       "2997     1.0  0.584615  0.503797        0.333333                   0  0.016650\n",
       "4434     1.0  0.600000  0.478481        0.333333                   0  0.024051\n",
       "951      1.0  0.600000  0.474684        0.333333                   0  0.027848\n",
       "4680     1.0  0.615385  0.478481        0.333333                   0  0.039435"
      ]
     },
     "execution_count": 16,
     "metadata": {},
     "output_type": "execute_result"
    }
   ],
   "source": [
    "\n",
    "man_scaled = get_knn(df_scaled, 6, 8, 'manhattan')\n",
    "man_scaled"
   ]
  },
  {
   "cell_type": "code",
   "execution_count": 17,
   "metadata": {
    "trusted": true
   },
   "outputs": [
    {
     "data": {
      "text/html": [
       "<div>\n",
       "<style scoped>\n",
       "    .dataframe tbody tr th:only-of-type {\n",
       "        vertical-align: middle;\n",
       "    }\n",
       "\n",
       "    .dataframe tbody tr th {\n",
       "        vertical-align: top;\n",
       "    }\n",
       "\n",
       "    .dataframe thead th {\n",
       "        text-align: right;\n",
       "    }\n",
       "</style>\n",
       "<table border=\"1\" class=\"dataframe\">\n",
       "  <thead>\n",
       "    <tr style=\"text-align: right;\">\n",
       "      <th></th>\n",
       "      <th>gender</th>\n",
       "      <th>age</th>\n",
       "      <th>income</th>\n",
       "      <th>family_members</th>\n",
       "      <th>insurance_benefits</th>\n",
       "      <th>distance</th>\n",
       "    </tr>\n",
       "  </thead>\n",
       "  <tbody>\n",
       "    <tr>\n",
       "      <th>6</th>\n",
       "      <td>1.0</td>\n",
       "      <td>0.600000</td>\n",
       "      <td>0.502532</td>\n",
       "      <td>0.333333</td>\n",
       "      <td>0</td>\n",
       "      <td>0.000000</td>\n",
       "    </tr>\n",
       "    <tr>\n",
       "      <th>1415</th>\n",
       "      <td>1.0</td>\n",
       "      <td>0.600000</td>\n",
       "      <td>0.505063</td>\n",
       "      <td>0.333333</td>\n",
       "      <td>0</td>\n",
       "      <td>0.002532</td>\n",
       "    </tr>\n",
       "    <tr>\n",
       "      <th>108</th>\n",
       "      <td>1.0</td>\n",
       "      <td>0.600000</td>\n",
       "      <td>0.507595</td>\n",
       "      <td>0.333333</td>\n",
       "      <td>0</td>\n",
       "      <td>0.005063</td>\n",
       "    </tr>\n",
       "    <tr>\n",
       "      <th>3713</th>\n",
       "      <td>1.0</td>\n",
       "      <td>0.600000</td>\n",
       "      <td>0.517722</td>\n",
       "      <td>0.333333</td>\n",
       "      <td>0</td>\n",
       "      <td>0.015190</td>\n",
       "    </tr>\n",
       "    <tr>\n",
       "      <th>2997</th>\n",
       "      <td>1.0</td>\n",
       "      <td>0.584615</td>\n",
       "      <td>0.503797</td>\n",
       "      <td>0.333333</td>\n",
       "      <td>0</td>\n",
       "      <td>0.015437</td>\n",
       "    </tr>\n",
       "    <tr>\n",
       "      <th>4434</th>\n",
       "      <td>1.0</td>\n",
       "      <td>0.600000</td>\n",
       "      <td>0.478481</td>\n",
       "      <td>0.333333</td>\n",
       "      <td>0</td>\n",
       "      <td>0.024051</td>\n",
       "    </tr>\n",
       "    <tr>\n",
       "      <th>951</th>\n",
       "      <td>1.0</td>\n",
       "      <td>0.600000</td>\n",
       "      <td>0.474684</td>\n",
       "      <td>0.333333</td>\n",
       "      <td>0</td>\n",
       "      <td>0.027848</td>\n",
       "    </tr>\n",
       "    <tr>\n",
       "      <th>4680</th>\n",
       "      <td>1.0</td>\n",
       "      <td>0.615385</td>\n",
       "      <td>0.478481</td>\n",
       "      <td>0.333333</td>\n",
       "      <td>0</td>\n",
       "      <td>0.028550</td>\n",
       "    </tr>\n",
       "  </tbody>\n",
       "</table>\n",
       "</div>"
      ],
      "text/plain": [
       "      gender       age    income  family_members  insurance_benefits  distance\n",
       "6        1.0  0.600000  0.502532        0.333333                   0  0.000000\n",
       "1415     1.0  0.600000  0.505063        0.333333                   0  0.002532\n",
       "108      1.0  0.600000  0.507595        0.333333                   0  0.005063\n",
       "3713     1.0  0.600000  0.517722        0.333333                   0  0.015190\n",
       "2997     1.0  0.584615  0.503797        0.333333                   0  0.015437\n",
       "4434     1.0  0.600000  0.478481        0.333333                   0  0.024051\n",
       "951      1.0  0.600000  0.474684        0.333333                   0  0.027848\n",
       "4680     1.0  0.615385  0.478481        0.333333                   0  0.028550"
      ]
     },
     "execution_count": 17,
     "metadata": {},
     "output_type": "execute_result"
    }
   ],
   "source": [
    "\n",
    "euc_scaled = get_knn(df_scaled, 6, 8, 'euclidean')\n",
    "euc_scaled"
   ]
  },
  {
   "cell_type": "code",
   "execution_count": 18,
   "metadata": {
    "trusted": true
   },
   "outputs": [
    {
     "data": {
      "text/html": [
       "<div>\n",
       "<style scoped>\n",
       "    .dataframe tbody tr th:only-of-type {\n",
       "        vertical-align: middle;\n",
       "    }\n",
       "\n",
       "    .dataframe tbody tr th {\n",
       "        vertical-align: top;\n",
       "    }\n",
       "\n",
       "    .dataframe thead th {\n",
       "        text-align: right;\n",
       "    }\n",
       "</style>\n",
       "<table border=\"1\" class=\"dataframe\">\n",
       "  <thead>\n",
       "    <tr style=\"text-align: right;\">\n",
       "      <th></th>\n",
       "      <th>gender</th>\n",
       "      <th>age</th>\n",
       "      <th>income</th>\n",
       "      <th>family_members</th>\n",
       "      <th>insurance_benefits</th>\n",
       "      <th>distance</th>\n",
       "    </tr>\n",
       "  </thead>\n",
       "  <tbody>\n",
       "    <tr>\n",
       "      <th>6</th>\n",
       "      <td>1</td>\n",
       "      <td>39</td>\n",
       "      <td>39700.0</td>\n",
       "      <td>2</td>\n",
       "      <td>0</td>\n",
       "      <td>0.0</td>\n",
       "    </tr>\n",
       "    <tr>\n",
       "      <th>3695</th>\n",
       "      <td>1</td>\n",
       "      <td>40</td>\n",
       "      <td>39700.0</td>\n",
       "      <td>3</td>\n",
       "      <td>0</td>\n",
       "      <td>2.0</td>\n",
       "    </tr>\n",
       "    <tr>\n",
       "      <th>4248</th>\n",
       "      <td>1</td>\n",
       "      <td>38</td>\n",
       "      <td>39700.0</td>\n",
       "      <td>1</td>\n",
       "      <td>0</td>\n",
       "      <td>2.0</td>\n",
       "    </tr>\n",
       "    <tr>\n",
       "      <th>1704</th>\n",
       "      <td>0</td>\n",
       "      <td>39</td>\n",
       "      <td>39700.0</td>\n",
       "      <td>0</td>\n",
       "      <td>0</td>\n",
       "      <td>3.0</td>\n",
       "    </tr>\n",
       "    <tr>\n",
       "      <th>4977</th>\n",
       "      <td>1</td>\n",
       "      <td>41</td>\n",
       "      <td>39700.0</td>\n",
       "      <td>0</td>\n",
       "      <td>0</td>\n",
       "      <td>4.0</td>\n",
       "    </tr>\n",
       "    <tr>\n",
       "      <th>1253</th>\n",
       "      <td>1</td>\n",
       "      <td>34</td>\n",
       "      <td>39700.0</td>\n",
       "      <td>2</td>\n",
       "      <td>0</td>\n",
       "      <td>5.0</td>\n",
       "    </tr>\n",
       "    <tr>\n",
       "      <th>4362</th>\n",
       "      <td>1</td>\n",
       "      <td>45</td>\n",
       "      <td>39700.0</td>\n",
       "      <td>2</td>\n",
       "      <td>1</td>\n",
       "      <td>6.0</td>\n",
       "    </tr>\n",
       "    <tr>\n",
       "      <th>413</th>\n",
       "      <td>1</td>\n",
       "      <td>45</td>\n",
       "      <td>39700.0</td>\n",
       "      <td>0</td>\n",
       "      <td>1</td>\n",
       "      <td>8.0</td>\n",
       "    </tr>\n",
       "  </tbody>\n",
       "</table>\n",
       "</div>"
      ],
      "text/plain": [
       "      gender  age   income  family_members  insurance_benefits  distance\n",
       "6          1   39  39700.0               2                   0       0.0\n",
       "3695       1   40  39700.0               3                   0       2.0\n",
       "4248       1   38  39700.0               1                   0       2.0\n",
       "1704       0   39  39700.0               0                   0       3.0\n",
       "4977       1   41  39700.0               0                   0       4.0\n",
       "1253       1   34  39700.0               2                   0       5.0\n",
       "4362       1   45  39700.0               2                   1       6.0\n",
       "413        1   45  39700.0               0                   1       8.0"
      ]
     },
     "execution_count": 18,
     "metadata": {},
     "output_type": "execute_result"
    }
   ],
   "source": [
    "\n",
    "man_not_scaled = get_knn(df, 6, 8, 'manhattan')\n",
    "man_not_scaled"
   ]
  },
  {
   "cell_type": "code",
   "execution_count": 19,
   "metadata": {
    "trusted": true
   },
   "outputs": [
    {
     "data": {
      "text/html": [
       "<div>\n",
       "<style scoped>\n",
       "    .dataframe tbody tr th:only-of-type {\n",
       "        vertical-align: middle;\n",
       "    }\n",
       "\n",
       "    .dataframe tbody tr th {\n",
       "        vertical-align: top;\n",
       "    }\n",
       "\n",
       "    .dataframe thead th {\n",
       "        text-align: right;\n",
       "    }\n",
       "</style>\n",
       "<table border=\"1\" class=\"dataframe\">\n",
       "  <thead>\n",
       "    <tr style=\"text-align: right;\">\n",
       "      <th></th>\n",
       "      <th>gender</th>\n",
       "      <th>age</th>\n",
       "      <th>income</th>\n",
       "      <th>family_members</th>\n",
       "      <th>insurance_benefits</th>\n",
       "      <th>distance</th>\n",
       "    </tr>\n",
       "  </thead>\n",
       "  <tbody>\n",
       "    <tr>\n",
       "      <th>6</th>\n",
       "      <td>1</td>\n",
       "      <td>39</td>\n",
       "      <td>39700.0</td>\n",
       "      <td>2</td>\n",
       "      <td>0</td>\n",
       "      <td>0.000000</td>\n",
       "    </tr>\n",
       "    <tr>\n",
       "      <th>3695</th>\n",
       "      <td>1</td>\n",
       "      <td>40</td>\n",
       "      <td>39700.0</td>\n",
       "      <td>3</td>\n",
       "      <td>0</td>\n",
       "      <td>1.414214</td>\n",
       "    </tr>\n",
       "    <tr>\n",
       "      <th>4248</th>\n",
       "      <td>1</td>\n",
       "      <td>38</td>\n",
       "      <td>39700.0</td>\n",
       "      <td>1</td>\n",
       "      <td>0</td>\n",
       "      <td>1.414214</td>\n",
       "    </tr>\n",
       "    <tr>\n",
       "      <th>1704</th>\n",
       "      <td>0</td>\n",
       "      <td>39</td>\n",
       "      <td>39700.0</td>\n",
       "      <td>0</td>\n",
       "      <td>0</td>\n",
       "      <td>2.236068</td>\n",
       "    </tr>\n",
       "    <tr>\n",
       "      <th>4977</th>\n",
       "      <td>1</td>\n",
       "      <td>41</td>\n",
       "      <td>39700.0</td>\n",
       "      <td>0</td>\n",
       "      <td>0</td>\n",
       "      <td>2.828427</td>\n",
       "    </tr>\n",
       "    <tr>\n",
       "      <th>1253</th>\n",
       "      <td>1</td>\n",
       "      <td>34</td>\n",
       "      <td>39700.0</td>\n",
       "      <td>2</td>\n",
       "      <td>0</td>\n",
       "      <td>5.000000</td>\n",
       "    </tr>\n",
       "    <tr>\n",
       "      <th>4362</th>\n",
       "      <td>1</td>\n",
       "      <td>45</td>\n",
       "      <td>39700.0</td>\n",
       "      <td>2</td>\n",
       "      <td>1</td>\n",
       "      <td>6.000000</td>\n",
       "    </tr>\n",
       "    <tr>\n",
       "      <th>413</th>\n",
       "      <td>1</td>\n",
       "      <td>45</td>\n",
       "      <td>39700.0</td>\n",
       "      <td>0</td>\n",
       "      <td>1</td>\n",
       "      <td>6.324555</td>\n",
       "    </tr>\n",
       "  </tbody>\n",
       "</table>\n",
       "</div>"
      ],
      "text/plain": [
       "      gender  age   income  family_members  insurance_benefits  distance\n",
       "6          1   39  39700.0               2                   0  0.000000\n",
       "3695       1   40  39700.0               3                   0  1.414214\n",
       "4248       1   38  39700.0               1                   0  1.414214\n",
       "1704       0   39  39700.0               0                   0  2.236068\n",
       "4977       1   41  39700.0               0                   0  2.828427\n",
       "1253       1   34  39700.0               2                   0  5.000000\n",
       "4362       1   45  39700.0               2                   1  6.000000\n",
       "413        1   45  39700.0               0                   1  6.324555"
      ]
     },
     "execution_count": 19,
     "metadata": {},
     "output_type": "execute_result"
    }
   ],
   "source": [
    "\n",
    "euc_not_scaled = get_knn(df, 6, 8, 'euclidean')\n",
    "euc_not_scaled"
   ]
  },
  {
   "cell_type": "markdown",
   "metadata": {},
   "source": [
    "Answers to the questions"
   ]
  },
  {
   "cell_type": "markdown",
   "metadata": {},
   "source": [
    "**Does the data being not scaled affect the kNN algorithm? If so, how does that appear?** \n",
    "\n",
    "Put your answer here."
   ]
  },
  {
   "cell_type": "markdown",
   "metadata": {},
   "source": []
  },
  {
   "cell_type": "code",
   "execution_count": 20,
   "metadata": {
    "trusted": true
   },
   "outputs": [
    {
     "data": {
      "text/plain": [
       "array([[<AxesSubplot:title={'center':'gender'}>,\n",
       "        <AxesSubplot:title={'center':'age'}>],\n",
       "       [<AxesSubplot:title={'center':'income'}>,\n",
       "        <AxesSubplot:title={'center':'family_members'}>]], dtype=object)"
      ]
     },
     "execution_count": 20,
     "metadata": {},
     "output_type": "execute_result"
    },
    {
     "data": {
      "image/png": "[encoded data removed]",
      "text/plain": [
       "<Figure size 640x480 with 4 Axes>"
      ]
     },
     "metadata": {},
     "output_type": "display_data"
    },
    {
     "data": {
      "image/png": "[encoded data removed]",
      "text/plain": [
       "<Figure size 640x480 with 4 Axes>"
      ]
     },
     "metadata": {},
     "output_type": "display_data"
    }
   ],
   "source": [
    "\n",
    "# distribution of features using the unscaled data\n",
    "man_not_scaled[feature_names].hist()\n",
    "\n",
    "# Distribution of features using scaled data\n",
    "man_scaled[feature_names].hist()"
   ]
  },
  {
   "cell_type": "markdown",
   "metadata": {},
   "source": [
    "Yes, the data not being scaled does affect the k-Nearest Neighbors (kNN) algorithm, and the difference is visible in the histograms.\n",
    "\n",
    "Differences in Feature Distributions\n",
    "- Unscaled\n",
    "    - Income is in the range of tens of thousands\n",
    "    - Age is in the tens\n",
    "    - Family Members is a small integer value\n",
    "    - Gender is binary\n",
    "- Scaled\n",
    "    - all feature values are brought to a similar range (approximately 0 to 1), making them comparable.\n",
    "    \n",
    "Impacts on kNN Algorithm\n",
    "- If features are not scaled, the income feaute will dominate the distance calculation and smaller-valued feaures like gender or family_members will have a negligible effect, even if they are important for classification or clustering. \n",
    "- If feaures are scaled, each feature contributes equally to the distance calculation and kNN can correctly identify similar data points without being overly influenced by large numerical differences.\n",
    "\n",
    "Final Conclution\n",
    "- Without scaling, kNN is biased toward features with larger values like the income.\n",
    "- With scalling, all feaures contribute fairly, leading to more meaningful and accurate nearest-neighbor results."
   ]
  },
  {
   "cell_type": "markdown",
   "metadata": {},
   "source": [
    "**How similar are the results using the Manhattan distance metric (regardless of the scaling)?** \n",
    "\n",
    "Put your answer here."
   ]
  },
  {
   "cell_type": "code",
   "execution_count": 21,
   "metadata": {
    "trusted": true
   },
   "outputs": [
    {
     "data": {
      "text/plain": [
       "Text(0, 0.5, 'Fequency')"
      ]
     },
     "execution_count": 21,
     "metadata": {},
     "output_type": "execute_result"
    },
    {
     "data": {
      "image/png": "[encoded data removed]",
      "text/plain": [
       "<Figure size 640x480 with 1 Axes>"
      ]
     },
     "metadata": {},
     "output_type": "display_data"
    }
   ],
   "source": [
    "\n",
    "man_scaled.distance.hist()\n",
    "plt.title('Manhattan Scaled Data Distribution')\n",
    "plt.xlabel('Manhattan Distance')\n",
    "plt.ylabel('Fequency')\n"
   ]
  },
  {
   "cell_type": "code",
   "execution_count": 22,
   "metadata": {
    "trusted": true
   },
   "outputs": [
    {
     "data": {
      "text/plain": [
       "Text(0, 0.5, 'Fequency')"
      ]
     },
     "execution_count": 22,
     "metadata": {},
     "output_type": "execute_result"
    },
    {
     "data": {
      "image/png": "[encoded data removed]",
      "text/plain": [
       "<Figure size 640x480 with 1 Axes>"
      ]
     },
     "metadata": {},
     "output_type": "display_data"
    }
   ],
   "source": [
    "\n",
    "man_not_scaled.distance.hist()\n",
    "plt.title('Manhattan Unscaled Data Distribution')\n",
    "plt.xlabel('Manhattan Distance')\n",
    "plt.ylabel('Fequency')"
   ]
  },
  {
   "cell_type": "markdown",
   "metadata": {},
   "source": [
    "The results of using the Manhattan distance metric are structurally similar regardless of scaling, but their absolute values differ significantly.\n",
    "\n",
    "Observations\n",
    "- Both the scaled and unscaled graphs show a similar pattern in the distribution of distances.\n",
    "- The frequencies of the bins are consistent in their relative positions, meaning that the neighbors remain in roughly the same order in terms of closeness.\n",
    "- In the scaled graph, Manhattan distances are much smaller, ranging between 0.000 and 0.040.\n",
    "- In the unscaled graph, Manhattan distances are much larger, ranging between 0 and 8.\n",
    "\n",
    "Final Conclusion:\n",
    "- The kNN results should remain mostly unchanged becasue Manhattan distance still maintains the relative differences between data points. However, the absolute values of distances differ because of the impact of large numerical scales in the unscaled data. Scaling makes distances more interpretable and ensures fair weighting across features."
   ]
  },
  {
   "cell_type": "code",
   "execution_count": 23,
   "metadata": {
    "trusted": true
   },
   "outputs": [
    {
     "data": {
      "image/png": "[encoded data removed]",
      "text/plain": [
       "<Figure size 640x480 with 1 Axes>"
      ]
     },
     "metadata": {},
     "output_type": "display_data"
    },
    {
     "data": {
      "image/png": "[encoded data removed]",
      "text/plain": [
       "<Figure size 640x480 with 1 Axes>"
      ]
     },
     "metadata": {},
     "output_type": "display_data"
    }
   ],
   "source": [
    "# Adjusting bins for better visualization\n",
    "man_scaled.distance.hist(bins=15)  # Try different values like 10, 15, or 20\n",
    "plt.title('Manhattan Scaled Data Distribution')\n",
    "plt.xlabel('Manhattan Distance')\n",
    "plt.ylabel('Frequency')\n",
    "\n",
    "plt.show()\n",
    "\n",
    "man_not_scaled.distance.hist(bins=15)  # Keep the same number of bins for consistency\n",
    "plt.title('Manhattan Unscaled Data Distribution')\n",
    "plt.xlabel('Manhattan Distance')\n",
    "plt.ylabel('Frequency')\n",
    "\n",
    "plt.show()"
   ]
  },
  {
   "cell_type": "markdown",
   "metadata": {},
   "source": [
    "### Analysis of Manhattan Distance Distributions with Adjusted Bins\n",
    "\n",
    "Compared to the earlier histograms, these updated graphs provide a more detailed and evenly distributed visualization due to the adjusted bin values.\n",
    "\n",
    "- Smoother Distribution Representation\n",
    "    - The bins now better capture the variation in distances, making it easier to compare scaled vs. unscaled distributions.\n",
    "    - Previously, the bars appeared more unevenly spaced, which may have obscured some patterns.\n",
    "- More Granular View of Distance Ranges\n",
    "    - The previous graphs may have oversimplified the distribution due to automatic binning.\n",
    "    - Here, the frequency of distances is more evenly spread, especially in the unscaled data, where the range is much larger.\n",
    "- Improved Comparability Between Scaled and Unscaled Data\n",
    "    - The revised binning ensures that both histograms display distance variations more clearly, making it easier to see how scaling impacts the absolute values while keeping the overall structure intact.\n",
    "- The updated graphs do not change the overall conclusions, but they offer a clearer representation of how distances are distributed, making comparisons between scaled and unscaled data more meaningful.  "
   ]
  },
  {
   "cell_type": "markdown",
   "metadata": {},
   "source": [
    "# Task 2. Is Customer Likely to Receive Insurance Benefit?"
   ]
  },
  {
   "cell_type": "markdown",
   "metadata": {},
   "source": [
    "In terms of machine learning we can look at this like a binary classification task."
   ]
  },
  {
   "cell_type": "markdown",
   "metadata": {},
   "source": [
    "With `insurance_benefits` being more than zero as the target, evaluate whether the kNN classification approach can do better than a dummy model.\n",
    "\n",
    "Instructions:\n",
    "- Build a KNN-based classifier and measure its quality with the F1 metric for k=1..10 for both the original data and the scaled one. That'd be interesting to see how k may influece the evaluation metric, and whether scaling the data makes any difference. You can use a ready implemention of the kNN classification algorithm from scikit-learn (check [the link](https://scikit-learn.org/stable/modules/generated/sklearn.neighbors.KNeighborsClassifier.html)) or use your own.\n",
    "- Build the dummy model which is just random for this case. It should return \"1\" with some probability. Let's test the model with four probability values: 0, the probability of paying any insurance benefit, 0.5, 1.\n",
    "\n",
    "The probability of paying any insurance benefit can be defined as\n",
    "\n",
    "$$\n",
    "P\\{\\text{insurance benefit received}\\}=\\frac{\\text{number of clients received any insurance benefit}}{\\text{total number of clients}}.\n",
    "$$\n",
    "\n",
    "Split the whole data in the 70:30 proportion for the training/testing parts."
   ]
  },
  {
   "cell_type": "code",
   "execution_count": 24,
   "metadata": {
    "trusted": true
   },
   "outputs": [],
   "source": [
    "# calculate the target\n",
    "\n",
    "df['insurance_benefits_received'] = (df['insurance_benefits'] > 0).astype(int)#<your code here>"
   ]
  },
  {
   "cell_type": "code",
   "execution_count": 25,
   "metadata": {
    "trusted": true
   },
   "outputs": [
    {
     "data": {
      "text/plain": [
       "0    0.8872\n",
       "1    0.1128\n",
       "Name: insurance_benefits_received, dtype: float64"
      ]
     },
     "execution_count": 25,
     "metadata": {},
     "output_type": "execute_result"
    }
   ],
   "source": [
    "\n",
    "# check for the class imbalance with value_counts()\n",
    "\n",
    "df['insurance_benefits_received'].value_counts(normalize=True)"
   ]
  },
  {
   "cell_type": "code",
   "execution_count": 26,
   "metadata": {
    "trusted": true
   },
   "outputs": [],
   "source": [
    "def eval_classifier(y_true, y_pred):\n",
    "    \n",
    "    f1_score = sklearn.metrics.f1_score(y_true, y_pred)\n",
    "    print(f'F1: {f1_score:.2f}')\n",
    "    \n",
    "# if you have an issue with the following line, restart the kernel and run the notebook again\n",
    "    cm = sklearn.metrics.confusion_matrix(y_true, y_pred, normalize='all')\n",
    "    print('Confusion Matrix')\n",
    "    print(cm)"
   ]
  },
  {
   "cell_type": "code",
   "execution_count": 27,
   "metadata": {
    "trusted": true
   },
   "outputs": [],
   "source": [
    "# generating output of a random model\n",
    "\n",
    "def rnd_model_predict(P, size, seed=42):\n",
    "\n",
    "    rng = np.random.default_rng(seed=seed)\n",
    "    return rng.binomial(n=1, p=P, size=size)"
   ]
  },
  {
   "cell_type": "code",
   "execution_count": 28,
   "metadata": {
    "trusted": true
   },
   "outputs": [],
   "source": [
    "\n",
    "train, test = train_test_split(df, test_size=.3, \n",
    "                               stratify=df['insurance_benefits_received'],random_state=123)\n",
    "x_train = train[feature_names]\n",
    "x_test = test[feature_names]\n",
    "y_train = train['insurance_benefits_received']\n",
    "y_test = test['insurance_benefits_received']"
   ]
  },
  {
   "cell_type": "code",
   "execution_count": 29,
   "metadata": {
    "trusted": true
   },
   "outputs": [
    {
     "name": "stdout",
     "output_type": "stream",
     "text": [
      "F1: 0.41\n",
      "Confusion Matrix\n",
      "[[0.88       0.00733333]\n",
      " [0.082      0.03066667]]\n"
     ]
    }
   ],
   "source": [
    "knn = KNeighborsClassifier(n_neighbors=3)\n",
    "knn.fit(x_train,y_train)\n",
    "predict_y = knn.predict(x_test)\n",
    "eval_classifier(y_test,predict_y )"
   ]
  },
  {
   "cell_type": "code",
   "execution_count": 30,
   "metadata": {
    "trusted": true
   },
   "outputs": [
    {
     "name": "stdout",
     "output_type": "stream",
     "text": [
      "F1 score and confusion matrix for k=1:\n",
      "F1: 0.69\n",
      "Confusion Matrix\n",
      "[[0.876      0.01133333]\n",
      " [0.04666667 0.066     ]]\n",
      "\n",
      "F1 score and confusion matrix for k=2:\n",
      "F1: 0.38\n",
      "Confusion Matrix\n",
      "[[0.88533333 0.002     ]\n",
      " [0.08533333 0.02733333]]\n",
      "\n",
      "F1 score and confusion matrix for k=3:\n",
      "F1: 0.41\n",
      "Confusion Matrix\n",
      "[[0.88       0.00733333]\n",
      " [0.082      0.03066667]]\n",
      "\n",
      "F1 score and confusion matrix for k=4:\n",
      "F1: 0.21\n",
      "Confusion Matrix\n",
      "[[8.86666667e-01 6.66666667e-04]\n",
      " [9.93333333e-02 1.33333333e-02]]\n",
      "\n",
      "F1 score and confusion matrix for k=5:\n",
      "F1: 0.21\n",
      "Confusion Matrix\n",
      "[[0.88333333 0.004     ]\n",
      " [0.09866667 0.014     ]]\n",
      "\n",
      "F1 score and confusion matrix for k=6:\n",
      "F1: 0.15\n",
      "Confusion Matrix\n",
      "[[0.88733333 0.        ]\n",
      " [0.10333333 0.00933333]]\n",
      "\n",
      "F1 score and confusion matrix for k=7:\n",
      "F1: 0.16\n",
      "Confusion Matrix\n",
      "[[0.886      0.00133333]\n",
      " [0.10266667 0.01      ]]\n",
      "\n",
      "F1 score and confusion matrix for k=8:\n",
      "F1: 0.00\n",
      "Confusion Matrix\n",
      "[[0.88733333 0.        ]\n",
      " [0.11266667 0.        ]]\n",
      "\n",
      "F1 score and confusion matrix for k=9:\n",
      "F1: 0.01\n",
      "Confusion Matrix\n",
      "[[8.87333333e-01 0.00000000e+00]\n",
      " [1.12000000e-01 6.66666667e-04]]\n",
      "\n",
      "F1 score and confusion matrix for k=10:\n",
      "F1: 0.00\n",
      "Confusion Matrix\n",
      "[[0.88733333 0.        ]\n",
      " [0.11266667 0.        ]]\n",
      "\n"
     ]
    }
   ],
   "source": [
    "for k in range(1, 11):  # Looping through k values from 1 to 10\n",
    "    print(f'F1 score and confusion matrix for k={k}:')\n",
    "    \n",
    "    knn = KNeighborsClassifier(n_neighbors=k)\n",
    "    knn.fit(x_train, y_train)\n",
    "    \n",
    "    predict_y = knn.predict(x_test)\n",
    "    eval_classifier(y_test, predict_y)\n",
    "    \n",
    "    print() "
   ]
  },
  {
   "cell_type": "markdown",
   "metadata": {},
   "source": [
    "## Analysis of kNN Performance for Different k Values\n",
    "\n",
    "- For k = 1:\n",
    "    - Hightest F1 score (0.69): the model performs best with a small number of neighbors.\n",
    "    - This suggests that the decison boundaries are sharp and the model captures local cariations well.\n",
    "- For k = 2 to k = 5:\n",
    "    - The F1 score drops significantly from 0.38 to 0.21.\n",
    "    - The model starts misclassifying more, likely because increasing k smooths decision boundaries.\n",
    "- For k = 6 to k = 10:\n",
    "    - The F1 score continues to decline, reaching 0.00 for k = 8 and k = 10.\n",
    "    - The confusion matrix shows that the model predicts the majority class 0 for all cases, maning if fails to classify the minority class 1. \n",
    "    \n",
    "- Conclusion\n",
    "    - Best k: k = 1 gives the best result, F1 = 0.69."
   ]
  },
  {
   "cell_type": "code",
   "execution_count": 31,
   "metadata": {
    "scrolled": false,
    "trusted": true
   },
   "outputs": [
    {
     "name": "stdout",
     "output_type": "stream",
     "text": [
      "The probability: 0.00\n",
      "F1: 0.00\n",
      "Confusion Matrix\n",
      "[[0.8872 0.    ]\n",
      " [0.1128 0.    ]]\n",
      "\n",
      "The probability: 0.11\n",
      "F1: 0.12\n",
      "Confusion Matrix\n",
      "[[0.7914 0.0958]\n",
      " [0.0994 0.0134]]\n",
      "\n",
      "The probability: 0.50\n",
      "F1: 0.20\n",
      "Confusion Matrix\n",
      "[[0.456  0.4312]\n",
      " [0.053  0.0598]]\n",
      "\n",
      "The probability: 1.00\n",
      "F1: 0.20\n",
      "Confusion Matrix\n",
      "[[0.     0.8872]\n",
      " [0.     0.1128]]\n",
      "\n"
     ]
    }
   ],
   "source": [
    "for P in [0, df['insurance_benefits_received'].mean(), 0.5, 1]:  \n",
    "    print(f'The probability: {P:.2f}')  \n",
    "    y_pred_rnd = rnd_model_predict(P, df[feature_names].shape[0])  \n",
    "\n",
    "    eval_classifier(df['insurance_benefits_received'], y_pred_rnd)  \n",
    "    print()  "
   ]
  },
  {
   "cell_type": "markdown",
   "metadata": {},
   "source": [
    "## Analysis of the Dummy Model Performance with Different Probabilities\n",
    "\n",
    "This code evaluates a ranodm baseline model that predicts \"1\" with different probabilities. The results help compare kNN's performance against a naive classifier.\n",
    "\n",
    "- kNN best case k = 1, F1 = 0.69\n",
    "    - Significantly outperforms the ranodm model.\n",
    "    - This shows that kNN is actually learning meaningful patterns.\n",
    "- Random Model best case P = 0.50 or P = 1.00: F1 = 0.20\n",
    "    - Much lower than kNN, showing that the problem is not completely random.\n",
    "    - The random model does better than kNN for k >= 8, where kNN collapses and predicts only class 0.\n",
    "- Conclusion\n",
    "    - kNN perfomrs better than the random model, proving that insurance benefits are predictable to some extent.\n",
    "    - However, for high values of k, kNN behaves similarly to a biased ranodm model, meaning it's over-smoothing the decision boundary.\n",
    "    - For a strong model, we should choose k = 1, 2, 3. "
   ]
  },
  {
   "cell_type": "markdown",
   "metadata": {},
   "source": [
    "Now with Scaled Data"
   ]
  },
  {
   "cell_type": "code",
   "execution_count": 32,
   "metadata": {
    "trusted": true
   },
   "outputs": [],
   "source": [
    "df_scaled['insurance_benefits_received'] = (df_scaled['insurance_benefits'] > 0).astype(int)"
   ]
  },
  {
   "cell_type": "code",
   "execution_count": 33,
   "metadata": {
    "trusted": true
   },
   "outputs": [],
   "source": [
    "# Step 1: Split first (before scaling)\n",
    "x_train, x_test, y_train, y_test = train_test_split(\n",
    "    df[feature_names], df['insurance_benefits_received'], \n",
    "    test_size=0.3, random_state=123\n",
    ")\n",
    "\n",
    "# Step 2: Apply scaling separately to training and test data\n",
    "scaler = sklearn.preprocessing.StandardScaler()\n",
    "x_train = scaler.fit_transform(x_train)  # Fit and transform training data\n",
    "x_test = scaler.transform(x_test)  # Only transform test data"
   ]
  },
  {
   "cell_type": "code",
   "execution_count": 34,
   "metadata": {
    "trusted": true
   },
   "outputs": [
    {
     "name": "stdout",
     "output_type": "stream",
     "text": [
      "Scaled data F1 score and confusion matrix for k=1:\n",
      "F1: 0.94\n",
      "Confusion Matrix\n",
      "[[0.882      0.00466667]\n",
      " [0.008      0.10533333]]\n",
      "\n",
      "Scaled data F1 score and confusion matrix for k=2:\n",
      "F1: 0.92\n",
      "Confusion Matrix\n",
      "[[8.86000000e-01 6.66666667e-04]\n",
      " [1.66666667e-02 9.66666667e-02]]\n",
      "\n",
      "Scaled data F1 score and confusion matrix for k=3:\n",
      "F1: 0.94\n",
      "Confusion Matrix\n",
      "[[0.88466667 0.002     ]\n",
      " [0.012      0.10133333]]\n",
      "\n",
      "Scaled data F1 score and confusion matrix for k=4:\n",
      "F1: 0.91\n",
      "Confusion Matrix\n",
      "[[0.88666667 0.        ]\n",
      " [0.01933333 0.094     ]]\n",
      "\n",
      "Scaled data F1 score and confusion matrix for k=5:\n",
      "F1: 0.93\n",
      "Confusion Matrix\n",
      "[[0.88333333 0.00333333]\n",
      " [0.01266667 0.10066667]]\n",
      "\n",
      "Scaled data F1 score and confusion matrix for k=6:\n",
      "F1: 0.93\n",
      "Confusion Matrix\n",
      "[[0.88666667 0.        ]\n",
      " [0.014      0.09933333]]\n",
      "\n",
      "Scaled data F1 score and confusion matrix for k=7:\n",
      "F1: 0.95\n",
      "Confusion Matrix\n",
      "[[8.86000000e-01 6.66666667e-04]\n",
      " [1.06666667e-02 1.02666667e-01]]\n",
      "\n",
      "Scaled data F1 score and confusion matrix for k=8:\n",
      "F1: 0.93\n",
      "Confusion Matrix\n",
      "[[0.88666667 0.        ]\n",
      " [0.01466667 0.09866667]]\n",
      "\n",
      "Scaled data F1 score and confusion matrix for k=9:\n",
      "F1: 0.93\n",
      "Confusion Matrix\n",
      "[[0.88533333 0.00133333]\n",
      " [0.01266667 0.10066667]]\n",
      "\n",
      "Scaled data F1 score and confusion matrix for k=10:\n",
      "F1: 0.91\n",
      "Confusion Matrix\n",
      "[[8.86000000e-01 6.66666667e-04]\n",
      " [1.73333333e-02 9.60000000e-02]]\n",
      "\n"
     ]
    }
   ],
   "source": [
    "\n",
    "for k in range(1, 11):  # Loop through k values from 1 to 10\n",
    "    print(f'Scaled data F1 score and confusion matrix for k={k}:')\n",
    "    \n",
    "    knn = KNeighborsClassifier(n_neighbors=k)\n",
    "    knn.fit(x_train, y_train)\n",
    "    \n",
    "    eval_classifier(y_test, knn.predict(x_test))\n",
    "    \n",
    "    print()"
   ]
  },
  {
   "cell_type": "markdown",
   "metadata": {},
   "source": [
    "## Analysis of kNN Performance on Scaled Data\n",
    "\n",
    "After scaling the feautes, the kNN classifier performs significantly better than before, with F1 scores ranging from 0.90 to 0.95 across different values for k 1 to 100.\n",
    "\n",
    "- High F1 Scores Across k:\n",
    "    - Best Performance: k = 1, F1 = 0.95\n",
    "    - Worst Performance: k = 4, F1 = 0.90, 0.91\n",
    "    - Unlike the unsccaled data, where F1 dropped significantly for higher k-values, here, performance remains stable.\n",
    "- Effect of Scaling:\n",
    "    - Previously, kNN over-smoothed at higher k-values, predicting mostly the majority class.\n",
    "    - Now, even at k = 10, the model still maintains a high F1 score.\n",
    "    - This shows that scaling helped balance feature importance, preventing features with large numerical values like income from dominating the distance metric.\n",
    "- Confusion Matrix Patterns:\n",
    "    - Misclassification rates are low across all k-values.\n",
    "    - The minority class 1 is now being detected more effectively compared to unscaled data.\n",
    "    - The proportion of false positive and false negatives remains small, showing better model balance."
   ]
  },
  {
   "cell_type": "markdown",
   "metadata": {},
   "source": [
    "# Task 3. Regression (with Linear Regression)"
   ]
  },
  {
   "cell_type": "markdown",
   "metadata": {},
   "source": [
    "With `insurance_benefits` as the target, evaluate what RMSE would be for a Linear Regression model."
   ]
  },
  {
   "cell_type": "markdown",
   "metadata": {},
   "source": [
    "Build your own implementation of LR. For that, recall how the linear regression task's solution is formulated in terms of LA. Check RMSE for both the original data and the scaled one. Can you see any difference in RMSE between these two cases?\n",
    "\n",
    "Let's denote\n",
    "- $X$ — feature matrix, each row is a case, each column is a feature, the first column consists of unities\n",
    "- $y$ — target (a vector)\n",
    "- $\\hat{y}$ — estimated tagret (a vector)\n",
    "- $w$ — weight vector\n",
    "\n",
    "The task of linear regression in the language of matrices can be formulated as\n",
    "\n",
    "$$\n",
    "y = Xw\n",
    "$$\n",
    "\n",
    "The training objective then is to find such $w$ that it would minimize the L2-distance (MSE) between $Xw$ and $y$:\n",
    "\n",
    "$$\n",
    "\\min_w d_2(Xw, y) \\quad \\text{or} \\quad \\min_w \\text{MSE}(Xw, y)\n",
    "$$\n",
    "\n",
    "It appears that there is analytical solution for the above:\n",
    "\n",
    "$$\n",
    "w = (X^T X)^{-1} X^T y\n",
    "$$\n",
    "\n",
    "The formula above can be used to find the weights $w$ and the latter can be used to calculate predicted values\n",
    "\n",
    "$$\n",
    "\\hat{y} = X_{val}w\n",
    "$$"
   ]
  },
  {
   "cell_type": "markdown",
   "metadata": {},
   "source": [
    "Split the whole data in the 70:30 proportion for the training/validation parts. Use the RMSE metric for the model evaluation."
   ]
  },
  {
   "cell_type": "code",
   "execution_count": 35,
   "metadata": {
    "trusted": true
   },
   "outputs": [],
   "source": [
    "class MyLinearRegression:\n",
    "    \n",
    "    def __init__(self):\n",
    "        \n",
    "        self.weights = None\n",
    "    \n",
    "    def fit(self, X, y):\n",
    "        \n",
    "        # adding the unities\n",
    "        X2 = np.append(np.ones([len(X), 1]), X, axis=1)\n",
    "        self.weights = (np.linalg.inv(X2.T.dot(X2))).dot(X2.T).dot(y) # <your code here>\n",
    "\n",
    "    def predict(self, X):\n",
    "        \n",
    "        # adding the unities\n",
    "        X2 = np.append(np.ones([len(X), 1]), X, axis=1) # <your code here>\n",
    "        y_pred = X2 @ self.weights # <your code here>\n",
    "        \n",
    "        return y_pred"
   ]
  },
  {
   "cell_type": "code",
   "execution_count": 36,
   "metadata": {
    "trusted": true
   },
   "outputs": [],
   "source": [
    "def eval_regressor(y_true, y_pred):\n",
    "    \n",
    "    rmse = math.sqrt(sklearn.metrics.mean_squared_error(y_true, y_pred))\n",
    "    print(f'RMSE: {rmse:.2f}')\n",
    "    \n",
    "    r2_score = math.sqrt(sklearn.metrics.r2_score(y_true, y_pred))\n",
    "    print(f'R2: {r2_score:.2f}')    "
   ]
  },
  {
   "cell_type": "code",
   "execution_count": 37,
   "metadata": {
    "trusted": true
   },
   "outputs": [
    {
     "name": "stdout",
     "output_type": "stream",
     "text": [
      "[-9.43539012e-01  3.57495491e-02  1.64272726e-02 -2.60743659e-07\n",
      " -1.16902127e-02]\n",
      "RMSE: 0.34\n",
      "R2: 0.66\n"
     ]
    }
   ],
   "source": [
    "X = df[['age', 'gender', 'income', 'family_members']].to_numpy()\n",
    "y = df['insurance_benefits'].to_numpy()\n",
    "\n",
    "X_train, X_test, y_train, y_test = train_test_split(X, y, test_size=0.3, random_state=12345)\n",
    "\n",
    "lr = MyLinearRegression()\n",
    "\n",
    "lr.fit(X_train, y_train)\n",
    "print(lr.weights)\n",
    "\n",
    "y_test_pred = lr.predict(X_test)\n",
    "eval_regressor(y_test, y_test_pred)"
   ]
  },
  {
   "cell_type": "code",
   "execution_count": 38,
   "metadata": {
    "trusted": true
   },
   "outputs": [
    {
     "name": "stdout",
     "output_type": "stream",
     "text": [
      "\n",
      " Results for Unscaled Data:\n",
      "Weights: [-9.43539012e-01  3.57495491e-02  1.64272726e-02 -2.60743659e-07\n",
      " -1.16902127e-02]\n",
      "RMSE: 0.34\n",
      "R2: 0.66\n",
      "\n",
      " Results for Scaled Data:\n",
      "Weights: [ 0.14971429  0.30292778  0.0082117  -0.00258294 -0.01271039]\n",
      "RMSE: 0.34\n",
      "R2: 0.66\n"
     ]
    }
   ],
   "source": [
    "# Extract features and target\n",
    "X = df[['age', 'gender', 'income', 'family_members']].to_numpy()\n",
    "y = df['insurance_benefits'].to_numpy()\n",
    "\n",
    "# Split data before scaling (70% train, 30% test)\n",
    "X_train, X_test, y_train, y_test = train_test_split(X, y, test_size=0.3, random_state=12345)\n",
    "\n",
    "# Train & Evaluate Linear Regression on **Unscaled Data**\n",
    "print(\"\\n Results for Unscaled Data:\")\n",
    "lr_unscaled = MyLinearRegression()\n",
    "lr_unscaled.fit(X_train, y_train)\n",
    "print(\"Weights:\", lr_unscaled.weights)\n",
    "\n",
    "y_test_pred_unscaled = lr_unscaled.predict(X_test)\n",
    "eval_regressor(y_test, y_test_pred)\n",
    "\n",
    "# Apply Scaling After Splitting\n",
    "scaler = sklearn.preprocessing.StandardScaler()\n",
    "X_train_scaled = scaler.fit_transform(X_train)  # Fit on training data only\n",
    "X_test_scaled = scaler.transform(X_test)  # Transform test data\n",
    "\n",
    "# Train & Evaluate Linear Regression on **Scaled Data**\n",
    "print(\"\\n Results for Scaled Data:\")\n",
    "lr_scaled = MyLinearRegression()\n",
    "lr_scaled.fit(X_train_scaled, y_train)\n",
    "print(\"Weights:\", lr_scaled.weights)\n",
    "\n",
    "y_test_pred_scaled = lr_scaled.predict(X_test_scaled)\n",
    "eval_regressor(y_test, y_test_pred_scaled)\n"
   ]
  },
  {
   "cell_type": "markdown",
   "metadata": {},
   "source": [
    "## Analysis of Linear Regression Results - Unscaled and Scaled\n",
    "\n",
    "Unscaled Data:\n",
    "\n",
    "- Weights:\n",
    "    - Intercept: -0.943\n",
    "    - Age: 0.0357 (small positive effect)\n",
    "    - Gender: 0.0164 (very small positive effect)\n",
    "    - Income: -2.607e-07 (almost negligible impact)\n",
    "    - Family Members: -0.0117 (small negative effect)\n",
    "- Performance Metrics:\n",
    "    - RMSE: 0.34\n",
    "    - R²: 0.66\n",
    "    - This indicates that 66% of the variance in insurance benefits is explained by the model.\n",
    "\n",
    "Scaled Data:\n",
    "\n",
    "- Weights:\n",
    "    - Intercept: 0.1497\n",
    "    - Age: 0.3029\n",
    "    - Gender: 0.00821\n",
    "    - Income: -0.00258\n",
    "    - Family Members: -0.01271\n",
    "- Performance Metrics:\n",
    "    - RMSE: 0.34\n",
    "    - R²: 0.66\n",
    "\n",
    "Although the regression coefficients change after scaling, the model’s predictive performance remains exactly the same.\n",
    "\n",
    "- Conclusion\n",
    "    - The Linear Regression model yields identical RMSE and R² values (0.34 and 0.66, respectively) whether using unscaled or scaled data. This demonstrates that while scaling alters the magnitude of the coefficients—reflecting changes in the units of measurement—it does not affect the overall prediction accuracy of the model. In other words, the model is invariant to feature scaling in terms of its performance metrics, even though the coefficients themselves become more interpretable after scaling.\n",
    "\n",
    "- Do the results differ?\n",
    "\n",
    "    - Performance-wise: No—the RMSE and R² remain unchanged.\n",
    "    - Coefficient-wise: Yes—the absolute values of the weights differ due to the standardization of feature scales, but their relative importance remains consistent.\n",
    "    - This confirms that scaling is beneficial for interpretability without compromising the predictive ability of the Linear Regression model.\n",
    "\n",
    "\n"
   ]
  },
  {
   "cell_type": "markdown",
   "metadata": {},
   "source": [
    "# Task 4. Obfuscating Data"
   ]
  },
  {
   "cell_type": "markdown",
   "metadata": {},
   "source": [
    "It best to obfuscate data by multiplying the numerical features (remember, they can be seen as the matrix $X$) by an invertible matrix $P$. \n",
    "\n",
    "$$\n",
    "X' = X \\times P\n",
    "$$\n",
    "\n",
    "Try to do that and check how the features' values will look like after the transformation. By the way, the intertible property is important here so make sure that $P$ is indeed invertible.\n",
    "\n",
    "You may want to review the 'Matrices and Matrix Operations -> Matrix Multiplication' lesson to recall the rule of matrix multiplication and its implementation with NumPy."
   ]
  },
  {
   "cell_type": "code",
   "execution_count": 39,
   "metadata": {
    "trusted": true
   },
   "outputs": [],
   "source": [
    "personal_info_column_list = ['gender', 'age', 'income', 'family_members']\n",
    "df_pn = df[personal_info_column_list]"
   ]
  },
  {
   "cell_type": "code",
   "execution_count": 40,
   "metadata": {
    "trusted": true
   },
   "outputs": [
    {
     "data": {
      "text/plain": [
       "array([[1.00e+00, 4.10e+01, 4.96e+04, 1.00e+00],\n",
       "       [0.00e+00, 4.60e+01, 3.80e+04, 1.00e+00],\n",
       "       [0.00e+00, 2.90e+01, 2.10e+04, 0.00e+00],\n",
       "       ...,\n",
       "       [0.00e+00, 2.00e+01, 3.39e+04, 2.00e+00],\n",
       "       [1.00e+00, 2.20e+01, 3.27e+04, 3.00e+00],\n",
       "       [1.00e+00, 2.80e+01, 4.06e+04, 1.00e+00]])"
      ]
     },
     "execution_count": 40,
     "metadata": {},
     "output_type": "execute_result"
    }
   ],
   "source": [
    "X = df_pn.to_numpy()\n",
    "X"
   ]
  },
  {
   "cell_type": "markdown",
   "metadata": {},
   "source": [
    "Generating a random matrix $P$."
   ]
  },
  {
   "cell_type": "code",
   "execution_count": 41,
   "metadata": {
    "trusted": true
   },
   "outputs": [
    {
     "data": {
      "text/plain": [
       "array([[0.77395605, 0.43887844, 0.85859792, 0.69736803],\n",
       "       [0.09417735, 0.97562235, 0.7611397 , 0.78606431],\n",
       "       [0.12811363, 0.45038594, 0.37079802, 0.92676499],\n",
       "       [0.64386512, 0.82276161, 0.4434142 , 0.22723872]])"
      ]
     },
     "execution_count": 41,
     "metadata": {},
     "output_type": "execute_result"
    }
   ],
   "source": [
    "rng = np.random.default_rng(seed=42)\n",
    "P = rng.random(size=(X.shape[1], X.shape[1]))\n",
    "P"
   ]
  },
  {
   "cell_type": "markdown",
   "metadata": {},
   "source": [
    "Checking the matrix $P$ is invertible"
   ]
  },
  {
   "cell_type": "code",
   "execution_count": 42,
   "metadata": {
    "trusted": true
   },
   "outputs": [
    {
     "data": {
      "text/plain": [
       "array([[ 1.00000000e+00, -1.69848573e-16, -7.58122972e-17,\n",
       "        -1.13112497e-16],\n",
       "       [-6.94895396e-17,  1.00000000e+00, -7.10568689e-17,\n",
       "         3.59096970e-17],\n",
       "       [-1.21269339e-16, -8.01461326e-17,  1.00000000e+00,\n",
       "         4.30764008e-19],\n",
       "       [-3.60694539e-16, -5.55430227e-16,  3.08072404e-16,\n",
       "         1.00000000e+00]])"
      ]
     },
     "execution_count": 42,
     "metadata": {},
     "output_type": "execute_result"
    }
   ],
   "source": [
    "y = np.linalg.inv(P)\n",
    "P.dot(y)"
   ]
  },
  {
   "cell_type": "markdown",
   "metadata": {},
   "source": [
    "Can you guess the customers' ages or income after the transformation?"
   ]
  },
  {
   "cell_type": "markdown",
   "metadata": {},
   "source": [
    "No, after the transformation X'=X*P, it becomes impossible to directly interpret the customers' ages or income from the obfuscated data. "
   ]
  },
  {
   "cell_type": "code",
   "execution_count": 43,
   "metadata": {
    "trusted": true
   },
   "outputs": [
    {
     "data": {
      "text/plain": [
       "array([[ 6359.71527314, 22380.40467609, 18424.09074184, 46000.69669016],\n",
       "       [ 4873.29406479, 17160.36702982, 14125.78076133, 35253.45577301],\n",
       "       [ 2693.11742928,  9486.397744  ,  7808.83156024, 19484.86063067],\n",
       "       ...,\n",
       "       [ 4346.2234249 , 15289.24126492, 12586.16264392, 31433.50888552],\n",
       "       [ 4194.09324155, 14751.9910242 , 12144.02930637, 30323.88763426],\n",
       "       [ 5205.46827354, 18314.24814446, 15077.01370762, 37649.59295455]])"
      ]
     },
     "execution_count": 43,
     "metadata": {},
     "output_type": "execute_result"
    }
   ],
   "source": [
    "X_prime = np.matmul(X,P)\n",
    "X_prime"
   ]
  },
  {
   "cell_type": "markdown",
   "metadata": {},
   "source": [
    "Can you recover the original data from $X'$ if you know $P$? Try to check that with calculations by moving $P$ from the right side of the formula above to the left one. The rules of matrix multiplcation are really helpful here."
   ]
  },
  {
   "cell_type": "markdown",
   "metadata": {},
   "source": [
    "Yes, the original data can be perfectly recovered if P is known. "
   ]
  },
  {
   "cell_type": "code",
   "execution_count": 44,
   "metadata": {
    "trusted": true
   },
   "outputs": [
    {
     "data": {
      "text/plain": [
       "array([[ 1.00000000e+00,  4.10000000e+01,  4.96000000e+04,\n",
       "         1.00000000e+00],\n",
       "       [-4.47363596e-12,  4.60000000e+01,  3.80000000e+04,\n",
       "         1.00000000e+00],\n",
       "       [-2.51586878e-12,  2.90000000e+01,  2.10000000e+04,\n",
       "         9.52452315e-13],\n",
       "       ...,\n",
       "       [-1.92837871e-12,  2.00000000e+01,  3.39000000e+04,\n",
       "         2.00000000e+00],\n",
       "       [ 1.00000000e+00,  2.20000000e+01,  3.27000000e+04,\n",
       "         3.00000000e+00],\n",
       "       [ 1.00000000e+00,  2.80000000e+01,  4.06000000e+04,\n",
       "         1.00000000e+00]])"
      ]
     },
     "execution_count": 44,
     "metadata": {},
     "output_type": "execute_result"
    }
   ],
   "source": [
    "X_rev = X_prime @ np.linalg.inv(P)\n",
    "X_rev"
   ]
  },
  {
   "cell_type": "markdown",
   "metadata": {},
   "source": [
    "Print all three cases for a few customers\n",
    "- The original data\n",
    "- The transformed one\n",
    "- The reversed (recovered) one"
   ]
  },
  {
   "cell_type": "code",
   "execution_count": 45,
   "metadata": {
    "trusted": true
   },
   "outputs": [
    {
     "name": "stdout",
     "output_type": "stream",
     "text": [
      "The original_data:\n",
      "[[1.00e+00 4.10e+01 4.96e+04 1.00e+00]\n",
      " [0.00e+00 4.60e+01 3.80e+04 1.00e+00]]\n",
      "\n",
      "The transform data:\n",
      "[[ 6359.71527314 22380.40467609 18424.09074184 46000.69669016]\n",
      " [ 4873.29406479 17160.36702982 14125.78076133 35253.45577301]]\n",
      "\n",
      "The reversed data:\n",
      "[[ 1.00000000e+00  4.10000000e+01  4.96000000e+04  1.00000000e+00]\n",
      " [-4.47363596e-12  4.60000000e+01  3.80000000e+04  1.00000000e+00]]\n"
     ]
    }
   ],
   "source": [
    "print('The original_data:')\n",
    "print(X[:2])\n",
    "print()\n",
    "print('The transform data:')\n",
    "print(X_prime[:2])\n",
    "print()\n",
    "print('The reversed data:')\n",
    "print(X_rev[:2])"
   ]
  },
  {
   "cell_type": "markdown",
   "metadata": {},
   "source": [
    "You can probably see that some values are not exactly the same as they are in the original data. What might be the reason for that?"
   ]
  },
  {
   "cell_type": "markdown",
   "metadata": {},
   "source": [
    "The reason some values in the recovered data X_rev are not exactly the same as the original data X is due to floating-point precision errors that occur in matrix operations."
   ]
  },
  {
   "cell_type": "markdown",
   "metadata": {},
   "source": [
    "## Proof That Data Obfuscation Can Work with LR"
   ]
  },
  {
   "cell_type": "markdown",
   "metadata": {},
   "source": [
    "The regression task has been solved with linear regression in this project. Your next task is to prove _analytically_ that the given obfuscation method won't affect linear regression in terms of predicted values i.e. their values will remain the same. Can you believe that? Well, you don't have to, you should prove it!"
   ]
  },
  {
   "cell_type": "markdown",
   "metadata": {},
   "source": [
    "So, the data is obfuscated and there is $X \\times P$ instead of just $X$ now. Consequently, there are other weights $w_P$ as\n",
    "$$\n",
    "w = (X^T X)^{-1} X^T y \\quad \\Rightarrow \\quad w_P = [(XP)^T XP]^{-1} (XP)^T y\n",
    "$$\n",
    "\n",
    "How would $w$ and $w_P$ be linked if you simplify the formula for $w_P$ above? \n",
    "\n",
    "What would be predicted values with $w_P$? \n",
    "\n",
    "What does that mean for the quality of linear regression if you measure it with RMSE?\n",
    "\n",
    "Check Appendix B Properties of Matrices in the end of the notebook. There are useful formulas in there!\n",
    "\n",
    "No code is necessary in this section, only analytical explanation!"
   ]
  },
  {
   "cell_type": "markdown",
   "metadata": {},
   "source": [
    "**Answer**"
   ]
  },
  {
   "cell_type": "markdown",
   "metadata": {},
   "source": [
    "**How would  𝑤  and  𝑤𝑃  be linked if you simplify the formula for  𝑤𝑃  above?**\n",
    "\n",
    "Given  $$ w_p = [(XP)^TXP]^{-1}(XP)^Ty $$\n",
    "\n",
    "expand $(XP)^T$  $$ w_p = (P^TX^TXP)^{-1}P^TX^Ty$$\n",
    "\n",
    "rearrange the square brackets $$ w_p = (P^T(X^TX)P)^{-1}P^TX^Ty$$\n",
    "\n",
    "expand $(P^T(X^TX)P)^{-1}$ as $$ w_p = P^{-1}(X^TX)^{-1}(P^T)^-1P^TX^Ty$$\n",
    "\n",
    "$$ w_p = P^{-1}(X^TX)^{-1} IX^Ty$$\n",
    "\n",
    "apply the identity property $$ w_p = P^{-1}(X^TX)^{-1} X^Ty$$\n",
    "\n",
    "substitution of $w = (X^X)^{-1}X^Ty$ in equation $$ w_p = P^{-1} w$$"
   ]
  },
  {
   "cell_type": "markdown",
   "metadata": {},
   "source": [
    "**Analytical proof**"
   ]
  },
  {
   "cell_type": "markdown",
   "metadata": {},
   "source": [
    "**What would be predicted values with  𝑤𝑃 ?**\n",
    "\n",
    "If  $$ a = Xw $$\n",
    "\n",
    "$$ a^{'} = X^{'}w_p $$\n",
    "\n",
    "where $$ X^{'} = XP $$\n",
    "\n",
    "and $$ w_p = P^{-1}w $$\n",
    "\n",
    "substite for $ X^{'}$ in $ X^{'} = XP $   $$ a^{'} = XP.P^{-1}w $$\n",
    "\n",
    "$$ a^{'} = XIw $$\n",
    "\n",
    "$$ a^{'} = Xw = a $$"
   ]
  },
  {
   "cell_type": "markdown",
   "metadata": {},
   "source": [
    "**What does that mean for the quality of linear regression if you measure it with RMSE?**\n",
    "\n",
    "Since $ a^{'}$ and a are the same, RMSE results from both original and transform data to be the same."
   ]
  },
  {
   "cell_type": "markdown",
   "metadata": {},
   "source": [
    "## Test Linear Regression With Data Obfuscation"
   ]
  },
  {
   "cell_type": "markdown",
   "metadata": {},
   "source": [
    "Now, let's prove Linear Regression can work computationally with the chosen obfuscation transformation.\n",
    "\n",
    "Build a procedure or a class that runs Linear Regression optionally with the obfuscation. You can use either a ready implementation of Linear Regression from sciki-learn or your own.\n",
    "\n",
    "Run Linear Regression for the original data and the obfuscated one, compare the predicted values and the RMSE, $R^2$ metric values. Is there any difference?"
   ]
  },
  {
   "cell_type": "markdown",
   "metadata": {},
   "source": [
    "**Procedure**\n",
    "\n",
    "- Create a square matrix $P$ of random numbers.\n",
    "- Check that it is invertible. If not, repeat the first point until we get an invertible matrix.\n",
    "- Extract the feature matrix X and target variable y from the dataset. \n",
    "- Use $XP$ as the new feature matrix"
   ]
  },
  {
   "cell_type": "code",
   "execution_count": 46,
   "metadata": {
    "trusted": true
   },
   "outputs": [
    {
     "name": "stdout",
     "output_type": "stream",
     "text": [
      "Results for Original Data:\n",
      "Weights: [-9.43539012e-01  1.64272726e-02  3.57495491e-02 -2.60743659e-07\n",
      " -1.16902127e-02]\n",
      "RMSE: 0.34\n",
      "R2: 0.66\n",
      "\n",
      "Results for Obfuscated Data:\n",
      "Weights: [-0.94353902 -0.05791721 -0.01546567  0.09871889 -0.02397536]\n",
      "RMSE: 0.34\n",
      "R2: 0.66\n",
      "\n"
     ]
    }
   ],
   "source": [
    "# Generate a random invertible matrix P\n",
    "rng = np.random.default_rng(seed=42)\n",
    "P = rng.random(size=(X.shape[1], X.shape[1]))\n",
    "\n",
    "# Ensure P is invertible\n",
    "while np.linalg.cond(P) > 1e10:  # Condition number check\n",
    "    P = rng.random(size=(X.shape[1], X.shape[1]))\n",
    "\n",
    "# Select features and target\n",
    "X = df[['gender', 'age', 'income', 'family_members']].to_numpy()\n",
    "y = df['insurance_benefits'].to_numpy()\n",
    "\n",
    "def run_linear_regression(X, y, description=\"Original Data\"):\n",
    "    \"\"\"Fits and evaluates a Linear Regression model.\"\"\"\n",
    "    X_train, X_test, y_train, y_test = train_test_split(X, y, test_size=0.3, random_state=12345)\n",
    "    \n",
    "    lr = MyLinearRegression()\n",
    "    lr.fit(X_train, y_train)\n",
    "    \n",
    "    print(f\"Results for {description}:\")\n",
    "    print(\"Weights:\", lr.weights)\n",
    "    \n",
    "    y_test_pred = lr.predict(X_test)\n",
    "    eval_regressor(y_test, y_test_pred)\n",
    "    print()\n",
    "\n",
    "# Run Linear Regression on Original Data\n",
    "run_linear_regression(X, y, description=\"Original Data\")\n",
    "\n",
    "# Apply Obfuscation Transformation\n",
    "X_obfuscated = X @ P\n",
    "\n",
    "# Run Linear Regression on Obfuscated Data\n",
    "run_linear_regression(X_obfuscated, y, description=\"Obfuscated Data\")"
   ]
  },
  {
   "cell_type": "markdown",
   "metadata": {},
   "source": [
    "The results show that applying data obfuscation does not impact the performance of the Linear Regression model, as both RMSE (0.34) and R² (0.66) remain unchanged. The transformation modifies the feature values and weight coefficients but does not alter the predicted values, ensuring the model's accuracy remains the same. The obfuscation process preserves the relationships between variables, allowing the model to generate identical predictions. Since the error and variance explanations remain consistent, the predictive performance is unaffected. This confirms that data obfuscation can be applied to protect sensitive information without compromising model effectiveness."
   ]
  },
  {
   "cell_type": "markdown",
   "metadata": {},
   "source": [
    "# Conclusions"
   ]
  },
  {
   "cell_type": "markdown",
   "metadata": {},
   "source": [
    "## Dataset Structure and Characteristics\n",
    "The dataset contained no missing or null values. The mean and median ages were identical, indicating a symmetric distribution, while income was negatively skewed. The gender and insurance benefits columns contained only binary values (0 or 1), making them suitable for classification tasks."
   ]
  },
  {
   "cell_type": "markdown",
   "metadata": {},
   "source": [
    "## Findings\n",
    "\n",
    "- Distance Metrics in kNN: The choice between Manhattan and Euclidean distance affects the way distances between points are calculated, influencing kNN classification results.\n",
    "- Impact of Data Scaling: Scaling plays a critical role in kNN performance since it prevents large-valued features (e.g., income) from dominating distance calculations.\n",
    "- Effect of k on F1 Score: Increasing k beyond 1 had no significant effect on the F1 score.\n",
    "- Best kNN Performance: The highest F1 score (0.95) was achieved using scaled data with k = 1.\n",
    "- Linear Regression Performance: Using the custom Linear Regression model, the model achieved an RMSE of 0.34 and an R² score of 0.66, indicating moderate predictive accuracy.\n",
    "- Obfuscation and Model Consistency: Applying data obfuscation using an invertible transformation matrix had no effect on model performance. The Linear Regression model produced the same RMSE (0.34) and R² score (0.66), confirming that linear transformations preserve predictive capability."
   ]
  },
  {
   "cell_type": "markdown",
   "metadata": {},
   "source": [
    "## Summary\n",
    "The analysis demonstrated that scaling improves kNN performance, while Linear Regression remains invariant to obfuscation. The findings highlight the importance of data preprocessing in kNN and the robustness of Linear Regression under linear transformations."
   ]
  },
  {
   "cell_type": "markdown",
   "metadata": {},
   "source": [
    "# Appendices \n",
    "\n",
    "## Appendix A: Writing Formulas in Jupyter Notebooks"
   ]
  },
  {
   "cell_type": "markdown",
   "metadata": {},
   "source": [
    "You can write formulas in your Jupyter Notebook in a markup language provided by a high-quality publishing system called $\\LaTeX$ (pronounced \"Lah-tech\"), and they will look like formulas in textbooks.\n",
    "\n",
    "To put a formula in a text, put the dollar sign (\\\\$) before and after the formula's text e.g. $\\frac{1}{2} \\times \\frac{3}{2} = \\frac{3}{4}$ or $y = x^2, x \\ge 1$.\n",
    "\n",
    "If a formula should be in its own paragraph, put the double dollar sign (\\\\$\\\\$) before and after the formula text e.g.\n",
    "\n",
    "$$\n",
    "\\bar{x} = \\frac{1}{n}\\sum_{i=1}^{n} x_i.\n",
    "$$\n",
    "\n",
    "The markup language of [LaTeX](https://en.wikipedia.org/wiki/LaTeX) is very popular among people who use formulas in their articles, books and texts. It can be complex but its basics are easy. Check this two page [cheatsheet](http://tug.ctan.org/info/undergradmath/undergradmath.pdf) for learning how to compose the most common formulas."
   ]
  },
  {
   "cell_type": "markdown",
   "metadata": {},
   "source": [
    "## Appendix B: Properties of Matrices"
   ]
  },
  {
   "cell_type": "markdown",
   "metadata": {},
   "source": [
    "Matrices have many properties in Linear Algebra. A few of them are listed here which can help with the analytical proof in this project."
   ]
  },
  {
   "cell_type": "markdown",
   "metadata": {},
   "source": [
    "<table>\n",
    "<tr>\n",
    "<td>Distributivity</td><td>$A(B+C)=AB+AC$</td>\n",
    "</tr>\n",
    "<tr>\n",
    "<td>Non-commutativity</td><td>$AB \\neq BA$</td>\n",
    "</tr>\n",
    "<tr>\n",
    "<td>Associative property of multiplication</td><td>$(AB)C = A(BC)$</td>\n",
    "</tr>\n",
    "<tr>\n",
    "<td>Multiplicative identity property</td><td>$IA = AI = A$</td>\n",
    "</tr>\n",
    "<tr>\n",
    "<td></td><td>$A^{-1}A = AA^{-1} = I$\n",
    "</td>\n",
    "</tr>    \n",
    "<tr>\n",
    "<td></td><td>$(AB)^{-1} = B^{-1}A^{-1}$</td>\n",
    "</tr>    \n",
    "<tr>\n",
    "<td>Reversivity of the transpose of a product of matrices,</td><td>$(AB)^T = B^TA^T$</td>\n",
    "</tr>    \n",
    "</table>"
   ]
  }
 ],
 "metadata": {
  "ExecuteTimeLog": [
   {
    "duration": 3024,
    "start_time": "2025-02-19T23:36:40.025Z"
   },
   {
    "duration": 10,
    "start_time": "2025-02-19T23:36:43.052Z"
   },
   {
    "duration": 3,
    "start_time": "2025-02-19T23:36:45.142Z"
   },
   {
    "duration": 13,
    "start_time": "2025-02-19T23:36:46.677Z"
   },
   {
    "duration": 10,
    "start_time": "2025-02-19T23:36:49.551Z"
   },
   {
    "duration": 5,
    "start_time": "2025-02-19T23:37:04.818Z"
   },
   {
    "duration": 6,
    "start_time": "2025-02-19T23:37:06.429Z"
   },
   {
    "duration": 19,
    "start_time": "2025-02-19T23:37:10.009Z"
   },
   {
    "duration": 625,
    "start_time": "2025-02-19T23:48:15.824Z"
   },
   {
    "duration": 2,
    "start_time": "2025-02-19T23:48:54.417Z"
   },
   {
    "duration": 295,
    "start_time": "2025-02-19T23:49:06.362Z"
   },
   {
    "duration": 252,
    "start_time": "2025-02-19T23:49:37.380Z"
   },
   {
    "duration": 2683,
    "start_time": "2025-02-20T00:06:00.478Z"
   },
   {
    "duration": 3,
    "start_time": "2025-02-20T00:06:05.089Z"
   },
   {
    "duration": 6,
    "start_time": "2025-02-20T00:06:05.649Z"
   },
   {
    "duration": 3,
    "start_time": "2025-02-20T00:06:39.332Z"
   },
   {
    "duration": 8,
    "start_time": "2025-02-20T00:06:44.256Z"
   },
   {
    "duration": 9,
    "start_time": "2025-02-20T00:06:45.280Z"
   },
   {
    "duration": 23,
    "start_time": "2025-02-20T00:10:58.057Z"
   },
   {
    "duration": 4,
    "start_time": "2025-02-20T00:13:10.055Z"
   },
   {
    "duration": 9,
    "start_time": "2025-02-20T00:13:11.159Z"
   },
   {
    "duration": 11,
    "start_time": "2025-02-20T00:13:12.101Z"
   },
   {
    "duration": 32,
    "start_time": "2025-02-20T00:13:15.157Z"
   },
   {
    "duration": 8,
    "start_time": "2025-02-20T00:13:45.634Z"
   },
   {
    "duration": 26,
    "start_time": "2025-02-20T00:13:51.520Z"
   },
   {
    "duration": 21,
    "start_time": "2025-02-20T00:19:52.686Z"
   },
   {
    "duration": 13,
    "start_time": "2025-02-20T00:20:09.267Z"
   },
   {
    "duration": 13,
    "start_time": "2025-02-20T00:20:26.304Z"
   },
   {
    "duration": 316,
    "start_time": "2025-02-20T00:24:08.918Z"
   },
   {
    "duration": 917,
    "start_time": "2025-02-20T00:24:29.825Z"
   },
   {
    "duration": 137,
    "start_time": "2025-02-20T00:38:21.346Z"
   },
   {
    "duration": 182,
    "start_time": "2025-02-20T00:39:10.980Z"
   },
   {
    "duration": 153,
    "start_time": "2025-02-20T00:39:49.243Z"
   },
   {
    "duration": 149,
    "start_time": "2025-02-20T00:40:02.093Z"
   },
   {
    "duration": 4,
    "start_time": "2025-02-20T00:48:15.533Z"
   },
   {
    "duration": 4,
    "start_time": "2025-02-20T00:48:29.079Z"
   },
   {
    "duration": 7,
    "start_time": "2025-02-20T00:48:44.121Z"
   },
   {
    "duration": 6,
    "start_time": "2025-02-20T00:48:57.434Z"
   },
   {
    "duration": 3,
    "start_time": "2025-02-20T00:49:14.550Z"
   },
   {
    "duration": 3,
    "start_time": "2025-02-20T00:49:21.784Z"
   },
   {
    "duration": 4,
    "start_time": "2025-02-20T00:51:11.028Z"
   },
   {
    "duration": 3,
    "start_time": "2025-02-20T00:51:13.656Z"
   },
   {
    "duration": 9,
    "start_time": "2025-02-20T00:51:14.544Z"
   },
   {
    "duration": 4,
    "start_time": "2025-02-20T00:56:37.880Z"
   },
   {
    "duration": 9,
    "start_time": "2025-02-20T00:56:39.056Z"
   },
   {
    "duration": 4,
    "start_time": "2025-02-20T00:56:39.784Z"
   },
   {
    "duration": 13,
    "start_time": "2025-02-20T00:56:40.156Z"
   },
   {
    "duration": 8,
    "start_time": "2025-02-20T00:56:40.507Z"
   },
   {
    "duration": 4,
    "start_time": "2025-02-20T00:56:40.850Z"
   },
   {
    "duration": 7,
    "start_time": "2025-02-20T00:56:41.154Z"
   },
   {
    "duration": 20,
    "start_time": "2025-02-20T00:56:41.414Z"
   },
   {
    "duration": 268,
    "start_time": "2025-02-20T00:56:41.653Z"
   },
   {
    "duration": 297,
    "start_time": "2025-02-20T00:56:41.924Z"
   },
   {
    "duration": 2774,
    "start_time": "2025-02-20T00:56:43.001Z"
   },
   {
    "duration": 3,
    "start_time": "2025-02-20T00:56:45.777Z"
   },
   {
    "duration": 5,
    "start_time": "2025-02-20T00:56:45.782Z"
   },
   {
    "duration": 10,
    "start_time": "2025-02-20T00:56:46.126Z"
   },
   {
    "duration": 7,
    "start_time": "2025-02-20T00:56:46.694Z"
   },
   {
    "duration": 32,
    "start_time": "2025-02-20T00:56:47.852Z"
   },
   {
    "duration": 32,
    "start_time": "2025-02-20T00:56:48.268Z"
   },
   {
    "duration": 17,
    "start_time": "2025-02-20T00:56:48.710Z"
   },
   {
    "duration": 14,
    "start_time": "2025-02-20T00:56:49.331Z"
   },
   {
    "duration": 606,
    "start_time": "2025-02-20T00:56:51.208Z"
   },
   {
    "duration": 162,
    "start_time": "2025-02-20T00:56:54.139Z"
   },
   {
    "duration": 133,
    "start_time": "2025-02-20T00:56:55.169Z"
   },
   {
    "duration": 4,
    "start_time": "2025-02-20T00:56:58.643Z"
   },
   {
    "duration": 6,
    "start_time": "2025-02-20T00:56:59.534Z"
   },
   {
    "duration": 4,
    "start_time": "2025-02-20T00:57:00.224Z"
   },
   {
    "duration": 3,
    "start_time": "2025-02-20T00:57:02.949Z"
   },
   {
    "duration": 18,
    "start_time": "2025-02-20T00:58:24.883Z"
   },
   {
    "duration": 4,
    "start_time": "2025-02-20T00:58:49.674Z"
   },
   {
    "duration": 43,
    "start_time": "2025-02-20T00:58:56.028Z"
   },
   {
    "duration": 3028,
    "start_time": "2025-02-24T17:18:09.265Z"
   },
   {
    "duration": 9,
    "start_time": "2025-02-24T17:18:12.296Z"
   },
   {
    "duration": 2,
    "start_time": "2025-02-24T17:18:12.307Z"
   },
   {
    "duration": 10,
    "start_time": "2025-02-24T17:18:12.324Z"
   },
   {
    "duration": 9,
    "start_time": "2025-02-24T17:18:12.336Z"
   },
   {
    "duration": 5,
    "start_time": "2025-02-24T17:18:13.086Z"
   },
   {
    "duration": 7,
    "start_time": "2025-02-24T17:18:13.610Z"
   },
   {
    "duration": 17,
    "start_time": "2025-02-24T17:18:14.395Z"
   },
   {
    "duration": 242,
    "start_time": "2025-02-24T17:18:15.184Z"
   },
   {
    "duration": 303,
    "start_time": "2025-02-24T17:18:16.238Z"
   },
   {
    "duration": 2542,
    "start_time": "2025-02-24T17:18:19.426Z"
   },
   {
    "duration": 3,
    "start_time": "2025-02-24T17:18:24.868Z"
   },
   {
    "duration": 3,
    "start_time": "2025-02-24T17:18:25.441Z"
   },
   {
    "duration": 8,
    "start_time": "2025-02-24T17:18:27.252Z"
   },
   {
    "duration": 8,
    "start_time": "2025-02-24T17:18:27.989Z"
   },
   {
    "duration": 21,
    "start_time": "2025-02-24T17:18:29.689Z"
   },
   {
    "duration": 19,
    "start_time": "2025-02-24T17:18:30.460Z"
   },
   {
    "duration": 14,
    "start_time": "2025-02-24T17:18:31.405Z"
   },
   {
    "duration": 13,
    "start_time": "2025-02-24T17:18:32.333Z"
   },
   {
    "duration": 578,
    "start_time": "2025-02-24T17:18:35.648Z"
   },
   {
    "duration": 134,
    "start_time": "2025-02-24T17:18:45.204Z"
   },
   {
    "duration": 219,
    "start_time": "2025-02-24T17:18:46.092Z"
   },
   {
    "duration": 4,
    "start_time": "2025-02-24T17:18:52.374Z"
   },
   {
    "duration": 6,
    "start_time": "2025-02-24T17:18:55.050Z"
   },
   {
    "duration": 2,
    "start_time": "2025-02-24T17:18:56.692Z"
   },
   {
    "duration": 3,
    "start_time": "2025-02-24T17:18:59.135Z"
   },
   {
    "duration": 8,
    "start_time": "2025-02-24T17:19:00.052Z"
   },
   {
    "duration": 34,
    "start_time": "2025-02-24T17:19:01.144Z"
   },
   {
    "duration": 6,
    "start_time": "2025-02-24T17:19:02.994Z"
   },
   {
    "duration": 298,
    "start_time": "2025-02-24T17:23:23.261Z"
   },
   {
    "duration": 30,
    "start_time": "2025-02-24T17:30:51.936Z"
   },
   {
    "duration": 3,
    "start_time": "2025-02-24T17:39:57.875Z"
   },
   {
    "duration": 3,
    "start_time": "2025-02-24T17:43:15.436Z"
   },
   {
    "duration": 5,
    "start_time": "2025-02-24T17:43:15.885Z"
   },
   {
    "duration": 373,
    "start_time": "2025-02-24T17:43:16.312Z"
   },
   {
    "duration": 4,
    "start_time": "2025-02-24T17:53:58.539Z"
   },
   {
    "duration": 4,
    "start_time": "2025-02-24T17:54:00.840Z"
   },
   {
    "duration": 360,
    "start_time": "2025-02-24T17:54:18.780Z"
   },
   {
    "duration": 3,
    "start_time": "2025-02-24T17:54:55.801Z"
   },
   {
    "duration": 11,
    "start_time": "2025-02-24T17:55:02.729Z"
   },
   {
    "duration": 4,
    "start_time": "2025-02-24T18:07:14.444Z"
   },
   {
    "duration": 3,
    "start_time": "2025-02-24T18:07:15.163Z"
   },
   {
    "duration": 18,
    "start_time": "2025-02-24T18:07:23.866Z"
   },
   {
    "duration": 5,
    "start_time": "2025-02-24T18:07:31.815Z"
   },
   {
    "duration": 4,
    "start_time": "2025-02-24T18:07:56.134Z"
   },
   {
    "duration": 4,
    "start_time": "2025-02-24T18:08:11.014Z"
   },
   {
    "duration": 4,
    "start_time": "2025-02-24T18:08:25.856Z"
   },
   {
    "duration": 4,
    "start_time": "2025-02-24T18:08:42.473Z"
   },
   {
    "duration": 4,
    "start_time": "2025-02-24T18:08:50.087Z"
   },
   {
    "duration": 2699,
    "start_time": "2025-02-25T00:25:54.077Z"
   },
   {
    "duration": 16,
    "start_time": "2025-02-25T00:25:56.778Z"
   },
   {
    "duration": 4,
    "start_time": "2025-02-25T00:25:56.796Z"
   },
   {
    "duration": 13,
    "start_time": "2025-02-25T00:25:56.802Z"
   },
   {
    "duration": 9,
    "start_time": "2025-02-25T00:25:56.816Z"
   },
   {
    "duration": 4,
    "start_time": "2025-02-25T00:25:56.827Z"
   },
   {
    "duration": 4,
    "start_time": "2025-02-25T00:25:56.900Z"
   },
   {
    "duration": 17,
    "start_time": "2025-02-25T00:25:57.149Z"
   },
   {
    "duration": 263,
    "start_time": "2025-02-25T00:25:57.395Z"
   },
   {
    "duration": 293,
    "start_time": "2025-02-25T00:25:57.721Z"
   },
   {
    "duration": 2683,
    "start_time": "2025-02-25T00:25:58.731Z"
   },
   {
    "duration": 3,
    "start_time": "2025-02-25T00:26:01.417Z"
   },
   {
    "duration": 5,
    "start_time": "2025-02-25T00:26:01.422Z"
   },
   {
    "duration": 8,
    "start_time": "2025-02-25T00:26:01.429Z"
   },
   {
    "duration": 9,
    "start_time": "2025-02-25T00:26:01.546Z"
   },
   {
    "duration": 22,
    "start_time": "2025-02-25T00:26:02.049Z"
   },
   {
    "duration": 21,
    "start_time": "2025-02-25T00:26:02.355Z"
   },
   {
    "duration": 14,
    "start_time": "2025-02-25T00:26:02.607Z"
   },
   {
    "duration": 15,
    "start_time": "2025-02-25T00:26:02.896Z"
   },
   {
    "duration": 567,
    "start_time": "2025-02-25T00:26:03.761Z"
   },
   {
    "duration": 128,
    "start_time": "2025-02-25T00:26:04.567Z"
   },
   {
    "duration": 127,
    "start_time": "2025-02-25T00:26:04.862Z"
   },
   {
    "duration": 4,
    "start_time": "2025-02-25T00:26:06.747Z"
   },
   {
    "duration": 6,
    "start_time": "2025-02-25T00:26:07.023Z"
   },
   {
    "duration": 4,
    "start_time": "2025-02-25T00:26:07.319Z"
   },
   {
    "duration": 3,
    "start_time": "2025-02-25T00:26:07.621Z"
   },
   {
    "duration": 8,
    "start_time": "2025-02-25T00:26:07.943Z"
   },
   {
    "duration": 31,
    "start_time": "2025-02-25T00:26:08.271Z"
   },
   {
    "duration": 292,
    "start_time": "2025-02-25T00:26:08.588Z"
   },
   {
    "duration": 21,
    "start_time": "2025-02-25T00:26:09.244Z"
   },
   {
    "duration": 4,
    "start_time": "2025-02-25T00:26:11.479Z"
   },
   {
    "duration": 6,
    "start_time": "2025-02-25T00:26:11.868Z"
   },
   {
    "duration": 392,
    "start_time": "2025-02-25T00:26:12.188Z"
   },
   {
    "duration": 5,
    "start_time": "2025-02-25T00:26:40.352Z"
   },
   {
    "duration": 2,
    "start_time": "2025-02-25T00:26:40.777Z"
   },
   {
    "duration": 13,
    "start_time": "2025-02-25T00:26:41.208Z"
   },
   {
    "duration": 3,
    "start_time": "2025-02-25T00:26:50.091Z"
   },
   {
    "duration": 4,
    "start_time": "2025-02-25T00:26:50.596Z"
   },
   {
    "duration": 4,
    "start_time": "2025-02-25T00:26:51.773Z"
   },
   {
    "duration": 8,
    "start_time": "2025-02-25T00:26:52.728Z"
   },
   {
    "duration": 4,
    "start_time": "2025-02-25T00:26:56.225Z"
   },
   {
    "duration": 4,
    "start_time": "2025-02-25T00:27:47.940Z"
   },
   {
    "duration": 4,
    "start_time": "2025-02-25T00:27:51.265Z"
   },
   {
    "duration": 6,
    "start_time": "2025-02-25T00:31:55.386Z"
   },
   {
    "duration": 5,
    "start_time": "2025-02-25T00:32:20.174Z"
   },
   {
    "duration": 5,
    "start_time": "2025-02-25T00:34:03.679Z"
   },
   {
    "duration": 4,
    "start_time": "2025-02-25T00:34:10.290Z"
   },
   {
    "duration": 6,
    "start_time": "2025-02-25T00:34:21.050Z"
   },
   {
    "duration": 5,
    "start_time": "2025-02-25T00:34:33.084Z"
   },
   {
    "duration": 5,
    "start_time": "2025-02-25T00:34:39.376Z"
   },
   {
    "duration": 3,
    "start_time": "2025-02-25T00:37:10.005Z"
   },
   {
    "duration": 9,
    "start_time": "2025-02-25T00:37:48.291Z"
   },
   {
    "duration": 981,
    "start_time": "2025-02-25T00:46:36.643Z"
   },
   {
    "duration": 9,
    "start_time": "2025-02-25T00:46:37.626Z"
   },
   {
    "duration": 3,
    "start_time": "2025-02-25T00:46:37.636Z"
   },
   {
    "duration": 10,
    "start_time": "2025-02-25T00:46:37.640Z"
   },
   {
    "duration": 9,
    "start_time": "2025-02-25T00:46:37.653Z"
   },
   {
    "duration": 3,
    "start_time": "2025-02-25T00:46:37.663Z"
   },
   {
    "duration": 5,
    "start_time": "2025-02-25T00:46:37.668Z"
   },
   {
    "duration": 45,
    "start_time": "2025-02-25T00:46:37.674Z"
   },
   {
    "duration": 285,
    "start_time": "2025-02-25T00:46:37.720Z"
   },
   {
    "duration": 316,
    "start_time": "2025-02-25T00:46:38.007Z"
   },
   {
    "duration": 2572,
    "start_time": "2025-02-25T00:46:38.325Z"
   },
   {
    "duration": 3,
    "start_time": "2025-02-25T00:46:40.899Z"
   },
   {
    "duration": 3,
    "start_time": "2025-02-25T00:46:40.904Z"
   },
   {
    "duration": 8,
    "start_time": "2025-02-25T00:46:40.911Z"
   },
   {
    "duration": 7,
    "start_time": "2025-02-25T00:46:40.921Z"
   },
   {
    "duration": 19,
    "start_time": "2025-02-25T00:46:40.930Z"
   },
   {
    "duration": 18,
    "start_time": "2025-02-25T00:46:40.951Z"
   },
   {
    "duration": 39,
    "start_time": "2025-02-25T00:46:40.971Z"
   },
   {
    "duration": 12,
    "start_time": "2025-02-25T00:46:41.012Z"
   },
   {
    "duration": 607,
    "start_time": "2025-02-25T00:46:41.026Z"
   },
   {
    "duration": 142,
    "start_time": "2025-02-25T00:46:41.635Z"
   },
   {
    "duration": 219,
    "start_time": "2025-02-25T00:46:41.779Z"
   },
   {
    "duration": 8,
    "start_time": "2025-02-25T00:46:42.000Z"
   },
   {
    "duration": 5,
    "start_time": "2025-02-25T00:46:42.010Z"
   },
   {
    "duration": 3,
    "start_time": "2025-02-25T00:46:42.017Z"
   },
   {
    "duration": 3,
    "start_time": "2025-02-25T00:46:42.022Z"
   },
   {
    "duration": 7,
    "start_time": "2025-02-25T00:46:42.027Z"
   },
   {
    "duration": 31,
    "start_time": "2025-02-25T00:46:42.036Z"
   },
   {
    "duration": 312,
    "start_time": "2025-02-25T00:46:42.068Z"
   },
   {
    "duration": 29,
    "start_time": "2025-02-25T00:46:42.382Z"
   },
   {
    "duration": 3,
    "start_time": "2025-02-25T00:46:42.414Z"
   },
   {
    "duration": 9,
    "start_time": "2025-02-25T00:46:42.419Z"
   },
   {
    "duration": 475,
    "start_time": "2025-02-25T00:46:42.430Z"
   },
   {
    "duration": 4,
    "start_time": "2025-02-25T00:46:42.909Z"
   },
   {
    "duration": 4,
    "start_time": "2025-02-25T00:46:42.915Z"
   },
   {
    "duration": 9,
    "start_time": "2025-02-25T00:46:42.920Z"
   },
   {
    "duration": 3,
    "start_time": "2025-02-25T00:46:42.931Z"
   },
   {
    "duration": 5,
    "start_time": "2025-02-25T00:46:42.936Z"
   },
   {
    "duration": 15,
    "start_time": "2025-02-25T00:46:43.008Z"
   },
   {
    "duration": 6,
    "start_time": "2025-02-25T00:46:43.026Z"
   },
   {
    "duration": 11,
    "start_time": "2025-02-25T00:46:43.109Z"
   },
   {
    "duration": 8,
    "start_time": "2025-02-25T00:46:43.124Z"
   },
   {
    "duration": 8,
    "start_time": "2025-02-25T00:46:43.208Z"
   },
   {
    "duration": 88,
    "start_time": "2025-02-25T00:46:43.218Z"
   },
   {
    "duration": 1192,
    "start_time": "2025-02-25T04:36:36.509Z"
   },
   {
    "duration": 20,
    "start_time": "2025-02-25T04:36:37.703Z"
   },
   {
    "duration": 4,
    "start_time": "2025-02-25T04:36:37.725Z"
   },
   {
    "duration": 12,
    "start_time": "2025-02-25T04:36:37.731Z"
   },
   {
    "duration": 9,
    "start_time": "2025-02-25T04:36:37.745Z"
   },
   {
    "duration": 4,
    "start_time": "2025-02-25T04:36:37.756Z"
   },
   {
    "duration": 4,
    "start_time": "2025-02-25T04:36:37.761Z"
   },
   {
    "duration": 17,
    "start_time": "2025-02-25T04:36:37.767Z"
   },
   {
    "duration": 336,
    "start_time": "2025-02-25T04:36:37.785Z"
   },
   {
    "duration": 305,
    "start_time": "2025-02-25T04:36:38.126Z"
   },
   {
    "duration": 2630,
    "start_time": "2025-02-25T04:36:38.433Z"
   },
   {
    "duration": 2,
    "start_time": "2025-02-25T04:36:41.065Z"
   },
   {
    "duration": 4,
    "start_time": "2025-02-25T04:36:41.069Z"
   },
   {
    "duration": 7,
    "start_time": "2025-02-25T04:36:41.075Z"
   },
   {
    "duration": 27,
    "start_time": "2025-02-25T04:36:41.084Z"
   },
   {
    "duration": 30,
    "start_time": "2025-02-25T04:36:41.113Z"
   },
   {
    "duration": 20,
    "start_time": "2025-02-25T04:36:41.146Z"
   },
   {
    "duration": 14,
    "start_time": "2025-02-25T04:36:41.168Z"
   },
   {
    "duration": 35,
    "start_time": "2025-02-25T04:36:41.184Z"
   },
   {
    "duration": 582,
    "start_time": "2025-02-25T04:36:41.221Z"
   },
   {
    "duration": 144,
    "start_time": "2025-02-25T04:36:41.805Z"
   },
   {
    "duration": 220,
    "start_time": "2025-02-25T04:36:41.951Z"
   },
   {
    "duration": 3,
    "start_time": "2025-02-25T04:36:42.173Z"
   },
   {
    "duration": 6,
    "start_time": "2025-02-25T04:36:42.178Z"
   },
   {
    "duration": 3,
    "start_time": "2025-02-25T04:36:42.187Z"
   },
   {
    "duration": 3,
    "start_time": "2025-02-25T04:36:42.211Z"
   },
   {
    "duration": 7,
    "start_time": "2025-02-25T04:36:42.216Z"
   },
   {
    "duration": 42,
    "start_time": "2025-02-25T04:36:42.227Z"
   },
   {
    "duration": 312,
    "start_time": "2025-02-25T04:36:42.271Z"
   },
   {
    "duration": 27,
    "start_time": "2025-02-25T04:36:42.584Z"
   },
   {
    "duration": 3,
    "start_time": "2025-02-25T04:36:42.613Z"
   },
   {
    "duration": 4,
    "start_time": "2025-02-25T04:36:42.620Z"
   },
   {
    "duration": 160,
    "start_time": "2025-02-27T02:50:16.555Z"
   },
   {
    "duration": 2787,
    "start_time": "2025-02-27T02:50:24.405Z"
   },
   {
    "duration": 10,
    "start_time": "2025-02-27T02:50:27.196Z"
   },
   {
    "duration": 3,
    "start_time": "2025-02-27T02:50:27.208Z"
   },
   {
    "duration": 11,
    "start_time": "2025-02-27T02:50:27.214Z"
   },
   {
    "duration": 9,
    "start_time": "2025-02-27T02:50:27.226Z"
   },
   {
    "duration": 3,
    "start_time": "2025-02-27T02:50:27.246Z"
   },
   {
    "duration": 5,
    "start_time": "2025-02-27T02:50:27.516Z"
   },
   {
    "duration": 17,
    "start_time": "2025-02-27T02:50:27.797Z"
   },
   {
    "duration": 254,
    "start_time": "2025-02-27T02:50:28.052Z"
   },
   {
    "duration": 284,
    "start_time": "2025-02-27T02:50:28.309Z"
   },
   {
    "duration": 2526,
    "start_time": "2025-02-27T02:50:29.249Z"
   },
   {
    "duration": 2,
    "start_time": "2025-02-27T02:50:31.777Z"
   },
   {
    "duration": 5,
    "start_time": "2025-02-27T02:50:31.781Z"
   },
   {
    "duration": 8,
    "start_time": "2025-02-27T02:50:32.355Z"
   },
   {
    "duration": 9,
    "start_time": "2025-02-27T02:50:32.688Z"
   },
   {
    "duration": 22,
    "start_time": "2025-02-27T02:50:33.426Z"
   },
   {
    "duration": 20,
    "start_time": "2025-02-27T02:50:33.787Z"
   },
   {
    "duration": 13,
    "start_time": "2025-02-27T02:50:34.211Z"
   },
   {
    "duration": 12,
    "start_time": "2025-02-27T02:50:34.617Z"
   },
   {
    "duration": 669,
    "start_time": "2025-02-27T02:50:36.793Z"
   },
   {
    "duration": 135,
    "start_time": "2025-02-27T02:50:38.294Z"
   },
   {
    "duration": 127,
    "start_time": "2025-02-27T02:50:39.056Z"
   },
   {
    "duration": 258,
    "start_time": "2025-02-27T02:50:41.315Z"
   },
   {
    "duration": 547,
    "start_time": "2025-02-27T02:58:11.524Z"
   },
   {
    "duration": 4,
    "start_time": "2025-02-27T02:58:39.940Z"
   },
   {
    "duration": 8,
    "start_time": "2025-02-27T02:58:40.667Z"
   },
   {
    "duration": 3,
    "start_time": "2025-02-27T02:58:41.179Z"
   },
   {
    "duration": 8,
    "start_time": "2025-02-27T02:58:41.466Z"
   },
   {
    "duration": 8,
    "start_time": "2025-02-27T02:58:41.754Z"
   },
   {
    "duration": 3,
    "start_time": "2025-02-27T02:58:42.073Z"
   },
   {
    "duration": 6,
    "start_time": "2025-02-27T02:58:42.409Z"
   },
   {
    "duration": 17,
    "start_time": "2025-02-27T02:58:42.684Z"
   },
   {
    "duration": 286,
    "start_time": "2025-02-27T02:58:42.906Z"
   },
   {
    "duration": 299,
    "start_time": "2025-02-27T02:58:43.194Z"
   },
   {
    "duration": 2802,
    "start_time": "2025-02-27T02:58:44.242Z"
   },
   {
    "duration": 2,
    "start_time": "2025-02-27T02:58:47.046Z"
   },
   {
    "duration": 3,
    "start_time": "2025-02-27T02:58:47.050Z"
   },
   {
    "duration": 9,
    "start_time": "2025-02-27T02:58:47.322Z"
   },
   {
    "duration": 12,
    "start_time": "2025-02-27T02:58:47.626Z"
   },
   {
    "duration": 21,
    "start_time": "2025-02-27T02:58:48.264Z"
   },
   {
    "duration": 21,
    "start_time": "2025-02-27T02:58:48.514Z"
   },
   {
    "duration": 14,
    "start_time": "2025-02-27T02:58:48.809Z"
   },
   {
    "duration": 14,
    "start_time": "2025-02-27T02:58:49.104Z"
   },
   {
    "duration": 568,
    "start_time": "2025-02-27T02:58:49.978Z"
   },
   {
    "duration": 130,
    "start_time": "2025-02-27T02:58:50.638Z"
   },
   {
    "duration": 145,
    "start_time": "2025-02-27T02:58:51.391Z"
   },
   {
    "duration": 333,
    "start_time": "2025-02-27T02:58:52.448Z"
   },
   {
    "duration": 4,
    "start_time": "2025-02-27T02:58:53.469Z"
   },
   {
    "duration": 6,
    "start_time": "2025-02-27T02:58:53.887Z"
   },
   {
    "duration": 3,
    "start_time": "2025-02-27T02:58:54.287Z"
   },
   {
    "duration": 3,
    "start_time": "2025-02-27T02:58:55.166Z"
   },
   {
    "duration": 8,
    "start_time": "2025-02-27T02:58:55.702Z"
   },
   {
    "duration": 31,
    "start_time": "2025-02-27T02:58:56.246Z"
   },
   {
    "duration": 277,
    "start_time": "2025-02-27T02:58:57.272Z"
   },
   {
    "duration": 22,
    "start_time": "2025-02-27T02:58:59.471Z"
   },
   {
    "duration": 3,
    "start_time": "2025-02-27T03:03:11.725Z"
   },
   {
    "duration": 10,
    "start_time": "2025-02-27T03:04:10.600Z"
   },
   {
    "duration": 301,
    "start_time": "2025-02-27T03:04:27.221Z"
   },
   {
    "duration": 4,
    "start_time": "2025-02-27T03:04:33.616Z"
   },
   {
    "duration": 3,
    "start_time": "2025-02-27T03:04:34.556Z"
   },
   {
    "duration": 12,
    "start_time": "2025-02-27T03:04:35.028Z"
   },
   {
    "duration": 9,
    "start_time": "2025-02-27T03:13:03.949Z"
   },
   {
    "duration": 10,
    "start_time": "2025-02-27T03:13:21.106Z"
   },
   {
    "duration": 12,
    "start_time": "2025-02-27T03:14:32.371Z"
   },
   {
    "duration": 10,
    "start_time": "2025-02-27T03:14:44.347Z"
   },
   {
    "duration": 3,
    "start_time": "2025-02-27T03:20:06.951Z"
   },
   {
    "duration": 5,
    "start_time": "2025-02-27T03:20:07.286Z"
   },
   {
    "duration": 5,
    "start_time": "2025-02-27T03:20:08.199Z"
   },
   {
    "duration": 5,
    "start_time": "2025-02-27T03:20:08.942Z"
   },
   {
    "duration": 13,
    "start_time": "2025-02-27T03:24:25.109Z"
   },
   {
    "duration": 3,
    "start_time": "2025-02-27T03:24:40.779Z"
   },
   {
    "duration": 7,
    "start_time": "2025-02-27T03:24:41.392Z"
   },
   {
    "duration": 4,
    "start_time": "2025-02-27T03:24:41.799Z"
   },
   {
    "duration": 8,
    "start_time": "2025-02-27T03:24:41.983Z"
   },
   {
    "duration": 9,
    "start_time": "2025-02-27T03:24:42.167Z"
   },
   {
    "duration": 3,
    "start_time": "2025-02-27T03:24:42.344Z"
   },
   {
    "duration": 4,
    "start_time": "2025-02-27T03:24:42.526Z"
   },
   {
    "duration": 15,
    "start_time": "2025-02-27T03:24:42.721Z"
   },
   {
    "duration": 274,
    "start_time": "2025-02-27T03:24:42.895Z"
   },
   {
    "duration": 306,
    "start_time": "2025-02-27T03:24:43.171Z"
   },
   {
    "duration": 2724,
    "start_time": "2025-02-27T03:24:43.873Z"
   },
   {
    "duration": 3,
    "start_time": "2025-02-27T03:24:46.600Z"
   },
   {
    "duration": 4,
    "start_time": "2025-02-27T03:24:46.605Z"
   },
   {
    "duration": 8,
    "start_time": "2025-02-27T03:24:46.611Z"
   },
   {
    "duration": 8,
    "start_time": "2025-02-27T03:24:46.621Z"
   },
   {
    "duration": 49,
    "start_time": "2025-02-27T03:24:46.630Z"
   },
   {
    "duration": 20,
    "start_time": "2025-02-27T03:24:46.747Z"
   },
   {
    "duration": 14,
    "start_time": "2025-02-27T03:24:46.956Z"
   },
   {
    "duration": 18,
    "start_time": "2025-02-27T03:24:47.182Z"
   },
   {
    "duration": 745,
    "start_time": "2025-02-27T03:24:47.980Z"
   },
   {
    "duration": 143,
    "start_time": "2025-02-27T03:24:48.727Z"
   },
   {
    "duration": 134,
    "start_time": "2025-02-27T03:24:48.871Z"
   },
   {
    "duration": 268,
    "start_time": "2025-02-27T03:24:49.887Z"
   },
   {
    "duration": 3,
    "start_time": "2025-02-27T03:24:51.124Z"
   },
   {
    "duration": 6,
    "start_time": "2025-02-27T03:24:51.741Z"
   },
   {
    "duration": 3,
    "start_time": "2025-02-27T03:24:51.986Z"
   },
   {
    "duration": 3,
    "start_time": "2025-02-27T03:24:52.234Z"
   },
   {
    "duration": 7,
    "start_time": "2025-02-27T03:24:52.490Z"
   },
   {
    "duration": 33,
    "start_time": "2025-02-27T03:24:52.740Z"
   },
   {
    "duration": 279,
    "start_time": "2025-02-27T03:24:53.002Z"
   },
   {
    "duration": 25,
    "start_time": "2025-02-27T03:24:53.659Z"
   },
   {
    "duration": 4,
    "start_time": "2025-02-27T03:24:55.793Z"
   },
   {
    "duration": 10,
    "start_time": "2025-02-27T03:24:56.672Z"
   },
   {
    "duration": 310,
    "start_time": "2025-02-27T03:24:57.825Z"
   },
   {
    "duration": 4,
    "start_time": "2025-02-27T03:25:00.208Z"
   },
   {
    "duration": 4,
    "start_time": "2025-02-27T03:25:00.974Z"
   },
   {
    "duration": 9,
    "start_time": "2025-02-27T03:25:01.280Z"
   },
   {
    "duration": 10,
    "start_time": "2025-02-27T03:25:01.701Z"
   },
   {
    "duration": 5,
    "start_time": "2025-02-27T03:25:05.703Z"
   },
   {
    "duration": 4,
    "start_time": "2025-02-27T03:25:06.259Z"
   },
   {
    "duration": 5,
    "start_time": "2025-02-27T03:25:07.182Z"
   },
   {
    "duration": 4,
    "start_time": "2025-02-27T03:25:08.012Z"
   },
   {
    "duration": 4,
    "start_time": "2025-02-27T03:25:11.123Z"
   },
   {
    "duration": 4,
    "start_time": "2025-02-27T03:25:14.049Z"
   },
   {
    "duration": 4,
    "start_time": "2025-02-27T03:25:22.251Z"
   },
   {
    "duration": 5,
    "start_time": "2025-02-27T03:34:00.111Z"
   },
   {
    "duration": 10,
    "start_time": "2025-02-27T03:38:05.400Z"
   },
   {
    "duration": 1089,
    "start_time": "2025-02-27T04:08:42.468Z"
   },
   {
    "duration": 10,
    "start_time": "2025-02-27T04:08:43.559Z"
   },
   {
    "duration": 3,
    "start_time": "2025-02-27T04:08:43.571Z"
   },
   {
    "duration": 14,
    "start_time": "2025-02-27T04:08:43.576Z"
   },
   {
    "duration": 8,
    "start_time": "2025-02-27T04:08:43.593Z"
   },
   {
    "duration": 3,
    "start_time": "2025-02-27T04:08:43.603Z"
   },
   {
    "duration": 6,
    "start_time": "2025-02-27T04:08:43.607Z"
   },
   {
    "duration": 16,
    "start_time": "2025-02-27T04:08:43.614Z"
   },
   {
    "duration": 284,
    "start_time": "2025-02-27T04:08:43.631Z"
   },
   {
    "duration": 291,
    "start_time": "2025-02-27T04:08:43.919Z"
   },
   {
    "duration": 2536,
    "start_time": "2025-02-27T04:08:44.212Z"
   },
   {
    "duration": 3,
    "start_time": "2025-02-27T04:08:46.749Z"
   },
   {
    "duration": 5,
    "start_time": "2025-02-27T04:08:46.754Z"
   },
   {
    "duration": 25,
    "start_time": "2025-02-27T04:08:46.761Z"
   },
   {
    "duration": 7,
    "start_time": "2025-02-27T04:08:46.788Z"
   },
   {
    "duration": 20,
    "start_time": "2025-02-27T04:08:46.797Z"
   },
   {
    "duration": 20,
    "start_time": "2025-02-27T04:08:46.819Z"
   },
   {
    "duration": 12,
    "start_time": "2025-02-27T04:08:46.840Z"
   },
   {
    "duration": 40,
    "start_time": "2025-02-27T04:08:46.853Z"
   },
   {
    "duration": 591,
    "start_time": "2025-02-27T04:08:46.895Z"
   },
   {
    "duration": 131,
    "start_time": "2025-02-27T04:08:47.488Z"
   },
   {
    "duration": 242,
    "start_time": "2025-02-27T04:08:47.621Z"
   },
   {
    "duration": 275,
    "start_time": "2025-02-27T04:08:47.866Z"
   },
   {
    "duration": 3,
    "start_time": "2025-02-27T04:08:48.143Z"
   },
   {
    "duration": 6,
    "start_time": "2025-02-27T04:08:48.148Z"
   },
   {
    "duration": 4,
    "start_time": "2025-02-27T04:08:48.155Z"
   },
   {
    "duration": 3,
    "start_time": "2025-02-27T04:08:48.160Z"
   },
   {
    "duration": 6,
    "start_time": "2025-02-27T04:08:48.189Z"
   },
   {
    "duration": 41,
    "start_time": "2025-02-27T04:08:48.197Z"
   },
   {
    "duration": 324,
    "start_time": "2025-02-27T04:08:48.240Z"
   },
   {
    "duration": 25,
    "start_time": "2025-02-27T04:08:48.567Z"
   },
   {
    "duration": 3,
    "start_time": "2025-02-27T04:08:48.594Z"
   },
   {
    "duration": 9,
    "start_time": "2025-02-27T04:08:48.599Z"
   },
   {
    "duration": 317,
    "start_time": "2025-02-27T04:08:48.610Z"
   },
   {
    "duration": 5,
    "start_time": "2025-02-27T04:08:48.929Z"
   },
   {
    "duration": 4,
    "start_time": "2025-02-27T04:08:48.935Z"
   },
   {
    "duration": 7,
    "start_time": "2025-02-27T04:08:48.940Z"
   },
   {
    "duration": 47,
    "start_time": "2025-02-27T04:08:48.948Z"
   },
   {
    "duration": 8,
    "start_time": "2025-02-27T04:08:48.996Z"
   },
   {
    "duration": 81,
    "start_time": "2025-02-27T04:08:49.005Z"
   },
   {
    "duration": 7,
    "start_time": "2025-02-27T04:08:49.089Z"
   },
   {
    "duration": 5,
    "start_time": "2025-02-27T04:08:49.097Z"
   },
   {
    "duration": 5,
    "start_time": "2025-02-27T04:08:49.103Z"
   },
   {
    "duration": 78,
    "start_time": "2025-02-27T04:08:49.110Z"
   },
   {
    "duration": 6,
    "start_time": "2025-02-27T04:08:49.190Z"
   },
   {
    "duration": 95,
    "start_time": "2025-02-27T04:08:49.197Z"
   }
  ],
  "kernelspec": {
   "display_name": "Python 3 (ipykernel)",
   "language": "python",
   "name": "python3"
  },
  "language_info": {
   "codemirror_mode": {
    "name": "ipython",
    "version": 3
   },
   "file_extension": ".py",
   "mimetype": "text/x-python",
   "name": "python",
   "nbconvert_exporter": "python",
   "pygments_lexer": "ipython3",
   "version": "3.9.19"
  },
  "toc": {
   "base_numbering": 1,
   "nav_menu": {},
   "number_sections": true,
   "sideBar": true,
   "skip_h1_title": true,
   "title_cell": "Table of Contents",
   "title_sidebar": "Contents",
   "toc_cell": false,
   "toc_position": {
    "height": "calc(100% - 180px)",
    "left": "10px",
    "top": "150px",
    "width": "233.6px"
   },
   "toc_section_display": true,
   "toc_window_display": true
  }
 },
 "nbformat": 4,
 "nbformat_minor": 4
}
