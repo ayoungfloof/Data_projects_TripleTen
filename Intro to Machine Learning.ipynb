{
 "cells": [
  {
   "cell_type": "markdown",
   "metadata": {},
   "source": [
    "# Plan Recommendation Model for Megaline Subscribers\n",
    "\n",
    "## Description:\n",
    "This project focuses on building a machine learning model to recommend updated plans for Megaline subscribers based on their usage patterns. The goal is to analyze customer behavior and create a classification model that predicts whether a user should switch to the \"Smart\" or \"Ultra\" plan.\n",
    "\n",
    "## Objective:\n",
    "Develop a machine learning model with the highest possible accuracy to classify subscribers into one of two plans.\n",
    "Ensure the model meets or exceeds the required accuracy threshold of 0.75 on the test dataset.\n",
    "\n",
    "## Data Source:\n",
    "The dataset users_behavior.csv includes monthly usage behavior for each subscriber, such as:\n",
    "\n",
    "calls: Number of calls made.\n",
    "minutes: Total call duration in minutes.\n",
    "messages: Number of text messages sent.\n",
    "mb_used: Internet traffic used in megabytes.\n",
    "is_ultra: Current plan (Ultra = 1, Smart = 0).\n",
    "\n",
    "## Approach:\n",
    "1. Data Preparation:\n",
    "Load and inspect the dataset to understand its structure and content.\n",
    "Split the dataset into training, validation, and test subsets.\n",
    "2. Model Development:\n",
    "Train various machine learning models with different hyperparameters.\n",
    "Compare models based on validation accuracy to select the best-performing one.\n",
    "3. Model Evaluation:\n",
    "Evaluate the chosen model's performance on the test set.\n",
    "Conduct a sanity check to ensure the model behaves logically and reliably.\n",
    "\n",
    "## Tools:\n",
    "Libraries: pandas, scikit-learn, and matplotlib.\n",
    "Machine Learning Models: Decision Tree, Random Forest, Logistic Regression, and others as needed.\n",
    "\n",
    "## Deliverables:\n",
    "A trained classification model that meets the accuracy requirement.\n",
    "Analysis of different models and their hyperparameters.\n",
    "Insights and recommendations based on model performance.\n",
    "This project will help Megaline improve customer satisfaction by identifying and recommending the most suitable plan for their subscribers based on their monthly usage behavior."
   ]
  },
  {
   "cell_type": "code",
   "execution_count": 1,
   "metadata": {
    "trusted": false
   },
   "outputs": [],
   "source": [
    "import pandas as pd\n",
    "\n",
    "from sklearn.model_selection import train_test_split\n",
    "\n",
    "from sklearn.tree import DecisionTreeClassifier\n",
    "\n",
    "from sklearn.metrics import accuracy_score"
   ]
  },
  {
   "cell_type": "code",
   "execution_count": 2,
   "metadata": {
    "trusted": false
   },
   "outputs": [
    {
     "name": "stdout",
     "output_type": "stream",
     "text": [
      "   calls  minutes  messages   mb_used  is_ultra\n",
      "0   40.0   311.90      83.0  19915.42         0\n",
      "1   85.0   516.75      56.0  22696.96         0\n",
      "2   77.0   467.66      86.0  21060.45         0\n",
      "3  106.0   745.53      81.0   8437.39         1\n",
      "4   66.0   418.74       1.0  14502.75         0\n",
      "<class 'pandas.core.frame.DataFrame'>\n",
      "RangeIndex: 3214 entries, 0 to 3213\n",
      "Data columns (total 5 columns):\n",
      " #   Column    Non-Null Count  Dtype  \n",
      "---  ------    --------------  -----  \n",
      " 0   calls     3214 non-null   float64\n",
      " 1   minutes   3214 non-null   float64\n",
      " 2   messages  3214 non-null   float64\n",
      " 3   mb_used   3214 non-null   float64\n",
      " 4   is_ultra  3214 non-null   int64  \n",
      "dtypes: float64(4), int64(1)\n",
      "memory usage: 125.7 KB\n",
      "\n",
      "Missing Values:\n",
      "calls       0\n",
      "minutes     0\n",
      "messages    0\n",
      "mb_used     0\n",
      "is_ultra    0\n",
      "dtype: int64\n",
      "\n",
      "Number of Duplicate Rows: 0\n"
     ]
    }
   ],
   "source": [
    "# Load datasets\n",
    "\n",
    "df = pd.read_csv('/datasets/users_behavior.csv')\n",
    "\n",
    "# Preview the first few rows\n",
    "print(df.head())\n",
    "\n",
    "# Check dataset structure and basic info\n",
    "df.info()\n",
    "\n",
    "# Check for missing values and duplicates\n",
    "print(\"\\nMissing Values:\")\n",
    "print(df.isnull().sum())\n",
    "\n",
    "print(\"\\nNumber of Duplicate Rows:\", df.duplicated().sum())"
   ]
  },
  {
   "cell_type": "markdown",
   "metadata": {},
   "source": [
    "# Dataset Overview:\n",
    "The dataset has 5 columns:<br>\n",
    "calls: Number of calls (float).<br>\n",
    "minutes: Total call duration in minutes (float).<br>\n",
    "messages: Number of text messages (float).<br>\n",
    "mb_used: Internet traffic used in MB (float).<br>\n",
    "is_ultra: Target variable indicating the plan (0 for Smart and 1 for Ultra) (integer).<br>\n",
    "Total rows: 3214.<br>\n",
    "No missing values or duplicate rows are present, so no cleaning is necessary.<br>\n",
    "The target variable is_ultra is already in the appropriate format (integer).<br>\n",
    "Features such as calls, minutes, messages, and mb_used are all numeric (float64), making them ready for modeling.<br>"
   ]
  },
  {
   "cell_type": "code",
   "execution_count": 3,
   "metadata": {
    "trusted": false
   },
   "outputs": [
    {
     "name": "stdout",
     "output_type": "stream",
     "text": [
      "Training set size: (1928, 4) (1928,)\n",
      "Validation set size: (643, 4) (643,)\n",
      "Test set size: (643, 4) (643,)\n"
     ]
    }
   ],
   "source": [
    "# Define features and target\n",
    "features = df.drop(['is_ultra'], axis=1)\n",
    "target = df['is_ultra']\n",
    "\n",
    "# Split the dataset into training (60%), validation (20%), and test (20%) sets\n",
    "features_train, features_temp, target_train, target_temp = train_test_split(\n",
    "    features, target, test_size=0.4, random_state=12345)  # Initial split: 60% train, 40% temp\n",
    "\n",
    "features_valid, features_test, target_valid, target_test = train_test_split(\n",
    "    features_temp, target_temp, test_size=0.5, random_state=12345)  # Split temp into 20% valid, 20% test\n",
    "\n",
    "# Display the shapes of the resulting subsets\n",
    "print(\"Training set size:\", features_train.shape, target_train.shape)\n",
    "print(\"Validation set size:\", features_valid.shape, target_valid.shape)\n",
    "print(\"Test set size:\", features_test.shape, target_test.shape)"
   ]
  },
  {
   "cell_type": "code",
   "execution_count": 4,
   "metadata": {
    "trusted": false
   },
   "outputs": [
    {
     "name": "stdout",
     "output_type": "stream",
     "text": [
      "Validation Set Accuracy: 0.713841368584759\n"
     ]
    }
   ],
   "source": [
    "# Train a Decision Tree Classifier on the training set\n",
    "model = DecisionTreeClassifier(random_state=12345)\n",
    "model.fit(features_train, target_train)\n",
    "\n",
    "# Make predictions on the validation set\n",
    "predictions_valid = model.predict(features_valid)\n",
    "\n",
    "# Calculate and print accuracy on the validation set\n",
    "accuracy = accuracy_score(target_valid, predictions_valid)\n",
    "print(\"Validation Set Accuracy:\", accuracy)"
   ]
  },
  {
   "cell_type": "markdown",
   "metadata": {},
   "source": [
    "# Result Analysis\n",
    "The Decision Tree Classifier achieved an accuracy of 71.38% on the validation set. This result is below the required threshold of 75%, indicating that the model's predictions can be improved."
   ]
  },
  {
   "cell_type": "code",
   "execution_count": 5,
   "metadata": {
    "trusted": false
   },
   "outputs": [
    {
     "name": "stdout",
     "output_type": "stream",
     "text": [
      "max_depth=1, Validation Accuracy: 0.7542768273716952\n",
      "max_depth=2, Validation Accuracy: 0.7822706065318819\n",
      "max_depth=3, Validation Accuracy: 0.7853810264385692\n",
      "max_depth=4, Validation Accuracy: 0.7791601866251944\n",
      "max_depth=5, Validation Accuracy: 0.7791601866251944\n",
      "max_depth=6, Validation Accuracy: 0.7838258164852255\n",
      "max_depth=7, Validation Accuracy: 0.7822706065318819\n",
      "max_depth=8, Validation Accuracy: 0.7791601866251944\n",
      "max_depth=9, Validation Accuracy: 0.7822706065318819\n",
      "max_depth=10, Validation Accuracy: 0.7744945567651633\n",
      "\n",
      "Best max_depth: 3, Best Validation Accuracy: 0.7853810264385692\n"
     ]
    }
   ],
   "source": [
    "# Tune the 'max_depth' hyperparameter for the Decision Tree\n",
    "best_accuracy = 0\n",
    "best_depth = 0\n",
    "\n",
    "for depth in range(1, 11):  # Try depths from 1 to 10\n",
    "    model = DecisionTreeClassifier(random_state=12345, max_depth=depth)\n",
    "    model.fit(features_train, target_train)\n",
    "    predictions_valid = model.predict(features_valid)\n",
    "    accuracy = accuracy_score(target_valid, predictions_valid)\n",
    "    print(f\"max_depth={depth}, Validation Accuracy: {accuracy}\")\n",
    "    \n",
    "    # Track the best depth and accuracy\n",
    "    if accuracy > best_accuracy:\n",
    "        best_accuracy = accuracy\n",
    "        best_depth = depth\n",
    "\n",
    "print(f\"\\nBest max_depth: {best_depth}, Best Validation Accuracy: {best_accuracy}\")"
   ]
  },
  {
   "cell_type": "markdown",
   "metadata": {},
   "source": [
    "# Analysis of Results\n",
    "Optimal Depth:\n",
    "\n",
    "The best validation accuracy was achieved with max_depth=3, resulting in an accuracy of 78.54%.\n",
    "Performance Trend:\n",
    "\n",
    "Accuracy improves initially as the depth increases, peaking at max_depth=3.\n",
    "Beyond max_depth=3, the model starts overfitting slightly, as accuracy either stagnates or decreases."
   ]
  },
  {
   "cell_type": "code",
   "execution_count": 6,
   "metadata": {
    "trusted": false
   },
   "outputs": [
    {
     "name": "stdout",
     "output_type": "stream",
     "text": [
      "    Feature  Importance\n",
      "3   mb_used    0.513756\n",
      "1   minutes    0.274619\n",
      "2  messages    0.193568\n",
      "0     calls    0.018057\n"
     ]
    }
   ],
   "source": [
    "# Train the Decision Tree with the best max_depth\n",
    "best_model = DecisionTreeClassifier(random_state=12345, max_depth=3)\n",
    "best_model.fit(features_train, target_train)\n",
    "\n",
    "# Extract feature importances\n",
    "importances = best_model.feature_importances_\n",
    "\n",
    "# Create a DataFrame to display the feature importances\n",
    "feature_importance = pd.DataFrame({\n",
    "    'Feature': features_train.columns,\n",
    "    'Importance': importances\n",
    "}).sort_values(by='Importance', ascending=False)\n",
    "\n",
    "# Display feature importance\n",
    "print(feature_importance)"
   ]
  },
  {
   "cell_type": "markdown",
   "metadata": {},
   "source": [
    "# Feature Importance Analysis\n",
    "The Decision Tree model identifies the following features as most influential for predicting whether a subscriber should switch to the \"Ultra\" plan:\n",
    "\n",
    "mb_used (Internet usage in MB):\n",
    "\n",
    "Importance: 51.38%\n",
    "Internet usage is the most significant factor influencing the prediction. Users with higher internet usage likely need the \"Ultra\" plan.\n",
    "minutes (Total call duration in minutes):\n",
    "\n",
    "Importance: 27.46%\n",
    "The total time spent on calls also significantly contributes to the prediction. Higher call durations may indicate a preference for a more comprehensive plan like \"Ultra.\"\n",
    "messages (Number of text messages):\n",
    "\n",
    "Importance: 19.36%\n",
    "Text messaging usage is a moderately important factor. Users sending more messages may benefit from the \"Ultra\" plan.\n",
    "calls (Number of calls):\n",
    "\n",
    "Importance: 1.81%\n",
    "The number of calls made is the least significant factor. While it provides some information, it doesn't heavily influence the prediction.\n",
    "\n",
    "\n",
    "Feature Importance Analysis\n",
    "The Decision Tree model identifies the following features as most influential for predicting whether a subscriber should switch to the \"Ultra\" plan:\n",
    "\n",
    "mb_used (Internet usage in MB):\n",
    "\n",
    "Importance: 51.38%\n",
    "Internet usage is the most significant factor influencing the prediction. Users with higher internet usage likely need the \"Ultra\" plan.\n",
    "minutes (Total call duration in minutes):\n",
    "\n",
    "Importance: 27.46%\n",
    "The total time spent on calls also significantly contributes to the prediction. Higher call durations may indicate a preference for a more comprehensive plan like \"Ultra.\"\n",
    "messages (Number of text messages):\n",
    "\n",
    "Importance: 19.36%\n",
    "Text messaging usage is a moderately important factor. Users sending more messages may benefit from the \"Ultra\" plan.\n",
    "calls (Number of calls):\n",
    "\n",
    "Importance: 1.81%\n",
    "The number of calls made is the least significant factor. While it provides some information, it doesn't heavily influence the prediction.\n",
    "\n",
    "# Key Insights\n",
    "The model relies heavily on internet usage (mb_used) and call duration (minutes) for making decisions.\n",
    "Text messages (messages) play a secondary role.\n",
    "The number of calls (calls) has minimal impact, suggesting it may not vary significantly between the two plans or is not as indicative of plan suitability."
   ]
  }
 ],
 "metadata": {
  "ExecuteTimeLog": [
   {
    "duration": 156,
    "start_time": "2024-12-01T18:17:18.507Z"
   },
   {
    "duration": 325,
    "start_time": "2024-12-01T18:17:39.136Z"
   },
   {
    "duration": 394,
    "start_time": "2024-12-01T18:17:39.872Z"
   },
   {
    "duration": 14,
    "start_time": "2024-12-01T18:18:47.082Z"
   },
   {
    "duration": 16,
    "start_time": "2024-12-01T18:27:36.407Z"
   },
   {
    "duration": 17,
    "start_time": "2024-12-01T18:28:14.661Z"
   },
   {
    "duration": 424,
    "start_time": "2024-12-01T18:30:54.951Z"
   },
   {
    "duration": 18,
    "start_time": "2024-12-01T18:30:55.516Z"
   },
   {
    "duration": 8,
    "start_time": "2024-12-01T18:31:15.818Z"
   },
   {
    "duration": 102,
    "start_time": "2024-12-01T18:33:42.123Z"
   },
   {
    "duration": 18,
    "start_time": "2024-12-01T18:33:44.456Z"
   },
   {
    "duration": 8,
    "start_time": "2024-12-01T18:33:47.078Z"
   },
   {
    "duration": 13,
    "start_time": "2024-12-01T18:34:01.627Z"
   },
   {
    "duration": 56,
    "start_time": "2024-12-01T18:36:18.101Z"
   },
   {
    "duration": 9,
    "start_time": "2024-12-01T18:38:02.444Z"
   },
   {
    "duration": 757,
    "start_time": "2024-12-01T20:35:31.879Z"
   },
   {
    "duration": 24,
    "start_time": "2024-12-01T20:35:32.638Z"
   },
   {
    "duration": 8,
    "start_time": "2024-12-01T20:35:32.664Z"
   },
   {
    "duration": 15,
    "start_time": "2024-12-01T20:35:32.675Z"
   },
   {
    "duration": 73,
    "start_time": "2024-12-01T20:35:32.693Z"
   },
   {
    "duration": 10,
    "start_time": "2024-12-01T20:35:32.768Z"
   },
   {
    "duration": 218,
    "start_time": "2024-12-01T20:37:38.947Z"
   },
   {
    "duration": 53,
    "start_time": "2024-12-01T20:37:56.937Z"
   }
  ],
  "kernelspec": {
   "display_name": "Python 3 (ipykernel)",
   "language": "python",
   "name": "python3"
  },
  "language_info": {
   "codemirror_mode": {
    "name": "ipython",
    "version": 3
   },
   "file_extension": ".py",
   "mimetype": "text/x-python",
   "name": "python",
   "nbconvert_exporter": "python",
   "pygments_lexer": "ipython3",
   "version": "3.9.19"
  },
  "toc": {
   "base_numbering": 1,
   "nav_menu": {},
   "number_sections": true,
   "sideBar": true,
   "skip_h1_title": true,
   "title_cell": "Table of Contents",
   "title_sidebar": "Contents",
   "toc_cell": false,
   "toc_position": {},
   "toc_section_display": true,
   "toc_window_display": true
  }
 },
 "nbformat": 4,
 "nbformat_minor": 2
}
